{
 "cells": [
  {
   "cell_type": "code",
   "execution_count": 69,
   "metadata": {},
   "outputs": [],
   "source": [
    "class Set:\n",
    "    def __init__(self,lst=[]):\n",
    "        self.lst=lst\n",
    "        self.temp=[]\n",
    "        for x in self.lst:\n",
    "            if x not in self.temp:\n",
    "                self.temp.append(x)\n",
    "        \n",
    "    def add(self,elem):\n",
    "            if elem not in self.temp:\n",
    "                self.temp.append(elem)\n",
    "    def discard(self,elem):\n",
    "            if elem in self.temp:\n",
    "                self.temp.remove(elem)\n",
    "    def clear(self):\n",
    "        self.temp=[]\n",
    "        \n",
    "    def __len__(self):\n",
    "        cnt=0\n",
    "        for x in self.temp:\n",
    "            cnt+=1\n",
    "        return cnt\n",
    "    \n",
    "    def __contains__(self,elem):\n",
    "        if elem in self.temp:\n",
    "            return True\n",
    "        else:\n",
    "            return False\n",
    "        \n",
    "    def __le__(self,other):\n",
    "        for x in self.temp:\n",
    "            if x not in other:\n",
    "                return False\n",
    "            else:\n",
    "                return True\n",
    "            \n",
    "    def __ge__(self,other):\n",
    "        for x in other.temp:\n",
    "            if x in self.temp:\n",
    "                other.temp.remove(x)\n",
    "        if len(other.temp)==0:\n",
    "            return True\n",
    "        else:\n",
    "            return False\n",
    "                \n",
    "                \n",
    "            \n",
    "    def __or__(self,other):\n",
    "        trg= []\n",
    "        for x in other.temp:\n",
    "            if x not in trg:\n",
    "                trg.append(x)\n",
    "        for x in self.temp:\n",
    "            if x not in trg:\n",
    "                trg.append(x)\n",
    "        trg.sort()\n",
    "        return Set(trg)\n",
    "    \n",
    "    def __and__(self,other):\n",
    "        trg=[]\n",
    "        for x in self.temp:\n",
    "            if x  in other.temp:\n",
    "                trg.append(x)\n",
    "                \n",
    "        for x in other.temp:\n",
    "            if x  in self.temp:\n",
    "                trg.append(x)\n",
    "        return Set(trg)\n",
    "    \n",
    "    \n",
    "    def __sub__(self,other):\n",
    "        trg=[]\n",
    "        for x in self.temp:\n",
    "            if x not in other.temp:\n",
    "                trg.append(x)\n",
    "        return Set(trg)\n",
    "    \n",
    "    \n",
    "    def __ior__(self,other):\n",
    "        for x in other.temp:\n",
    "            if x not in self.temp:\n",
    "                self.temp.append(x)\n",
    "        return self\n",
    "    \n",
    "    def __iand__(self,other):\n",
    "        for x in self.temp:\n",
    "            if x not in other.temp:\n",
    "                self.temp.remove(x)\n",
    "        for x in other.temp:\n",
    "            if x in self.temp:\n",
    "                self.temp.remove(x)\n",
    "        return self\n",
    "    \n",
    "    \n",
    "    def __isub__(self,other):\n",
    "        for x in other.temp:\n",
    "            if x in self.temp:\n",
    "                self.temp.remove(x)\n",
    "        return self\n",
    "    \n",
    "    \n",
    "\n",
    "    def __str__(self):\n",
    "        prt=\"\"\n",
    "        for x in self.temp:\n",
    "            prt += str(x)\n",
    "            prt += \", \"\n",
    "            \n",
    "        prt = prt[:len(prt)-2]\n",
    "        return \"{\" + prt + \"}\"\n",
    "                    \n",
    "                    \n",
    "                \n",
    "                \n",
    "        \n",
    "\n",
    "    \n",
    "    "
   ]
  },
  {
   "cell_type": "code",
   "execution_count": 70,
   "metadata": {},
   "outputs": [
    {
     "name": "stdout",
     "output_type": "stream",
     "text": [
      "{1, 2, 3, 4}\n",
      "{1, 2, 3, 4}\n",
      "\n",
      "{1, 2, 3}\n",
      "{2, 3, 4}\n",
      "\n",
      "3\n",
      "True\n",
      "False\n",
      "\n",
      "{1, 2, 3, 4}\n",
      "{2, 3}\n",
      "{1}\n",
      "\n",
      "False\n",
      "True\n",
      "False\n",
      "True\n",
      "\n",
      "{}\n",
      "\n",
      "{1, 2, 3, 4}\n",
      "True\n",
      "\n",
      "{2}\n",
      "True\n",
      "\n",
      "{1, 2}\n",
      "True\n",
      "\n"
     ]
    }
   ],
   "source": [
    "a = Set([1,2,3,4])\n",
    "b = Set([1,2,3,4])\n",
    "\n",
    "print(a)\n",
    "print(b)\n",
    "print()\n",
    "\n",
    "a.discard(4)\n",
    "b.discard(1)\n",
    "print(a)\n",
    "print(b)\n",
    "print()\n",
    "\n",
    "print(len(a))\n",
    "print(1 in a)\n",
    "print(1 in b)\n",
    "print()\n",
    "\n",
    "print(a | b)\n",
    "print(a & b)\n",
    "print(a - b)\n",
    "print()\n",
    "\n",
    "print(a<=b)\n",
    "print(a<= a | b)\n",
    "print(a >= b)\n",
    "print(a >= a & b)\n",
    "print()\n",
    "\n",
    "b.clear()\n",
    "print(b)\n",
    "print()\n",
    "\n",
    "a=Set([1,2,3])\n",
    "b=Set([3,4])\n",
    "address_a=id(a)\n",
    "a|=b\n",
    "print(a)\n",
    "print(address_a==id(a))\n",
    "print()\n",
    "\n",
    "a= Set([1,2,3])\n",
    "b= Set([3,4])\n",
    "address_a= id(a)\n",
    "a &= b\n",
    "print(a)\n",
    "print(address_a == id(a))\n",
    "print()\n",
    "\n",
    "a=Set([1,2,3])\n",
    "b=Set([3,4])\n",
    "address_a= id(a)\n",
    "a-= b\n",
    "print(a)\n",
    "print(address_a == id(a))\n",
    "print()"
   ]
  },
  {
   "cell_type": "code",
   "execution_count": 39,
   "metadata": {},
   "outputs": [
    {
     "data": {
      "text/plain": [
       "1"
      ]
     },
     "execution_count": 39,
     "metadata": {},
     "output_type": "execute_result"
    }
   ],
   "source": [
    "a= [1,2,3]\n",
    "b= [2,3,4]\n",
    "cnt =0\n",
    "for x in b:\n",
    "    if x not in a:\n",
    "        cnt+=1\n",
    "cnt"
   ]
  },
  {
   "cell_type": "code",
   "execution_count": 59,
   "metadata": {},
   "outputs": [
    {
     "name": "stdout",
     "output_type": "stream",
     "text": [
      "{1, 2, 3}\n"
     ]
    }
   ],
   "source": [
    "print(a)"
   ]
  },
  {
   "cell_type": "code",
   "execution_count": 16,
   "metadata": {},
   "outputs": [],
   "source": [
    "a = BankAccount(100,\"선호\")"
   ]
  },
  {
   "cell_type": "code",
   "execution_count": 17,
   "metadata": {},
   "outputs": [],
   "source": [
    "a.deposit(100)"
   ]
  },
  {
   "cell_type": "code",
   "execution_count": 18,
   "metadata": {},
   "outputs": [
    {
     "data": {
      "text/plain": [
       "200"
      ]
     },
     "execution_count": 18,
     "metadata": {},
     "output_type": "execute_result"
    }
   ],
   "source": [
    "a.balance"
   ]
  },
  {
   "cell_type": "code",
   "execution_count": 19,
   "metadata": {},
   "outputs": [
    {
     "name": "stdout",
     "output_type": "stream",
     "text": [
      "잔액부족\n"
     ]
    }
   ],
   "source": [
    "a.withdraw(201)"
   ]
  },
  {
   "cell_type": "code",
   "execution_count": 49,
   "metadata": {},
   "outputs": [
    {
     "name": "stdout",
     "output_type": "stream",
     "text": [
      "True\n"
     ]
    },
    {
     "ename": "TypeError",
     "evalue": "'address_a' is an invalid keyword argument for print()",
     "output_type": "error",
     "traceback": [
      "\u001b[1;31m---------------------------------------------------------------------------\u001b[0m",
      "\u001b[1;31mTypeError\u001b[0m                                 Traceback (most recent call last)",
      "\u001b[1;32m<ipython-input-49-f5a6d2d34bdf>\u001b[0m in \u001b[0;36m<module>\u001b[1;34m\u001b[0m\n\u001b[0;32m      2\u001b[0m \u001b[0mb\u001b[0m\u001b[1;33m=\u001b[0m\u001b[1;36m1\u001b[0m\u001b[1;33m\u001b[0m\u001b[1;33m\u001b[0m\u001b[0m\n\u001b[0;32m      3\u001b[0m \u001b[0mprint\u001b[0m \u001b[1;33m(\u001b[0m\u001b[0mb\u001b[0m \u001b[1;32min\u001b[0m \u001b[0ma\u001b[0m\u001b[1;33m)\u001b[0m\u001b[1;33m\u001b[0m\u001b[1;33m\u001b[0m\u001b[0m\n\u001b[1;32m----> 4\u001b[1;33m \u001b[0mprint\u001b[0m\u001b[1;33m(\u001b[0m\u001b[0maddress_a\u001b[0m \u001b[1;33m=\u001b[0m \u001b[0mid\u001b[0m\u001b[1;33m(\u001b[0m\u001b[0ma\u001b[0m\u001b[1;33m)\u001b[0m\u001b[1;33m)\u001b[0m\u001b[1;33m\u001b[0m\u001b[1;33m\u001b[0m\u001b[0m\n\u001b[0m",
      "\u001b[1;31mTypeError\u001b[0m: 'address_a' is an invalid keyword argument for print()"
     ]
    }
   ],
   "source": [
    "a=[1,2,3]\n",
    "b=1\n",
    "print (b in a)\n",
    "print(address_a = id(a))"
   ]
  },
  {
   "cell_type": "code",
   "execution_count": null,
   "metadata": {},
   "outputs": [],
   "source": []
  }
 ],
 "metadata": {
  "kernelspec": {
   "display_name": "Python 3",
   "language": "python",
   "name": "python3"
  },
  "language_info": {
   "codemirror_mode": {
    "name": "ipython",
    "version": 3
   },
   "file_extension": ".py",
   "mimetype": "text/x-python",
   "name": "python",
   "nbconvert_exporter": "python",
   "pygments_lexer": "ipython3",
   "version": "3.8.3"
  }
 },
 "nbformat": 4,
 "nbformat_minor": 4
}
