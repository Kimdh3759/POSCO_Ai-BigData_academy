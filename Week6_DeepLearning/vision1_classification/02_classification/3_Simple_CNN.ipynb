{
 "cells": [
  {
   "cell_type": "markdown",
   "metadata": {},
   "source": [
    "## 3.1 Simple CNN\n",
    "이번 실습은 classifier 역할을 하는 DNN 앞에, feature extractor 역할을 하는 Covolution layer를 및 Maxplling layer를 덧붙여\n",
    "\n",
    "CNN 모델을 만들고 학습시켜 볼 것이다."
   ]
  },
  {
   "cell_type": "code",
   "execution_count": 1,
   "metadata": {},
   "outputs": [
    {
     "name": "stdout",
     "output_type": "stream",
     "text": [
      "2 Physical GPUs, 2 Logical GPUs\n"
     ]
    }
   ],
   "source": [
    "from keras.utils import np_utils\n",
    "from keras import datasets\n",
    "from keras.models import Sequential, Model\n",
    "from keras.layers import Input, Dense, Activation\n",
    "\n",
    "import os\n",
    "import numpy as np\n",
    "import matplotlib.pyplot as plt\n",
    "%matplotlib inline\n",
    "\n",
    "# 밑에는 GPU 부분적 사용\n",
    "import tensorflow as tf\n",
    " \n",
    " \n",
    " \n",
    "gpus = tf.config.experimental.list_physical_devices('GPU')\n",
    "if gpus:\n",
    "  try:\n",
    "    # Currently, memory growth needs to be the same across GPUs\n",
    "    for gpu in gpus:\n",
    "      tf.config.experimental.set_memory_growth(gpu, True)\n",
    "    logical_gpus = tf.config.experimental.list_logical_devices('GPU')\n",
    "    print(len(gpus), \"Physical GPUs,\", len(logical_gpus), \"Logical GPUs\")\n",
    "  except RuntimeError as e:\n",
    "    # Memory growth must be set before GPUs have been initialized\n",
    "    print(e)\n"
   ]
  },
  {
   "cell_type": "markdown",
   "metadata": {},
   "source": [
    "## (1) 데이터셋"
   ]
  },
  {
   "cell_type": "code",
   "execution_count": 2,
   "metadata": {},
   "outputs": [
    {
     "name": "stdout",
     "output_type": "stream",
     "text": [
      "(60000, 28, 28) (60000,)\n"
     ]
    }
   ],
   "source": [
    "(X_train, Y_train),(X_test, Y_test) = datasets.mnist.load_data()\n",
    "print(X_train.shape, Y_train.shape)"
   ]
  },
  {
   "cell_type": "markdown",
   "metadata": {},
   "source": [
    "MNIST 데이터는 load했을 때 channel이 없기 때문에 channel을 추가하여 3차원 이미지로 바꿔주어야 함(batch차원 제외)\n",
    "\n",
    "Tensorflow base에서는 (batch, image row, image column, image channel)으로 이미지를 학습\n",
    "\n",
    "Teano base에서는 (batch, image channel, image row, image column)으로 이미지를 학습\n",
    "\n",
    "backend.image_data_format()로 channel의 위치를 확인하고 reshape\n"
   ]
  },
  {
   "cell_type": "code",
   "execution_count": 2,
   "metadata": {},
   "outputs": [
    {
     "data": {
      "text/plain": [
       "'channels_last'"
      ]
     },
     "execution_count": 2,
     "metadata": {},
     "output_type": "execute_result"
    }
   ],
   "source": [
    "from keras import backend\n",
    "backend.image_data_format()"
   ]
  },
  {
   "cell_type": "code",
   "execution_count": 4,
   "metadata": {},
   "outputs": [
    {
     "name": "stdout",
     "output_type": "stream",
     "text": [
      "(60000, 28, 28, 1) (60000, 10)\n"
     ]
    }
   ],
   "source": [
    "X_train = X_train.reshape(X_train.shape[0], X_train.shape[1], X_train.shape[2], 1)\n",
    "X_test = X_test.reshape(X_test.shape[0], X_test.shape[1], X_test.shape[2], 1)\n",
    "\n",
    "Y_train = np_utils.to_categorical(Y_train)\n",
    "Y_test = np_utils.to_categorical(Y_test)\n",
    "\n",
    "print(X_train.shape, Y_train.shape)\n",
    "\n",
    "n_in = X_train.shape[1:]\n",
    "n_out = Y_train.shape[-1]"
   ]
  },
  {
   "cell_type": "markdown",
   "metadata": {},
   "source": [
    "## (2) 모델링"
   ]
  },
  {
   "cell_type": "markdown",
   "metadata": {},
   "source": [
    "<사용되는 Layer>\n",
    "\n",
    "`Conv2D` : 이미지에 필터의 파라미터를 convolution 연산하여 다음 layer로 전달\n",
    "\n",
    "https://keras.io/layers/convolutional/#conv2d\n",
    "\n",
    "`MaxPooling2D` : 필터에 겹치는 값들 중 가장 큰 값만 다음 layer로 전달\n",
    "\n",
    "https://keras.io/layers/pooling/#maxpooling2d\n",
    "\n",
    "`BatchNormalization` : activation에 입력되기 전 데이터를 가우시안 분포로 정규화하여 학습 안정화\n",
    "\n",
    "https://keras.io/layers/normalization/#batchnormalization\n",
    "\n",
    "`Dropout` : 일부 뉴런을 drop하여 overfitting을 방지\n",
    "\n",
    "https://keras.io/layers/core/#dropout\n",
    "    \n",
    "보통 batchnormalization, dropout은 동시에 사용하지 않음\n",
    "\n",
    "`Flatten` : 다차원 tensor를 1차원 벡터로 변환\n",
    "\n",
    "https://keras.io/layers/core/#flatten"
   ]
  },
  {
   "cell_type": "code",
   "execution_count": 12,
   "metadata": {},
   "outputs": [],
   "source": [
    "from keras.layers import Flatten, BatchNormalization, Dropout, ReLU\n",
    "from keras.layers.convolutional import Conv2D\n",
    "from keras.layers.convolutional import MaxPooling2D"
   ]
  },
  {
   "cell_type": "code",
   "execution_count": 6,
   "metadata": {},
   "outputs": [],
   "source": [
    "def CNN(n_in, n_out):\n",
    "    model = Sequential()\n",
    "    model.add(Conv2D(16, kernel_size=(3, 3), padding='same', activation='relu', input_shape=n_in))\n",
    "    model.add(Conv2D(32, (3, 3), padding='same',strides=(2, 2), activation='relu'))\n",
    "    model.add(MaxPooling2D(pool_size=(2, 2)))\n",
    "    model.add(Flatten())\n",
    "    model.add(Dense(128, activation='relu'))\n",
    "    model.add(Dense(n_out, activation='softmax'))\n",
    "    return model\n",
    "\n",
    "def CNN_BN(n_in, n_out):\n",
    "    model = Sequential()\n",
    "    model.add(Conv2D(16, kernel_size=(3, 3), padding='same', input_shape=n_in))\n",
    "    model.add(BatchNormalization())\n",
    "    model.add(ReLU())\n",
    "    model.add(Conv2D(32, (3, 3), padding='same',strides=(2, 2)))\n",
    "    model.add(MaxPooling2D(pool_size=(2, 2)))\n",
    "    model.add(BatchNormalization())\n",
    "    model.add(ReLU())\n",
    "    model.add(Flatten())\n",
    "    model.add(Dense(128))\n",
    "    model.add(BatchNormalization())\n",
    "    model.add(ReLU())\n",
    "    model.add(Dense(n_out, activation='softmax'))\n",
    "    return model"
   ]
  },
  {
   "cell_type": "code",
   "execution_count": 7,
   "metadata": {},
   "outputs": [
    {
     "name": "stdout",
     "output_type": "stream",
     "text": [
      "Model: \"sequential\"\n",
      "_________________________________________________________________\n",
      "Layer (type)                 Output Shape              Param #   \n",
      "=================================================================\n",
      "conv2d (Conv2D)              (None, 28, 28, 16)        160       \n",
      "_________________________________________________________________\n",
      "batch_normalization (BatchNo (None, 28, 28, 16)        64        \n",
      "_________________________________________________________________\n",
      "re_lu (ReLU)                 (None, 28, 28, 16)        0         \n",
      "_________________________________________________________________\n",
      "conv2d_1 (Conv2D)            (None, 14, 14, 32)        4640      \n",
      "_________________________________________________________________\n",
      "max_pooling2d (MaxPooling2D) (None, 7, 7, 32)          0         \n",
      "_________________________________________________________________\n",
      "batch_normalization_1 (Batch (None, 7, 7, 32)          128       \n",
      "_________________________________________________________________\n",
      "re_lu_1 (ReLU)               (None, 7, 7, 32)          0         \n",
      "_________________________________________________________________\n",
      "flatten (Flatten)            (None, 1568)              0         \n",
      "_________________________________________________________________\n",
      "dense (Dense)                (None, 128)               200832    \n",
      "_________________________________________________________________\n",
      "batch_normalization_2 (Batch (None, 128)               512       \n",
      "_________________________________________________________________\n",
      "re_lu_2 (ReLU)               (None, 128)               0         \n",
      "_________________________________________________________________\n",
      "dense_1 (Dense)              (None, 10)                1290      \n",
      "=================================================================\n",
      "Total params: 207,626\n",
      "Trainable params: 207,274\n",
      "Non-trainable params: 352\n",
      "_________________________________________________________________\n"
     ]
    }
   ],
   "source": [
    "model=CNN_BN(n_in, n_out)\n",
    "model.summary()"
   ]
  },
  {
   "cell_type": "code",
   "execution_count": 8,
   "metadata": {
    "scrolled": true
   },
   "outputs": [
    {
     "data": {
      "image/svg+xml": [
       "<svg height=\"1401pt\" viewBox=\"0.00 0.00 404.00 1051.00\" width=\"539pt\" xmlns=\"http://www.w3.org/2000/svg\" xmlns:xlink=\"http://www.w3.org/1999/xlink\">\n",
       "<g class=\"graph\" id=\"graph0\" transform=\"scale(0.75 0.75) rotate(0) translate(4 1047)\">\n",
       "<title>G</title>\n",
       "<polygon fill=\"white\" points=\"-4,4 -4,-1047 400,-1047 400,4 -4,4\" stroke=\"transparent\"/>\n",
       "<!-- 139943995296080 -->\n",
       "<g class=\"node\" id=\"node1\">\n",
       "<title>139943995296080</title>\n",
       "<polygon fill=\"none\" points=\"43,-996.5 43,-1042.5 353,-1042.5 353,-996.5 43,-996.5\" stroke=\"black\"/>\n",
       "<text font-family=\"Times,serif\" font-size=\"14.00\" text-anchor=\"middle\" x=\"122\" y=\"-1015.8\">conv2d_input: InputLayer</text>\n",
       "<polyline fill=\"none\" points=\"201,-996.5 201,-1042.5 \" stroke=\"black\"/>\n",
       "<text font-family=\"Times,serif\" font-size=\"14.00\" text-anchor=\"middle\" x=\"228.5\" y=\"-1027.3\">input:</text>\n",
       "<polyline fill=\"none\" points=\"201,-1019.5 256,-1019.5 \" stroke=\"black\"/>\n",
       "<text font-family=\"Times,serif\" font-size=\"14.00\" text-anchor=\"middle\" x=\"228.5\" y=\"-1004.3\">output:</text>\n",
       "<polyline fill=\"none\" points=\"256,-996.5 256,-1042.5 \" stroke=\"black\"/>\n",
       "<text font-family=\"Times,serif\" font-size=\"14.00\" text-anchor=\"middle\" x=\"304.5\" y=\"-1027.3\">[(?, 28, 28, 1)]</text>\n",
       "<polyline fill=\"none\" points=\"256,-1019.5 353,-1019.5 \" stroke=\"black\"/>\n",
       "<text font-family=\"Times,serif\" font-size=\"14.00\" text-anchor=\"middle\" x=\"304.5\" y=\"-1004.3\">[(?, 28, 28, 1)]</text>\n",
       "</g>\n",
       "<!-- 139943995293968 -->\n",
       "<g class=\"node\" id=\"node2\">\n",
       "<title>139943995293968</title>\n",
       "<polygon fill=\"none\" points=\"68,-913.5 68,-959.5 328,-959.5 328,-913.5 68,-913.5\" stroke=\"black\"/>\n",
       "<text font-family=\"Times,serif\" font-size=\"14.00\" text-anchor=\"middle\" x=\"123\" y=\"-932.8\">conv2d: Conv2D</text>\n",
       "<polyline fill=\"none\" points=\"178,-913.5 178,-959.5 \" stroke=\"black\"/>\n",
       "<text font-family=\"Times,serif\" font-size=\"14.00\" text-anchor=\"middle\" x=\"205.5\" y=\"-944.3\">input:</text>\n",
       "<polyline fill=\"none\" points=\"178,-936.5 233,-936.5 \" stroke=\"black\"/>\n",
       "<text font-family=\"Times,serif\" font-size=\"14.00\" text-anchor=\"middle\" x=\"205.5\" y=\"-921.3\">output:</text>\n",
       "<polyline fill=\"none\" points=\"233,-913.5 233,-959.5 \" stroke=\"black\"/>\n",
       "<text font-family=\"Times,serif\" font-size=\"14.00\" text-anchor=\"middle\" x=\"280.5\" y=\"-944.3\">(?, 28, 28, 1)</text>\n",
       "<polyline fill=\"none\" points=\"233,-936.5 328,-936.5 \" stroke=\"black\"/>\n",
       "<text font-family=\"Times,serif\" font-size=\"14.00\" text-anchor=\"middle\" x=\"280.5\" y=\"-921.3\">(?, 28, 28, 16)</text>\n",
       "</g>\n",
       "<!-- 139943995296080&#45;&gt;139943995293968 -->\n",
       "<g class=\"edge\" id=\"edge1\">\n",
       "<title>139943995296080-&gt;139943995293968</title>\n",
       "<path d=\"M198,-996.37C198,-988.15 198,-978.66 198,-969.73\" fill=\"none\" stroke=\"black\"/>\n",
       "<polygon fill=\"black\" points=\"201.5,-969.61 198,-959.61 194.5,-969.61 201.5,-969.61\" stroke=\"black\"/>\n",
       "</g>\n",
       "<!-- 139943995297488 -->\n",
       "<g class=\"node\" id=\"node3\">\n",
       "<title>139943995297488</title>\n",
       "<polygon fill=\"none\" points=\"0,-830.5 0,-876.5 396,-876.5 396,-830.5 0,-830.5\" stroke=\"black\"/>\n",
       "<text font-family=\"Times,serif\" font-size=\"14.00\" text-anchor=\"middle\" x=\"123\" y=\"-849.8\">batch_normalization: BatchNormalization</text>\n",
       "<polyline fill=\"none\" points=\"246,-830.5 246,-876.5 \" stroke=\"black\"/>\n",
       "<text font-family=\"Times,serif\" font-size=\"14.00\" text-anchor=\"middle\" x=\"273.5\" y=\"-861.3\">input:</text>\n",
       "<polyline fill=\"none\" points=\"246,-853.5 301,-853.5 \" stroke=\"black\"/>\n",
       "<text font-family=\"Times,serif\" font-size=\"14.00\" text-anchor=\"middle\" x=\"273.5\" y=\"-838.3\">output:</text>\n",
       "<polyline fill=\"none\" points=\"301,-830.5 301,-876.5 \" stroke=\"black\"/>\n",
       "<text font-family=\"Times,serif\" font-size=\"14.00\" text-anchor=\"middle\" x=\"348.5\" y=\"-861.3\">(?, 28, 28, 16)</text>\n",
       "<polyline fill=\"none\" points=\"301,-853.5 396,-853.5 \" stroke=\"black\"/>\n",
       "<text font-family=\"Times,serif\" font-size=\"14.00\" text-anchor=\"middle\" x=\"348.5\" y=\"-838.3\">(?, 28, 28, 16)</text>\n",
       "</g>\n",
       "<!-- 139943995293968&#45;&gt;139943995297488 -->\n",
       "<g class=\"edge\" id=\"edge2\">\n",
       "<title>139943995293968-&gt;139943995297488</title>\n",
       "<path d=\"M198,-913.37C198,-905.15 198,-895.66 198,-886.73\" fill=\"none\" stroke=\"black\"/>\n",
       "<polygon fill=\"black\" points=\"201.5,-886.61 198,-876.61 194.5,-886.61 201.5,-886.61\" stroke=\"black\"/>\n",
       "</g>\n",
       "<!-- 139946423508432 -->\n",
       "<g class=\"node\" id=\"node4\">\n",
       "<title>139946423508432</title>\n",
       "<polygon fill=\"none\" points=\"80.5,-747.5 80.5,-793.5 315.5,-793.5 315.5,-747.5 80.5,-747.5\" stroke=\"black\"/>\n",
       "<text font-family=\"Times,serif\" font-size=\"14.00\" text-anchor=\"middle\" x=\"123\" y=\"-766.8\">re_lu: ReLU</text>\n",
       "<polyline fill=\"none\" points=\"165.5,-747.5 165.5,-793.5 \" stroke=\"black\"/>\n",
       "<text font-family=\"Times,serif\" font-size=\"14.00\" text-anchor=\"middle\" x=\"193\" y=\"-778.3\">input:</text>\n",
       "<polyline fill=\"none\" points=\"165.5,-770.5 220.5,-770.5 \" stroke=\"black\"/>\n",
       "<text font-family=\"Times,serif\" font-size=\"14.00\" text-anchor=\"middle\" x=\"193\" y=\"-755.3\">output:</text>\n",
       "<polyline fill=\"none\" points=\"220.5,-747.5 220.5,-793.5 \" stroke=\"black\"/>\n",
       "<text font-family=\"Times,serif\" font-size=\"14.00\" text-anchor=\"middle\" x=\"268\" y=\"-778.3\">(?, 28, 28, 16)</text>\n",
       "<polyline fill=\"none\" points=\"220.5,-770.5 315.5,-770.5 \" stroke=\"black\"/>\n",
       "<text font-family=\"Times,serif\" font-size=\"14.00\" text-anchor=\"middle\" x=\"268\" y=\"-755.3\">(?, 28, 28, 16)</text>\n",
       "</g>\n",
       "<!-- 139943995297488&#45;&gt;139946423508432 -->\n",
       "<g class=\"edge\" id=\"edge3\">\n",
       "<title>139943995297488-&gt;139946423508432</title>\n",
       "<path d=\"M198,-830.37C198,-822.15 198,-812.66 198,-803.73\" fill=\"none\" stroke=\"black\"/>\n",
       "<polygon fill=\"black\" points=\"201.5,-803.61 198,-793.61 194.5,-803.61 201.5,-803.61\" stroke=\"black\"/>\n",
       "</g>\n",
       "<!-- 139943995121040 -->\n",
       "<g class=\"node\" id=\"node5\">\n",
       "<title>139943995121040</title>\n",
       "<polygon fill=\"none\" points=\"61.5,-664.5 61.5,-710.5 334.5,-710.5 334.5,-664.5 61.5,-664.5\" stroke=\"black\"/>\n",
       "<text font-family=\"Times,serif\" font-size=\"14.00\" text-anchor=\"middle\" x=\"123\" y=\"-683.8\">conv2d_1: Conv2D</text>\n",
       "<polyline fill=\"none\" points=\"184.5,-664.5 184.5,-710.5 \" stroke=\"black\"/>\n",
       "<text font-family=\"Times,serif\" font-size=\"14.00\" text-anchor=\"middle\" x=\"212\" y=\"-695.3\">input:</text>\n",
       "<polyline fill=\"none\" points=\"184.5,-687.5 239.5,-687.5 \" stroke=\"black\"/>\n",
       "<text font-family=\"Times,serif\" font-size=\"14.00\" text-anchor=\"middle\" x=\"212\" y=\"-672.3\">output:</text>\n",
       "<polyline fill=\"none\" points=\"239.5,-664.5 239.5,-710.5 \" stroke=\"black\"/>\n",
       "<text font-family=\"Times,serif\" font-size=\"14.00\" text-anchor=\"middle\" x=\"287\" y=\"-695.3\">(?, 28, 28, 16)</text>\n",
       "<polyline fill=\"none\" points=\"239.5,-687.5 334.5,-687.5 \" stroke=\"black\"/>\n",
       "<text font-family=\"Times,serif\" font-size=\"14.00\" text-anchor=\"middle\" x=\"287\" y=\"-672.3\">(?, 14, 14, 32)</text>\n",
       "</g>\n",
       "<!-- 139946423508432&#45;&gt;139943995121040 -->\n",
       "<g class=\"edge\" id=\"edge4\">\n",
       "<title>139946423508432-&gt;139943995121040</title>\n",
       "<path d=\"M198,-747.37C198,-739.15 198,-729.66 198,-720.73\" fill=\"none\" stroke=\"black\"/>\n",
       "<polygon fill=\"black\" points=\"201.5,-720.61 198,-710.61 194.5,-720.61 201.5,-720.61\" stroke=\"black\"/>\n",
       "</g>\n",
       "<!-- 139943994878416 -->\n",
       "<g class=\"node\" id=\"node6\">\n",
       "<title>139943994878416</title>\n",
       "<polygon fill=\"none\" points=\"26,-581.5 26,-627.5 370,-627.5 370,-581.5 26,-581.5\" stroke=\"black\"/>\n",
       "<text font-family=\"Times,serif\" font-size=\"14.00\" text-anchor=\"middle\" x=\"123\" y=\"-600.8\">max_pooling2d: MaxPooling2D</text>\n",
       "<polyline fill=\"none\" points=\"220,-581.5 220,-627.5 \" stroke=\"black\"/>\n",
       "<text font-family=\"Times,serif\" font-size=\"14.00\" text-anchor=\"middle\" x=\"247.5\" y=\"-612.3\">input:</text>\n",
       "<polyline fill=\"none\" points=\"220,-604.5 275,-604.5 \" stroke=\"black\"/>\n",
       "<text font-family=\"Times,serif\" font-size=\"14.00\" text-anchor=\"middle\" x=\"247.5\" y=\"-589.3\">output:</text>\n",
       "<polyline fill=\"none\" points=\"275,-581.5 275,-627.5 \" stroke=\"black\"/>\n",
       "<text font-family=\"Times,serif\" font-size=\"14.00\" text-anchor=\"middle\" x=\"322.5\" y=\"-612.3\">(?, 14, 14, 32)</text>\n",
       "<polyline fill=\"none\" points=\"275,-604.5 370,-604.5 \" stroke=\"black\"/>\n",
       "<text font-family=\"Times,serif\" font-size=\"14.00\" text-anchor=\"middle\" x=\"322.5\" y=\"-589.3\">(?, 7, 7, 32)</text>\n",
       "</g>\n",
       "<!-- 139943995121040&#45;&gt;139943994878416 -->\n",
       "<g class=\"edge\" id=\"edge5\">\n",
       "<title>139943995121040-&gt;139943994878416</title>\n",
       "<path d=\"M198,-664.37C198,-656.15 198,-646.66 198,-637.73\" fill=\"none\" stroke=\"black\"/>\n",
       "<polygon fill=\"black\" points=\"201.5,-637.61 198,-627.61 194.5,-637.61 201.5,-637.61\" stroke=\"black\"/>\n",
       "</g>\n",
       "<!-- 139943994879184 -->\n",
       "<g class=\"node\" id=\"node7\">\n",
       "<title>139943994879184</title>\n",
       "<polygon fill=\"none\" points=\"0,-498.5 0,-544.5 396,-544.5 396,-498.5 0,-498.5\" stroke=\"black\"/>\n",
       "<text font-family=\"Times,serif\" font-size=\"14.00\" text-anchor=\"middle\" x=\"130\" y=\"-517.8\">batch_normalization_1: BatchNormalization</text>\n",
       "<polyline fill=\"none\" points=\"260,-498.5 260,-544.5 \" stroke=\"black\"/>\n",
       "<text font-family=\"Times,serif\" font-size=\"14.00\" text-anchor=\"middle\" x=\"287.5\" y=\"-529.3\">input:</text>\n",
       "<polyline fill=\"none\" points=\"260,-521.5 315,-521.5 \" stroke=\"black\"/>\n",
       "<text font-family=\"Times,serif\" font-size=\"14.00\" text-anchor=\"middle\" x=\"287.5\" y=\"-506.3\">output:</text>\n",
       "<polyline fill=\"none\" points=\"315,-498.5 315,-544.5 \" stroke=\"black\"/>\n",
       "<text font-family=\"Times,serif\" font-size=\"14.00\" text-anchor=\"middle\" x=\"355.5\" y=\"-529.3\">(?, 7, 7, 32)</text>\n",
       "<polyline fill=\"none\" points=\"315,-521.5 396,-521.5 \" stroke=\"black\"/>\n",
       "<text font-family=\"Times,serif\" font-size=\"14.00\" text-anchor=\"middle\" x=\"355.5\" y=\"-506.3\">(?, 7, 7, 32)</text>\n",
       "</g>\n",
       "<!-- 139943994878416&#45;&gt;139943994879184 -->\n",
       "<g class=\"edge\" id=\"edge6\">\n",
       "<title>139943994878416-&gt;139943994879184</title>\n",
       "<path d=\"M198,-581.37C198,-573.15 198,-563.66 198,-554.73\" fill=\"none\" stroke=\"black\"/>\n",
       "<polygon fill=\"black\" points=\"201.5,-554.61 198,-544.61 194.5,-554.61 201.5,-554.61\" stroke=\"black\"/>\n",
       "</g>\n",
       "<!-- 139943994878352 -->\n",
       "<g class=\"node\" id=\"node8\">\n",
       "<title>139943994878352</title>\n",
       "<polygon fill=\"none\" points=\"81,-415.5 81,-461.5 315,-461.5 315,-415.5 81,-415.5\" stroke=\"black\"/>\n",
       "<text font-family=\"Times,serif\" font-size=\"14.00\" text-anchor=\"middle\" x=\"130\" y=\"-434.8\">re_lu_1: ReLU</text>\n",
       "<polyline fill=\"none\" points=\"179,-415.5 179,-461.5 \" stroke=\"black\"/>\n",
       "<text font-family=\"Times,serif\" font-size=\"14.00\" text-anchor=\"middle\" x=\"206.5\" y=\"-446.3\">input:</text>\n",
       "<polyline fill=\"none\" points=\"179,-438.5 234,-438.5 \" stroke=\"black\"/>\n",
       "<text font-family=\"Times,serif\" font-size=\"14.00\" text-anchor=\"middle\" x=\"206.5\" y=\"-423.3\">output:</text>\n",
       "<polyline fill=\"none\" points=\"234,-415.5 234,-461.5 \" stroke=\"black\"/>\n",
       "<text font-family=\"Times,serif\" font-size=\"14.00\" text-anchor=\"middle\" x=\"274.5\" y=\"-446.3\">(?, 7, 7, 32)</text>\n",
       "<polyline fill=\"none\" points=\"234,-438.5 315,-438.5 \" stroke=\"black\"/>\n",
       "<text font-family=\"Times,serif\" font-size=\"14.00\" text-anchor=\"middle\" x=\"274.5\" y=\"-423.3\">(?, 7, 7, 32)</text>\n",
       "</g>\n",
       "<!-- 139943994879184&#45;&gt;139943994878352 -->\n",
       "<g class=\"edge\" id=\"edge7\">\n",
       "<title>139943994879184-&gt;139943994878352</title>\n",
       "<path d=\"M198,-498.37C198,-490.15 198,-480.66 198,-471.73\" fill=\"none\" stroke=\"black\"/>\n",
       "<polygon fill=\"black\" points=\"201.5,-471.61 198,-461.61 194.5,-471.61 201.5,-471.61\" stroke=\"black\"/>\n",
       "</g>\n",
       "<!-- 139943994211408 -->\n",
       "<g class=\"node\" id=\"node9\">\n",
       "<title>139943994211408</title>\n",
       "<polygon fill=\"none\" points=\"82,-332.5 82,-378.5 314,-378.5 314,-332.5 82,-332.5\" stroke=\"black\"/>\n",
       "<text font-family=\"Times,serif\" font-size=\"14.00\" text-anchor=\"middle\" x=\"130\" y=\"-351.8\">flatten: Flatten</text>\n",
       "<polyline fill=\"none\" points=\"178,-332.5 178,-378.5 \" stroke=\"black\"/>\n",
       "<text font-family=\"Times,serif\" font-size=\"14.00\" text-anchor=\"middle\" x=\"205.5\" y=\"-363.3\">input:</text>\n",
       "<polyline fill=\"none\" points=\"178,-355.5 233,-355.5 \" stroke=\"black\"/>\n",
       "<text font-family=\"Times,serif\" font-size=\"14.00\" text-anchor=\"middle\" x=\"205.5\" y=\"-340.3\">output:</text>\n",
       "<polyline fill=\"none\" points=\"233,-332.5 233,-378.5 \" stroke=\"black\"/>\n",
       "<text font-family=\"Times,serif\" font-size=\"14.00\" text-anchor=\"middle\" x=\"273.5\" y=\"-363.3\">(?, 7, 7, 32)</text>\n",
       "<polyline fill=\"none\" points=\"233,-355.5 314,-355.5 \" stroke=\"black\"/>\n",
       "<text font-family=\"Times,serif\" font-size=\"14.00\" text-anchor=\"middle\" x=\"273.5\" y=\"-340.3\">(?, 1568)</text>\n",
       "</g>\n",
       "<!-- 139943994878352&#45;&gt;139943994211408 -->\n",
       "<g class=\"edge\" id=\"edge8\">\n",
       "<title>139943994878352-&gt;139943994211408</title>\n",
       "<path d=\"M198,-415.37C198,-407.15 198,-397.66 198,-388.73\" fill=\"none\" stroke=\"black\"/>\n",
       "<polygon fill=\"black\" points=\"201.5,-388.61 198,-378.61 194.5,-388.61 201.5,-388.61\" stroke=\"black\"/>\n",
       "</g>\n",
       "<!-- 139943994210192 -->\n",
       "<g class=\"node\" id=\"node10\">\n",
       "<title>139943994210192</title>\n",
       "<polygon fill=\"none\" points=\"93,-249.5 93,-295.5 303,-295.5 303,-249.5 93,-249.5\" stroke=\"black\"/>\n",
       "<text font-family=\"Times,serif\" font-size=\"14.00\" text-anchor=\"middle\" x=\"137.5\" y=\"-268.8\">dense: Dense</text>\n",
       "<polyline fill=\"none\" points=\"182,-249.5 182,-295.5 \" stroke=\"black\"/>\n",
       "<text font-family=\"Times,serif\" font-size=\"14.00\" text-anchor=\"middle\" x=\"209.5\" y=\"-280.3\">input:</text>\n",
       "<polyline fill=\"none\" points=\"182,-272.5 237,-272.5 \" stroke=\"black\"/>\n",
       "<text font-family=\"Times,serif\" font-size=\"14.00\" text-anchor=\"middle\" x=\"209.5\" y=\"-257.3\">output:</text>\n",
       "<polyline fill=\"none\" points=\"237,-249.5 237,-295.5 \" stroke=\"black\"/>\n",
       "<text font-family=\"Times,serif\" font-size=\"14.00\" text-anchor=\"middle\" x=\"270\" y=\"-280.3\">(?, 1568)</text>\n",
       "<polyline fill=\"none\" points=\"237,-272.5 303,-272.5 \" stroke=\"black\"/>\n",
       "<text font-family=\"Times,serif\" font-size=\"14.00\" text-anchor=\"middle\" x=\"270\" y=\"-257.3\">(?, 128)</text>\n",
       "</g>\n",
       "<!-- 139943994211408&#45;&gt;139943994210192 -->\n",
       "<g class=\"edge\" id=\"edge9\">\n",
       "<title>139943994211408-&gt;139943994210192</title>\n",
       "<path d=\"M198,-332.37C198,-324.15 198,-314.66 198,-305.73\" fill=\"none\" stroke=\"black\"/>\n",
       "<polygon fill=\"black\" points=\"201.5,-305.61 198,-295.61 194.5,-305.61 201.5,-305.61\" stroke=\"black\"/>\n",
       "</g>\n",
       "<!-- 139943994302864 -->\n",
       "<g class=\"node\" id=\"node11\">\n",
       "<title>139943994302864</title>\n",
       "<polygon fill=\"none\" points=\"11,-166.5 11,-212.5 385,-212.5 385,-166.5 11,-166.5\" stroke=\"black\"/>\n",
       "<text font-family=\"Times,serif\" font-size=\"14.00\" text-anchor=\"middle\" x=\"141\" y=\"-185.8\">batch_normalization_2: BatchNormalization</text>\n",
       "<polyline fill=\"none\" points=\"271,-166.5 271,-212.5 \" stroke=\"black\"/>\n",
       "<text font-family=\"Times,serif\" font-size=\"14.00\" text-anchor=\"middle\" x=\"298.5\" y=\"-197.3\">input:</text>\n",
       "<polyline fill=\"none\" points=\"271,-189.5 326,-189.5 \" stroke=\"black\"/>\n",
       "<text font-family=\"Times,serif\" font-size=\"14.00\" text-anchor=\"middle\" x=\"298.5\" y=\"-174.3\">output:</text>\n",
       "<polyline fill=\"none\" points=\"326,-166.5 326,-212.5 \" stroke=\"black\"/>\n",
       "<text font-family=\"Times,serif\" font-size=\"14.00\" text-anchor=\"middle\" x=\"355.5\" y=\"-197.3\">(?, 128)</text>\n",
       "<polyline fill=\"none\" points=\"326,-189.5 385,-189.5 \" stroke=\"black\"/>\n",
       "<text font-family=\"Times,serif\" font-size=\"14.00\" text-anchor=\"middle\" x=\"355.5\" y=\"-174.3\">(?, 128)</text>\n",
       "</g>\n",
       "<!-- 139943994210192&#45;&gt;139943994302864 -->\n",
       "<g class=\"edge\" id=\"edge10\">\n",
       "<title>139943994210192-&gt;139943994302864</title>\n",
       "<path d=\"M198,-249.37C198,-241.15 198,-231.66 198,-222.73\" fill=\"none\" stroke=\"black\"/>\n",
       "<polygon fill=\"black\" points=\"201.5,-222.61 198,-212.61 194.5,-222.61 201.5,-222.61\" stroke=\"black\"/>\n",
       "</g>\n",
       "<!-- 139943993961872 -->\n",
       "<g class=\"node\" id=\"node12\">\n",
       "<title>139943993961872</title>\n",
       "<polygon fill=\"none\" points=\"92,-83.5 92,-129.5 304,-129.5 304,-83.5 92,-83.5\" stroke=\"black\"/>\n",
       "<text font-family=\"Times,serif\" font-size=\"14.00\" text-anchor=\"middle\" x=\"141\" y=\"-102.8\">re_lu_2: ReLU</text>\n",
       "<polyline fill=\"none\" points=\"190,-83.5 190,-129.5 \" stroke=\"black\"/>\n",
       "<text font-family=\"Times,serif\" font-size=\"14.00\" text-anchor=\"middle\" x=\"217.5\" y=\"-114.3\">input:</text>\n",
       "<polyline fill=\"none\" points=\"190,-106.5 245,-106.5 \" stroke=\"black\"/>\n",
       "<text font-family=\"Times,serif\" font-size=\"14.00\" text-anchor=\"middle\" x=\"217.5\" y=\"-91.3\">output:</text>\n",
       "<polyline fill=\"none\" points=\"245,-83.5 245,-129.5 \" stroke=\"black\"/>\n",
       "<text font-family=\"Times,serif\" font-size=\"14.00\" text-anchor=\"middle\" x=\"274.5\" y=\"-114.3\">(?, 128)</text>\n",
       "<polyline fill=\"none\" points=\"245,-106.5 304,-106.5 \" stroke=\"black\"/>\n",
       "<text font-family=\"Times,serif\" font-size=\"14.00\" text-anchor=\"middle\" x=\"274.5\" y=\"-91.3\">(?, 128)</text>\n",
       "</g>\n",
       "<!-- 139943994302864&#45;&gt;139943993961872 -->\n",
       "<g class=\"edge\" id=\"edge11\">\n",
       "<title>139943994302864-&gt;139943993961872</title>\n",
       "<path d=\"M198,-166.37C198,-158.15 198,-148.66 198,-139.73\" fill=\"none\" stroke=\"black\"/>\n",
       "<polygon fill=\"black\" points=\"201.5,-139.61 198,-129.61 194.5,-139.61 201.5,-139.61\" stroke=\"black\"/>\n",
       "</g>\n",
       "<!-- 139943993962064 -->\n",
       "<g class=\"node\" id=\"node13\">\n",
       "<title>139943993962064</title>\n",
       "<polygon fill=\"none\" points=\"90,-0.5 90,-46.5 306,-46.5 306,-0.5 90,-0.5\" stroke=\"black\"/>\n",
       "<text font-family=\"Times,serif\" font-size=\"14.00\" text-anchor=\"middle\" x=\"141\" y=\"-19.8\">dense_1: Dense</text>\n",
       "<polyline fill=\"none\" points=\"192,-0.5 192,-46.5 \" stroke=\"black\"/>\n",
       "<text font-family=\"Times,serif\" font-size=\"14.00\" text-anchor=\"middle\" x=\"219.5\" y=\"-31.3\">input:</text>\n",
       "<polyline fill=\"none\" points=\"192,-23.5 247,-23.5 \" stroke=\"black\"/>\n",
       "<text font-family=\"Times,serif\" font-size=\"14.00\" text-anchor=\"middle\" x=\"219.5\" y=\"-8.3\">output:</text>\n",
       "<polyline fill=\"none\" points=\"247,-0.5 247,-46.5 \" stroke=\"black\"/>\n",
       "<text font-family=\"Times,serif\" font-size=\"14.00\" text-anchor=\"middle\" x=\"276.5\" y=\"-31.3\">(?, 128)</text>\n",
       "<polyline fill=\"none\" points=\"247,-23.5 306,-23.5 \" stroke=\"black\"/>\n",
       "<text font-family=\"Times,serif\" font-size=\"14.00\" text-anchor=\"middle\" x=\"276.5\" y=\"-8.3\">(?, 10)</text>\n",
       "</g>\n",
       "<!-- 139943993961872&#45;&gt;139943993962064 -->\n",
       "<g class=\"edge\" id=\"edge12\">\n",
       "<title>139943993961872-&gt;139943993962064</title>\n",
       "<path d=\"M198,-83.37C198,-75.15 198,-65.66 198,-56.73\" fill=\"none\" stroke=\"black\"/>\n",
       "<polygon fill=\"black\" points=\"201.5,-56.61 198,-46.61 194.5,-56.61 201.5,-56.61\" stroke=\"black\"/>\n",
       "</g>\n",
       "</g>\n",
       "</svg>"
      ],
      "text/plain": [
       "<IPython.core.display.SVG object>"
      ]
     },
     "execution_count": 8,
     "metadata": {},
     "output_type": "execute_result"
    }
   ],
   "source": [
    "from IPython.display import SVG\n",
    "from keras.utils.vis_utils import model_to_dot\n",
    "%matplotlib inline\n",
    "\n",
    "SVG(model_to_dot(model, show_shapes=True).create(prog='dot', format='svg'))"
   ]
  },
  {
   "cell_type": "markdown",
   "metadata": {},
   "source": [
    "## (3) 모델의 학습과정 설정\n",
    "\n",
    "optimizer에 문자열 대신에 파라미터를 수정한 optimizer를 입력할 수 있음\n",
    "\n",
    "https://keras.io/optimizers/#adam"
   ]
  },
  {
   "cell_type": "code",
   "execution_count": 9,
   "metadata": {},
   "outputs": [],
   "source": [
    "from keras.optimizers import Adam\n"
   ]
  },
  {
   "cell_type": "code",
   "execution_count": 10,
   "metadata": {},
   "outputs": [],
   "source": [
    "adam = Adam(lr=0.001, beta_1=0.9, beta_2=0.999, decay=1e-6, epsilon=None, amsgrad=False)\n",
    "model.compile(loss='categorical_crossentropy', optimizer=adam, metrics=['accuracy'])"
   ]
  },
  {
   "cell_type": "markdown",
   "metadata": {},
   "source": [
    "## (4) 모델 학습시키기"
   ]
  },
  {
   "cell_type": "code",
   "execution_count": 11,
   "metadata": {
    "scrolled": true
   },
   "outputs": [
    {
     "name": "stdout",
     "output_type": "stream",
     "text": [
      "Epoch 1/20\n",
      "375/375 [==============================] - 6s 15ms/step - loss: 0.1586 - accuracy: 0.9564 - val_loss: 0.0671 - val_accuracy: 0.9807\n",
      "Epoch 2/20\n",
      "375/375 [==============================] - 3s 7ms/step - loss: 0.0430 - accuracy: 0.9876 - val_loss: 0.0502 - val_accuracy: 0.9842\n",
      "Epoch 3/20\n",
      "375/375 [==============================] - 3s 7ms/step - loss: 0.0265 - accuracy: 0.9926 - val_loss: 0.0421 - val_accuracy: 0.9871\n",
      "Epoch 4/20\n",
      "375/375 [==============================] - 3s 7ms/step - loss: 0.0172 - accuracy: 0.9958 - val_loss: 0.0403 - val_accuracy: 0.9873\n",
      "Epoch 5/20\n",
      "375/375 [==============================] - 3s 7ms/step - loss: 0.0113 - accuracy: 0.9974 - val_loss: 0.0423 - val_accuracy: 0.9870\n",
      "Epoch 6/20\n",
      "375/375 [==============================] - 3s 7ms/step - loss: 0.0082 - accuracy: 0.9983 - val_loss: 0.0389 - val_accuracy: 0.9875\n",
      "Epoch 7/20\n",
      "375/375 [==============================] - 3s 7ms/step - loss: 0.0056 - accuracy: 0.9988 - val_loss: 0.0764 - val_accuracy: 0.9776\n",
      "Epoch 8/20\n",
      "375/375 [==============================] - 3s 7ms/step - loss: 0.0049 - accuracy: 0.9991 - val_loss: 0.0383 - val_accuracy: 0.9887\n",
      "Epoch 9/20\n",
      "375/375 [==============================] - 3s 7ms/step - loss: 0.0081 - accuracy: 0.9978 - val_loss: 0.0535 - val_accuracy: 0.9848\n",
      "Epoch 10/20\n",
      "375/375 [==============================] - 3s 7ms/step - loss: 0.0051 - accuracy: 0.9988 - val_loss: 0.0429 - val_accuracy: 0.9884\n",
      "Epoch 11/20\n",
      "375/375 [==============================] - 3s 7ms/step - loss: 0.0023 - accuracy: 0.9998 - val_loss: 0.0372 - val_accuracy: 0.9895\n",
      "Epoch 12/20\n",
      "375/375 [==============================] - 3s 7ms/step - loss: 0.0015 - accuracy: 0.9999 - val_loss: 0.0427 - val_accuracy: 0.9881\n",
      "Epoch 13/20\n",
      "375/375 [==============================] - 3s 7ms/step - loss: 0.0043 - accuracy: 0.9986 - val_loss: 0.0600 - val_accuracy: 0.9852\n",
      "Epoch 14/20\n",
      "375/375 [==============================] - 3s 7ms/step - loss: 0.0064 - accuracy: 0.9982 - val_loss: 0.0561 - val_accuracy: 0.9858\n",
      "Epoch 15/20\n",
      "375/375 [==============================] - 3s 7ms/step - loss: 0.0044 - accuracy: 0.9988 - val_loss: 0.0482 - val_accuracy: 0.9871\n",
      "Epoch 16/20\n",
      "375/375 [==============================] - 3s 7ms/step - loss: 0.0016 - accuracy: 0.9997 - val_loss: 0.0408 - val_accuracy: 0.9885\n",
      "Epoch 17/20\n",
      "375/375 [==============================] - 3s 7ms/step - loss: 0.0017 - accuracy: 0.9996 - val_loss: 0.0434 - val_accuracy: 0.9892\n",
      "Epoch 18/20\n",
      "375/375 [==============================] - 3s 7ms/step - loss: 0.0014 - accuracy: 0.9998 - val_loss: 0.0410 - val_accuracy: 0.9893\n",
      "Epoch 19/20\n",
      "375/375 [==============================] - 3s 7ms/step - loss: 0.0022 - accuracy: 0.9993 - val_loss: 0.0681 - val_accuracy: 0.9843\n",
      "Epoch 20/20\n",
      "375/375 [==============================] - 3s 7ms/step - loss: 0.0057 - accuracy: 0.9981 - val_loss: 0.0568 - val_accuracy: 0.9868\n"
     ]
    }
   ],
   "source": [
    "history = model.fit(X_train, Y_train, batch_size=128, epochs=20, validation_split=0.2)"
   ]
  },
  {
   "cell_type": "markdown",
   "metadata": {},
   "source": [
    "## (5) 모델 평가하기"
   ]
  },
  {
   "cell_type": "code",
   "execution_count": 12,
   "metadata": {},
   "outputs": [
    {
     "name": "stdout",
     "output_type": "stream",
     "text": [
      "79/79 [==============================] - 3s 39ms/step - loss: 0.0426 - accuracy: 0.9881\n",
      "loss : 0.0426, accruracy : 0.9881\n"
     ]
    }
   ],
   "source": [
    "loss_and_accuracy = model.evaluate(X_test, Y_test, batch_size=128)\n",
    "print('loss : %.4f, accruracy : %.4f'%(loss_and_accuracy[0],loss_and_accuracy[1]))"
   ]
  },
  {
   "cell_type": "markdown",
   "metadata": {},
   "source": [
    "## (6) 모델 사용하기"
   ]
  },
  {
   "cell_type": "code",
   "execution_count": 13,
   "metadata": {},
   "outputs": [
    {
     "name": "stdout",
     "output_type": "stream",
     "text": [
      "predict label :  [0. 0. 0. 0. 0. 0. 1. 0. 0. 0.]\n"
     ]
    },
    {
     "data": {
      "text/plain": [
       "<matplotlib.image.AxesImage at 0x7f47400f6710>"
      ]
     },
     "execution_count": 13,
     "metadata": {},
     "output_type": "execute_result"
    },
    {
     "data": {
      "image/png": "[encoded data removed]",
      "text/plain": [
       "<Figure size 432x288 with 1 Axes>"
      ]
     },
     "metadata": {
      "needs_background": "light"
     },
     "output_type": "display_data"
    }
   ],
   "source": [
    "test_data = X_test[-1].reshape(1,28,28,1)\n",
    "pred_y = model.predict(test_data)\n",
    "pred_y = pred_y.argmax()\n",
    "\n",
    "print('predict label : ',Y_test[-1])\n",
    "plt.imshow(X_test[-1].reshape(28,28), cmap='gray')"
   ]
  },
  {
   "cell_type": "markdown",
   "metadata": {},
   "source": [
    "## 3.2 모델 합치기(feature extractor, ANN classifier)\n",
    "convolution과 maxpooling layer로 구성된 feature extractor 모델과\n",
    "\n",
    "fully connected layer로 구성된 ANN classifier 모델을 따로 정의하고\n",
    "\n",
    "두 모델을 합쳐서 CNN 모델을 만듬"
   ]
  },
  {
   "cell_type": "code",
   "execution_count": 14,
   "metadata": {},
   "outputs": [],
   "source": [
    "def conv_maxpool_layers(n_in):\n",
    "    model = Sequential()\n",
    "    model.add(Conv2D(16, kernel_size=(3, 3), padding='same', activation='relu', input_shape=n_in))\n",
    "    model.add(Conv2D(32, (3, 3), padding='same',strides=(2, 2), activation='relu'))\n",
    "    model.add(MaxPooling2D(pool_size=(2, 2)))\n",
    "    model.add(Flatten())\n",
    "    model.compile(loss='categorical_crossentropy', optimizer='adam', metrics=['accuracy'])\n",
    "    return model\n",
    "\n",
    "def fc_layers(n_out):\n",
    "    model = Sequential()\n",
    "    model.add(Dense(units =128, input_shape=(1568,), activation='relu'))\n",
    "    model.add(Dense(units =n_out, activation='softmax'))\n",
    "    model.compile(loss='categorical_crossentropy', optimizer='adam', metrics=['accuracy'])\n",
    "    return model\n",
    "\n",
    "def CNN_(n_in, n_out):\n",
    "    #각 부분 모델\n",
    "    feature_extractor=conv_maxpool_layers(n_in)\n",
    "    feature_extractor.trainable=True\n",
    "    ann_classifier = fc_layers(n_out)\n",
    "    ann_classifier.trainable=True\n",
    "    \n",
    "    #두 모델을 합쳐 새로운 모델 정의\n",
    "    x = Input(shape=n_in)\n",
    "    feature = feature_extractor(x)\n",
    "    y = ann_classifier(feature)\n",
    "    model = Model(inputs = x, outputs = y)\n",
    "    \n",
    "    #model = Sequential()\n",
    "    #model.add(feature_extractor)\n",
    "    #model.add(ann_classifier)\n",
    "    \n",
    "    return model"
   ]
  },
  {
   "cell_type": "code",
   "execution_count": 15,
   "metadata": {},
   "outputs": [],
   "source": [
    "model = CNN_(n_in, n_out)"
   ]
  },
  {
   "cell_type": "code",
   "execution_count": 16,
   "metadata": {},
   "outputs": [
    {
     "name": "stdout",
     "output_type": "stream",
     "text": [
      "Model: \"model\"\n",
      "_________________________________________________________________\n",
      "Layer (type)                 Output Shape              Param #   \n",
      "=================================================================\n",
      "input_1 (InputLayer)         [(None, 28, 28, 1)]       0         \n",
      "_________________________________________________________________\n",
      "sequential_1 (Sequential)    (None, 1568)              4800      \n",
      "_________________________________________________________________\n",
      "sequential_2 (Sequential)    (None, 10)                202122    \n",
      "=================================================================\n",
      "Total params: 206,922\n",
      "Trainable params: 206,922\n",
      "Non-trainable params: 0\n",
      "_________________________________________________________________\n"
     ]
    }
   ],
   "source": [
    "model.summary()"
   ]
  },
  {
   "cell_type": "code",
   "execution_count": 17,
   "metadata": {
    "scrolled": true
   },
   "outputs": [
    {
     "name": "stdout",
     "output_type": "stream",
     "text": [
      "Epoch 1/20\n",
      "375/375 [==============================] - 2s 6ms/step - loss: 0.7219 - accuracy: 0.9069 - val_loss: 0.0997 - val_accuracy: 0.9709\n",
      "Epoch 2/20\n",
      "375/375 [==============================] - 2s 6ms/step - loss: 0.0731 - accuracy: 0.9778 - val_loss: 0.0813 - val_accuracy: 0.9758\n",
      "Epoch 3/20\n",
      "375/375 [==============================] - 2s 6ms/step - loss: 0.0417 - accuracy: 0.9864 - val_loss: 0.0669 - val_accuracy: 0.9803\n",
      "Epoch 4/20\n",
      "375/375 [==============================] - 2s 6ms/step - loss: 0.0262 - accuracy: 0.9916 - val_loss: 0.0704 - val_accuracy: 0.9824\n",
      "Epoch 5/20\n",
      "375/375 [==============================] - 2s 6ms/step - loss: 0.0198 - accuracy: 0.9935 - val_loss: 0.0638 - val_accuracy: 0.9840\n",
      "Epoch 6/20\n",
      "375/375 [==============================] - 2s 6ms/step - loss: 0.0142 - accuracy: 0.9951 - val_loss: 0.0640 - val_accuracy: 0.9838\n",
      "Epoch 7/20\n",
      "375/375 [==============================] - 2s 6ms/step - loss: 0.0146 - accuracy: 0.9949 - val_loss: 0.0730 - val_accuracy: 0.9830\n",
      "Epoch 8/20\n",
      "375/375 [==============================] - 2s 6ms/step - loss: 0.0141 - accuracy: 0.9952 - val_loss: 0.0819 - val_accuracy: 0.9828\n",
      "Epoch 9/20\n",
      "375/375 [==============================] - 2s 6ms/step - loss: 0.0136 - accuracy: 0.9954 - val_loss: 0.0745 - val_accuracy: 0.9822\n",
      "Epoch 10/20\n",
      "375/375 [==============================] - 2s 6ms/step - loss: 0.0131 - accuracy: 0.9955 - val_loss: 0.0840 - val_accuracy: 0.9831\n",
      "Epoch 11/20\n",
      "375/375 [==============================] - 2s 6ms/step - loss: 0.0149 - accuracy: 0.9949 - val_loss: 0.1166 - val_accuracy: 0.9783\n",
      "Epoch 12/20\n",
      "375/375 [==============================] - 2s 6ms/step - loss: 0.0134 - accuracy: 0.9956 - val_loss: 0.0892 - val_accuracy: 0.9842\n",
      "Epoch 13/20\n",
      "375/375 [==============================] - 2s 6ms/step - loss: 0.0115 - accuracy: 0.9962 - val_loss: 0.0830 - val_accuracy: 0.9835\n",
      "Epoch 14/20\n",
      "375/375 [==============================] - 2s 6ms/step - loss: 0.0075 - accuracy: 0.9974 - val_loss: 0.0772 - val_accuracy: 0.9862\n",
      "Epoch 15/20\n",
      "375/375 [==============================] - 2s 6ms/step - loss: 0.0093 - accuracy: 0.9971 - val_loss: 0.1005 - val_accuracy: 0.9823\n",
      "Epoch 16/20\n",
      "375/375 [==============================] - 2s 6ms/step - loss: 0.0138 - accuracy: 0.9958 - val_loss: 0.0893 - val_accuracy: 0.9852\n",
      "Epoch 17/20\n",
      "375/375 [==============================] - 2s 6ms/step - loss: 0.0094 - accuracy: 0.9970 - val_loss: 0.0833 - val_accuracy: 0.9862\n",
      "Epoch 18/20\n",
      "375/375 [==============================] - 2s 6ms/step - loss: 0.0060 - accuracy: 0.9981 - val_loss: 0.0737 - val_accuracy: 0.9879\n",
      "Epoch 19/20\n",
      "375/375 [==============================] - 2s 6ms/step - loss: 0.0046 - accuracy: 0.9987 - val_loss: 0.0795 - val_accuracy: 0.9876\n",
      "Epoch 20/20\n",
      "375/375 [==============================] - 2s 6ms/step - loss: 0.0110 - accuracy: 0.9967 - val_loss: 0.1117 - val_accuracy: 0.9827\n"
     ]
    }
   ],
   "source": [
    "model.compile(loss='categorical_crossentropy', optimizer='adam', metrics=['accuracy'])\n",
    "history = model.fit(X_train, Y_train, batch_size=128, epochs=20, validation_split=0.2)"
   ]
  },
  {
   "cell_type": "markdown",
   "metadata": {},
   "source": [
    "### Image data augmentation\n",
    "케라스에서는 ImageDataGenerate 함수로 Data augmentation 기능을  제공\n",
    "\n",
    "https://keras.io/preprocessing/image/#imagedatagenerator-class"
   ]
  },
  {
   "cell_type": "code",
   "execution_count": 18,
   "metadata": {},
   "outputs": [],
   "source": [
    "from keras.preprocessing.image import ImageDataGenerator, img_to_array"
   ]
  },
  {
   "cell_type": "code",
   "execution_count": 19,
   "metadata": {},
   "outputs": [],
   "source": [
    "datagen = ImageDataGenerator(\n",
    "    featurewise_center = False,\n",
    "    samplewise_center = False,\n",
    "    featurewise_std_normalization = False,\n",
    "    samplewise_std_normalization = False,\n",
    "    zca_whitening = False,\n",
    "    rotation_range = 10, # 회전\n",
    "    zoom_range = 0.1, # 확대 축소\n",
    "    width_shift_range = 0.1, # 수평 이동\n",
    "    height_shift_range = 0.1, # 수직 이동\n",
    "    horizontal_flip = False, # 수평 반전\n",
    "    vertical_flip = False # 수직 반전\n",
    ")\n",
    "\n",
    "datagen.fit(X_train)"
   ]
  },
  {
   "cell_type": "markdown",
   "metadata": {},
   "source": [
    "ImageDataGenerator로 생성하는 데이터를 학습하기 위해서는 fit() 함수가 아닌 fit_generator() 함수를 사용해야함"
   ]
  },
  {
   "cell_type": "code",
   "execution_count": 20,
   "metadata": {
    "scrolled": true
   },
   "outputs": [
    {
     "name": "stdout",
     "output_type": "stream",
     "text": [
      "WARNING:tensorflow:From <ipython-input-20-37516dab630f>:7: Model.fit_generator (from tensorflow.python.keras.engine.training) is deprecated and will be removed in a future version.\n",
      "Instructions for updating:\n",
      "Please use Model.fit, which supports generators.\n",
      "Epoch 1/20\n",
      "100/100 [==============================] - 24s 242ms/step - loss: 2.0140 - accuracy: 0.7006 - val_loss: 0.1832 - val_accuracy: 0.9446\n",
      "Epoch 2/20\n",
      "100/100 [==============================] - 22s 218ms/step - loss: 0.2074 - accuracy: 0.9365 - val_loss: 0.0982 - val_accuracy: 0.9708\n",
      "Epoch 3/20\n",
      "100/100 [==============================] - 22s 218ms/step - loss: 0.1370 - accuracy: 0.9578 - val_loss: 0.0796 - val_accuracy: 0.9775\n",
      "Epoch 4/20\n",
      "100/100 [==============================] - 21s 214ms/step - loss: 0.1080 - accuracy: 0.9660 - val_loss: 0.0680 - val_accuracy: 0.9808\n",
      "Epoch 5/20\n",
      "100/100 [==============================] - 21s 215ms/step - loss: 0.0917 - accuracy: 0.9711 - val_loss: 0.0660 - val_accuracy: 0.9796\n",
      "Epoch 6/20\n",
      "100/100 [==============================] - 22s 215ms/step - loss: 0.0782 - accuracy: 0.9754 - val_loss: 0.0604 - val_accuracy: 0.9829\n",
      "Epoch 7/20\n",
      "100/100 [==============================] - 22s 219ms/step - loss: 0.0693 - accuracy: 0.9780 - val_loss: 0.0654 - val_accuracy: 0.9805\n",
      "Epoch 8/20\n",
      "100/100 [==============================] - 21s 214ms/step - loss: 0.0629 - accuracy: 0.9799 - val_loss: 0.0578 - val_accuracy: 0.9840\n",
      "Epoch 9/20\n",
      "100/100 [==============================] - 21s 213ms/step - loss: 0.0589 - accuracy: 0.9813 - val_loss: 0.0553 - val_accuracy: 0.9848\n",
      "Epoch 10/20\n",
      "100/100 [==============================] - 22s 215ms/step - loss: 0.0567 - accuracy: 0.9821 - val_loss: 0.0515 - val_accuracy: 0.9848\n",
      "Epoch 11/20\n",
      "100/100 [==============================] - 22s 215ms/step - loss: 0.0525 - accuracy: 0.9832 - val_loss: 0.0535 - val_accuracy: 0.9846\n",
      "Epoch 12/20\n",
      "100/100 [==============================] - 21s 214ms/step - loss: 0.0505 - accuracy: 0.9839 - val_loss: 0.0497 - val_accuracy: 0.9849\n",
      "Epoch 13/20\n",
      "100/100 [==============================] - 21s 214ms/step - loss: 0.0463 - accuracy: 0.9853 - val_loss: 0.0421 - val_accuracy: 0.9870\n",
      "Epoch 14/20\n",
      "100/100 [==============================] - 21s 215ms/step - loss: 0.0456 - accuracy: 0.9854 - val_loss: 0.0485 - val_accuracy: 0.9857\n",
      "Epoch 15/20\n",
      "100/100 [==============================] - 22s 217ms/step - loss: 0.0435 - accuracy: 0.9862 - val_loss: 0.0454 - val_accuracy: 0.9876\n",
      "Epoch 16/20\n",
      "100/100 [==============================] - 21s 212ms/step - loss: 0.0423 - accuracy: 0.9866 - val_loss: 0.0464 - val_accuracy: 0.9873\n",
      "Epoch 17/20\n",
      "100/100 [==============================] - 21s 214ms/step - loss: 0.0406 - accuracy: 0.9871 - val_loss: 0.0375 - val_accuracy: 0.9903\n",
      "Epoch 18/20\n",
      "100/100 [==============================] - 21s 214ms/step - loss: 0.0389 - accuracy: 0.9878 - val_loss: 0.0449 - val_accuracy: 0.9886\n",
      "Epoch 19/20\n",
      "100/100 [==============================] - 22s 216ms/step - loss: 0.0375 - accuracy: 0.9882 - val_loss: 0.0423 - val_accuracy: 0.9883\n",
      "Epoch 20/20\n",
      "100/100 [==============================] - 21s 212ms/step - loss: 0.0358 - accuracy: 0.9888 - val_loss: 0.0382 - val_accuracy: 0.9898\n"
     ]
    },
    {
     "data": {
      "text/plain": [
       "<tensorflow.python.keras.callbacks.History at 0x7f47d018b910>"
      ]
     },
     "execution_count": 20,
     "metadata": {},
     "output_type": "execute_result"
    }
   ],
   "source": [
    "model = CNN_(n_in, n_out)\n",
    "model.compile(loss='categorical_crossentropy', optimizer='adam', metrics=['accuracy'])\n",
    "model.fit_generator(datagen.flow(X_train[:-10000], Y_train[:-10000], batch_size = 1000),\n",
    "                   epochs = 20,\n",
    "                   validation_data = (X_train[-10000:], Y_train[-10000:]),\n",
    "                   steps_per_epoch = 100, #epoch당 datagen을 호출하는 횟수\n",
    "                   verbose = 1)\n",
    "\n",
    "#총 데이터셋의 크기는 batch_size*steps_per_epoch"
   ]
  },
  {
   "cell_type": "markdown",
   "metadata": {},
   "source": [
    "## 3.3 Transfer learning"
   ]
  },
  {
   "cell_type": "markdown",
   "metadata": {},
   "source": [
    "CIFAR-10 데이터셋은 아래와 같이 총 10개의 label로 이루어진 이미지 분류를 위한 데이터셋이다.\n",
    "\n",
    "airplane, automobile, bird, cat, deer, dog, frog, horse, ship, and truck.\n",
    "\n",
    "각각의 레이블마다 32×32 크기 이미지인 50,000개의 training 데이터셋, 10,000개의 test 데이터셋이 존재하고, 결과적으로 총 60,000개의 32×32 크기의 이미지로 데이터셋이 구성되어 있다.\n",
    "\n",
    "mnist와 다르게 3개의 channel을 가지고 있다."
   ]
  },
  {
   "cell_type": "markdown",
   "metadata": {},
   "source": [
    "## (1) 데이터셋 준비"
   ]
  },
  {
   "cell_type": "code",
   "execution_count": 3,
   "metadata": {},
   "outputs": [
    {
     "name": "stdout",
     "output_type": "stream",
     "text": [
      "(50000, 32, 32, 3) (50000, 1)\n"
     ]
    }
   ],
   "source": [
    "(X_train, Y_train), (X_test, Y_test) = datasets.cifar10.load_data()\n",
    "print(X_train.shape, Y_train.shape)"
   ]
  },
  {
   "cell_type": "code",
   "execution_count": 4,
   "metadata": {},
   "outputs": [
    {
     "name": "stdout",
     "output_type": "stream",
     "text": [
      "label :  [6]\n"
     ]
    },
    {
     "data": {
      "text/plain": [
       "<matplotlib.image.AxesImage at 0x7f569d71dd10>"
      ]
     },
     "execution_count": 4,
     "metadata": {},
     "output_type": "execute_result"
    },
    {
     "data": {
      "image/png": "[encoded data removed]",
      "text/plain": [
       "<Figure size 432x288 with 1 Axes>"
      ]
     },
     "metadata": {
      "needs_background": "light"
     },
     "output_type": "display_data"
    }
   ],
   "source": [
    "print('label : ',Y_train[0])\n",
    "plt.imshow(X_train[0])"
   ]
  },
  {
   "cell_type": "code",
   "execution_count": 5,
   "metadata": {},
   "outputs": [
    {
     "name": "stdout",
     "output_type": "stream",
     "text": [
      "(50000, 32, 32, 3) (50000, 10)\n"
     ]
    }
   ],
   "source": [
    "Y_train = np_utils.to_categorical(Y_train)\n",
    "Y_test = np_utils.to_categorical(Y_test)\n",
    "\n",
    "print(X_train.shape, Y_train.shape)"
   ]
  },
  {
   "cell_type": "markdown",
   "metadata": {},
   "source": [
    "## (2) 모델링 <Transfer learning>\n",
    "    \n",
    "사용가능 네트워크 :\n",
    "https://keras.io/api/applications/"
   ]
  },
  {
   "cell_type": "code",
   "execution_count": 6,
   "metadata": {},
   "outputs": [],
   "source": [
    "from keras.applications.vgg16 import VGG16, preprocess_input"
   ]
  },
  {
   "cell_type": "code",
   "execution_count": 7,
   "metadata": {},
   "outputs": [
    {
     "name": "stdout",
     "output_type": "stream",
     "text": [
      "Model: \"vgg16\"\n",
      "_________________________________________________________________\n",
      "Layer (type)                 Output Shape              Param #   \n",
      "=================================================================\n",
      "input_1 (InputLayer)         [(None, 32, 32, 3)]       0         \n",
      "_________________________________________________________________\n",
      "block1_conv1 (Conv2D)        (None, 32, 32, 64)        1792      \n",
      "_________________________________________________________________\n",
      "block1_conv2 (Conv2D)        (None, 32, 32, 64)        36928     \n",
      "_________________________________________________________________\n",
      "block1_pool (MaxPooling2D)   (None, 16, 16, 64)        0         \n",
      "_________________________________________________________________\n",
      "block2_conv1 (Conv2D)        (None, 16, 16, 128)       73856     \n",
      "_________________________________________________________________\n",
      "block2_conv2 (Conv2D)        (None, 16, 16, 128)       147584    \n",
      "_________________________________________________________________\n",
      "block2_pool (MaxPooling2D)   (None, 8, 8, 128)         0         \n",
      "_________________________________________________________________\n",
      "block3_conv1 (Conv2D)        (None, 8, 8, 256)         295168    \n",
      "_________________________________________________________________\n",
      "block3_conv2 (Conv2D)        (None, 8, 8, 256)         590080    \n",
      "_________________________________________________________________\n",
      "block3_conv3 (Conv2D)        (None, 8, 8, 256)         590080    \n",
      "_________________________________________________________________\n",
      "block3_pool (MaxPooling2D)   (None, 4, 4, 256)         0         \n",
      "_________________________________________________________________\n",
      "block4_conv1 (Conv2D)        (None, 4, 4, 512)         1180160   \n",
      "_________________________________________________________________\n",
      "block4_conv2 (Conv2D)        (None, 4, 4, 512)         2359808   \n",
      "_________________________________________________________________\n",
      "block4_conv3 (Conv2D)        (None, 4, 4, 512)         2359808   \n",
      "_________________________________________________________________\n",
      "block4_pool (MaxPooling2D)   (None, 2, 2, 512)         0         \n",
      "_________________________________________________________________\n",
      "block5_conv1 (Conv2D)        (None, 2, 2, 512)         2359808   \n",
      "_________________________________________________________________\n",
      "block5_conv2 (Conv2D)        (None, 2, 2, 512)         2359808   \n",
      "_________________________________________________________________\n",
      "block5_conv3 (Conv2D)        (None, 2, 2, 512)         2359808   \n",
      "_________________________________________________________________\n",
      "block5_pool (MaxPooling2D)   (None, 1, 1, 512)         0         \n",
      "=================================================================\n",
      "Total params: 14,714,688\n",
      "Trainable params: 14,714,688\n",
      "Non-trainable params: 0\n",
      "_________________________________________________________________\n"
     ]
    }
   ],
   "source": [
    "base_model = VGG16(weights='imagenet', input_shape=(32,32,3), include_top=False)\n",
    "# base_model = VGG16(weights=None, input_shape=(32,32,3), include_top=False)\n",
    "base_model.summary()"
   ]
  },
  {
   "cell_type": "code",
   "execution_count": 8,
   "metadata": {},
   "outputs": [],
   "source": [
    "import seaborn as sns"
   ]
  },
  {
   "cell_type": "code",
   "execution_count": 9,
   "metadata": {},
   "outputs": [
    {
     "name": "stdout",
     "output_type": "stream",
     "text": [
      "block1_conv1\n"
     ]
    },
    {
     "data": {
      "text/plain": [
       "<matplotlib.axes._subplots.AxesSubplot at 0x7f55e4661250>"
      ]
     },
     "execution_count": 9,
     "metadata": {},
     "output_type": "execute_result"
    },
    {
     "data": {
      "image/png": "[encoded data removed]",
      "text/plain": [
       "<Figure size 432x288 with 1 Axes>"
      ]
     },
     "metadata": {
      "needs_background": "light"
     },
     "output_type": "display_data"
    }
   ],
   "source": [
    "print(base_model.layers[1].name)\n",
    "sns.distplot(base_model.layers[1].weights[1].numpy())"
   ]
  },
  {
   "cell_type": "code",
   "execution_count": 13,
   "metadata": {},
   "outputs": [],
   "source": [
    "x = base_model.output\n",
    "x = Flatten()(x)\n",
    "# let's add a fully-connected layer\n",
    "x = Dense(256, activation='relu')(x)\n",
    "# and a logistic layer -- let's say we have 10 classes\n",
    "predictions = Dense(Y_train.shape[1], activation='softmax')(x)"
   ]
  },
  {
   "cell_type": "code",
   "execution_count": 14,
   "metadata": {},
   "outputs": [],
   "source": [
    "# this is the model we will train\n",
    "model = Model(inputs=base_model.input, outputs=predictions)"
   ]
  },
  {
   "cell_type": "code",
   "execution_count": 15,
   "metadata": {},
   "outputs": [],
   "source": [
    "# first: train only the top layers (which were randomly initialized)\n",
    "for layer in base_model.layers:\n",
    "    layer.trainable = False"
   ]
  },
  {
   "cell_type": "code",
   "execution_count": 16,
   "metadata": {},
   "outputs": [
    {
     "name": "stdout",
     "output_type": "stream",
     "text": [
      "Model: \"model\"\n",
      "_________________________________________________________________\n",
      "Layer (type)                 Output Shape              Param #   \n",
      "=================================================================\n",
      "input_1 (InputLayer)         [(None, 32, 32, 3)]       0         \n",
      "_________________________________________________________________\n",
      "block1_conv1 (Conv2D)        (None, 32, 32, 64)        1792      \n",
      "_________________________________________________________________\n",
      "block1_conv2 (Conv2D)        (None, 32, 32, 64)        36928     \n",
      "_________________________________________________________________\n",
      "block1_pool (MaxPooling2D)   (None, 16, 16, 64)        0         \n",
      "_________________________________________________________________\n",
      "block2_conv1 (Conv2D)        (None, 16, 16, 128)       73856     \n",
      "_________________________________________________________________\n",
      "block2_conv2 (Conv2D)        (None, 16, 16, 128)       147584    \n",
      "_________________________________________________________________\n",
      "block2_pool (MaxPooling2D)   (None, 8, 8, 128)         0         \n",
      "_________________________________________________________________\n",
      "block3_conv1 (Conv2D)        (None, 8, 8, 256)         295168    \n",
      "_________________________________________________________________\n",
      "block3_conv2 (Conv2D)        (None, 8, 8, 256)         590080    \n",
      "_________________________________________________________________\n",
      "block3_conv3 (Conv2D)        (None, 8, 8, 256)         590080    \n",
      "_________________________________________________________________\n",
      "block3_pool (MaxPooling2D)   (None, 4, 4, 256)         0         \n",
      "_________________________________________________________________\n",
      "block4_conv1 (Conv2D)        (None, 4, 4, 512)         1180160   \n",
      "_________________________________________________________________\n",
      "block4_conv2 (Conv2D)        (None, 4, 4, 512)         2359808   \n",
      "_________________________________________________________________\n",
      "block4_conv3 (Conv2D)        (None, 4, 4, 512)         2359808   \n",
      "_________________________________________________________________\n",
      "block4_pool (MaxPooling2D)   (None, 2, 2, 512)         0         \n",
      "_________________________________________________________________\n",
      "block5_conv1 (Conv2D)        (None, 2, 2, 512)         2359808   \n",
      "_________________________________________________________________\n",
      "block5_conv2 (Conv2D)        (None, 2, 2, 512)         2359808   \n",
      "_________________________________________________________________\n",
      "block5_conv3 (Conv2D)        (None, 2, 2, 512)         2359808   \n",
      "_________________________________________________________________\n",
      "block5_pool (MaxPooling2D)   (None, 1, 1, 512)         0         \n",
      "_________________________________________________________________\n",
      "flatten (Flatten)            (None, 512)               0         \n",
      "_________________________________________________________________\n",
      "dense (Dense)                (None, 256)               131328    \n",
      "_________________________________________________________________\n",
      "dense_1 (Dense)              (None, 10)                2570      \n",
      "=================================================================\n",
      "Total params: 14,848,586\n",
      "Trainable params: 133,898\n",
      "Non-trainable params: 14,714,688\n",
      "_________________________________________________________________\n"
     ]
    }
   ],
   "source": [
    "model.summary()"
   ]
  },
  {
   "cell_type": "markdown",
   "metadata": {},
   "source": [
    "## (3) 모델의 학습과정 설정"
   ]
  },
  {
   "cell_type": "code",
   "execution_count": 17,
   "metadata": {},
   "outputs": [],
   "source": [
    "model.compile(optimizer='rmsprop', loss='categorical_crossentropy', metrics=['accuracy'])"
   ]
  },
  {
   "cell_type": "markdown",
   "metadata": {},
   "source": [
    "## (4) 모델 학습시키기"
   ]
  },
  {
   "cell_type": "code",
   "execution_count": 18,
   "metadata": {
    "scrolled": true
   },
   "outputs": [
    {
     "name": "stdout",
     "output_type": "stream",
     "text": [
      "Epoch 1/20\n",
      "313/313 [==============================] - 39s 123ms/step - loss: 3.3491 - accuracy: 0.4618 - val_loss: 1.5572 - val_accuracy: 0.5198\n",
      "Epoch 2/20\n",
      "313/313 [==============================] - 5s 17ms/step - loss: 1.2839 - accuracy: 0.5862 - val_loss: 1.3954 - val_accuracy: 0.5531\n",
      "Epoch 3/20\n",
      "313/313 [==============================] - 5s 16ms/step - loss: 1.0556 - accuracy: 0.6471 - val_loss: 1.3793 - val_accuracy: 0.5806\n",
      "Epoch 4/20\n",
      "313/313 [==============================] - 5s 17ms/step - loss: 0.9275 - accuracy: 0.6849 - val_loss: 1.4221 - val_accuracy: 0.5800\n",
      "Epoch 5/20\n",
      "313/313 [==============================] - 5s 16ms/step - loss: 0.8301 - accuracy: 0.7202 - val_loss: 1.4856 - val_accuracy: 0.5739\n",
      "Epoch 6/20\n",
      "313/313 [==============================] - 5s 17ms/step - loss: 0.7468 - accuracy: 0.7472 - val_loss: 1.6027 - val_accuracy: 0.5741\n",
      "Epoch 7/20\n",
      "313/313 [==============================] - 5s 17ms/step - loss: 0.6760 - accuracy: 0.7681 - val_loss: 1.6763 - val_accuracy: 0.5861\n",
      "Epoch 8/20\n",
      "313/313 [==============================] - 5s 17ms/step - loss: 0.6158 - accuracy: 0.7886 - val_loss: 1.7830 - val_accuracy: 0.5789\n",
      "Epoch 9/20\n",
      "313/313 [==============================] - 5s 17ms/step - loss: 0.5591 - accuracy: 0.8100 - val_loss: 1.9070 - val_accuracy: 0.5765\n",
      "Epoch 10/20\n",
      "313/313 [==============================] - 5s 17ms/step - loss: 0.5115 - accuracy: 0.8241 - val_loss: 2.0588 - val_accuracy: 0.5725\n",
      "Epoch 11/20\n",
      "313/313 [==============================] - 5s 17ms/step - loss: 0.4659 - accuracy: 0.8414 - val_loss: 2.1834 - val_accuracy: 0.5692\n",
      "Epoch 12/20\n",
      "313/313 [==============================] - 5s 17ms/step - loss: 0.4291 - accuracy: 0.8523 - val_loss: 2.3256 - val_accuracy: 0.5697\n",
      "Epoch 13/20\n",
      "313/313 [==============================] - 5s 17ms/step - loss: 0.4009 - accuracy: 0.8651 - val_loss: 2.4918 - val_accuracy: 0.5632\n",
      "Epoch 14/20\n",
      "313/313 [==============================] - 5s 17ms/step - loss: 0.3660 - accuracy: 0.8744 - val_loss: 2.6675 - val_accuracy: 0.5595\n",
      "Epoch 15/20\n",
      "313/313 [==============================] - 5s 17ms/step - loss: 0.3377 - accuracy: 0.8831 - val_loss: 2.7955 - val_accuracy: 0.5657\n",
      "Epoch 16/20\n",
      "313/313 [==============================] - 5s 17ms/step - loss: 0.3136 - accuracy: 0.8942 - val_loss: 2.9769 - val_accuracy: 0.5641\n",
      "Epoch 17/20\n",
      "313/313 [==============================] - 5s 17ms/step - loss: 0.2908 - accuracy: 0.9019 - val_loss: 3.1067 - val_accuracy: 0.5570\n",
      "Epoch 18/20\n",
      "313/313 [==============================] - 5s 17ms/step - loss: 0.2706 - accuracy: 0.9083 - val_loss: 3.2667 - val_accuracy: 0.5623\n",
      "Epoch 19/20\n",
      "313/313 [==============================] - 5s 17ms/step - loss: 0.2513 - accuracy: 0.9159 - val_loss: 3.4933 - val_accuracy: 0.5585\n",
      "Epoch 20/20\n",
      "313/313 [==============================] - 5s 17ms/step - loss: 0.2366 - accuracy: 0.9217 - val_loss: 3.5996 - val_accuracy: 0.5605\n"
     ]
    }
   ],
   "source": [
    "history = model.fit(X_train, Y_train, batch_size=128, epochs=20, validation_split=0.2)"
   ]
  },
  {
   "cell_type": "markdown",
   "metadata": {},
   "source": [
    "## (5) 모델 평가하기"
   ]
  },
  {
   "cell_type": "code",
   "execution_count": 19,
   "metadata": {},
   "outputs": [
    {
     "name": "stdout",
     "output_type": "stream",
     "text": [
      "79/79 [==============================] - 1s 12ms/step - loss: 3.4847 - accuracy: 0.5670\n",
      "loss : 3.4847, accruracy : 0.5670\n"
     ]
    }
   ],
   "source": [
    "loss_and_accuracy = model.evaluate(X_test, Y_test, batch_size=128)\n",
    "print('loss : %.4f, accruracy : %.4f'%(loss_and_accuracy[0],loss_and_accuracy[1]))"
   ]
  }
 ],
 "metadata": {
  "kernelspec": {
   "display_name": "Python 3",
   "language": "python",
   "name": "python3"
  },
  "language_info": {
   "codemirror_mode": {
    "name": "ipython",
    "version": 3
   },
   "file_extension": ".py",
   "mimetype": "text/x-python",
   "name": "python",
   "nbconvert_exporter": "python",
   "pygments_lexer": "ipython3",
   "version": "3.7.6"
  }
 },
 "nbformat": 4,
 "nbformat_minor": 4
}
