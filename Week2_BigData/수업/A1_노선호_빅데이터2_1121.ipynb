{
 "cells": [
  {
   "cell_type": "code",
   "execution_count": 8,
   "metadata": {},
   "outputs": [
    {
     "data": {
      "text/html": [
       "<style>.container { width:100% !important; }</style>"
      ],
      "text/plain": [
       "<IPython.core.display.HTML object>"
      ]
     },
     "metadata": {},
     "output_type": "display_data"
    }
   ],
   "source": [
    "import pandas as pd\n",
    "import numpy as np\n",
    "from sklearn.preprocessing import scale,minmax_scale,robust_scale\n",
    "#%matplotlib inline background 그래프 실행 및 결과 확인\n",
    "import pandas as pd\n",
    "import numpy as np\n",
    "import matplotlib\n",
    "import matplotlib.pyplot as plt\n",
    "import seaborn as sns\n",
    "from statsmodels.formula.api import ols\n",
    "from statsmodels.api import qqplot, add_constant\n",
    "import statsmodels.formula.api as smf\n",
    "from statsmodels.tools.eval_measures import rmse\n",
    "#예측\n",
    "from sklearn.tree import export_graphviz \n",
    "\n",
    "from sklearn.model_selection import train_test_split\n",
    "from sklearn.tree import DecisionTreeRegressor\n",
    "from sklearn.ensemble import RandomForestRegressor as RFR\n",
    "from sklearn.ensemble import GradientBoostingRegressor\n",
    "from sklearn.model_selection import GridSearchCV\n",
    "#평가함수\n",
    "from sklearn.metrics import mean_squared_error\n",
    "from sklearn.metrics import mean_absolute_error\n",
    "from sklearn.metrics import accuracy_score\n",
    "#모델 성능 평가\n",
    "from sklearn.tree import DecisionTreeClassifier\n",
    "from sklearn.ensemble import RandomForestClassifier\n",
    "from sklearn.ensemble import GradientBoostingClassifier\n",
    "#confusion matrix\n",
    "from sklearn.metrics import confusion_matrix\n",
    "\n",
    "#Scale 변환:평균,표준편차 기준\n",
    "from sklearn.preprocessing import StandardScaler\n",
    "#주성분 분석\n",
    "from sklearn.decomposition import PCA\n",
    "#회귀분석\n",
    "import statsmodels.api as sm\n",
    "#RMSE:root mean squared error 함수\n",
    "def root_mean_squared_error(y_true,y_pred):\n",
    "    return np.sqrt(mean_squared_error(y_true,y_pred))\n",
    "#MAPE:mean absolute percentage error 함수\n",
    "def mean_absolute_percentage_error(y_true,y_pred):\n",
    "    return np.mean(np.abs((y_true-y_pred)/y_true))*100\n",
    "#분류 : KNN\n",
    "from sklearn.neighbors import KNeighborsClassifier\n",
    "#로지스틱 회귀\n",
    "from statsmodels.api import Logit\n",
    "#데이터 분항\n",
    "from sklearn.model_selection import train_test_split\n",
    "from sklearn.svm import SVC\n",
    "from sklearn.neural_network import MLPClassifier\n",
    "from sklearn.metrics import confusion_matrix\n",
    "from IPython.core.display import display, HTML\n",
    "display(HTML(\"<style>.container { width:100% !important; }</style>\"))\n",
    "import os\n",
    "import graphviz\n",
    "\n",
    "from sklearn.cluster import KMeans, DBSCAN\n",
    "from scipy.cluster.hierarchy import linkage, dendrogram, fcluster\n"
   ]
  },
  {
   "cell_type": "code",
   "execution_count": 9,
   "metadata": {},
   "outputs": [
    {
     "data": {
      "text/html": [
       "<div>\n",
       "<style scoped>\n",
       "    .dataframe tbody tr th:only-of-type {\n",
       "        vertical-align: middle;\n",
       "    }\n",
       "\n",
       "    .dataframe tbody tr th {\n",
       "        vertical-align: top;\n",
       "    }\n",
       "\n",
       "    .dataframe thead th {\n",
       "        text-align: right;\n",
       "    }\n",
       "</style>\n",
       "<table border=\"1\" class=\"dataframe\">\n",
       "  <thead>\n",
       "    <tr style=\"text-align: right;\">\n",
       "      <th></th>\n",
       "      <th>EVAL</th>\n",
       "      <th>DISSATIS</th>\n",
       "      <th>PRIVILEGE</th>\n",
       "      <th>CHANCE</th>\n",
       "      <th>ADVANCE</th>\n",
       "      <th>CRITISM</th>\n",
       "      <th>PROMOTION</th>\n",
       "    </tr>\n",
       "  </thead>\n",
       "  <tbody>\n",
       "    <tr>\n",
       "      <th>0</th>\n",
       "      <td>43</td>\n",
       "      <td>51</td>\n",
       "      <td>30</td>\n",
       "      <td>39</td>\n",
       "      <td>61</td>\n",
       "      <td>92</td>\n",
       "      <td>45</td>\n",
       "    </tr>\n",
       "    <tr>\n",
       "      <th>1</th>\n",
       "      <td>63</td>\n",
       "      <td>64</td>\n",
       "      <td>51</td>\n",
       "      <td>54</td>\n",
       "      <td>63</td>\n",
       "      <td>73</td>\n",
       "      <td>47</td>\n",
       "    </tr>\n",
       "    <tr>\n",
       "      <th>2</th>\n",
       "      <td>71</td>\n",
       "      <td>70</td>\n",
       "      <td>68</td>\n",
       "      <td>69</td>\n",
       "      <td>76</td>\n",
       "      <td>86</td>\n",
       "      <td>48</td>\n",
       "    </tr>\n",
       "    <tr>\n",
       "      <th>3</th>\n",
       "      <td>61</td>\n",
       "      <td>63</td>\n",
       "      <td>45</td>\n",
       "      <td>47</td>\n",
       "      <td>54</td>\n",
       "      <td>84</td>\n",
       "      <td>35</td>\n",
       "    </tr>\n",
       "    <tr>\n",
       "      <th>4</th>\n",
       "      <td>81</td>\n",
       "      <td>78</td>\n",
       "      <td>56</td>\n",
       "      <td>66</td>\n",
       "      <td>71</td>\n",
       "      <td>83</td>\n",
       "      <td>47</td>\n",
       "    </tr>\n",
       "  </tbody>\n",
       "</table>\n",
       "</div>"
      ],
      "text/plain": [
       "   EVAL  DISSATIS  PRIVILEGE  CHANCE  ADVANCE  CRITISM  PROMOTION\n",
       "0    43        51         30      39       61       92         45\n",
       "1    63        64         51      54       63       73         47\n",
       "2    71        70         68      69       76       86         48\n",
       "3    61        63         45      47       54       84         35\n",
       "4    81        78         56      66       71       83         47"
      ]
     },
     "execution_count": 9,
     "metadata": {},
     "output_type": "execute_result"
    }
   ],
   "source": [
    "df=pd.read_csv(\"/home/piai/Desktop/POSCO_Ai-BigData_academy/Week2_BigData/실습파일/직무능력평가.csv\")\n",
    "df.head()"
   ]
  },
  {
   "cell_type": "code",
   "execution_count": 10,
   "metadata": {},
   "outputs": [
    {
     "data": {
      "text/plain": [
       "array([[-1.8076031 , -1.19166169, -1.92300586, -1.50494461, -0.35542617,\n",
       "         1.77141034,  0.20430138],\n",
       "       [-0.13647543, -0.19861028, -0.17733772, -0.20508842, -0.15977874,\n",
       "        -0.18159526,  0.4020124 ],\n",
       "       [ 0.53197564,  0.25972114,  1.23582221,  1.09476777,  1.11192959,\n",
       "         1.15467173,  0.50086791],\n",
       "       [-0.30358819, -0.27499885, -0.67610004, -0.81168798, -1.0401922 ,\n",
       "         0.9490922 , -0.78425369],\n",
       "       [ 1.36753948,  0.87082969,  0.23829756,  0.83479653,  0.622811  ,\n",
       "         0.84630243,  0.4020124 ]])"
      ]
     },
     "execution_count": 10,
     "metadata": {},
     "output_type": "execute_result"
    }
   ],
   "source": [
    "scaler = StandardScaler()\n",
    "df_scaled = scaler.fit_transform(df)\n",
    "df_scaled[:5]"
   ]
  },
  {
   "cell_type": "code",
   "execution_count": 11,
   "metadata": {},
   "outputs": [],
   "source": [
    "df_raw_y = df_scaled[:,0]\n",
    "df_raw_x = df_scaled[:,1::]"
   ]
  },
  {
   "cell_type": "code",
   "execution_count": 12,
   "metadata": {},
   "outputs": [],
   "source": [
    "# 군집간의 연결 ward  거리 계산 : euclidean\n",
    "z_ward = linkage(df_raw_x,method = 'ward',metric ='euclidean' )\n",
    "z_avg = linkage(df_raw_x,method = 'average',metric ='euclidean' )\n",
    "z_mink = linkage(df_raw_x,method = 'average',metric ='minkowski' )"
   ]
  },
  {
   "cell_type": "code",
   "execution_count": 26,
   "metadata": {},
   "outputs": [
    {
     "data": {
      "text/plain": [
       "array([[14.        , 26.        ,  0.52156235,  2.        ],\n",
       "       [ 3.        , 27.        ,  0.65700712,  2.        ],\n",
       "       [ 9.        , 22.        ,  0.84734214,  2.        ],\n",
       "       [16.        , 28.        ,  1.13863458,  2.        ],\n",
       "       [ 6.        ,  7.        ,  1.17063718,  2.        ],\n",
       "       [ 1.        , 21.        ,  1.22298201,  2.        ],\n",
       "       [11.        , 32.        ,  1.31728974,  3.        ],\n",
       "       [ 2.        ,  4.        ,  1.33423955,  2.        ],\n",
       "       [24.        , 36.        ,  1.47235046,  4.        ],\n",
       "       [30.        , 37.        ,  1.65014418,  4.        ],\n",
       "       [18.        , 35.        ,  1.78970024,  3.        ],\n",
       "       [29.        , 34.        ,  1.8539993 ,  3.        ],\n",
       "       [10.        , 12.        ,  1.88477465,  2.        ],\n",
       "       [31.        , 38.        ,  1.94570646,  6.        ],\n",
       "       [25.        , 33.        ,  2.11914806,  3.        ],\n",
       "       [ 5.        , 42.        ,  2.16582648,  3.        ],\n",
       "       [17.        , 19.        ,  2.20000549,  2.        ],\n",
       "       [40.        , 41.        ,  2.45202396,  6.        ],\n",
       "       [ 8.        , 13.        ,  2.52809451,  2.        ],\n",
       "       [ 0.        , 43.        ,  2.88870247,  7.        ],\n",
       "       [20.        , 23.        ,  2.90276444,  2.        ],\n",
       "       [39.        , 44.        ,  3.56637055,  7.        ],\n",
       "       [45.        , 50.        ,  3.60155106,  5.        ],\n",
       "       [15.        , 47.        ,  4.05080859,  7.        ],\n",
       "       [46.        , 51.        ,  4.29306249,  9.        ],\n",
       "       [48.        , 53.        ,  5.0758872 ,  9.        ],\n",
       "       [49.        , 52.        ,  5.91908076, 12.        ],\n",
       "       [54.        , 55.        ,  6.47552152, 18.        ],\n",
       "       [56.        , 57.        , 11.20593399, 30.        ]])"
      ]
     },
     "execution_count": 26,
     "metadata": {},
     "output_type": "execute_result"
    }
   ],
   "source": [
    "z_ward"
   ]
  },
  {
   "cell_type": "code",
   "execution_count": 27,
   "metadata": {},
   "outputs": [
    {
     "data": {
      "text/plain": [
       "Text(0, 0.5, 'sample index')"
      ]
     },
     "execution_count": 27,
     "metadata": {},
     "output_type": "execute_result"
    },
    {
     "data": {
      "image/png": "[encoded data removed]",
      "text/plain": [
       "<Figure size 720x720 with 1 Axes>"
      ]
     },
     "metadata": {
      "needs_background": "light"
     },
     "output_type": "display_data"
    }
   ],
   "source": [
    "plt.figure(figsize=(10,10))\n",
    "ax=plt.subplot(111)\n",
    "dendrogram(z_ward,leaf_font_size = 10 , orientation = 'top')\n",
    "plt.title(\"Hiearachical clustering Dendrogram\")\n",
    "plt.xlabel(\"distance\")\n",
    "plt.ylabel(\"sample index\")\n"
   ]
  },
  {
   "cell_type": "code",
   "execution_count": 28,
   "metadata": {},
   "outputs": [
    {
     "data": {
      "text/plain": [
       "Text(0, 0.5, 'sample index')"
      ]
     },
     "execution_count": 28,
     "metadata": {},
     "output_type": "execute_result"
    },
    {
     "data": {
      "image/png": "[encoded data removed]",
      "text/plain": [
       "<Figure size 720x720 with 1 Axes>"
      ]
     },
     "metadata": {
      "needs_background": "light"
     },
     "output_type": "display_data"
    }
   ],
   "source": [
    "plt.figure(figsize=(10,10))\n",
    "ax=plt.subplot(111)\n",
    "dendrogram(z_avg,leaf_font_size = 10 , orientation = 'top')\n",
    "plt.title(\"Hiearachical clustering Dendrogram\")\n",
    "plt.xlabel(\"distance\")\n",
    "plt.ylabel(\"sample index\")\n"
   ]
  },
  {
   "cell_type": "code",
   "execution_count": 29,
   "metadata": {},
   "outputs": [
    {
     "data": {
      "text/plain": [
       "Text(0, 0.5, 'sample index')"
      ]
     },
     "execution_count": 29,
     "metadata": {},
     "output_type": "execute_result"
    },
    {
     "data": {
      "image/png": "[encoded data removed]",
      "text/plain": [
       "<Figure size 720x720 with 1 Axes>"
      ]
     },
     "metadata": {
      "needs_background": "light"
     },
     "output_type": "display_data"
    }
   ],
   "source": [
    "plt.figure(figsize=(10,10))\n",
    "ax=plt.subplot(111)\n",
    "dendrogram(z_mink,leaf_font_size = 10 , orientation = 'top')\n",
    "plt.title(\"Hiearachical clustering Dendrogram\")\n",
    "plt.xlabel(\"distance\")\n",
    "plt.ylabel(\"sample index\")\n"
   ]
  },
  {
   "cell_type": "code",
   "execution_count": 38,
   "metadata": {},
   "outputs": [
    {
     "data": {
      "text/html": [
       "<div>\n",
       "<style scoped>\n",
       "    .dataframe tbody tr th:only-of-type {\n",
       "        vertical-align: middle;\n",
       "    }\n",
       "\n",
       "    .dataframe tbody tr th {\n",
       "        vertical-align: top;\n",
       "    }\n",
       "\n",
       "    .dataframe thead th {\n",
       "        text-align: right;\n",
       "    }\n",
       "</style>\n",
       "<table border=\"1\" class=\"dataframe\">\n",
       "  <thead>\n",
       "    <tr style=\"text-align: right;\">\n",
       "      <th></th>\n",
       "      <th>EVAL</th>\n",
       "      <th>DISSATIS</th>\n",
       "      <th>PRIVILEGE</th>\n",
       "      <th>CHANCE</th>\n",
       "      <th>ADVANCE</th>\n",
       "      <th>CRITISM</th>\n",
       "      <th>PROMOTION</th>\n",
       "      <th>ClusterHierarchical</th>\n",
       "    </tr>\n",
       "  </thead>\n",
       "  <tbody>\n",
       "    <tr>\n",
       "      <th>0</th>\n",
       "      <td>43</td>\n",
       "      <td>51</td>\n",
       "      <td>30</td>\n",
       "      <td>39</td>\n",
       "      <td>61</td>\n",
       "      <td>92</td>\n",
       "      <td>45</td>\n",
       "      <td>1</td>\n",
       "    </tr>\n",
       "    <tr>\n",
       "      <th>1</th>\n",
       "      <td>63</td>\n",
       "      <td>64</td>\n",
       "      <td>51</td>\n",
       "      <td>54</td>\n",
       "      <td>63</td>\n",
       "      <td>73</td>\n",
       "      <td>47</td>\n",
       "      <td>6</td>\n",
       "    </tr>\n",
       "    <tr>\n",
       "      <th>2</th>\n",
       "      <td>71</td>\n",
       "      <td>70</td>\n",
       "      <td>68</td>\n",
       "      <td>69</td>\n",
       "      <td>76</td>\n",
       "      <td>86</td>\n",
       "      <td>48</td>\n",
       "      <td>4</td>\n",
       "    </tr>\n",
       "    <tr>\n",
       "      <th>3</th>\n",
       "      <td>61</td>\n",
       "      <td>63</td>\n",
       "      <td>45</td>\n",
       "      <td>47</td>\n",
       "      <td>54</td>\n",
       "      <td>84</td>\n",
       "      <td>35</td>\n",
       "      <td>1</td>\n",
       "    </tr>\n",
       "    <tr>\n",
       "      <th>4</th>\n",
       "      <td>81</td>\n",
       "      <td>78</td>\n",
       "      <td>56</td>\n",
       "      <td>66</td>\n",
       "      <td>71</td>\n",
       "      <td>83</td>\n",
       "      <td>47</td>\n",
       "      <td>4</td>\n",
       "    </tr>\n",
       "  </tbody>\n",
       "</table>\n",
       "</div>"
      ],
      "text/plain": [
       "   EVAL  DISSATIS  PRIVILEGE  CHANCE  ADVANCE  CRITISM  PROMOTION  \\\n",
       "0    43        51         30      39       61       92         45   \n",
       "1    63        64         51      54       63       73         47   \n",
       "2    71        70         68      69       76       86         48   \n",
       "3    61        63         45      47       54       84         35   \n",
       "4    81        78         56      66       71       83         47   \n",
       "\n",
       "   ClusterHierarchical  \n",
       "0                    1  \n",
       "1                    6  \n",
       "2                    4  \n",
       "3                    1  \n",
       "4                    4  "
      ]
     },
     "execution_count": 38,
     "metadata": {},
     "output_type": "execute_result"
    }
   ],
   "source": [
    "# 거리 기반으로만 판단하기 좀 어려워서 maxclust 라고 t 의 값만큼 군집을 형성해라 라는 뜻\n",
    "cluster_hierarchical = fcluster(Z=z_ward, t=6 , criterion = 'maxclust')\n",
    "df[\"ClusterHierarchical\"]=cluster_hierarchical\n",
    "df.head()"
   ]
  },
  {
   "cell_type": "code",
   "execution_count": 39,
   "metadata": {},
   "outputs": [
    {
     "data": {
      "text/html": [
       "<div>\n",
       "<style scoped>\n",
       "    .dataframe tbody tr th:only-of-type {\n",
       "        vertical-align: middle;\n",
       "    }\n",
       "\n",
       "    .dataframe tbody tr th {\n",
       "        vertical-align: top;\n",
       "    }\n",
       "\n",
       "    .dataframe thead th {\n",
       "        text-align: right;\n",
       "    }\n",
       "</style>\n",
       "<table border=\"1\" class=\"dataframe\">\n",
       "  <thead>\n",
       "    <tr style=\"text-align: right;\">\n",
       "      <th></th>\n",
       "      <th>ClusterHierarchical</th>\n",
       "      <th>EVAL_min</th>\n",
       "      <th>EVAL_mean</th>\n",
       "      <th>EVAL_max</th>\n",
       "      <th>DISSATIS_min</th>\n",
       "      <th>DISSATIS_mean</th>\n",
       "      <th>DISSATIS_max</th>\n",
       "      <th>PRIVILEGE_min</th>\n",
       "      <th>PRIVILEGE_mean</th>\n",
       "      <th>PRIVILEGE_max</th>\n",
       "      <th>...</th>\n",
       "      <th>CHANCE_max</th>\n",
       "      <th>ADVANCE_min</th>\n",
       "      <th>ADVANCE_mean</th>\n",
       "      <th>ADVANCE_max</th>\n",
       "      <th>CRITISM_min</th>\n",
       "      <th>CRITISM_mean</th>\n",
       "      <th>CRITISM_max</th>\n",
       "      <th>PROMOTION_min</th>\n",
       "      <th>PROMOTION_mean</th>\n",
       "      <th>PROMOTION_max</th>\n",
       "    </tr>\n",
       "  </thead>\n",
       "  <tbody>\n",
       "    <tr>\n",
       "      <th>0</th>\n",
       "      <td>1</td>\n",
       "      <td>43</td>\n",
       "      <td>57.429</td>\n",
       "      <td>67</td>\n",
       "      <td>51</td>\n",
       "      <td>58.857</td>\n",
       "      <td>66</td>\n",
       "      <td>30</td>\n",
       "      <td>43.571</td>\n",
       "      <td>52</td>\n",
       "      <td>...</td>\n",
       "      <td>50</td>\n",
       "      <td>51</td>\n",
       "      <td>59.429</td>\n",
       "      <td>66</td>\n",
       "      <td>74</td>\n",
       "      <td>81.143</td>\n",
       "      <td>92</td>\n",
       "      <td>33</td>\n",
       "      <td>38.571</td>\n",
       "      <td>45</td>\n",
       "    </tr>\n",
       "    <tr>\n",
       "      <th>1</th>\n",
       "      <td>2</td>\n",
       "      <td>40</td>\n",
       "      <td>53.200</td>\n",
       "      <td>69</td>\n",
       "      <td>37</td>\n",
       "      <td>49.400</td>\n",
       "      <td>62</td>\n",
       "      <td>33</td>\n",
       "      <td>46.800</td>\n",
       "      <td>57</td>\n",
       "      <td>...</td>\n",
       "      <td>58</td>\n",
       "      <td>43</td>\n",
       "      <td>52.000</td>\n",
       "      <td>58</td>\n",
       "      <td>49</td>\n",
       "      <td>60.000</td>\n",
       "      <td>67</td>\n",
       "      <td>25</td>\n",
       "      <td>35.000</td>\n",
       "      <td>49</td>\n",
       "    </tr>\n",
       "    <tr>\n",
       "      <th>2</th>\n",
       "      <td>3</td>\n",
       "      <td>50</td>\n",
       "      <td>57.500</td>\n",
       "      <td>65</td>\n",
       "      <td>58</td>\n",
       "      <td>59.000</td>\n",
       "      <td>60</td>\n",
       "      <td>65</td>\n",
       "      <td>66.500</td>\n",
       "      <td>68</td>\n",
       "      <td>...</td>\n",
       "      <td>75</td>\n",
       "      <td>55</td>\n",
       "      <td>59.500</td>\n",
       "      <td>64</td>\n",
       "      <td>78</td>\n",
       "      <td>79.000</td>\n",
       "      <td>80</td>\n",
       "      <td>52</td>\n",
       "      <td>56.000</td>\n",
       "      <td>60</td>\n",
       "    </tr>\n",
       "    <tr>\n",
       "      <th>3</th>\n",
       "      <td>4</td>\n",
       "      <td>66</td>\n",
       "      <td>76.000</td>\n",
       "      <td>85</td>\n",
       "      <td>70</td>\n",
       "      <td>78.143</td>\n",
       "      <td>85</td>\n",
       "      <td>54</td>\n",
       "      <td>62.429</td>\n",
       "      <td>71</td>\n",
       "      <td>...</td>\n",
       "      <td>74</td>\n",
       "      <td>71</td>\n",
       "      <td>78.571</td>\n",
       "      <td>88</td>\n",
       "      <td>74</td>\n",
       "      <td>79.000</td>\n",
       "      <td>86</td>\n",
       "      <td>46</td>\n",
       "      <td>54.286</td>\n",
       "      <td>72</td>\n",
       "    </tr>\n",
       "    <tr>\n",
       "      <th>4</th>\n",
       "      <td>5</td>\n",
       "      <td>68</td>\n",
       "      <td>70.000</td>\n",
       "      <td>72</td>\n",
       "      <td>82</td>\n",
       "      <td>82.500</td>\n",
       "      <td>83</td>\n",
       "      <td>72</td>\n",
       "      <td>77.500</td>\n",
       "      <td>83</td>\n",
       "      <td>...</td>\n",
       "      <td>67</td>\n",
       "      <td>59</td>\n",
       "      <td>65.000</td>\n",
       "      <td>71</td>\n",
       "      <td>77</td>\n",
       "      <td>80.000</td>\n",
       "      <td>83</td>\n",
       "      <td>31</td>\n",
       "      <td>33.000</td>\n",
       "      <td>35</td>\n",
       "    </tr>\n",
       "    <tr>\n",
       "      <th>5</th>\n",
       "      <td>6</td>\n",
       "      <td>58</td>\n",
       "      <td>69.143</td>\n",
       "      <td>82</td>\n",
       "      <td>61</td>\n",
       "      <td>72.714</td>\n",
       "      <td>90</td>\n",
       "      <td>39</td>\n",
       "      <td>47.143</td>\n",
       "      <td>52</td>\n",
       "      <td>...</td>\n",
       "      <td>72</td>\n",
       "      <td>60</td>\n",
       "      <td>66.286</td>\n",
       "      <td>75</td>\n",
       "      <td>54</td>\n",
       "      <td>72.000</td>\n",
       "      <td>85</td>\n",
       "      <td>35</td>\n",
       "      <td>40.714</td>\n",
       "      <td>47</td>\n",
       "    </tr>\n",
       "  </tbody>\n",
       "</table>\n",
       "<p>6 rows × 22 columns</p>\n",
       "</div>"
      ],
      "text/plain": [
       "   ClusterHierarchical  EVAL_min  EVAL_mean  EVAL_max  DISSATIS_min  \\\n",
       "0                    1        43     57.429        67            51   \n",
       "1                    2        40     53.200        69            37   \n",
       "2                    3        50     57.500        65            58   \n",
       "3                    4        66     76.000        85            70   \n",
       "4                    5        68     70.000        72            82   \n",
       "5                    6        58     69.143        82            61   \n",
       "\n",
       "   DISSATIS_mean  DISSATIS_max  PRIVILEGE_min  PRIVILEGE_mean  PRIVILEGE_max  \\\n",
       "0         58.857            66             30          43.571             52   \n",
       "1         49.400            62             33          46.800             57   \n",
       "2         59.000            60             65          66.500             68   \n",
       "3         78.143            85             54          62.429             71   \n",
       "4         82.500            83             72          77.500             83   \n",
       "5         72.714            90             39          47.143             52   \n",
       "\n",
       "   ...  CHANCE_max  ADVANCE_min  ADVANCE_mean  ADVANCE_max  CRITISM_min  \\\n",
       "0  ...          50           51        59.429           66           74   \n",
       "1  ...          58           43        52.000           58           49   \n",
       "2  ...          75           55        59.500           64           78   \n",
       "3  ...          74           71        78.571           88           74   \n",
       "4  ...          67           59        65.000           71           77   \n",
       "5  ...          72           60        66.286           75           54   \n",
       "\n",
       "   CRITISM_mean  CRITISM_max  PROMOTION_min  PROMOTION_mean  PROMOTION_max  \n",
       "0        81.143           92             33          38.571             45  \n",
       "1        60.000           67             25          35.000             49  \n",
       "2        79.000           80             52          56.000             60  \n",
       "3        79.000           86             46          54.286             72  \n",
       "4        80.000           83             31          33.000             35  \n",
       "5        72.000           85             35          40.714             47  \n",
       "\n",
       "[6 rows x 22 columns]"
      ]
     },
     "execution_count": 39,
     "metadata": {},
     "output_type": "execute_result"
    }
   ],
   "source": [
    "ds_summary_hc=df.groupby('ClusterHierarchical').agg([\"min\",\"mean\",\"max\"])\n",
    "level0=ds_summary_hc.columns.get_level_values(0)\n",
    "level1=ds_summary_hc.columns.get_level_values(1)\n",
    "ds_summary_hc.columns=level0 + \"_\"+level1\n",
    "ds_summary_hc.reset_index(inplace=True)\n",
    "ds_summary_hc.round(3)"
   ]
  },
  {
   "cell_type": "code",
   "execution_count": 21,
   "metadata": {},
   "outputs": [
    {
     "data": {
      "text/html": [
       "<div>\n",
       "<style scoped>\n",
       "    .dataframe tbody tr th:only-of-type {\n",
       "        vertical-align: middle;\n",
       "    }\n",
       "\n",
       "    .dataframe tbody tr th {\n",
       "        vertical-align: top;\n",
       "    }\n",
       "\n",
       "    .dataframe thead th {\n",
       "        text-align: right;\n",
       "    }\n",
       "</style>\n",
       "<table border=\"1\" class=\"dataframe\">\n",
       "  <thead>\n",
       "    <tr style=\"text-align: right;\">\n",
       "      <th></th>\n",
       "      <th>NumberofCluster</th>\n",
       "      <th>Error</th>\n",
       "    </tr>\n",
       "  </thead>\n",
       "  <tbody>\n",
       "    <tr>\n",
       "      <th>0</th>\n",
       "      <td>1</td>\n",
       "      <td>180.000000</td>\n",
       "    </tr>\n",
       "    <tr>\n",
       "      <th>1</th>\n",
       "      <td>2</td>\n",
       "      <td>114.082503</td>\n",
       "    </tr>\n",
       "    <tr>\n",
       "      <th>2</th>\n",
       "      <td>3</td>\n",
       "      <td>94.686983</td>\n",
       "    </tr>\n",
       "    <tr>\n",
       "      <th>3</th>\n",
       "      <td>4</td>\n",
       "      <td>78.828508</td>\n",
       "    </tr>\n",
       "    <tr>\n",
       "      <th>4</th>\n",
       "      <td>5</td>\n",
       "      <td>66.483848</td>\n",
       "    </tr>\n",
       "    <tr>\n",
       "      <th>5</th>\n",
       "      <td>6</td>\n",
       "      <td>57.960779</td>\n",
       "    </tr>\n",
       "    <tr>\n",
       "      <th>6</th>\n",
       "      <td>7</td>\n",
       "      <td>51.187713</td>\n",
       "    </tr>\n",
       "    <tr>\n",
       "      <th>7</th>\n",
       "      <td>8</td>\n",
       "      <td>44.409671</td>\n",
       "    </tr>\n",
       "    <tr>\n",
       "      <th>8</th>\n",
       "      <td>9</td>\n",
       "      <td>37.889941</td>\n",
       "    </tr>\n",
       "    <tr>\n",
       "      <th>9</th>\n",
       "      <td>10</td>\n",
       "      <td>32.526020</td>\n",
       "    </tr>\n",
       "    <tr>\n",
       "      <th>10</th>\n",
       "      <td>11</td>\n",
       "      <td>28.510450</td>\n",
       "    </tr>\n",
       "    <tr>\n",
       "      <th>11</th>\n",
       "      <td>12</td>\n",
       "      <td>26.218962</td>\n",
       "    </tr>\n",
       "    <tr>\n",
       "      <th>12</th>\n",
       "      <td>13</td>\n",
       "      <td>22.444232</td>\n",
       "    </tr>\n",
       "    <tr>\n",
       "      <th>13</th>\n",
       "      <td>14</td>\n",
       "      <td>19.083467</td>\n",
       "    </tr>\n",
       "    <tr>\n",
       "      <th>14</th>\n",
       "      <td>15</td>\n",
       "      <td>16.818064</td>\n",
       "    </tr>\n",
       "  </tbody>\n",
       "</table>\n",
       "</div>"
      ],
      "text/plain": [
       "    NumberofCluster       Error\n",
       "0                 1  180.000000\n",
       "1                 2  114.082503\n",
       "2                 3   94.686983\n",
       "3                 4   78.828508\n",
       "4                 5   66.483848\n",
       "5                 6   57.960779\n",
       "6                 7   51.187713\n",
       "7                 8   44.409671\n",
       "8                 9   37.889941\n",
       "9                10   32.526020\n",
       "10               11   28.510450\n",
       "11               12   26.218962\n",
       "12               13   22.444232\n",
       "13               14   19.083467\n",
       "14               15   16.818064"
      ]
     },
     "execution_count": 21,
     "metadata": {},
     "output_type": "execute_result"
    }
   ],
   "source": [
    "n_iter_cluster = 15\n",
    "cluster_range= [i+1 for i in range(n_iter_cluster)]\n",
    "clus_error=[]\n",
    "for v_n_clus in cluster_range:\n",
    "    clus= KMeans(v_n_clus)\n",
    "    clus.fit(df_raw_x)\n",
    "    \n",
    "    clus_error.append(clus.inertia_)\n",
    "ds_error = pd.DataFrame({\"NumberofCluster\":cluster_range,\"Error\":clus_error})\n",
    "ds_error"
   ]
  },
  {
   "cell_type": "code",
   "execution_count": 24,
   "metadata": {},
   "outputs": [
    {
     "data": {
      "text/plain": [
       "Text(0, 0.5, 'Sum of squared distance')"
      ]
     },
     "execution_count": 24,
     "metadata": {},
     "output_type": "execute_result"
    },
    {
     "data": {
      "image/png": "[encoded data removed]",
      "text/plain": [
       "<Figure size 720x720 with 1 Axes>"
      ]
     },
     "metadata": {
      "needs_background": "light"
     },
     "output_type": "display_data"
    }
   ],
   "source": [
    "plt.figure(figsize=(10,10))\n",
    "plt.plot(ds_error[\"NumberofCluster\"],ds_error[\"Error\"])\n",
    "plt.title(\" Sum of squared distance\")\n",
    "plt.xlabel(\"Clusters\")\n",
    "plt.ylabel(\"Sum of squared distance\")"
   ]
  },
  {
   "cell_type": "code",
   "execution_count": 25,
   "metadata": {},
   "outputs": [],
   "source": [
    "clus=KMeans(5)\n",
    "clus.fit(df_raw_x)\n",
    "cluster_kmeans=[i+1 for i in clus.labels_]\n",
    "df[\"ClusterKmeans\"]"
   ]
  },
  {
   "cell_type": "code",
   "execution_count": null,
   "metadata": {},
   "outputs": [],
   "source": []
  }
 ],
 "metadata": {
  "kernelspec": {
   "display_name": "Python 3",
   "language": "python",
   "name": "python3"
  },
  "language_info": {
   "codemirror_mode": {
    "name": "ipython",
    "version": 3
   },
   "file_extension": ".py",
   "mimetype": "text/x-python",
   "name": "python",
   "nbconvert_exporter": "python",
   "pygments_lexer": "ipython3",
   "version": "3.8.3"
  }
 },
 "nbformat": 4,
 "nbformat_minor": 4
}
