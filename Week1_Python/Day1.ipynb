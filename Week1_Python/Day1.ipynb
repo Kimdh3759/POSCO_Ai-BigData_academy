{
  "nbformat": 4,
  "nbformat_minor": 0,
  "metadata": {
    "colab": {
      "name": "과제실습1",
      "provenance": []
    },
    "kernelspec": {
      "name": "python3",
      "display_name": "Python 3"
    }
  },
  "cells": [
    {
      "cell_type": "markdown",
      "metadata": {
        "id": "d3VDR3yFB9aB"
      },
      "source": [
        "문제 1\n"
      ]
    },
    {
      "cell_type": "code",
      "metadata": {
        "id": "C0goSstsB0ww",
        "outputId": "a1c6e832-a09e-4d51-b52c-ec5103d3b576",
        "colab": {
          "base_uri": "https://localhost:8080/"
        }
      },
      "source": [
        "F=int(input(\"화씨온도: \"))\n",
        "print(\"섭씨온도: %f\"%((F-32)*5/9))"
      ],
      "execution_count": null,
      "outputs": [
        {
          "output_type": "stream",
          "text": [
            "화씨온도: 100\n",
            "섭씨온도: 37.777778\n"
          ],
          "name": "stdout"
        }
      ]
    },
    {
      "cell_type": "markdown",
      "metadata": {
        "id": "yra3BjegCs33"
      },
      "source": [
        "문제 2"
      ]
    },
    {
      "cell_type": "code",
      "metadata": {
        "id": "U11Vt3NkCutx",
        "outputId": "c9d4c042-fadf-4650-a385-e051bc6f43a1",
        "colab": {
          "base_uri": "https://localhost:8080/"
        }
      },
      "source": [
        "money= int(input(\"투입한 돈: \"))\n",
        "item = int(input(\"물건값: \"))\n",
        "print(\"500원짜리: %d개\"%((money-item)//500))\n",
        "print(\"100원짜리: %d개\"%(((money-item)%500)//100))"
      ],
      "execution_count": null,
      "outputs": [
        {
          "output_type": "stream",
          "text": [
            "투입한 돈: 5000\n",
            "물건값: 2700\n",
            "500원짜리: 4개\n",
            "100원짜리: 3개\n"
          ],
          "name": "stdout"
        }
      ]
    },
    {
      "cell_type": "markdown",
      "metadata": {
        "id": "GfaWp8OpDjzO"
      },
      "source": [
        "문제3"
      ]
    },
    {
      "cell_type": "code",
      "metadata": {
        "id": "if4DDLIcDlOX",
        "outputId": "c8dc7526-85c9-4087-f5bd-0d06ab6ffdfc",
        "colab": {
          "base_uri": "https://localhost:8080/"
        }
      },
      "source": [
        "radius= int(input(\"반지름을 입력하시오: \"))\n",
        "pi =3.141592\n",
        "print(\"원 둘레: %.2f\"%(2*pi*radius))\n",
        "print(\"원 넓이: %.2f\"%(pi*radius**2))\n"
      ],
      "execution_count": null,
      "outputs": [
        {
          "output_type": "stream",
          "text": [
            "반지름을 입력하시오: 5\n",
            "원 둘레: 31.42\n",
            "원 넓이: 78.54\n"
          ],
          "name": "stdout"
        }
      ]
    },
    {
      "cell_type": "markdown",
      "metadata": {
        "id": "4ZrezjJEB0XX"
      },
      "source": [
        "문제4"
      ]
    },
    {
      "cell_type": "code",
      "metadata": {
        "id": "AJ7IeJ_E9Tm9",
        "outputId": "18f14a2a-35b1-46a4-9be9-36c18f5be619",
        "colab": {
          "base_uri": "https://localhost:8080/"
        }
      },
      "source": [
        "numbers=input('Enter two integers: ')"
      ],
      "execution_count": null,
      "outputs": [
        {
          "output_type": "stream",
          "text": [
            "Enter two integers: 8 5\n"
          ],
          "name": "stdout"
        }
      ]
    },
    {
      "cell_type": "code",
      "metadata": {
        "id": "s4gxJfwh9ffr"
      },
      "source": [
        "a,b =map(int,numbers.split())"
      ],
      "execution_count": null,
      "outputs": []
    },
    {
      "cell_type": "code",
      "metadata": {
        "id": "GtLn8JEQ-b0i",
        "outputId": "0b23b74a-32e5-4d23-dd3c-8d05b4fbecf0",
        "colab": {
          "base_uri": "https://localhost:8080/"
        }
      },
      "source": [
        "print(\"%s \"\"+\"\" %s\" \" =\" \" %s\"%(a,b,a+b))\n",
        "print(\"%s \"\"-\"\" %s\" \" =\" \" %s\"%(a,b,a-b))\n",
        "print(\"%s \"\"*\"\" %s\" \" =\" \" %s\"%(a,b,a*b))\n",
        "print(\"%s \"\"/\"\" %s\" \" =\" \" %s\"%(a,b,a/b))\n",
        "print(\"%s \"\"%%\"\" %s\" \" =\" \" %s\"%(a,b,a%b))"
      ],
      "execution_count": null,
      "outputs": [
        {
          "output_type": "stream",
          "text": [
            "8 + 5 = 13\n",
            "8 - 5 = 3\n",
            "8 * 5 = 40\n",
            "8 / 5 = 1.6\n",
            "8 % 5 = 3\n"
          ],
          "name": "stdout"
        }
      ]
    },
    {
      "cell_type": "markdown",
      "metadata": {
        "id": "KiWFy6EUAnUo"
      },
      "source": [
        "문제5"
      ]
    },
    {
      "cell_type": "code",
      "metadata": {
        "id": "FEpQvgTF-tvy",
        "outputId": "9f1303d2-076e-4f71-b0f9-a328a10c3cb1",
        "colab": {
          "base_uri": "https://localhost:8080/"
        }
      },
      "source": [
        "numbers = input('Enter two integers:')"
      ],
      "execution_count": null,
      "outputs": [
        {
          "output_type": "stream",
          "text": [
            "Enter two integers:70 91\n"
          ],
          "name": "stdout"
        }
      ]
    },
    {
      "cell_type": "code",
      "metadata": {
        "id": "MJKhPGTI-9J_"
      },
      "source": [
        "a,b = map(int, numbers.split())"
      ],
      "execution_count": null,
      "outputs": []
    },
    {
      "cell_type": "code",
      "metadata": {
        "id": "0bmrp81EAw0e",
        "outputId": "e01a9628-7828-49cc-f238-84d2d493ab06",
        "colab": {
          "base_uri": "https://localhost:8080/"
        }
      },
      "source": [
        "print(\"The sum of %d and %d is %d\"%(a,b,a+b))\n",
        "print(\"The average of numbers is %.1f\"%((a+b)/2))"
      ],
      "execution_count": null,
      "outputs": [
        {
          "output_type": "stream",
          "text": [
            "The sum of 70 and 91 is 161\n",
            "The average of numbers is 80.5\n"
          ],
          "name": "stdout"
        }
      ]
    },
    {
      "cell_type": "markdown",
      "metadata": {
        "id": "taTau8KcB5vk"
      },
      "source": [
        "문제 6"
      ]
    },
    {
      "cell_type": "code",
      "metadata": {
        "id": "-N73s3kDBC5b",
        "outputId": "52331c13-467d-4414-c27e-cb831cb80df7",
        "colab": {
          "base_uri": "https://localhost:8080/"
        }
      },
      "source": [
        "date = input('날짜(연/월/일)입력: ')\n"
      ],
      "execution_count": null,
      "outputs": [
        {
          "output_type": "stream",
          "text": [
            "날짜(연/월/일)입력: 2020/11/02\n"
          ],
          "name": "stdout"
        }
      ]
    },
    {
      "cell_type": "code",
      "metadata": {
        "id": "dgsX-tKUBWnJ"
      },
      "source": [
        "year,month,day = map(int, date.split('/'))"
      ],
      "execution_count": null,
      "outputs": []
    },
    {
      "cell_type": "code",
      "metadata": {
        "id": "KgyB2ARzBgSu",
        "outputId": "30ee0d80-a089-4def-9433-2481563ae248",
        "colab": {
          "base_uri": "https://localhost:8080/"
        }
      },
      "source": [
        "print(\"입력한 날짜의 10년 후는 %d년 %d월 %d일\"%(year+10,month,day))"
      ],
      "execution_count": null,
      "outputs": [
        {
          "output_type": "stream",
          "text": [
            "입력한 날짜의 10년 후는 2030년 11월 2일\n"
          ],
          "name": "stdout"
        }
      ]
    },
    {
      "cell_type": "code",
      "metadata": {
        "id": "GCu74m5_BvVe"
      },
      "source": [
        ""
      ],
      "execution_count": null,
      "outputs": []
    }
  ]
}