{
 "cells": [
  {
   "cell_type": "markdown",
   "metadata": {},
   "source": [
    "# 종합실습_배경\n",
    "### 분석배경: xx공자의 고객사에서 최근 들어 \"Scale 불랴 발생 증가\"라는 이슈가 발생했다. \n",
    "### 그 원인을 분석해 본 결과 압연공정에서 Scale 불량이 급증한 것을 확인할 수 있었다. \n",
    "### 그래서 데이터를 수집하여 다양한 분석을 통해 불량 발생의 근본 원인을 찾고 결과를 해석하여 개선 기회를 도출한다."
   ]
  },
  {
   "cell_type": "markdown",
   "metadata": {},
   "source": [
    "# 1. 모듈 import "
   ]
  },
  {
   "cell_type": "code",
   "execution_count": 55,
   "metadata": {},
   "outputs": [
    {
     "data": {
      "text/html": [
       "<style>.container { width:100% !important; }</style>"
      ],
      "text/plain": [
       "<IPython.core.display.HTML object>"
      ]
     },
     "metadata": {},
     "output_type": "display_data"
    }
   ],
   "source": [
    "import pandas as pd\n",
    "import numpy as np\n",
    "from sklearn.preprocessing import scale,minmax_scale,robust_scale\n",
    "#%matplotlib inline background 그래프 실행 및 결과 확인\n",
    "import pandas as pd\n",
    "import numpy as np\n",
    "import matplotlib\n",
    "import matplotlib.pyplot as plt\n",
    "import seaborn as sns\n",
    "from statsmodels.formula.api import ols\n",
    "from statsmodels.api import qqplot, add_constant\n",
    "import statsmodels.formula.api as smf\n",
    "from statsmodels.tools.eval_measures import rmse\n",
    "#예측\n",
    "from sklearn.tree import export_graphviz \n",
    "\n",
    "from sklearn.model_selection import train_test_split\n",
    "from sklearn.tree import DecisionTreeRegressor\n",
    "from sklearn.ensemble import RandomForestRegressor as RFR\n",
    "from sklearn.ensemble import GradientBoostingRegressor\n",
    "from sklearn.model_selection import GridSearchCV\n",
    "#평가함수\n",
    "from sklearn.metrics import mean_squared_error\n",
    "from sklearn.metrics import mean_absolute_error\n",
    "from sklearn.metrics import accuracy_score\n",
    "#모델 성능 평가\n",
    "from sklearn.tree import DecisionTreeClassifier\n",
    "from sklearn.ensemble import RandomForestClassifier\n",
    "from sklearn.ensemble import GradientBoostingClassifier\n",
    "#confusion matrix\n",
    "from sklearn.metrics import confusion_matrix\n",
    "\n",
    "#Scale 변환:평균,표준편차 기준\n",
    "from sklearn.preprocessing import StandardScaler\n",
    "#주성분 분석\n",
    "from sklearn.decomposition import PCA\n",
    "#회귀분석\n",
    "import statsmodels.api as sm\n",
    "#RMSE:root mean squared error 함수\n",
    "def root_mean_squared_error(y_true,y_pred):\n",
    "    return np.sqrt(mean_squared_error(y_true,y_pred))\n",
    "#MAPE:mean absolute percentage error 함수\n",
    "def mean_absolute_percentage_error(y_true,y_pred):\n",
    "    return np.mean(np.abs((y_true-y_pred)/y_true))*100\n",
    "#분류 : KNN\n",
    "from sklearn.neighbors import KNeighborsClassifier\n",
    "#로지스틱 회귀\n",
    "from statsmodels.api import Logit\n",
    "#데이터 분항\n",
    "from sklearn.model_selection import train_test_split\n",
    "from sklearn.svm import SVC\n",
    "from sklearn.neural_network import MLPClassifier\n",
    "from sklearn.metrics import confusion_matrix\n",
    "from IPython.core.display import display, HTML\n",
    "display(HTML(\"<style>.container { width:100% !important; }</style>\"))\n",
    "import os\n",
    "import graphviz\n",
    "\n",
    "plt.rcParams['font.family']='NanumGothic'"
   ]
  },
  {
   "cell_type": "markdown",
   "metadata": {},
   "source": [
    "# STEP 2. 데이터 불러오기 "
   ]
  },
  {
   "cell_type": "code",
   "execution_count": 56,
   "metadata": {},
   "outputs": [
    {
     "data": {
      "text/html": [
       "<div>\n",
       "<style scoped>\n",
       "    .dataframe tbody tr th:only-of-type {\n",
       "        vertical-align: middle;\n",
       "    }\n",
       "\n",
       "    .dataframe tbody tr th {\n",
       "        vertical-align: top;\n",
       "    }\n",
       "\n",
       "    .dataframe thead th {\n",
       "        text-align: right;\n",
       "    }\n",
       "</style>\n",
       "<table border=\"1\" class=\"dataframe\">\n",
       "  <thead>\n",
       "    <tr style=\"text-align: right;\">\n",
       "      <th></th>\n",
       "      <th>PLATE_NO</th>\n",
       "      <th>ROLLING_DATE</th>\n",
       "      <th>SCALE</th>\n",
       "      <th>SPEC</th>\n",
       "      <th>STEEL_KIND</th>\n",
       "      <th>PT_THK</th>\n",
       "      <th>PT_WDTH</th>\n",
       "      <th>PT_LTH</th>\n",
       "      <th>PT_WGT</th>\n",
       "      <th>FUR_NO</th>\n",
       "      <th>...</th>\n",
       "      <th>FUR_HZ_TEMP</th>\n",
       "      <th>FUR_HZ_TIME</th>\n",
       "      <th>FUR_SZ_TEMP</th>\n",
       "      <th>FUR_SZ_TIME</th>\n",
       "      <th>FUR_TIME</th>\n",
       "      <th>FUR_EXTEMP</th>\n",
       "      <th>ROLLING_TEMP_T5</th>\n",
       "      <th>HSB</th>\n",
       "      <th>ROLLING_DESCALING</th>\n",
       "      <th>WORK_GR</th>\n",
       "    </tr>\n",
       "  </thead>\n",
       "  <tbody>\n",
       "    <tr>\n",
       "      <th>0</th>\n",
       "      <td>PB562774</td>\n",
       "      <td>2008-08-01:00:00:15</td>\n",
       "      <td>양품</td>\n",
       "      <td>AB/EH32-TM</td>\n",
       "      <td>T1</td>\n",
       "      <td>32.25</td>\n",
       "      <td>3707</td>\n",
       "      <td>15109</td>\n",
       "      <td>14180</td>\n",
       "      <td>1호기</td>\n",
       "      <td>...</td>\n",
       "      <td>1144</td>\n",
       "      <td>116</td>\n",
       "      <td>1133</td>\n",
       "      <td>59</td>\n",
       "      <td>282</td>\n",
       "      <td>1133</td>\n",
       "      <td>934</td>\n",
       "      <td>적용</td>\n",
       "      <td>8</td>\n",
       "      <td>2조</td>\n",
       "    </tr>\n",
       "    <tr>\n",
       "      <th>1</th>\n",
       "      <td>PB562775</td>\n",
       "      <td>2008-08-01:00:00:16</td>\n",
       "      <td>양품</td>\n",
       "      <td>AB/EH32-TM</td>\n",
       "      <td>T1</td>\n",
       "      <td>32.25</td>\n",
       "      <td>3707</td>\n",
       "      <td>15109</td>\n",
       "      <td>14180</td>\n",
       "      <td>1호기</td>\n",
       "      <td>...</td>\n",
       "      <td>1144</td>\n",
       "      <td>122</td>\n",
       "      <td>1135</td>\n",
       "      <td>53</td>\n",
       "      <td>283</td>\n",
       "      <td>1135</td>\n",
       "      <td>937</td>\n",
       "      <td>적용</td>\n",
       "      <td>8</td>\n",
       "      <td>2조</td>\n",
       "    </tr>\n",
       "    <tr>\n",
       "      <th>2</th>\n",
       "      <td>PB562776</td>\n",
       "      <td>2008-08-01:00:00:59</td>\n",
       "      <td>양품</td>\n",
       "      <td>NV-E36-TM</td>\n",
       "      <td>T8</td>\n",
       "      <td>33.27</td>\n",
       "      <td>3619</td>\n",
       "      <td>19181</td>\n",
       "      <td>18130</td>\n",
       "      <td>2호기</td>\n",
       "      <td>...</td>\n",
       "      <td>1129</td>\n",
       "      <td>116</td>\n",
       "      <td>1121</td>\n",
       "      <td>55</td>\n",
       "      <td>282</td>\n",
       "      <td>1121</td>\n",
       "      <td>889</td>\n",
       "      <td>적용</td>\n",
       "      <td>8</td>\n",
       "      <td>3조</td>\n",
       "    </tr>\n",
       "    <tr>\n",
       "      <th>3</th>\n",
       "      <td>PB562777</td>\n",
       "      <td>2008-08-01:00:01:24</td>\n",
       "      <td>양품</td>\n",
       "      <td>NV-E36-TM</td>\n",
       "      <td>T8</td>\n",
       "      <td>33.27</td>\n",
       "      <td>3619</td>\n",
       "      <td>19181</td>\n",
       "      <td>18130</td>\n",
       "      <td>2호기</td>\n",
       "      <td>...</td>\n",
       "      <td>1152</td>\n",
       "      <td>125</td>\n",
       "      <td>1127</td>\n",
       "      <td>68</td>\n",
       "      <td>316</td>\n",
       "      <td>1127</td>\n",
       "      <td>885</td>\n",
       "      <td>적용</td>\n",
       "      <td>8</td>\n",
       "      <td>3조</td>\n",
       "    </tr>\n",
       "    <tr>\n",
       "      <th>4</th>\n",
       "      <td>PB562778</td>\n",
       "      <td>2008-08-01:00:01:44</td>\n",
       "      <td>양품</td>\n",
       "      <td>BV-EH36-TM</td>\n",
       "      <td>T8</td>\n",
       "      <td>38.33</td>\n",
       "      <td>3098</td>\n",
       "      <td>13334</td>\n",
       "      <td>12430</td>\n",
       "      <td>3호기</td>\n",
       "      <td>...</td>\n",
       "      <td>1140</td>\n",
       "      <td>134</td>\n",
       "      <td>1128</td>\n",
       "      <td>48</td>\n",
       "      <td>314</td>\n",
       "      <td>1128</td>\n",
       "      <td>873</td>\n",
       "      <td>적용</td>\n",
       "      <td>8</td>\n",
       "      <td>1조</td>\n",
       "    </tr>\n",
       "  </tbody>\n",
       "</table>\n",
       "<p>5 rows × 21 columns</p>\n",
       "</div>"
      ],
      "text/plain": [
       "   PLATE_NO         ROLLING_DATE SCALE        SPEC STEEL_KIND  PT_THK  \\\n",
       "0  PB562774  2008-08-01:00:00:15    양품  AB/EH32-TM         T1   32.25   \n",
       "1  PB562775  2008-08-01:00:00:16    양품  AB/EH32-TM         T1   32.25   \n",
       "2  PB562776  2008-08-01:00:00:59    양품   NV-E36-TM         T8   33.27   \n",
       "3  PB562777  2008-08-01:00:01:24    양품   NV-E36-TM         T8   33.27   \n",
       "4  PB562778  2008-08-01:00:01:44    양품  BV-EH36-TM         T8   38.33   \n",
       "\n",
       "   PT_WDTH  PT_LTH  PT_WGT FUR_NO  ...  FUR_HZ_TEMP  FUR_HZ_TIME  FUR_SZ_TEMP  \\\n",
       "0     3707   15109   14180    1호기  ...         1144          116         1133   \n",
       "1     3707   15109   14180    1호기  ...         1144          122         1135   \n",
       "2     3619   19181   18130    2호기  ...         1129          116         1121   \n",
       "3     3619   19181   18130    2호기  ...         1152          125         1127   \n",
       "4     3098   13334   12430    3호기  ...         1140          134         1128   \n",
       "\n",
       "   FUR_SZ_TIME  FUR_TIME  FUR_EXTEMP  ROLLING_TEMP_T5  HSB ROLLING_DESCALING  \\\n",
       "0           59       282        1133              934   적용                 8   \n",
       "1           53       283        1135              937   적용                 8   \n",
       "2           55       282        1121              889   적용                 8   \n",
       "3           68       316        1127              885   적용                 8   \n",
       "4           48       314        1128              873   적용                 8   \n",
       "\n",
       "   WORK_GR  \n",
       "0       2조  \n",
       "1       2조  \n",
       "2       3조  \n",
       "3       3조  \n",
       "4       1조  \n",
       "\n",
       "[5 rows x 21 columns]"
      ]
     },
     "execution_count": 56,
     "metadata": {},
     "output_type": "execute_result"
    }
   ],
   "source": [
    "\n",
    "df=pd.read_csv(\"/home/piai/Desktop/POSCO_Ai-BigData_academy/Week2_BigData/실습파일/SCALE불량.csv\",engine=\"python\",encoding='cp949')\n",
    "# 데이터 불러오기 한글이 포함되있어서 engine = \"python\" 및 추가로 encoding = \"cp949\"를 하여 한글을 출력하였다.\n",
    "df.head()\n",
    "# 데이터의 앞부분 5개를 head() 함수를 이용하여 불러온 모습"
   ]
  },
  {
   "cell_type": "code",
   "execution_count": 57,
   "metadata": {},
   "outputs": [
    {
     "data": {
      "text/html": [
       "<div>\n",
       "<style scoped>\n",
       "    .dataframe tbody tr th:only-of-type {\n",
       "        vertical-align: middle;\n",
       "    }\n",
       "\n",
       "    .dataframe tbody tr th {\n",
       "        vertical-align: top;\n",
       "    }\n",
       "\n",
       "    .dataframe thead th {\n",
       "        text-align: right;\n",
       "    }\n",
       "</style>\n",
       "<table border=\"1\" class=\"dataframe\">\n",
       "  <thead>\n",
       "    <tr style=\"text-align: right;\">\n",
       "      <th></th>\n",
       "      <th>PLATE_NO</th>\n",
       "      <th>ROLLING_DATE</th>\n",
       "      <th>SCALE</th>\n",
       "      <th>SPEC</th>\n",
       "      <th>STEEL_KIND</th>\n",
       "      <th>PT_THK</th>\n",
       "      <th>PT_WDTH</th>\n",
       "      <th>PT_LTH</th>\n",
       "      <th>PT_WGT</th>\n",
       "      <th>FUR_NO</th>\n",
       "      <th>...</th>\n",
       "      <th>FUR_HZ_TEMP</th>\n",
       "      <th>FUR_HZ_TIME</th>\n",
       "      <th>FUR_SZ_TEMP</th>\n",
       "      <th>FUR_SZ_TIME</th>\n",
       "      <th>FUR_TIME</th>\n",
       "      <th>FUR_EXTEMP</th>\n",
       "      <th>ROLLING_TEMP_T5</th>\n",
       "      <th>HSB</th>\n",
       "      <th>ROLLING_DESCALING</th>\n",
       "      <th>WORK_GR</th>\n",
       "    </tr>\n",
       "  </thead>\n",
       "  <tbody>\n",
       "    <tr>\n",
       "      <th>715</th>\n",
       "      <td>PB563502</td>\n",
       "      <td>2008-08-02:13:35:36</td>\n",
       "      <td>불량</td>\n",
       "      <td>NK-KA</td>\n",
       "      <td>C0</td>\n",
       "      <td>20.14</td>\n",
       "      <td>3580</td>\n",
       "      <td>38639</td>\n",
       "      <td>21870</td>\n",
       "      <td>3호기</td>\n",
       "      <td>...</td>\n",
       "      <td>1172</td>\n",
       "      <td>72</td>\n",
       "      <td>1164</td>\n",
       "      <td>62</td>\n",
       "      <td>245</td>\n",
       "      <td>1164</td>\n",
       "      <td>1005</td>\n",
       "      <td>적용</td>\n",
       "      <td>8</td>\n",
       "      <td>2조</td>\n",
       "    </tr>\n",
       "    <tr>\n",
       "      <th>716</th>\n",
       "      <td>PB563503</td>\n",
       "      <td>2008-08-02:13:35:02</td>\n",
       "      <td>양품</td>\n",
       "      <td>NV-A32</td>\n",
       "      <td>C0</td>\n",
       "      <td>15.08</td>\n",
       "      <td>3212</td>\n",
       "      <td>48233</td>\n",
       "      <td>18340</td>\n",
       "      <td>2호기</td>\n",
       "      <td>...</td>\n",
       "      <td>1150</td>\n",
       "      <td>61</td>\n",
       "      <td>1169</td>\n",
       "      <td>61</td>\n",
       "      <td>238</td>\n",
       "      <td>1169</td>\n",
       "      <td>947</td>\n",
       "      <td>적용</td>\n",
       "      <td>10</td>\n",
       "      <td>1조</td>\n",
       "    </tr>\n",
       "    <tr>\n",
       "      <th>717</th>\n",
       "      <td>PB563504</td>\n",
       "      <td>2008-08-02:14:40:00</td>\n",
       "      <td>양품</td>\n",
       "      <td>NV-A32</td>\n",
       "      <td>C0</td>\n",
       "      <td>16.60</td>\n",
       "      <td>3441</td>\n",
       "      <td>43688</td>\n",
       "      <td>19590</td>\n",
       "      <td>2호기</td>\n",
       "      <td>...</td>\n",
       "      <td>1169</td>\n",
       "      <td>65</td>\n",
       "      <td>1163</td>\n",
       "      <td>77</td>\n",
       "      <td>247</td>\n",
       "      <td>1163</td>\n",
       "      <td>948</td>\n",
       "      <td>적용</td>\n",
       "      <td>10</td>\n",
       "      <td>4조</td>\n",
       "    </tr>\n",
       "    <tr>\n",
       "      <th>718</th>\n",
       "      <td>PB563505</td>\n",
       "      <td>2008-08-02:13:35:19</td>\n",
       "      <td>양품</td>\n",
       "      <td>LR-A</td>\n",
       "      <td>C0</td>\n",
       "      <td>15.59</td>\n",
       "      <td>3363</td>\n",
       "      <td>48740</td>\n",
       "      <td>80240</td>\n",
       "      <td>3호기</td>\n",
       "      <td>...</td>\n",
       "      <td>1179</td>\n",
       "      <td>86</td>\n",
       "      <td>1163</td>\n",
       "      <td>45</td>\n",
       "      <td>243</td>\n",
       "      <td>1163</td>\n",
       "      <td>940</td>\n",
       "      <td>적용</td>\n",
       "      <td>10</td>\n",
       "      <td>2조</td>\n",
       "    </tr>\n",
       "    <tr>\n",
       "      <th>719</th>\n",
       "      <td>PB563506</td>\n",
       "      <td>2008-08-02:14:40:53</td>\n",
       "      <td>양품</td>\n",
       "      <td>GL-A32</td>\n",
       "      <td>C0</td>\n",
       "      <td>16.09</td>\n",
       "      <td>3400</td>\n",
       "      <td>54209</td>\n",
       "      <td>69840</td>\n",
       "      <td>3호기</td>\n",
       "      <td>...</td>\n",
       "      <td>1186</td>\n",
       "      <td>82</td>\n",
       "      <td>1169</td>\n",
       "      <td>45</td>\n",
       "      <td>239</td>\n",
       "      <td>1169</td>\n",
       "      <td>957</td>\n",
       "      <td>적용</td>\n",
       "      <td>10</td>\n",
       "      <td>2조</td>\n",
       "    </tr>\n",
       "  </tbody>\n",
       "</table>\n",
       "<p>5 rows × 21 columns</p>\n",
       "</div>"
      ],
      "text/plain": [
       "     PLATE_NO         ROLLING_DATE SCALE    SPEC STEEL_KIND  PT_THK  PT_WDTH  \\\n",
       "715  PB563502  2008-08-02:13:35:36    불량   NK-KA         C0   20.14     3580   \n",
       "716  PB563503  2008-08-02:13:35:02    양품  NV-A32         C0   15.08     3212   \n",
       "717  PB563504  2008-08-02:14:40:00    양품  NV-A32         C0   16.60     3441   \n",
       "718  PB563505  2008-08-02:13:35:19    양품    LR-A         C0   15.59     3363   \n",
       "719  PB563506  2008-08-02:14:40:53    양품  GL-A32         C0   16.09     3400   \n",
       "\n",
       "     PT_LTH  PT_WGT FUR_NO  ...  FUR_HZ_TEMP  FUR_HZ_TIME  FUR_SZ_TEMP  \\\n",
       "715   38639   21870    3호기  ...         1172           72         1164   \n",
       "716   48233   18340    2호기  ...         1150           61         1169   \n",
       "717   43688   19590    2호기  ...         1169           65         1163   \n",
       "718   48740   80240    3호기  ...         1179           86         1163   \n",
       "719   54209   69840    3호기  ...         1186           82         1169   \n",
       "\n",
       "     FUR_SZ_TIME  FUR_TIME  FUR_EXTEMP  ROLLING_TEMP_T5  HSB  \\\n",
       "715           62       245        1164             1005   적용   \n",
       "716           61       238        1169              947   적용   \n",
       "717           77       247        1163              948   적용   \n",
       "718           45       243        1163              940   적용   \n",
       "719           45       239        1169              957   적용   \n",
       "\n",
       "    ROLLING_DESCALING  WORK_GR  \n",
       "715                 8       2조  \n",
       "716                10       1조  \n",
       "717                10       4조  \n",
       "718                10       2조  \n",
       "719                10       2조  \n",
       "\n",
       "[5 rows x 21 columns]"
      ]
     },
     "execution_count": 57,
     "metadata": {},
     "output_type": "execute_result"
    }
   ],
   "source": [
    "df.tail()\n",
    "# 데이터의 뒷부분 5개를 tail() 함수를 이용하여 불러온 모습"
   ]
  },
  {
   "cell_type": "code",
   "execution_count": 58,
   "metadata": {},
   "outputs": [
    {
     "data": {
      "text/html": [
       "<div>\n",
       "<style scoped>\n",
       "    .dataframe tbody tr th:only-of-type {\n",
       "        vertical-align: middle;\n",
       "    }\n",
       "\n",
       "    .dataframe tbody tr th {\n",
       "        vertical-align: top;\n",
       "    }\n",
       "\n",
       "    .dataframe thead th {\n",
       "        text-align: right;\n",
       "    }\n",
       "</style>\n",
       "<table border=\"1\" class=\"dataframe\">\n",
       "  <thead>\n",
       "    <tr style=\"text-align: right;\">\n",
       "      <th></th>\n",
       "      <th>PT_THK</th>\n",
       "      <th>PT_WDTH</th>\n",
       "      <th>PT_LTH</th>\n",
       "      <th>PT_WGT</th>\n",
       "      <th>FUR_NO_ROW</th>\n",
       "      <th>FUR_HZ_TEMP</th>\n",
       "      <th>FUR_HZ_TIME</th>\n",
       "      <th>FUR_SZ_TEMP</th>\n",
       "      <th>FUR_SZ_TIME</th>\n",
       "      <th>FUR_TIME</th>\n",
       "      <th>FUR_EXTEMP</th>\n",
       "      <th>ROLLING_TEMP_T5</th>\n",
       "      <th>ROLLING_DESCALING</th>\n",
       "    </tr>\n",
       "  </thead>\n",
       "  <tbody>\n",
       "    <tr>\n",
       "      <th>count</th>\n",
       "      <td>720.000000</td>\n",
       "      <td>720.000000</td>\n",
       "      <td>720.000000</td>\n",
       "      <td>720.000000</td>\n",
       "      <td>720.000000</td>\n",
       "      <td>720.000000</td>\n",
       "      <td>720.000000</td>\n",
       "      <td>720.000000</td>\n",
       "      <td>720.000000</td>\n",
       "      <td>720.000000</td>\n",
       "      <td>720.000000</td>\n",
       "      <td>720.000000</td>\n",
       "      <td>720.000000</td>\n",
       "    </tr>\n",
       "    <tr>\n",
       "      <th>mean</th>\n",
       "      <td>29.267857</td>\n",
       "      <td>2807.127778</td>\n",
       "      <td>34323.269444</td>\n",
       "      <td>41481.777778</td>\n",
       "      <td>1.497222</td>\n",
       "      <td>1155.338889</td>\n",
       "      <td>88.527778</td>\n",
       "      <td>1149.666667</td>\n",
       "      <td>78.802778</td>\n",
       "      <td>300.563889</td>\n",
       "      <td>1149.666667</td>\n",
       "      <td>933.920833</td>\n",
       "      <td>8.319444</td>\n",
       "    </tr>\n",
       "    <tr>\n",
       "      <th>std</th>\n",
       "      <td>19.152651</td>\n",
       "      <td>517.839690</td>\n",
       "      <td>13828.434837</td>\n",
       "      <td>24751.322015</td>\n",
       "      <td>0.500340</td>\n",
       "      <td>20.866398</td>\n",
       "      <td>37.660799</td>\n",
       "      <td>17.571788</td>\n",
       "      <td>36.421004</td>\n",
       "      <td>45.390303</td>\n",
       "      <td>17.571788</td>\n",
       "      <td>107.863887</td>\n",
       "      <td>1.623252</td>\n",
       "    </tr>\n",
       "    <tr>\n",
       "      <th>min</th>\n",
       "      <td>12.030000</td>\n",
       "      <td>1800.000000</td>\n",
       "      <td>7893.000000</td>\n",
       "      <td>7820.000000</td>\n",
       "      <td>1.000000</td>\n",
       "      <td>1103.000000</td>\n",
       "      <td>43.000000</td>\n",
       "      <td>1113.000000</td>\n",
       "      <td>35.000000</td>\n",
       "      <td>221.000000</td>\n",
       "      <td>1113.000000</td>\n",
       "      <td>0.000000</td>\n",
       "      <td>5.000000</td>\n",
       "    </tr>\n",
       "    <tr>\n",
       "      <th>25%</th>\n",
       "      <td>16.090000</td>\n",
       "      <td>2466.000000</td>\n",
       "      <td>22663.000000</td>\n",
       "      <td>17757.500000</td>\n",
       "      <td>1.000000</td>\n",
       "      <td>1139.000000</td>\n",
       "      <td>65.000000</td>\n",
       "      <td>1132.000000</td>\n",
       "      <td>57.750000</td>\n",
       "      <td>257.000000</td>\n",
       "      <td>1132.000000</td>\n",
       "      <td>889.750000</td>\n",
       "      <td>6.000000</td>\n",
       "    </tr>\n",
       "    <tr>\n",
       "      <th>50%</th>\n",
       "      <td>20.130000</td>\n",
       "      <td>2725.000000</td>\n",
       "      <td>37380.000000</td>\n",
       "      <td>36120.000000</td>\n",
       "      <td>1.000000</td>\n",
       "      <td>1158.000000</td>\n",
       "      <td>75.000000</td>\n",
       "      <td>1155.000000</td>\n",
       "      <td>67.500000</td>\n",
       "      <td>304.000000</td>\n",
       "      <td>1155.000000</td>\n",
       "      <td>951.000000</td>\n",
       "      <td>8.000000</td>\n",
       "    </tr>\n",
       "    <tr>\n",
       "      <th>75%</th>\n",
       "      <td>40.000000</td>\n",
       "      <td>3125.000000</td>\n",
       "      <td>43735.000000</td>\n",
       "      <td>61120.000000</td>\n",
       "      <td>2.000000</td>\n",
       "      <td>1171.000000</td>\n",
       "      <td>101.000000</td>\n",
       "      <td>1164.000000</td>\n",
       "      <td>86.000000</td>\n",
       "      <td>342.000000</td>\n",
       "      <td>1164.000000</td>\n",
       "      <td>994.250000</td>\n",
       "      <td>10.000000</td>\n",
       "    </tr>\n",
       "    <tr>\n",
       "      <th>max</th>\n",
       "      <td>100.340000</td>\n",
       "      <td>4575.000000</td>\n",
       "      <td>54917.000000</td>\n",
       "      <td>115080.000000</td>\n",
       "      <td>2.000000</td>\n",
       "      <td>1206.000000</td>\n",
       "      <td>312.000000</td>\n",
       "      <td>1185.000000</td>\n",
       "      <td>294.000000</td>\n",
       "      <td>398.000000</td>\n",
       "      <td>1185.000000</td>\n",
       "      <td>1078.000000</td>\n",
       "      <td>10.000000</td>\n",
       "    </tr>\n",
       "  </tbody>\n",
       "</table>\n",
       "</div>"
      ],
      "text/plain": [
       "           PT_THK      PT_WDTH        PT_LTH         PT_WGT  FUR_NO_ROW  \\\n",
       "count  720.000000   720.000000    720.000000     720.000000  720.000000   \n",
       "mean    29.267857  2807.127778  34323.269444   41481.777778    1.497222   \n",
       "std     19.152651   517.839690  13828.434837   24751.322015    0.500340   \n",
       "min     12.030000  1800.000000   7893.000000    7820.000000    1.000000   \n",
       "25%     16.090000  2466.000000  22663.000000   17757.500000    1.000000   \n",
       "50%     20.130000  2725.000000  37380.000000   36120.000000    1.000000   \n",
       "75%     40.000000  3125.000000  43735.000000   61120.000000    2.000000   \n",
       "max    100.340000  4575.000000  54917.000000  115080.000000    2.000000   \n",
       "\n",
       "       FUR_HZ_TEMP  FUR_HZ_TIME  FUR_SZ_TEMP  FUR_SZ_TIME    FUR_TIME  \\\n",
       "count   720.000000   720.000000   720.000000   720.000000  720.000000   \n",
       "mean   1155.338889    88.527778  1149.666667    78.802778  300.563889   \n",
       "std      20.866398    37.660799    17.571788    36.421004   45.390303   \n",
       "min    1103.000000    43.000000  1113.000000    35.000000  221.000000   \n",
       "25%    1139.000000    65.000000  1132.000000    57.750000  257.000000   \n",
       "50%    1158.000000    75.000000  1155.000000    67.500000  304.000000   \n",
       "75%    1171.000000   101.000000  1164.000000    86.000000  342.000000   \n",
       "max    1206.000000   312.000000  1185.000000   294.000000  398.000000   \n",
       "\n",
       "        FUR_EXTEMP  ROLLING_TEMP_T5  ROLLING_DESCALING  \n",
       "count   720.000000       720.000000         720.000000  \n",
       "mean   1149.666667       933.920833           8.319444  \n",
       "std      17.571788       107.863887           1.623252  \n",
       "min    1113.000000         0.000000           5.000000  \n",
       "25%    1132.000000       889.750000           6.000000  \n",
       "50%    1155.000000       951.000000           8.000000  \n",
       "75%    1164.000000       994.250000          10.000000  \n",
       "max    1185.000000      1078.000000          10.000000  "
      ]
     },
     "execution_count": 58,
     "metadata": {},
     "output_type": "execute_result"
    }
   ],
   "source": [
    "df.describe()\n",
    "# 데이터의 전체 정보를 확인하기 위하여 describe() 를 이용하여 정보를 출력하였다.\n",
    "# 데이터의 갯수는 총 720개이며 21열이 있다."
   ]
  },
  {
   "cell_type": "code",
   "execution_count": 59,
   "metadata": {},
   "outputs": [
    {
     "data": {
      "text/plain": [
       "RangeIndex(start=0, stop=720, step=1)"
      ]
     },
     "execution_count": 59,
     "metadata": {},
     "output_type": "execute_result"
    }
   ],
   "source": [
    "df.index"
   ]
  },
  {
   "cell_type": "code",
   "execution_count": 60,
   "metadata": {},
   "outputs": [
    {
     "data": {
      "text/plain": [
       "PLATE_NO             0\n",
       "ROLLING_DATE         0\n",
       "SCALE                0\n",
       "SPEC                 0\n",
       "STEEL_KIND           0\n",
       "PT_THK               0\n",
       "PT_WDTH              0\n",
       "PT_LTH               0\n",
       "PT_WGT               0\n",
       "FUR_NO               0\n",
       "FUR_NO_ROW           0\n",
       "FUR_HZ_TEMP          0\n",
       "FUR_HZ_TIME          0\n",
       "FUR_SZ_TEMP          0\n",
       "FUR_SZ_TIME          0\n",
       "FUR_TIME             0\n",
       "FUR_EXTEMP           0\n",
       "ROLLING_TEMP_T5      0\n",
       "HSB                  0\n",
       "ROLLING_DESCALING    0\n",
       "WORK_GR              0\n",
       "dtype: int64"
      ]
     },
     "execution_count": 60,
     "metadata": {},
     "output_type": "execute_result"
    }
   ],
   "source": [
    "df.isnull().sum()\n",
    "# 결측값이 있는지 확인하기 위하여 isnull() 함수와 sum() 함수를 이용하여 출력하였다.\n",
    "# 결과적으로 결측값은 존재하지 않았다."
   ]
  },
  {
   "cell_type": "code",
   "execution_count": 61,
   "metadata": {},
   "outputs": [
    {
     "data": {
      "text/plain": [
       "Index(['PLATE_NO', 'ROLLING_DATE', 'SCALE', 'SPEC', 'STEEL_KIND', 'PT_THK',\n",
       "       'PT_WDTH', 'PT_LTH', 'PT_WGT', 'FUR_NO', 'FUR_NO_ROW', 'FUR_HZ_TEMP',\n",
       "       'FUR_HZ_TIME', 'FUR_SZ_TEMP', 'FUR_SZ_TIME', 'FUR_TIME', 'FUR_EXTEMP',\n",
       "       'ROLLING_TEMP_T5', 'HSB', 'ROLLING_DESCALING', 'WORK_GR'],\n",
       "      dtype='object')"
      ]
     },
     "execution_count": 61,
     "metadata": {},
     "output_type": "execute_result"
    }
   ],
   "source": [
    "df.columns\n",
    "# 데이터를 분석하기 위하여 데이터 설명을 추가하였다.\n",
    "# PLATE_NO             Plate ID명 \n",
    "# ROLLING_DATE         작업시간\n",
    "# SCALE                Scale불량   (목표변수) \n",
    "# SPEC                 제품 규격\n",
    "# STEEL_KIND           강종\n",
    "# PT_THK               Plate 두께\n",
    "# PT_WDTH              Plate 폭\n",
    "# PT_LTH               Plate 길이\n",
    "# PT_WGT               Plate 중량\n",
    "# FUR_NO               가열로 호기\n",
    "# FUR_NO_ROW           가열로 작업순번\n",
    "# FUR_HZ_TEMP          가열로 가열대 온도\n",
    "# FUR_HZ_TIME          가열로 가열대 시간\n",
    "# FUR_SZ_TEMP          가열로 균열대 온도\n",
    "# FUR_SZ_TIME          가열로 균열대 시간\n",
    "# FUR_TIME             가열로 시간\n",
    "# FUR_EXTEMP           추출온도\n",
    "# ROLLING_TEMP_T5      압연온도\n",
    "# HSB                  HSB적용(1-적용,0-미적용)\n",
    "# ROLLING_DESCALING    압연 중 Descaling 횟수\n",
    "# WORK_GR              작업조"
   ]
  },
  {
   "cell_type": "code",
   "execution_count": 62,
   "metadata": {},
   "outputs": [],
   "source": [
    "def fun_plot_hist(feature):\n",
    "    plt.hist(df[df[\"SCALE\"]==\"양품\"][feature],label = '양품', alpha = 0.5)\n",
    "    plt.hist(df[df[\"SCALE\"]==\"불량\"][feature],label = '불량', alpha = 0.5)\n",
    "    plt.legend()\n",
    "    \n",
    "    ## 범주형 데이터의 히스토그램을 확인하기 위하여 histgram을 feature를 입력하여 편리하게 사용하기 위하여 만든 함수"
   ]
  },
  {
   "cell_type": "code",
   "execution_count": 63,
   "metadata": {},
   "outputs": [],
   "source": [
    "def bar_chart(feature):\n",
    "    good = df[df['SCALE']=='양품'][feature].value_counts()\n",
    "    bad = df[df['SCALE']==\"불량\"][feature].value_counts()\n",
    "    df_surv = pd.DataFrame([good,bad])\n",
    "    df_surv.index = ['Good','bad']\n",
    "    df_surv.plot(kind='bar',stacked=True, figsize=(10,5))   \n",
    "\n",
    "    ## 범주형 데이터의 수준별 빈도를 확인하기 위하여 bar_chart를 feature를 입력하여 편하게 사용하기 위하여 만든 함수"
   ]
  },
  {
   "cell_type": "code",
   "execution_count": 64,
   "metadata": {
    "scrolled": true
   },
   "outputs": [
    {
     "data": {
      "image/png": "[encoded data removed]",
      "text/plain": [
       "<Figure size 720x360 with 1 Axes>"
      ]
     },
     "metadata": {
      "needs_background": "light"
     },
     "output_type": "display_data"
    }
   ],
   "source": [
    "bar_chart('SPEC')"
   ]
  },
  {
   "cell_type": "code",
   "execution_count": 65,
   "metadata": {},
   "outputs": [
    {
     "data": {
      "image/png": "[encoded data removed]",
      "text/plain": [
       "<Figure size 432x288 with 1 Axes>"
      ]
     },
     "metadata": {
      "needs_background": "light"
     },
     "output_type": "display_data"
    }
   ],
   "source": [
    "fun_plot_hist('SPEC')"
   ]
  },
  {
   "cell_type": "code",
   "execution_count": 66,
   "metadata": {},
   "outputs": [
    {
     "data": {
      "image/png": "[encoded data removed]",
      "text/plain": [
       "<Figure size 720x360 with 1 Axes>"
      ]
     },
     "metadata": {
      "needs_background": "light"
     },
     "output_type": "display_data"
    }
   ],
   "source": [
    "bar_chart('STEEL_KIND')"
   ]
  },
  {
   "cell_type": "code",
   "execution_count": 75,
   "metadata": {
    "scrolled": true
   },
   "outputs": [
    {
     "data": {
      "image/png": "[encoded data removed]",
      "text/plain": [
       "<Figure size 432x288 with 1 Axes>"
      ]
     },
     "metadata": {
      "needs_background": "light"
     },
     "output_type": "display_data"
    }
   ],
   "source": [
    "fun_plot_hist('STEEL_KIND')"
   ]
  },
  {
   "cell_type": "code",
   "execution_count": 68,
   "metadata": {},
   "outputs": [
    {
     "data": {
      "image/png": "[encoded data removed]",
      "text/plain": [
       "<Figure size 720x360 with 1 Axes>"
      ]
     },
     "metadata": {
      "needs_background": "light"
     },
     "output_type": "display_data"
    }
   ],
   "source": [
    "bar_chart('FUR_NO')"
   ]
  },
  {
   "cell_type": "code",
   "execution_count": 74,
   "metadata": {},
   "outputs": [
    {
     "data": {
      "image/png": "[encoded data removed]",
      "text/plain": [
       "<Figure size 432x288 with 1 Axes>"
      ]
     },
     "metadata": {
      "needs_background": "light"
     },
     "output_type": "display_data"
    }
   ],
   "source": [
    "fun_plot_hist(\"FUR_NO\")"
   ]
  },
  {
   "cell_type": "code",
   "execution_count": 70,
   "metadata": {},
   "outputs": [
    {
     "data": {
      "image/png": "[encoded data removed]",
      "text/plain": [
       "<Figure size 720x360 with 1 Axes>"
      ]
     },
     "metadata": {
      "needs_background": "light"
     },
     "output_type": "display_data"
    }
   ],
   "source": [
    "bar_chart('HSB')\n",
    "## HSB를 적용하지 않았을 때 불량발생 확률이 100% 가 나왔다.\n",
    "## HSB 말고 다른 변수가 불량의 요인이기 때문에 이 설명변수는 확실하므로 제거한다."
   ]
  },
  {
   "cell_type": "code",
   "execution_count": 71,
   "metadata": {},
   "outputs": [
    {
     "data": {
      "image/png": "[encoded data removed]",
      "text/plain": [
       "<Figure size 432x288 with 1 Axes>"
      ]
     },
     "metadata": {
      "needs_background": "light"
     },
     "output_type": "display_data"
    }
   ],
   "source": [
    "fun_plot_hist(\"HSB\")"
   ]
  },
  {
   "cell_type": "code",
   "execution_count": 76,
   "metadata": {},
   "outputs": [
    {
     "data": {
      "image/png": "[encoded data removed]",
      "text/plain": [
       "<Figure size 720x360 with 1 Axes>"
      ]
     },
     "metadata": {
      "needs_background": "light"
     },
     "output_type": "display_data"
    }
   ],
   "source": [
    "bar_chart('WORK_GR')\n",
    "# "
   ]
  },
  {
   "cell_type": "code",
   "execution_count": 73,
   "metadata": {},
   "outputs": [
    {
     "data": {
      "image/png": "[encoded data removed]",
      "text/plain": [
       "<Figure size 432x288 with 1 Axes>"
      ]
     },
     "metadata": {
      "needs_background": "light"
     },
     "output_type": "display_data"
    }
   ],
   "source": [
    "fun_plot_hist('WORK_GR')"
   ]
  },
  {
   "cell_type": "code",
   "execution_count": null,
   "metadata": {},
   "outputs": [],
   "source": []
  }
 ],
 "metadata": {
  "kernelspec": {
   "display_name": "Python 3",
   "language": "python",
   "name": "python3"
  },
  "language_info": {
   "codemirror_mode": {
    "name": "ipython",
    "version": 3
   },
   "file_extension": ".py",
   "mimetype": "text/x-python",
   "name": "python",
   "nbconvert_exporter": "python",
   "pygments_lexer": "ipython3",
   "version": "3.8.3"
  }
 },
 "nbformat": 4,
 "nbformat_minor": 4
}
