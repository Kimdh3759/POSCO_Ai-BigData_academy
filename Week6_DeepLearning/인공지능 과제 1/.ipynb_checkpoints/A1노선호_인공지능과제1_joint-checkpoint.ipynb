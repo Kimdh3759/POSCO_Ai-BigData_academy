{
 "cells": [
  {
   "cell_type": "code",
   "execution_count": 1,
   "metadata": {},
   "outputs": [
    {
     "name": "stdout",
     "output_type": "stream",
     "text": [
      "(['imagine', 'all', 'the', 'people'], 29.92030990683549, 114)\n"
     ]
    }
   ],
   "source": [
    "import util\n",
    "import wordsegUtil\n",
    "\n",
    "\n",
    "class JointSegmentationInsertionProblem(util.SearchProblem):\n",
    "    def __init__(self, query, bigramCost, possibleFills):\n",
    "        self.query = query\n",
    "        self.bigramCost = bigramCost\n",
    "        self.possibleFills = possibleFills\n",
    "\n",
    "    def start_state(self):\n",
    "        return 0, wordsegUtil.SENTENCE_BEGIN  # position before which text is reconstructed & previous word\n",
    "\n",
    "    def is_end(self, state):\n",
    "        return state[0] == len(self.query)\n",
    "\n",
    "    def succ_and_cost(self, state):\n",
    "        list_results = []\n",
    "        pos, prev_word = state\n",
    "        for num in range(1, len(self.query) - pos + 1):\n",
    "            collect = self.possibleFills(self.query[pos:pos+num])\n",
    "            for word in collect:\n",
    "                action = word\n",
    "                n_state = (pos+num,word)\n",
    "                cost = self.bigramCost(prev_word, word)\n",
    "                list_results.append((action,n_state,cost))\n",
    "                \n",
    "        return list_results\n",
    "\n",
    "\n",
    "if __name__ == '__main__':\n",
    "    unigramCost, bigramCost = wordsegUtil.makeLanguageModels('leo-will.txt')\n",
    "    smoothCost = wordsegUtil.smoothUnigramAndBigram(unigramCost, bigramCost, 0.2)\n",
    "    possibleFills = wordsegUtil.makeInverseRemovalDictionary('leo-will.txt', 'aeiou')\n",
    "    problem = JointSegmentationInsertionProblem('mgnllthppl', smoothCost, possibleFills)\n",
    "    # problem = JointSegmentationInsertionProblem(wordsegUtil.removeAll('whatsup', 'aeiou'), smoothCost, possibleFills)\n",
    "\n",
    "    # import dynamic_programming_search\n",
    "    # dps = dynamic_programming_search.DynamicProgrammingSearch(verbose=1)\n",
    "    # # dps = dynamic_programming_search.DynamicProgrammingSearch(memory_use=False, verbose=1)\n",
    "    # print(dps.solve(problem))\n",
    "\n",
    "    import uniform_cost_search\n",
    "    ucs = uniform_cost_search.UniformCostSearch(verbose=0)\n",
    "    print(ucs.solve(problem))\n",
    "\n",
    "\n",
    "# === Other Examples ===\n",
    "# \n",
    "# QUERIES_BOTH = [\n",
    "#     'stff',\n",
    "#     'hllthr',\n",
    "#     'thffcrndprncndrw',\n",
    "#     'thstffffcrndprncndrwmntdthrhrssndrdn',\n",
    "#     'whatsup',\n",
    "#     'ipovercarrierpigeon',\n",
    "#     'aeronauticalengineering',\n",
    "#     'themanwiththegoldeneyeball',\n",
    "#     'lightbulbsneedchange',\n",
    "#     'internationalplease',\n",
    "#     'comevisitnaples',\n",
    "#     'somethingintheway',\n",
    "#     'itselementarymydearwatson',\n",
    "#     'itselementarymyqueen',\n",
    "#     'themanandthewoman',\n",
    "#     'nghlrdy',\n",
    "#     'jointmodelingworks',\n",
    "#     'jointmodelingworkssometimes',\n",
    "#     'jointmodelingsometimesworks',\n",
    "#     'rtfclntllgnc',\n",
    "# ]\n"
   ]
  },
  {
   "cell_type": "code",
   "execution_count": null,
   "metadata": {},
   "outputs": [],
   "source": []
  }
 ],
 "metadata": {
  "kernelspec": {
   "display_name": "Python 3",
   "language": "python",
   "name": "python3"
  },
  "language_info": {
   "codemirror_mode": {
    "name": "ipython",
    "version": 3
   },
   "file_extension": ".py",
   "mimetype": "text/x-python",
   "name": "python",
   "nbconvert_exporter": "python",
   "pygments_lexer": "ipython3",
   "version": "3.8.3"
  }
 },
 "nbformat": 4,
 "nbformat_minor": 4
}
