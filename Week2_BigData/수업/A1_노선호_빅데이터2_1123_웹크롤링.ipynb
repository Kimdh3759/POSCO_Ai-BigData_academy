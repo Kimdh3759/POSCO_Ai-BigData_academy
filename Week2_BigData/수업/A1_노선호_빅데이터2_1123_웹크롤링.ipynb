{
 "cells": [
  {
   "cell_type": "markdown",
   "metadata": {},
   "source": [
    "텍스트 분석 \n",
    "- 택스트 분석 개요, 웹구조/HTML 기초, 스크래핑에 대한 이해\n",
    "- 텍스트 전처리, KoNLpy와 NLTK의 활용 이해"
   ]
  },
  {
   "cell_type": "code",
   "execution_count": 5,
   "metadata": {},
   "outputs": [],
   "source": [
    "import requests"
   ]
  },
  {
   "cell_type": "code",
   "execution_count": 6,
   "metadata": {},
   "outputs": [],
   "source": [
    "url = 'https://finance.naver.com/item/main.nhn?code=005930'"
   ]
  },
  {
   "cell_type": "code",
   "execution_count": 10,
   "metadata": {},
   "outputs": [],
   "source": [
    "resp = requests.get(url)"
   ]
  },
  {
   "cell_type": "code",
   "execution_count": 11,
   "metadata": {},
   "outputs": [
    {
     "data": {
      "text/plain": [
       "(<Response [200]>, requests.models.Response)"
      ]
     },
     "execution_count": 11,
     "metadata": {},
     "output_type": "execute_result"
    }
   ],
   "source": [
    "resp, type(resp)"
   ]
  },
  {
   "cell_type": "code",
   "execution_count": 12,
   "metadata": {},
   "outputs": [
    {
     "data": {
      "text/plain": [
       "200"
      ]
     },
     "execution_count": 12,
     "metadata": {},
     "output_type": "execute_result"
    }
   ],
   "source": [
    "resp.status_code"
   ]
  },
  {
   "cell_type": "code",
   "execution_count": 13,
   "metadata": {},
   "outputs": [],
   "source": [
    "html = resp.text"
   ]
  },
  {
   "cell_type": "code",
   "execution_count": 15,
   "metadata": {},
   "outputs": [],
   "source": [
    "from bs4 import BeautifulSoup"
   ]
  },
  {
   "cell_type": "code",
   "execution_count": 16,
   "metadata": {},
   "outputs": [],
   "source": [
    "soup = BeautifulSoup(html, 'html5lib')"
   ]
  },
  {
   "cell_type": "code",
   "execution_count": 21,
   "metadata": {},
   "outputs": [],
   "source": [
    "tag = soup.select('#_per')"
   ]
  },
  {
   "cell_type": "code",
   "execution_count": 24,
   "metadata": {},
   "outputs": [
    {
     "data": {
      "text/plain": [
       "'20.96'"
      ]
     },
     "execution_count": 24,
     "metadata": {},
     "output_type": "execute_result"
    }
   ],
   "source": [
    "tag[0].text"
   ]
  },
  {
   "cell_type": "markdown",
   "metadata": {},
   "source": [
    "##  연습문제"
   ]
  },
  {
   "cell_type": "code",
   "execution_count": 25,
   "metadata": {},
   "outputs": [],
   "source": [
    "html='''\n",
    "\n",
    "<table>\n",
    "    <tr>\n",
    "        <th>재무정보</th>\n",
    "        <th>2018</th>\n",
    "        <th>2019</th>\n",
    "    </tr>\n",
    "    <tr>\n",
    "        <td>매출액</td>\n",
    "        <td>100</td>\n",
    "        <td>200</td>\n",
    "    </tr>\n",
    "<table>\n",
    "\n",
    "\n",
    "'''"
   ]
  },
  {
   "cell_type": "code",
   "execution_count": 26,
   "metadata": {},
   "outputs": [],
   "source": [
    "soup = BeautifulSoup(html, 'html5lib')"
   ]
  },
  {
   "cell_type": "code",
   "execution_count": 27,
   "metadata": {},
   "outputs": [
    {
     "name": "stdout",
     "output_type": "stream",
     "text": [
      "매출액\n",
      "100\n",
      "200\n"
     ]
    }
   ],
   "source": [
    "tag = soup.select('td')\n",
    "for x in tag:\n",
    "    print(x.text)"
   ]
  },
  {
   "cell_type": "code",
   "execution_count": 42,
   "metadata": {},
   "outputs": [
    {
     "data": {
      "text/plain": [
       "'100'"
      ]
     },
     "execution_count": 42,
     "metadata": {},
     "output_type": "execute_result"
    }
   ],
   "source": [
    "s_100 = soup.select('td:nth-child(2)')\n",
    "s_100[0].text"
   ]
  },
  {
   "cell_type": "code",
   "execution_count": null,
   "metadata": {},
   "outputs": [],
   "source": []
  },
  {
   "cell_type": "markdown",
   "metadata": {},
   "source": [
    "### 네이버헤드라인 뉴스를 콘솔창에 출력하라"
   ]
  },
  {
   "cell_type": "code",
   "execution_count": 47,
   "metadata": {},
   "outputs": [],
   "source": [
    "url = 'https://news.naver.com/'\n",
    "headers = {'user-agent': 'Mozilla/5.0'}"
   ]
  },
  {
   "cell_type": "code",
   "execution_count": 48,
   "metadata": {},
   "outputs": [],
   "source": [
    "resp = requests.get(url, headers=headers)"
   ]
  },
  {
   "cell_type": "code",
   "execution_count": 49,
   "metadata": {},
   "outputs": [],
   "source": [
    "html = resp.text"
   ]
  },
  {
   "cell_type": "code",
   "execution_count": 50,
   "metadata": {},
   "outputs": [],
   "source": [
    "soup = BeautifulSoup(html,'html5lib')"
   ]
  },
  {
   "cell_type": "code",
   "execution_count": 51,
   "metadata": {},
   "outputs": [
    {
     "name": "stdout",
     "output_type": "stream",
     "text": [
      "\n",
      "                                        '쓴소리 동지' 박용진, 금태섭에 \"탈당 잉크도 안 말랐다\"\n",
      "                                    \n"
     ]
    }
   ],
   "source": [
    "tag=soup.select('#today_main_news > div.hdline_news > ul > li:nth-child(1) > div.hdline_article_tit > a')\n",
    "for x in tag:\n",
    "    print(x.text)"
   ]
  },
  {
   "cell_type": "code",
   "execution_count": null,
   "metadata": {},
   "outputs": [],
   "source": [
    "#today_main_news > div.hdline_news > ul > li:nth-child(2) > div.hdline_article_tit"
   ]
  },
  {
   "cell_type": "markdown",
   "metadata": {},
   "source": [
    "## 셀레늄을 사용한 스크래핑 "
   ]
  },
  {
   "cell_type": "code",
   "execution_count": 1,
   "metadata": {},
   "outputs": [],
   "source": [
    "from selenium import webdriver"
   ]
  },
  {
   "cell_type": "markdown",
   "metadata": {},
   "source": [
    "#  네이버 사전으로 이동"
   ]
  },
  {
   "cell_type": "code",
   "execution_count": 5,
   "metadata": {},
   "outputs": [],
   "source": [
    "driver=webdriver.Chrome('/home/piai/Downloads/chromedriver')\n",
    "driver.get('https://www.naver.com')\n",
    "\n",
    "## options = webdriverChromeOptions()\n",
    "## options.add_argument('headless')\n",
    "\n",
    "selector = '#query'\n",
    "sear = driver.find_element_by_css_selector(selector).send_keys('포스코')\n",
    "ui = driver.find_element_by_css_selector('#search_btn > span.ico_search_submit')\n",
    "ui.click()"
   ]
  },
  {
   "cell_type": "markdown",
   "metadata": {},
   "source": [
    "# 인터파크 티켓 예제"
   ]
  },
  {
   "cell_type": "code",
   "execution_count": 15,
   "metadata": {},
   "outputs": [
    {
     "name": "stdout",
     "output_type": "stream",
     "text": [
      "국민 코믹 연극 〈오백에 삼십〉 - 대학로 아트포레스트 1관\n"
     ]
    }
   ],
   "source": [
    "from selenium import webdriver\n",
    "\n",
    "# options = webdriver.ChromeOptions()\n",
    "# options.add_argument('headless')\n",
    "\n",
    "driver=webdriver.Chrome('/home/piai/Downloads/chromedriver')\n",
    "driver.get('http://ticket.interpark.com/')\n",
    "\n",
    "\n",
    "selector = '#Nav_SearchWord'\n",
    "driver.find_element_by_css_selector(selector).send_keys('아이유')\n",
    "driver.find_element_by_css_selector('#AllSearch > fieldset > div.box > a > img').click()\n",
    "a=driver.find_element_by_css_selector('#allContent > div.ticketContent > div.searchPanel > ul > li:nth-child(1) > div.col.data > div.itemName > a')\n",
    "print(a.text)\n"
   ]
  },
  {
   "cell_type": "code",
   "execution_count": null,
   "metadata": {},
   "outputs": [],
   "source": []
  }
 ],
 "metadata": {
  "kernelspec": {
   "display_name": "Python 3",
   "language": "python",
   "name": "python3"
  },
  "language_info": {
   "codemirror_mode": {
    "name": "ipython",
    "version": 3
   },
   "file_extension": ".py",
   "mimetype": "text/x-python",
   "name": "python",
   "nbconvert_exporter": "python",
   "pygments_lexer": "ipython3",
   "version": "3.8.3"
  }
 },
 "nbformat": 4,
 "nbformat_minor": 4
}
