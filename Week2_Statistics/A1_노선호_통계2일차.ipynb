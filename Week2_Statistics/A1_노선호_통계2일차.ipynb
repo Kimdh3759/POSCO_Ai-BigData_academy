{
 "cells": [
  {
   "cell_type": "markdown",
   "metadata": {},
   "source": [
    "# A1_노선호_통계2일차"
   ]
  },
  {
   "cell_type": "code",
   "execution_count": 1,
   "metadata": {},
   "outputs": [],
   "source": [
    "import numpy as np\n",
    "from scipy import stats\n",
    "import scipy.stats\n",
    "import pandas as pd\n",
    "import statsmodels.api as sm\n",
    "import matplotlib\n",
    "import matplotlib.pyplot as plt\n",
    "import seaborn as sns\n",
    "from statsmodels.stats.proportion import proportions_ztest\n",
    "%matplotlib inline"
   ]
  },
  {
   "cell_type": "markdown",
   "metadata": {},
   "source": [
    "# [실습] weibull 분포"
   ]
  },
  {
   "cell_type": "code",
   "execution_count": 2,
   "metadata": {},
   "outputs": [
    {
     "name": "stdout",
     "output_type": "stream",
     "text": [
      "P(X<=x): 0.143\n"
     ]
    }
   ],
   "source": [
    "x = 2500\n",
    "alpha= 5.2\n",
    "beta = 2200\n",
    "prob = stats.weibull_min.cdf(x,alpha,scale=beta)\n",
    "print(\"P(X<=x): {:.3f}\".format(1-prob))"
   ]
  },
  {
   "cell_type": "markdown",
   "metadata": {},
   "source": [
    "### 이 제품이 2,500시간 이상 작동할 확률은14.3%이다!"
   ]
  },
  {
   "cell_type": "markdown",
   "metadata": {},
   "source": [
    "# [실습] 이항분포 "
   ]
  },
  {
   "cell_type": "code",
   "execution_count": 3,
   "metadata": {},
   "outputs": [
    {
     "name": "stdout",
     "output_type": "stream",
     "text": [
      "P(X=0)= 0.168\n",
      "P(X=1)= 0.360\n",
      "P(X=2)= 0.309\n",
      "P(X=3)= 0.132\n",
      "P(X=4)= 0.028\n",
      "P(X=5)= 0.002\n"
     ]
    }
   ],
   "source": [
    "n =5\n",
    "for i in range(n+1):\n",
    "    prob = stats.binom.pmf(k=i,n=n,p=0.3)\n",
    "    print(\"P(X={0})= {1:.3f}\".format(i,prob))"
   ]
  },
  {
   "cell_type": "markdown",
   "metadata": {},
   "source": [
    "### 불량대수가 0일 확률은 16.8%이고\n",
    "### 불량대수가 1일 확률은 36.0%이고\n",
    "### 불량대수가 2일 확률은 30.9%이고\n",
    "### 불량대수가 3일 확률은 13.2%이고\n",
    "### 불량대수가 4일 확률은 2.8% 이고\n",
    "### 불량대수가 5일 확률은 0.2%이다!"
   ]
  },
  {
   "cell_type": "markdown",
   "metadata": {},
   "source": [
    "# [실습] 포아송 분포"
   ]
  },
  {
   "cell_type": "code",
   "execution_count": 4,
   "metadata": {},
   "outputs": [
    {
     "name": "stdout",
     "output_type": "stream",
     "text": [
      "1분당 3번의 전화가 걸려올 확률: 18.0%\n",
      "1분당 최대 2번의 전화가 걸려올 확률: 67.7%\n"
     ]
    }
   ],
   "source": [
    "mu = 2\n",
    "prob = stats.poisson.pmf(3,mu)\n",
    "cdf_prob = stats.poisson.cdf(2,mu)\n",
    "print(\"1분당 {0}번의 전화가 걸려올 확률: {1:.1f}%\".format(3,prob*100))\n",
    "print(\"1분당 최대 {0}번의 전화가 걸려올 확률: {1:.1f}%\".format(2,cdf_prob*100))"
   ]
  },
  {
   "cell_type": "code",
   "execution_count": 5,
   "metadata": {},
   "outputs": [
    {
     "name": "stdout",
     "output_type": "stream",
     "text": [
      "1시간에 2명의 손님이 도착할 확률: 22.4%\n",
      "1시간에 1명 이하의 손님이 도착할 확률: 19.9%\n",
      "1시간에 3명 이상의 손님이 도착할 확률: 35.3%\n"
     ]
    }
   ],
   "source": [
    "mu = 3\n",
    "prob = stats.poisson.pmf(2,mu)\n",
    "# 2명의 손님이 도착\n",
    "cdf_prob = stats.poisson.cdf(1,mu)\n",
    "# 1명 이하의 손님이 도착\n",
    "cdf_prob3 = stats.poisson.cdf(3,mu)\n",
    "print(\"1시간에 {0}명의 손님이 도착할 확률: {1:.1f}%\".format(2,prob*100))\n",
    "print(\"1시간에 {0}명 이하의 손님이 도착할 확률: {1:.1f}%\".format(1,cdf_prob*100))\n",
    "print(\"1시간에 {0}명 이상의 손님이 도착할 확률: {1:.1f}%\".format(3,(1-cdf_prob3)*100))"
   ]
  },
  {
   "cell_type": "markdown",
   "metadata": {},
   "source": [
    "# [실습] 정규성 검정"
   ]
  },
  {
   "cell_type": "code",
   "execution_count": 6,
   "metadata": {},
   "outputs": [
    {
     "data": {
      "text/html": [
       "<div>\n",
       "<style scoped>\n",
       "    .dataframe tbody tr th:only-of-type {\n",
       "        vertical-align: middle;\n",
       "    }\n",
       "\n",
       "    .dataframe tbody tr th {\n",
       "        vertical-align: top;\n",
       "    }\n",
       "\n",
       "    .dataframe thead th {\n",
       "        text-align: right;\n",
       "    }\n",
       "</style>\n",
       "<table border=\"1\" class=\"dataframe\">\n",
       "  <thead>\n",
       "    <tr style=\"text-align: right;\">\n",
       "      <th></th>\n",
       "      <th>Mat_A</th>\n",
       "      <th>Mat_B</th>\n",
       "      <th>Total</th>\n",
       "      <th>Sub</th>\n",
       "    </tr>\n",
       "  </thead>\n",
       "  <tbody>\n",
       "    <tr>\n",
       "      <th>0</th>\n",
       "      <td>73.4</td>\n",
       "      <td>68.7</td>\n",
       "      <td>73.4</td>\n",
       "      <td>1</td>\n",
       "    </tr>\n",
       "    <tr>\n",
       "      <th>1</th>\n",
       "      <td>77.0</td>\n",
       "      <td>71.4</td>\n",
       "      <td>77.0</td>\n",
       "      <td>1</td>\n",
       "    </tr>\n",
       "    <tr>\n",
       "      <th>2</th>\n",
       "      <td>73.7</td>\n",
       "      <td>69.8</td>\n",
       "      <td>73.7</td>\n",
       "      <td>1</td>\n",
       "    </tr>\n",
       "    <tr>\n",
       "      <th>3</th>\n",
       "      <td>73.3</td>\n",
       "      <td>75.3</td>\n",
       "      <td>73.3</td>\n",
       "      <td>1</td>\n",
       "    </tr>\n",
       "    <tr>\n",
       "      <th>4</th>\n",
       "      <td>73.1</td>\n",
       "      <td>71.3</td>\n",
       "      <td>73.1</td>\n",
       "      <td>1</td>\n",
       "    </tr>\n",
       "  </tbody>\n",
       "</table>\n",
       "</div>"
      ],
      "text/plain": [
       "   Mat_A  Mat_B  Total  Sub\n",
       "0   73.4   68.7   73.4    1\n",
       "1   77.0   71.4   77.0    1\n",
       "2   73.7   69.8   73.7    1\n",
       "3   73.3   75.3   73.3    1\n",
       "4   73.1   71.3   73.1    1"
      ]
     },
     "execution_count": 6,
     "metadata": {},
     "output_type": "execute_result"
    }
   ],
   "source": [
    "from scipy.stats import shapiro\n",
    "\n",
    "ds_2sample_t_test = pd.read_csv(\"/home/piai/Downloads/week2/2sample_t_test.csv\",engine=\"python\")\n",
    "ds_2sample_t_test.head()"
   ]
  },
  {
   "cell_type": "code",
   "execution_count": 7,
   "metadata": {},
   "outputs": [
    {
     "name": "stdout",
     "output_type": "stream",
     "text": [
      "ShapiroResult(statistic=0.9062636494636536, pvalue=0.2562994360923767)\n"
     ]
    }
   ],
   "source": [
    "ds_2sample_t_test=ds_2sample_t_test.dropna() # 데이터 전처리 \n",
    "data1 = ds_2sample_t_test['Mat_A']\n",
    "print(shapiro(data1))\n"
   ]
  },
  {
   "cell_type": "code",
   "execution_count": 8,
   "metadata": {},
   "outputs": [
    {
     "name": "stdout",
     "output_type": "stream",
     "text": [
      "Shapiro-Wilk Test: statistic=0.9062636494636536, p-value=0.2562994360923767\n"
     ]
    }
   ],
   "source": [
    "statistic,p =stats.shapiro(data1)\n",
    "print(\"Shapiro-Wilk Test: statistic={}, p-value={}\".format(statistic,p))"
   ]
  },
  {
   "cell_type": "code",
   "execution_count": 9,
   "metadata": {},
   "outputs": [
    {
     "name": "stdout",
     "output_type": "stream",
     "text": [
      "ShapiroResult(statistic=0.9729753732681274, pvalue=0.9169777035713196)\n"
     ]
    }
   ],
   "source": [
    "data2 = ds_2sample_t_test['Mat_B']\n",
    "print(shapiro(data2))"
   ]
  },
  {
   "cell_type": "code",
   "execution_count": 10,
   "metadata": {},
   "outputs": [
    {
     "name": "stdout",
     "output_type": "stream",
     "text": [
      "Shapiro-Wilk Test: statistic=0.9729753732681274, p-value=0.9169777035713196\n"
     ]
    }
   ],
   "source": [
    "statistic,p =stats.shapiro(data2)\n",
    "print(\"Shapiro-Wilk Test: statistic={}, p-value={}\".format(statistic,p))"
   ]
  },
  {
   "cell_type": "markdown",
   "metadata": {},
   "source": [
    "### \"정규성 검정결과(95%신뢰 수준 사용시) p-value가 0.25..이므로 0.05보다 커서 정규분포를 따른다고 판단됨\""
   ]
  },
  {
   "cell_type": "markdown",
   "metadata": {},
   "source": [
    "# [실습] 모평균 추정(모표준편차 아는 경우)"
   ]
  },
  {
   "cell_type": "code",
   "execution_count": 11,
   "metadata": {},
   "outputs": [
    {
     "name": "stdout",
     "output_type": "stream",
     "text": [
      "신뢰구간: ([17.83],[21.17])\n"
     ]
    }
   ],
   "source": [
    "df =pd.DataFrame({\"sample\": [18,18,20,21,20,23,19,18,17,21,22,20,20,21,20,19,19,18,17,19]})\n",
    "df.head()\n",
    "lower,upper = stats.norm.interval(0.95, loc= np.mean(df), scale = 3.8/np.sqrt(20))\n",
    "print(\"신뢰구간: ({0},{1})\".format(lower.round(2),upper.round(2)))"
   ]
  },
  {
   "cell_type": "markdown",
   "metadata": {},
   "source": [
    "# [실습] 모평균추정(모표준편차 모르는 경우) "
   ]
  },
  {
   "cell_type": "code",
   "execution_count": 12,
   "metadata": {},
   "outputs": [
    {
     "name": "stdout",
     "output_type": "stream",
     "text": [
      "신뢰구간: ([70.6],[72.4])\n"
     ]
    }
   ],
   "source": [
    "df=pd.DataFrame({\"sample\":[73,71,74,69,70,73,70,68,75,72,70,72,73,70,70,72,71,70,75,72]})\n",
    "\n",
    "lower,upper=stats.t.interval(0.95,len(df)-1,loc=np.mean(df), scale= scipy.stats.sem(df))\n",
    "print(\"신뢰구간: ({0},{1})\".format(lower.round(2),upper.round(2)))"
   ]
  },
  {
   "cell_type": "markdown",
   "metadata": {},
   "source": [
    "# [실습] 모분산 신뢰구간 추정"
   ]
  },
  {
   "cell_type": "code",
   "execution_count": 13,
   "metadata": {},
   "outputs": [],
   "source": [
    "df= pd.DataFrame({226,228,226,225,232,228,227,229,225,230})"
   ]
  },
  {
   "cell_type": "code",
   "execution_count": 14,
   "metadata": {},
   "outputs": [
    {
     "data": {
      "text/plain": [
       "0    2.410295\n",
       "dtype: float64"
      ]
     },
     "execution_count": 14,
     "metadata": {},
     "output_type": "execute_result"
    }
   ],
   "source": [
    "df.std()"
   ]
  },
  {
   "cell_type": "code",
   "execution_count": 15,
   "metadata": {},
   "outputs": [],
   "source": [
    "df= pd.DataFrame({12,13,16,9,5,19,13,8,11,17,9,5,12,11,8,6,10,12,17,11,10,9,12,14,9,6,8,14,5,8,5,8,4,9,6,8,13,16,9,5,16,13,14,17,11,9,19,16,12,8})"
   ]
  },
  {
   "cell_type": "code",
   "execution_count": 16,
   "metadata": {},
   "outputs": [
    {
     "data": {
      "text/plain": [
       "0    4.680839\n",
       "dtype: float64"
      ]
     },
     "execution_count": 16,
     "metadata": {},
     "output_type": "execute_result"
    }
   ],
   "source": [
    "df.std()"
   ]
  },
  {
   "cell_type": "markdown",
   "metadata": {},
   "source": [
    "### 표준편차를 std() 함수로 소숫점 두자리까지 구하면 4.68 이 나온다."
   ]
  },
  {
   "cell_type": "code",
   "execution_count": 17,
   "metadata": {
    "scrolled": true
   },
   "outputs": [
    {
     "name": "stdout",
     "output_type": "stream",
     "text": [
      "(49)×(4.68)²÷(71.42) <= σ <=(49)×(4.68)²÷(32.36) \n",
      " 모분산의 95% 신뢰구간 = (15.0,33.2)\n"
     ]
    }
   ],
   "source": [
    "a= (49)*(4.68)*(4.68)/(71.42)\n",
    "b= (49)*(4.68)*(4.68)/(32.36)\n",
    "print('(49)×(4.68)²÷(71.42) <= σ <=(49)×(4.68)²÷(32.36) ')\n",
    "\n",
    "print(' 모분산의 95% 신뢰구간 = ({0:0.1f},{1:0.1f})'.format(a,b))"
   ]
  },
  {
   "cell_type": "markdown",
   "metadata": {},
   "source": [
    "# [실습] 모비율 신뢰구간 추정 "
   ]
  },
  {
   "cell_type": "code",
   "execution_count": 18,
   "metadata": {
    "scrolled": true
   },
   "outputs": [
    {
     "name": "stdout",
     "output_type": "stream",
     "text": [
      "0.82-1.96√(0.82×(1−0.82)÷50) < p <(0.82+1.96√(0.82×(1−0.82)÷50) \n",
      "\n",
      " 모분산의 95% 신뢰구간 = (0.71,0.93)\n"
     ]
    }
   ],
   "source": [
    "import math\n",
    "a= 0.82-1.96*math.sqrt(0.82*(1 - 0.82)/50)\n",
    "b= 0.82+1.96*math.sqrt(0.82*(1 - 0.82)/50)\n",
    "print('0.82-1.96√(0.82×(1−0.82)÷50) < p <(0.82+1.96√(0.82×(1−0.82)÷50) ')\n",
    "print()\n",
    "print(' 모분산의 95% 신뢰구간 = ({0:0.2f},{1:0.2f})'.format(a,b))"
   ]
  },
  {
   "cell_type": "markdown",
   "metadata": {},
   "source": [
    "# [실습] 평균 검정(모집단 표준편차를 모르는 경우)"
   ]
  },
  {
   "cell_type": "code",
   "execution_count": 19,
   "metadata": {},
   "outputs": [],
   "source": [
    "df = pd.DataFrame({'sample':[85.0,79.0,79.1,79.9,81.6,78.6,85.4,83.4,78.1,79.2]})"
   ]
  },
  {
   "cell_type": "code",
   "execution_count": 20,
   "metadata": {},
   "outputs": [],
   "source": [
    "t_result = stats.ttest_1samp(df,78)"
   ]
  },
  {
   "cell_type": "code",
   "execution_count": 21,
   "metadata": {},
   "outputs": [],
   "source": [
    "t,p=t_result.statistic.round(3), t_result.pvalue.round(3)"
   ]
  },
  {
   "cell_type": "code",
   "execution_count": 22,
   "metadata": {},
   "outputs": [
    {
     "name": "stdout",
     "output_type": "stream",
     "text": [
      "1-Sample t-test\n",
      "t 통계량: [3.379]\n",
      "p-value: [0.008]\n"
     ]
    }
   ],
   "source": [
    "print(\"1-Sample t-test\")\n",
    "print(\"t 통계량: {}\".format(t))\n",
    "print(\"p-value: {}\".format(p))\n"
   ]
  },
  {
   "cell_type": "markdown",
   "metadata": {},
   "source": [
    "### \"유의수준 5%에서 검정결과 P값이 0.008이므로 개선활동이 고객만족도 변화를 시켰다고 할 수 없다.\""
   ]
  },
  {
   "cell_type": "markdown",
   "metadata": {},
   "source": [
    "# [실습] 2 Sample t-test"
   ]
  },
  {
   "cell_type": "code",
   "execution_count": 23,
   "metadata": {},
   "outputs": [
    {
     "name": "stdout",
     "output_type": "stream",
     "text": [
      " 2-Sample t-test\n",
      " t:[1.7]\n",
      "p:[0.111]\n"
     ]
    }
   ],
   "source": [
    "df1= pd.DataFrame({'sample':[1.883,1.715,1.799,1.768,1.711,1.832,1.427,1.344]})\n",
    "df2= pd.DataFrame({'sample':[1.435,1.572,1.486,1.511,1.457,1.548,1.404,1.883]})\n",
    "t_result = stats.ttest_ind(df1,df2)\n",
    "t,p = t_result.statistic.round(3), t_result.pvalue.round(3)\n",
    "print(\" 2-Sample t-test\")\n",
    "print(\" t:{}\".format(t))\n",
    "print(\"p:{}\".format(p))"
   ]
  },
  {
   "cell_type": "markdown",
   "metadata": {},
   "source": [
    "### 유의수준 5%에서 검정결과 P값이 0.111이므로 0.05를 넘어서 고객간에 고객만족도의 차이가 없다.\" "
   ]
  },
  {
   "cell_type": "markdown",
   "metadata": {},
   "source": [
    "# [실습] Paired t-test"
   ]
  },
  {
   "cell_type": "code",
   "execution_count": 24,
   "metadata": {},
   "outputs": [
    {
     "name": "stdout",
     "output_type": "stream",
     "text": [
      " Paired t-test\n",
      "t: [-2.266]\n",
      "p:[0.05]\n"
     ]
    }
   ],
   "source": [
    "df1= pd.DataFrame({'before':[720,589,780,648,720,589,780,648,780,648]})\n",
    "df2= pd.DataFrame({'After':[710,580,787,712,750,600,782,670,790,680]})\n",
    "\n",
    "t_result = stats.ttest_rel(df1,df2)\n",
    "t, p = t_result.statistic.round(3), t_result.pvalue.round(3)\n",
    "print(\" Paired t-test\")\n",
    "print(\"t: {}\".format(t))\n",
    "print(\"p:{}\".format(p))\n"
   ]
  },
  {
   "cell_type": "markdown",
   "metadata": {},
   "source": [
    "### \"유의수준 5%에서 검정결과 p값이 0.05이므로  학원 수강 전후의 점수는 차이가 있다고 할 수 있다. \""
   ]
  },
  {
   "cell_type": "markdown",
   "metadata": {},
   "source": [
    "# [실습] 1 Proportion test "
   ]
  },
  {
   "cell_type": "code",
   "execution_count": 25,
   "metadata": {},
   "outputs": [],
   "source": [
    "from statsmodels.stats.proportion import proportions_ztest"
   ]
  },
  {
   "cell_type": "code",
   "execution_count": 26,
   "metadata": {},
   "outputs": [
    {
     "name": "stdout",
     "output_type": "stream",
     "text": [
      " 1 Proportion test\n",
      " z:-2.041\n",
      "p:0.041\n"
     ]
    }
   ],
   "source": [
    "count = 40\n",
    "n_obs=100\n",
    "value = 0.5\n",
    "stat , pval = proportions_ztest(count,n_obs,value)\n",
    "print(\" 1 Proportion test\")\n",
    "print(\" z:{0:0.3f}\".format(stat))\n",
    "print(\"p:{0:0.3f}\".format(pval))\n"
   ]
  },
  {
   "cell_type": "markdown",
   "metadata": {},
   "source": [
    "### \"p가 0.041 이므로 0.05보다 작기 때문에 h1 채택하고 차이가 있다.\""
   ]
  },
  {
   "cell_type": "markdown",
   "metadata": {},
   "source": [
    "# [실습]2 Proportion test"
   ]
  },
  {
   "cell_type": "code",
   "execution_count": 27,
   "metadata": {},
   "outputs": [
    {
     "name": "stdout",
     "output_type": "stream",
     "text": [
      " 2 Proprotion test\n",
      "z:2.073\n",
      "p:0.038\n"
     ]
    }
   ],
   "source": [
    "count = np.array([14,5])\n",
    "nobs= np. array([1200,1200])\n",
    "\n",
    "stat,pval = proportions_ztest(count,nobs)\n",
    "print(\" 2 Proprotion test\")\n",
    "print(\"z:{0:0.3f}\".format(stat))\n",
    "print(\"p:{0:0.3f}\".format(pval))\n",
    "\n"
   ]
  },
  {
   "cell_type": "markdown",
   "metadata": {},
   "source": [
    "### \"p-value <0.05 이므로 두 공장의 불량률은 차이가 있다고 할 수 없다. \""
   ]
  },
  {
   "cell_type": "code",
   "execution_count": null,
   "metadata": {},
   "outputs": [],
   "source": []
  }
 ],
 "metadata": {
  "kernelspec": {
   "display_name": "Python 3",
   "language": "python",
   "name": "python3"
  },
  "language_info": {
   "codemirror_mode": {
    "name": "ipython",
    "version": 3
   },
   "file_extension": ".py",
   "mimetype": "text/x-python",
   "name": "python",
   "nbconvert_exporter": "python",
   "pygments_lexer": "ipython3",
   "version": "3.8.3"
  }
 },
 "nbformat": 4,
 "nbformat_minor": 4
}
