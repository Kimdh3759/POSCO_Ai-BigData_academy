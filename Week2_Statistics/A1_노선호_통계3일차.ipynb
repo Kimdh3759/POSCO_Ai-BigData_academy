{
 "cells": [
  {
   "cell_type": "markdown",
   "metadata": {},
   "source": [
    "# A1_노선호_통계3일차"
   ]
  },
  {
   "cell_type": "code",
   "execution_count": 32,
   "metadata": {},
   "outputs": [],
   "source": [
    "import numpy as np\n",
    "from scipy import stats\n",
    "import scipy.stats\n",
    "import pandas as pd\n",
    "import statsmodels.api as sm\n",
    "import matplotlib\n",
    "import matplotlib.pyplot as plt\n",
    "import seaborn as sns\n",
    "from statsmodels.stats.proportion import proportions_ztest\n",
    "%matplotlib inline\n",
    "from scipy.stats import shapiro"
   ]
  },
  {
   "cell_type": "markdown",
   "metadata": {},
   "source": [
    "## [실습]카이제곱 검정 "
   ]
  },
  {
   "cell_type": "code",
   "execution_count": 33,
   "metadata": {},
   "outputs": [
    {
     "name": "stdout",
     "output_type": "stream",
     "text": [
      "chi-squre test\n",
      "chisq: 98.274\n",
      "p: 0.000\n",
      "degree pf freedom: 30\n"
     ]
    }
   ],
   "source": [
    "df = pd.DataFrame({'A':[18,1,8,7,10,9,10],'B':[8,2,14,5,5,9,4],'C':[4,1,3,4,9,5,4],'D':[4,1,2,3,2,7,3],'E':[3,1,3,1,1,1,1],'F':[3,25,8,10,2,1,7]})\n",
    "\n",
    "# 데이터 프레임에 데이터 입력 \n",
    "chi,pval,dof,expected = stats.chi2_contingency(df.T) \n",
    "#chi-squre test실행\n",
    "\n",
    "#결과 출력\n",
    "print(\"chi-squre test\") \n",
    "print('chisq: {0:0.3f}'.format(chi))\n",
    "print('p: {0:0.3f}'.format(pval))\n",
    "print('degree pf freedom: {}'.format(dof))\n",
    "\n",
    "#(h0) 귀무가설-> 각 제품에 대한 이미지에 대해 차이가 없다.\n",
    "#(h1) 대립가설-> 각 제품에 대한 이미지에 대해 차이가 있다.\n",
    "#p-value값이 0이므로 p-value<0.05는 성립한다고 볼 수 있다.\n",
    "#이에 따라 각 제품에 대한 이미지에 대해 차이가 있다고 볼 수 있다.\n",
    "#결론: 대립가설을 채택했다."
   ]
  },
  {
   "cell_type": "markdown",
   "metadata": {},
   "source": [
    "# [실습] One way ANOVA"
   ]
  },
  {
   "cell_type": "code",
   "execution_count": 34,
   "metadata": {},
   "outputs": [
    {
     "name": "stdout",
     "output_type": "stream",
     "text": [
      "F 통계량: 4.172\n",
      "p-value: 0.019\n"
     ]
    }
   ],
   "source": [
    "import csv\n",
    "\n",
    "f = open('ANOVA.csv', 'r')\n",
    "reader = csv.reader(f)\n",
    "dic = {}\n",
    "i = 0\n",
    "\n",
    "for row in reader:\n",
    "    if i == 0:\n",
    "        i += 1\n",
    "        continue\n",
    "    if row[2] not in dic:\n",
    "        dic[row[2]] = []\n",
    "        dic[row[2]].append(row[0])\n",
    "    else:\n",
    "        dic[row[2]].append(row[0])\n",
    "\n",
    "df = pd.DataFrame(dic)\n",
    "\n",
    "f_result = stats.f_oneway(df['a'],df['b'],df['c'],df['d'])\n",
    "\n",
    "f,p = f_result.statistic.round(3), f_result.pvalue.round(3)\n",
    "\n",
    "print(\"F 통계량: {}\".format(f))\n",
    "print(\"p-value: {}\".format(p))"
   ]
  },
  {
   "cell_type": "markdown",
   "metadata": {},
   "source": [
    "\n",
    "F 통계량: 4.172 \n",
    "\n",
    "p-value: 0.019\n",
    "\n",
    "가설설립\n",
    "\n",
    "귀무가설 : 강종별 2차정련 시간에 차이가 있다고 할 수 없다.\n",
    "\n",
    "대립가설 : 강종별 2차정련 시간에 차이가 있다고 할 수 있다.\n",
    "\n",
    "가설검정\n",
    "\n",
    "검정통계량 : 4.172\n",
    "\n",
    "p-value : 0.019\n",
    "\n",
    "유의수준 : 0.05\n",
    "\n",
    "검정결과 판단\n",
    "\n",
    "p-value < 유의수준 이므로 귀무가설을 기각한다.\n",
    "\n",
    "결론\n",
    "\n",
    "강종별 2차정련 시간에 차이가 있다고 할 수 있다."
   ]
  },
  {
   "cell_type": "markdown",
   "metadata": {},
   "source": [
    "# [실습] 상관분석"
   ]
  },
  {
   "cell_type": "code",
   "execution_count": 35,
   "metadata": {},
   "outputs": [
    {
     "name": "stdout",
     "output_type": "stream",
     "text": [
      "Correlation Analysis\n",
      "corr:-0.723\n",
      "p-value : 0.000\n"
     ]
    }
   ],
   "source": [
    "\n",
    "df1 = [37.6, 38.6,37.2,36.4,38.6,39,37.2,36.1,35.9,37.1,36.9,37.5,36.3,38.1,39,36.9,36.8,37.6,33,33.5] #강도 값 입력\n",
    "df2 = [14,15,14,16,17,14,17,16,15,16,14,16,18,13,15,17,14,16,20,21] #온도 값 입력\n",
    "\n",
    "corr, pval = stats.pearsonr(df1, df2) #Correlation Analysis 실행 및 변수 저장\n",
    " \n",
    "print(\"Correlation Analysis\") #결과 출력\n",
    "print('corr:{0:0.3f}'.format(corr))\n",
    "print('p-value : {0:0.3f}'.format(pval))\n",
    "\n",
    "# 대립가설: 초코칩의 강도와 재료 반죽온도간에 매우 강한 상관성이 있다.\n",
    "# p<0.05이므로, 초코칩의 강도와 재료 반죽온도간에는 매우 강한 상관성이 있다고 볼 수 있다.\n",
    "# 즉, 대립가설을 채택한다.\n",
    "\n"
   ]
  },
  {
   "cell_type": "markdown",
   "metadata": {},
   "source": [
    "\n",
    "가설설립\n",
    "\n",
    "귀무가설 : 초코칩의 강도와 재료 반죽온도간에 상관성이 있다고 할 수 없다.\n",
    "    \n",
    "대립가설 : 초코칩의 강도와 재료 반죽온도간에 상관성이 있다고 할 수 있다.\n",
    "    \n",
    "가설검정\n",
    "\n",
    "p-value : 0.000\n",
    "    \n",
    "유의수준 : 0.05\n",
    "    \n",
    "검정결과 판단\n",
    "\n",
    "p-value < 유의수준 이므로 귀무가설을 기각한다.\n",
    "\n",
    "결론\n",
    "\n",
    "초코칩의 강도와 재료 반죽온도간에 상관성이 있다고 할 수 있다."
   ]
  },
  {
   "cell_type": "markdown",
   "metadata": {},
   "source": [
    "# [실습] 단순선형회귀1"
   ]
  },
  {
   "cell_type": "code",
   "execution_count": 39,
   "metadata": {},
   "outputs": [
    {
     "name": "stdout",
     "output_type": "stream",
     "text": [
      "                            OLS Regression Results                            \n",
      "==============================================================================\n",
      "Dep. Variable:               strength   R-squared:                       0.646\n",
      "Model:                            OLS   Adj. R-squared:                  0.627\n",
      "Method:                 Least Squares   F-statistic:                     32.90\n",
      "Date:                Wed, 11 Nov 2020   Prob (F-statistic):           1.95e-05\n",
      "Time:                        10:42:50   Log-Likelihood:                -26.431\n",
      "No. Observations:                  20   AIC:                             56.86\n",
      "Df Residuals:                      18   BIC:                             58.85\n",
      "Df Model:                           1                                         \n",
      "Covariance Type:            nonrobust                                         \n",
      "===============================================================================\n",
      "                  coef    std err          t      P>|t|      [0.025      0.975]\n",
      "-------------------------------------------------------------------------------\n",
      "const          13.0013      4.184      3.108      0.006       4.212      21.791\n",
      "Baking_time    30.8722      5.383      5.736      0.000      19.564      42.181\n",
      "==============================================================================\n",
      "Omnibus:                        1.724   Durbin-Watson:                   0.765\n",
      "Prob(Omnibus):                  0.422   Jarque-Bera (JB):                1.206\n",
      "Skew:                          -0.589   Prob(JB):                        0.547\n",
      "Kurtosis:                       2.753   Cond. No.                         40.4\n",
      "==============================================================================\n",
      "\n",
      "Warnings:\n",
      "[1] Standard Errors assume that the covariance matrix of the errors is correctly specified.\n"
     ]
    },
    {
     "data": {
      "image/png": "[encoded data removed]",
      "text/plain": [
       "<Figure size 432x288 with 1 Axes>"
      ]
     },
     "metadata": {
      "needs_background": "light"
     },
     "output_type": "display_data"
    }
   ],
   "source": [
    "\n",
    "df = pd.DataFrame({'strength' : [37.6,38.6,37.2,36.4,38.6,39,37.2,36.1,35.9,37.1,36.9,37.5,36.3,38.1,39,36.9,36.8,37.6,33,33.5],\n",
    "'Baking_time' : [0.798922,0.84902,0.816163,0.758266,0.815894,0.807477,0.809068,0.7664,0.742243,0.751118,0.740629,0.751495,0.738863,0.827428,0.818172,0.740939,0.757128,0.804695,0.695121,0.735377]})\n",
    "\n",
    "df.head()\n",
    "\n",
    "sns.scatterplot(x='strength', y='Baking_time', data=df)\n",
    "\n",
    "Baking = sm.add_constant(df['Baking_time'])\n",
    "model = sm.OLS(df['strength'], Baking)\n",
    "result = model.fit()\n",
    "\n",
    "print(result.summary())\n",
    "\n",
    "# 회귀식은 Baking_time = 13.00013 + 30.8722 * strength 이다.\n",
    "# Baking_time의 P값은 p<0.05 이므로 유의미하다.\n",
    "# R-square 값은 0.646으로 설명력이 높은 편이다.\n",
    "# 따라서, 초코칩의 강도와 굽는 시간과의 인과관계가 있다고 볼 수 있다."
   ]
  },
  {
   "cell_type": "markdown",
   "metadata": {},
   "source": [
    "# [실습] 단순선형회귀2"
   ]
  },
  {
   "cell_type": "code",
   "execution_count": 40,
   "metadata": {},
   "outputs": [
    {
     "name": "stdout",
     "output_type": "stream",
     "text": [
      "                            OLS Regression Results                            \n",
      "==============================================================================\n",
      "Dep. Variable:               strength   R-squared:                       0.001\n",
      "Model:                            OLS   Adj. R-squared:                 -0.011\n",
      "Method:                 Least Squares   F-statistic:                    0.1136\n",
      "Date:                Wed, 11 Nov 2020   Prob (F-statistic):              0.737\n",
      "Time:                        10:49:47   Log-Likelihood:                -223.88\n",
      "No. Observations:                  86   AIC:                             451.8\n",
      "Df Residuals:                      84   BIC:                             456.7\n",
      "Df Model:                           1                                         \n",
      "Covariance Type:            nonrobust                                         \n",
      "==============================================================================\n",
      "                 coef    std err          t      P>|t|      [0.025      0.975]\n",
      "------------------------------------------------------------------------------\n",
      "Intercept     30.4190      5.271      5.771      0.000      19.936      40.902\n",
      "Oven_TMP       0.0056      0.017      0.337      0.737      -0.027       0.038\n",
      "==============================================================================\n",
      "Omnibus:                       15.278   Durbin-Watson:                   0.175\n",
      "Prob(Omnibus):                  0.000   Jarque-Bera (JB):                8.264\n",
      "Skew:                           0.581   Prob(JB):                       0.0160\n",
      "Kurtosis:                       2.023   Cond. No.                     4.71e+03\n",
      "==============================================================================\n",
      "\n",
      "Warnings:\n",
      "[1] Standard Errors assume that the covariance matrix of the errors is correctly specified.\n",
      "[2] The condition number is large, 4.71e+03. This might indicate that there are\n",
      "strong multicollinearity or other numerical problems.\n"
     ]
    }
   ],
   "source": [
    "df_raw = pd.read_csv(\"/home/piai/Downloads/correaltion.csv\", engine = \"python\")\n",
    "df_raw.head(3)\n",
    "\n",
    "from sklearn.linear_model import LinearRegression #선형회귀모델\n",
    "\n",
    "import statsmodels.formula.api as smf #선형모델 formula(y ~ x1 + x2 + ...)\n",
    "\n",
    "model = smf.ols(formula = \"strength~Oven_TMP\", data = df_raw) #Linear Regression 실행\n",
    "\n",
    "result = model.fit() #적합\n",
    "\n",
    "print(result.summary())\n",
    "\n",
    "# 결론 : 회귀식은 strength = 30.419 + 0.0056 * Oven_TMP이다. 설명력은 R-Sq = 0.1%이다."
   ]
  },
  {
   "cell_type": "code",
   "execution_count": null,
   "metadata": {},
   "outputs": [],
   "source": []
  }
 ],
 "metadata": {
  "kernelspec": {
   "display_name": "Python 3",
   "language": "python",
   "name": "python3"
  },
  "language_info": {
   "codemirror_mode": {
    "name": "ipython",
    "version": 3
   },
   "file_extension": ".py",
   "mimetype": "text/x-python",
   "name": "python",
   "nbconvert_exporter": "python",
   "pygments_lexer": "ipython3",
   "version": "3.8.3"
  }
 },
 "nbformat": 4,
 "nbformat_minor": 4
}
