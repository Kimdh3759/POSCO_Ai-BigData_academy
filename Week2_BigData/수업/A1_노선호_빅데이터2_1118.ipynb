{
 "cells": [
  {
   "cell_type": "code",
   "execution_count": 2,
   "metadata": {},
   "outputs": [
    {
     "ename": "FileNotFoundError",
     "evalue": "[Errno 2] No such file or directory: '/usr/share/fonts/opentype/noto/NotoSerifCJK-ExtraLight.ttc'",
     "output_type": "error",
     "traceback": [
      "\u001b[1;31m---------------------------------------------------------------------------\u001b[0m",
      "\u001b[1;31mFileNotFoundError\u001b[0m                         Traceback (most recent call last)",
      "\u001b[1;32m<ipython-input-2-024b92b65c1f>\u001b[0m in \u001b[0;36m<module>\u001b[1;34m\u001b[0m\n\u001b[0;32m      5\u001b[0m \u001b[1;33m\u001b[0m\u001b[0m\n\u001b[0;32m      6\u001b[0m \u001b[0mfont_path\u001b[0m \u001b[1;33m=\u001b[0m\u001b[1;34m'/usr/share/fonts/opentype/noto/NotoSerifCJK-ExtraLight.ttc'\u001b[0m\u001b[1;33m\u001b[0m\u001b[1;33m\u001b[0m\u001b[0m\n\u001b[1;32m----> 7\u001b[1;33m \u001b[0mfont_name\u001b[0m \u001b[1;33m=\u001b[0m \u001b[0mmatplotlib\u001b[0m\u001b[1;33m.\u001b[0m\u001b[0mfont_manager\u001b[0m\u001b[1;33m.\u001b[0m\u001b[0mFontProperties\u001b[0m\u001b[1;33m(\u001b[0m\u001b[0mfname\u001b[0m\u001b[1;33m=\u001b[0m\u001b[0mfont_path\u001b[0m\u001b[1;33m)\u001b[0m\u001b[1;33m.\u001b[0m\u001b[0mget_name\u001b[0m\u001b[1;33m(\u001b[0m\u001b[1;33m)\u001b[0m\u001b[1;33m\u001b[0m\u001b[1;33m\u001b[0m\u001b[0m\n\u001b[0m\u001b[0;32m      8\u001b[0m \u001b[0mmatplotlib\u001b[0m\u001b[1;33m.\u001b[0m\u001b[0mrc\u001b[0m\u001b[1;33m(\u001b[0m\u001b[1;34m\"font\"\u001b[0m\u001b[1;33m,\u001b[0m \u001b[0mfamily\u001b[0m \u001b[1;33m=\u001b[0m \u001b[0mfont_name\u001b[0m\u001b[1;33m)\u001b[0m\u001b[1;33m\u001b[0m\u001b[1;33m\u001b[0m\u001b[0m\n\u001b[0;32m      9\u001b[0m \u001b[1;32mfrom\u001b[0m \u001b[0msklearn\u001b[0m\u001b[1;33m.\u001b[0m\u001b[0mtree\u001b[0m \u001b[1;32mimport\u001b[0m \u001b[0mexport_graphviz\u001b[0m\u001b[1;33m\u001b[0m\u001b[1;33m\u001b[0m\u001b[0m\n",
      "\u001b[1;32m~\\anaconda3\\lib\\site-packages\\matplotlib\\font_manager.py\u001b[0m in \u001b[0;36mget_name\u001b[1;34m(self)\u001b[0m\n\u001b[0;32m    687\u001b[0m         \u001b[0mReturn\u001b[0m \u001b[0mthe\u001b[0m \u001b[0mname\u001b[0m \u001b[0mof\u001b[0m \u001b[0mthe\u001b[0m \u001b[0mfont\u001b[0m \u001b[0mthat\u001b[0m \u001b[0mbest\u001b[0m \u001b[0mmatches\u001b[0m \u001b[0mthe\u001b[0m \u001b[0mfont\u001b[0m \u001b[0mproperties\u001b[0m\u001b[1;33m.\u001b[0m\u001b[1;33m\u001b[0m\u001b[1;33m\u001b[0m\u001b[0m\n\u001b[0;32m    688\u001b[0m         \"\"\"\n\u001b[1;32m--> 689\u001b[1;33m         \u001b[1;32mreturn\u001b[0m \u001b[0mget_font\u001b[0m\u001b[1;33m(\u001b[0m\u001b[0mfindfont\u001b[0m\u001b[1;33m(\u001b[0m\u001b[0mself\u001b[0m\u001b[1;33m)\u001b[0m\u001b[1;33m)\u001b[0m\u001b[1;33m.\u001b[0m\u001b[0mfamily_name\u001b[0m\u001b[1;33m\u001b[0m\u001b[1;33m\u001b[0m\u001b[0m\n\u001b[0m\u001b[0;32m    690\u001b[0m \u001b[1;33m\u001b[0m\u001b[0m\n\u001b[0;32m    691\u001b[0m     \u001b[1;32mdef\u001b[0m \u001b[0mget_style\u001b[0m\u001b[1;33m(\u001b[0m\u001b[0mself\u001b[0m\u001b[1;33m)\u001b[0m\u001b[1;33m:\u001b[0m\u001b[1;33m\u001b[0m\u001b[1;33m\u001b[0m\u001b[0m\n",
      "\u001b[1;32m~\\anaconda3\\lib\\site-packages\\matplotlib\\font_manager.py\u001b[0m in \u001b[0;36mget_font\u001b[1;34m(filename, hinting_factor)\u001b[0m\n\u001b[0;32m   1326\u001b[0m     \u001b[1;32mif\u001b[0m \u001b[0mhinting_factor\u001b[0m \u001b[1;32mis\u001b[0m \u001b[1;32mNone\u001b[0m\u001b[1;33m:\u001b[0m\u001b[1;33m\u001b[0m\u001b[1;33m\u001b[0m\u001b[0m\n\u001b[0;32m   1327\u001b[0m         \u001b[0mhinting_factor\u001b[0m \u001b[1;33m=\u001b[0m \u001b[0mrcParams\u001b[0m\u001b[1;33m[\u001b[0m\u001b[1;34m'text.hinting_factor'\u001b[0m\u001b[1;33m]\u001b[0m\u001b[1;33m\u001b[0m\u001b[1;33m\u001b[0m\u001b[0m\n\u001b[1;32m-> 1328\u001b[1;33m     return _get_font(os.fspath(filename), hinting_factor,\n\u001b[0m\u001b[0;32m   1329\u001b[0m                      _kerning_factor=rcParams['text.kerning_factor'])\n\u001b[0;32m   1330\u001b[0m \u001b[1;33m\u001b[0m\u001b[0m\n",
      "\u001b[1;31mFileNotFoundError\u001b[0m: [Errno 2] No such file or directory: '/usr/share/fonts/opentype/noto/NotoSerifCJK-ExtraLight.ttc'"
     ]
    }
   ],
   "source": [
    "import numpy as np # 행렬 연산 패키지\n",
    "import pandas as pd\n",
    "import matplotlib.pyplot as plt\n",
    "import matplotlib\n",
    "\n",
    "font_path ='/usr/share/fonts/opentype/noto/NotoSerifCJK-ExtraLight.ttc'\n",
    "font_name = matplotlib.font_manager.FontProperties(fname=font_path).get_name()\n",
    "matplotlib.rc(\"font\", family = font_name)\n",
    "from sklearn.tree import export_graphviz\n",
    "import graphviz\n",
    "import seaborn as sns #데이터 시각화(추세 등) 패키지\n",
    "from sklearn.preprocessing import scale, minmax_scale, robust_scale #Scaling클래스\n",
    "import statsmodels.formula.api as smf\n",
    "\n",
    "from sklearn.model_selection import train_test_split\n",
    "from sklearn.model_selection import GridSearchCV\n",
    "from sklearn.tree import DecisionTreeRegressor\n",
    "from sklearn.ensemble import RandomForestRegressor\n",
    "from sklearn.ensemble import GradientBoostingRegressor\n",
    "from sklearn.metrics import mean_absolute_error\n",
    "from sklearn.metrics import mean_squared_error\n",
    "from math import sqrt"
   ]
  },
  {
   "cell_type": "code",
   "execution_count": null,
   "metadata": {},
   "outputs": [],
   "source": [
    "\n",
    "def root_mean_squared_error(y_true, y_pred):\n",
    "    return np.sqrt(mean_squared_error(y_true,y_pred))\n",
    "\n",
    "def mean_absolute_percentage_error(y_true, y_pred):\n",
    "    return np.mean(np.abs((y_true - y_pred) / y_true)) * 100"
   ]
  },
  {
   "cell_type": "code",
   "execution_count": null,
   "metadata": {},
   "outputs": [],
   "source": [
    "df_raw = pd.read_csv(\"/home/piai/Desktop/POSCO_Ai-BigData_academy/Week2_BigData/실습파일/체질검사.csv\", engine = 'python', encoding = 'EUC-KR')\n",
    "df_raw.head() #데이터 불러오기"
   ]
  },
  {
   "cell_type": "code",
   "execution_count": null,
   "metadata": {},
   "outputs": [],
   "source": [
    "df_raw_y=df_raw[\"FAT\"]\n",
    "df_raw_x=df_raw.drop(\"FAT\", axis=1, inplace=False)#목표변수, 설명변수 지정\n",
    "\n",
    "df_train_x, df_test_x, df_train_y, df_test_y = train_test_split(df_raw_x, df_raw_y, test_size = 0.3, random_state =1234)\n",
    "print(\"train data x size: {}\".format(df_train_x.shape))\n",
    "print(\"train data y size: {}\".format(df_train_y.shape))\n",
    "print(\"test data x size: {}\".format(df_test_x.shape))\n",
    "print(\"test data y size: {}\".format(df_test_y.shape))"
   ]
  },
  {
   "cell_type": "code",
   "execution_count": null,
   "metadata": {},
   "outputs": [],
   "source": [
    "lr_model=smf.ols(formula = \"FAT ~ NECK + ABDOMEN + HIP + FOREARM + WRIST\", data = df_raw)\n",
    "lr_result = lr_model.fit()\n",
    "print(lr_result.summary())\n",
    "#의사결정트리 생성\n",
    "dt_model = DecisionTreeRegressor(random_state=1234, min_samples_leaf = 8, min_samples_split = 20, max_depth = 4)\n",
    "dt_model.fit(df_train_x, df_train_y)\n",
    "#랜덤포레스트 생성\n",
    "rf_model = RandomForestRegressor(random_state=1234, n_estimators = 100, min_samples_leaf = 6, min_samples_split = 14, max_depth = 4)\n",
    "rf_model.fit(df_train_x, df_train_y)\n",
    "#그래디언트 부스팅 생성\n",
    "gb_model = GradientBoostingRegressor(random_state=1234, n_estimators = 30, min_samples_leaf = 11, min_samples_split = 22, max_depth = 4, learning_rate = 0.1)\n",
    "gb_model.fit(df_train_x, df_train_y)"
   ]
  },
  {
   "cell_type": "code",
   "execution_count": null,
   "metadata": {},
   "outputs": [],
   "source": [
    "print(gb_model.score(df_test_x,df_test_y))\n",
    "print(gb_model.score(df_train_x,df_train_y))"
   ]
  },
  {
   "cell_type": "code",
   "execution_count": null,
   "metadata": {},
   "outputs": [],
   "source": [
    "\n",
    "models = [\"회귀분석\", \"의사결정나무\", \"랜덤 포레스트\", \"그래디언트 부스팅\"] #모델 리스트, 그래프를 그리기 생성 목적\n",
    "mse, rmse, mae, mape = [],[],[],[] #평가 리스트 초기화"
   ]
  },
  {
   "cell_type": "code",
   "execution_count": null,
   "metadata": {},
   "outputs": [],
   "source": [
    "\n",
    "#회귀분석\n",
    "lr_y_pred = lr_result.predict(df_test_x) #예측\n",
    "#평가\n",
    "mse.append(mean_squared_error(df_test_y, lr_y_pred))\n",
    "rmse.append(root_mean_squared_error(df_test_y, lr_y_pred))\n",
    "mae.append(mean_absolute_error(df_test_y, lr_y_pred))\n",
    "mape.append(mean_absolute_percentage_error(df_test_y, lr_y_pred))"
   ]
  },
  {
   "cell_type": "code",
   "execution_count": null,
   "metadata": {},
   "outputs": [],
   "source": [
    "#의사결정나무\n",
    "dt_y_pred = dt_model.predict(df_test_x) #예측\n",
    "#평가\n",
    "mse.append(mean_squared_error(df_test_y, dt_y_pred))\n",
    "rmse.append(root_mean_squared_error(df_test_y, dt_y_pred))\n",
    "mae.append(mean_absolute_error(df_test_y, dt_y_pred))\n",
    "mape.append(mean_absolute_percentage_error(df_test_y, dt_y_pred))"
   ]
  },
  {
   "cell_type": "code",
   "execution_count": null,
   "metadata": {},
   "outputs": [],
   "source": [
    "#회귀분석\n",
    "rf_y_pred = rf_model.predict(df_test_x) #예측\n",
    "#평가\n",
    "mse.append(mean_squared_error(df_test_y, rf_y_pred))\n",
    "rmse.append(root_mean_squared_error(df_test_y, rf_y_pred))\n",
    "mae.append(mean_absolute_error(df_test_y, rf_y_pred))\n",
    "mape.append(mean_absolute_percentage_error(df_test_y, rf_y_pred))"
   ]
  },
  {
   "cell_type": "code",
   "execution_count": null,
   "metadata": {},
   "outputs": [],
   "source": [
    "#그래디언트 부스팅\n",
    "gb_y_pred = gb_model.predict(df_test_x) #예측\n",
    "#평가\n",
    "mse.append(mean_squared_error(df_test_y, gb_y_pred))\n",
    "rmse.append(root_mean_squared_error(df_test_y, gb_y_pred))\n",
    "mae.append(mean_absolute_error(df_test_y, gb_y_pred))\n",
    "mape.append(mean_absolute_percentage_error(df_test_y, gb_y_pred))"
   ]
  },
  {
   "cell_type": "code",
   "execution_count": 3,
   "metadata": {},
   "outputs": [
    {
     "ename": "NameError",
     "evalue": "name 'models' is not defined",
     "output_type": "error",
     "traceback": [
      "\u001b[1;31m---------------------------------------------------------------------------\u001b[0m",
      "\u001b[1;31mNameError\u001b[0m                                 Traceback (most recent call last)",
      "\u001b[1;32m<ipython-input-3-8750cd9d5acd>\u001b[0m in \u001b[0;36m<module>\u001b[1;34m\u001b[0m\n\u001b[0;32m      1\u001b[0m \u001b[0mfig\u001b[0m\u001b[1;33m,\u001b[0m \u001b[0max\u001b[0m \u001b[1;33m=\u001b[0m \u001b[0mplt\u001b[0m\u001b[1;33m.\u001b[0m\u001b[0msubplots\u001b[0m\u001b[1;33m(\u001b[0m\u001b[1;36m2\u001b[0m\u001b[1;33m,\u001b[0m\u001b[1;36m2\u001b[0m\u001b[1;33m,\u001b[0m \u001b[0mfigsize\u001b[0m \u001b[1;33m=\u001b[0m \u001b[1;33m(\u001b[0m\u001b[1;36m13\u001b[0m\u001b[1;33m,\u001b[0m \u001b[1;36m10\u001b[0m\u001b[1;33m)\u001b[0m\u001b[1;33m)\u001b[0m\u001b[1;33m\u001b[0m\u001b[1;33m\u001b[0m\u001b[0m\n\u001b[1;32m----> 2\u001b[1;33m \u001b[0max\u001b[0m\u001b[1;33m[\u001b[0m\u001b[1;36m0\u001b[0m\u001b[1;33m,\u001b[0m\u001b[1;36m0\u001b[0m\u001b[1;33m]\u001b[0m\u001b[1;33m.\u001b[0m\u001b[0mbar\u001b[0m\u001b[1;33m(\u001b[0m\u001b[0mmodels\u001b[0m\u001b[1;33m,\u001b[0m \u001b[0mmse\u001b[0m\u001b[1;33m)\u001b[0m\u001b[1;33m\u001b[0m\u001b[1;33m\u001b[0m\u001b[0m\n\u001b[0m\u001b[0;32m      3\u001b[0m \u001b[0max\u001b[0m\u001b[1;33m[\u001b[0m\u001b[1;36m0\u001b[0m\u001b[1;33m,\u001b[0m\u001b[1;36m0\u001b[0m\u001b[1;33m]\u001b[0m\u001b[1;33m.\u001b[0m\u001b[0mset_title\u001b[0m\u001b[1;33m(\u001b[0m\u001b[1;34m\"mse\"\u001b[0m\u001b[1;33m)\u001b[0m\u001b[1;33m.\u001b[0m\u001b[0mset_fontsize\u001b[0m\u001b[1;33m(\u001b[0m\u001b[1;36m15\u001b[0m\u001b[1;33m)\u001b[0m\u001b[1;33m\u001b[0m\u001b[1;33m\u001b[0m\u001b[0m\n\u001b[0;32m      4\u001b[0m \u001b[1;33m\u001b[0m\u001b[0m\n\u001b[0;32m      5\u001b[0m \u001b[0max\u001b[0m\u001b[1;33m[\u001b[0m\u001b[1;36m0\u001b[0m\u001b[1;33m,\u001b[0m\u001b[1;36m1\u001b[0m\u001b[1;33m]\u001b[0m\u001b[1;33m.\u001b[0m\u001b[0mbar\u001b[0m\u001b[1;33m(\u001b[0m\u001b[0mmodels\u001b[0m\u001b[1;33m,\u001b[0m \u001b[0mrmse\u001b[0m\u001b[1;33m)\u001b[0m\u001b[1;33m\u001b[0m\u001b[1;33m\u001b[0m\u001b[0m\n",
      "\u001b[1;31mNameError\u001b[0m: name 'models' is not defined"
     ]
    },
    {
     "data": {
      "image/png": "[encoded data removed]",
      "text/plain": [
       "<Figure size 936x720 with 4 Axes>"
      ]
     },
     "metadata": {
      "needs_background": "light"
     },
     "output_type": "display_data"
    }
   ],
   "source": [
    "fig, ax = plt.subplots(2,2, figsize = (13, 10))\n",
    "ax[0,0].bar(models, mse)\n",
    "ax[0,0].set_title(\"mse\").set_fontsize(15)\n",
    "\n",
    "ax[0,1].bar(models, rmse)\n",
    "ax[0,1].set_title(\"rsme\").set_fontsize(15)\n",
    "\n",
    "ax[1,0].bar(models, mae)\n",
    "ax[1,0].set_title(\"mae\").set_fontsize(15)\n",
    "\n",
    "ax[1,1].bar(models, mape)\n",
    "ax[1,1].set_title(\"mape\").set_fontsize(15)"
   ]
  },
  {
   "cell_type": "markdown",
   "metadata": {},
   "source": [
    "# 주성분 분석(PCA) 연습\n"
   ]
  },
  {
   "cell_type": "code",
   "execution_count": null,
   "metadata": {},
   "outputs": [],
   "source": [
    "from sklearn.decomposition import PCA\n",
    "from scipy import stats\n",
    "from sklearn.preprocessing import StandardScaler\n",
    "import pandas as pd\n",
    "import numpy as np\n",
    "from sklearn.model_selection import train_test_split\n",
    "from sklearn.preprocessing import scale\n",
    "\n",
    "import seaborn as sns\n",
    "import matplotlib.pyplot as plt\n",
    "import matplotlib.font_manager as fm\n",
    "import matplotlib\n",
    "\n",
    "for f in fm.fontManager.ttflist:\n",
    "    if 'NanumBarunGothic' in f.fname:\n",
    "        plt.rcParams['font.family'] = 'NanumBarunGothic' # 폰트를 나눔고딕으로\n",
    "print(plt.rcParams['font.family'])\n",
    "matplotlib.rcParams['axes.unicode_minus'] = False #'-'기호 제대로 나오게함"
   ]
  },
  {
   "cell_type": "code",
   "execution_count": null,
   "metadata": {},
   "outputs": [],
   "source": [
    "df_raw = pd.read_csv(\"/home/piai/Desktop/POSCO_Ai-BigData_academy/Week2_BigData/실습파일/직무능력평가.csv\",encoding = 'euc-kr')\n",
    "df_raw.head()"
   ]
  },
  {
   "cell_type": "code",
   "execution_count": null,
   "metadata": {},
   "outputs": [],
   "source": [
    "df_raw_x = df_raw.drop(\"EVAL\",axis =1)\n",
    "df_raw_y = df_raw[\"EVAL\"]\n",
    "df_raw_x.head()"
   ]
  },
  {
   "cell_type": "code",
   "execution_count": null,
   "metadata": {},
   "outputs": [],
   "source": [
    "#변수강 상관관계분석\n",
    "df_raw_x.corr().round(3)"
   ]
  },
  {
   "cell_type": "code",
   "execution_count": null,
   "metadata": {
    "scrolled": true
   },
   "outputs": [],
   "source": [
    "#산점도 행렬\n",
    "sns.pairplot(df_raw_x)"
   ]
  },
  {
   "cell_type": "code",
   "execution_count": null,
   "metadata": {
    "scrolled": true
   },
   "outputs": [],
   "source": [
    "#데이터 표준화\n",
    "x_cols =df_raw_x.columns \n",
    "scaler = StandardScaler()\n",
    "#데이터표준화변환\n",
    "nd_scaled = scaler.fit_transform(df_raw_x)\n",
    "#표준화된 데이터 확인\n",
    "print(\"Scaled Data :\\n{}\".format(nd_scaled[:5].round(3)))\n",
    "print(\"Shape :\\n{}\".format(nd_scaled.shape))\n"
   ]
  },
  {
   "cell_type": "code",
   "execution_count": null,
   "metadata": {},
   "outputs": [],
   "source": [
    "df_scaled= pd.DataFrame(nd_scaled,columns=x_cols)\n",
    "df_scaled.head().round(3)"
   ]
  },
  {
   "cell_type": "code",
   "execution_count": null,
   "metadata": {},
   "outputs": [],
   "source": [
    "df_scaled.describe().round(3)"
   ]
  },
  {
   "cell_type": "code",
   "execution_count": null,
   "metadata": {
    "scrolled": true
   },
   "outputs": [],
   "source": [
    "\n",
    "# 주성분 분석모델 생성 Prin1 ~ 6 까지\n",
    "pca = PCA(n_components=6)\n",
    "nd_pca = pca.fit_transform(nd_scaled)\n",
    "#계산된 Prin1~6까지의 Row개수, column개수 화인\n",
    "print(\"PCA DATA : \\n{}\".format(x_pca[:5]))\n",
    "#shape : Prin 1~6까지 Row개수, column개수 확인\n",
    "print(\"Shape: \\n{}\".format(nd_pca.shape))\n",
    "#주성분 점수 저장\n",
    "df_pca = pd.DataFrame(nd_pca,columns = [\"Prin1\",\"Prin2\",\"Prin3\",\"Prin4\",\"Prin5\",\"Prin6\"])"
   ]
  },
  {
   "cell_type": "code",
   "execution_count": null,
   "metadata": {},
   "outputs": [],
   "source": [
    "df_scaled_pca =df_scaled.join(df_pca)\n",
    "df_scaled_pca.head()"
   ]
  },
  {
   "cell_type": "code",
   "execution_count": null,
   "metadata": {},
   "outputs": [],
   "source": [
    "# 고유값 확인\n",
    "#주성분 통계량 입력용 새로운 데이터 프레임 생성\n",
    "df_pca_stat = pd.DataFrame()\n",
    "#주성분 분석 모델의 주성분 번호, Elgenvalue, Eigenvalue Ratio 등을 데이터 프레임의 형태로 저장\n",
    "df_pca_stat[\"PrinNO\"] = [i for i in range(1,7)]\n",
    "df_pca_stat[\"EigenValues\"] = pca.explained_variance_##Eigen values\n",
    "df_pca_stat[\"EigenValueRatio\"] = pca.explained_variance_ratio_## Eigenvalue Ratio\n",
    "df_pca_stat[\"CumsumEigenValueRatio\"] = np.cumsum(pca.explained_variance_ratio_)\n",
    "df_pca_stat.round(3)"
   ]
  },
  {
   "cell_type": "code",
   "execution_count": null,
   "metadata": {},
   "outputs": [],
   "source": [
    "plt.plot(df_pca_stat[\"PrinNO\"],df_pca_stat[\"EigenValues\"],label='고유값')\n",
    "plt.ylabel(\"고유값(Eigenvalue\")\n",
    "plt.xlabel(\"주성분 번호\")\n",
    "plt.legend(loc='best')"
   ]
  },
  {
   "cell_type": "code",
   "execution_count": null,
   "metadata": {
    "scrolled": true
   },
   "outputs": [],
   "source": [
    "# 고유값 비율 그래프 생성\n",
    "plt.plot(df_pca_stat[\"PrinNO\"],df_pca_stat[\"EigenValueRatio\"],label =\"Ratio\")\n",
    "# 누적된 고유값 비율 그래프 생성\n",
    "plt.plot(df_pca_stat[\"PrinNO\"],df_pca_stat[\"CumsumEigenValueRatio\"],label = \"Cumsum Ratio\")\n",
    "# 그래프 label, lengend 설정\n",
    "plt.ylabel(\"Eigen Value ratio\")\n",
    "plt.xlabel(\"Prin\")\n",
    "plt.legend(loc = \"best\")\n"
   ]
  },
  {
   "cell_type": "code",
   "execution_count": null,
   "metadata": {},
   "outputs": [],
   "source": [
    "x_cols = pd.DataFrame({\"Feature\":df_raw_x.columns})"
   ]
  },
  {
   "cell_type": "code",
   "execution_count": null,
   "metadata": {},
   "outputs": [],
   "source": [
    "df_eigenvector= pd.concat([x_cols,pd.DataFrame(pca.components_.T * -1, columns = [\"Prin1\",\"Prin2\",\"Prin3\",\"Prin4\",\"Prin5\",\"Prin6\"])],axis=1)\n",
    "df_eigenvector.round(3)"
   ]
  },
  {
   "cell_type": "code",
   "execution_count": null,
   "metadata": {},
   "outputs": [],
   "source": [
    "#산점도 행렬\n",
    "sns.pairplot(df_x_pca)"
   ]
  },
  {
   "cell_type": "code",
   "execution_count": null,
   "metadata": {
    "scrolled": true
   },
   "outputs": [],
   "source": [
    "\n",
    "#상관계수\n",
    "df_x_pca.corr().round(3)\n",
    "# 주성분은 서로 독립적, 상관계수 =0"
   ]
  },
  {
   "cell_type": "code",
   "execution_count": null,
   "metadata": {
    "scrolled": true
   },
   "outputs": [],
   "source": [
    "df_raw_x_const = sm.add_constant(df_raw_x)\n",
    "reg_model= sm.OLS(df_raw_y,df_raw_x_const)\n",
    "reg_model = reg_model.fit()\n",
    "print(reg_model.summary())"
   ]
  },
  {
   "cell_type": "code",
   "execution_count": null,
   "metadata": {
    "scrolled": true
   },
   "outputs": [],
   "source": [
    "df_scaled_const = sm.add_constant(df_scaled)\n",
    "reg_model = sm.OLS(df_raw_y, df_scaled_const)\n",
    "reg_model = reg_model.fit()\n",
    "print(reg_model.summary())"
   ]
  },
  {
   "cell_type": "code",
   "execution_count": null,
   "metadata": {},
   "outputs": [],
   "source": [
    "x_var = [\"Prin1\",\"Prin2\",\"Prin3\"]\n",
    "df_pca_const = sm.add_constant(df_pca[x_var])\n",
    "reg_model = sm.OLS(df_raw_y, df_pca_const)\n",
    "reg_model = reg_model.fit()\n",
    "print(reg_model.summary())"
   ]
  },
  {
   "cell_type": "code",
   "execution_count": null,
   "metadata": {},
   "outputs": [],
   "source": [
    "import statsmodels.api as sm\n",
    "from statsmodels.graphics.tsaplots import plot_acf,plot_pacf\n",
    "from statsmodels.tsa.arima_model import ARIMA"
   ]
  },
  {
   "cell_type": "code",
   "execution_count": null,
   "metadata": {},
   "outputs": [],
   "source": [
    "df_currency = pd.read_csv(\"/home/piai/Desktop/POSCO_Ai-BigData_academy/Week2_BigData/실습파일/환율.csv\",parse_dates=[\"APPL_DATE\"],encoding = 'euc-kr')\n",
    "df_currency.head()"
   ]
  },
  {
   "cell_type": "code",
   "execution_count": null,
   "metadata": {},
   "outputs": [],
   "source": [
    "df_currency.isnull().sum()"
   ]
  },
  {
   "cell_type": "code",
   "execution_count": null,
   "metadata": {},
   "outputs": [],
   "source": [
    "#STEP2. 변동추세확인- 시간에 따른 환율 추세 그래프생성\n",
    "# 중국 위엔화, 엔화, 달러의 크기가 다르기 때문에 각각 그래프를 생성 / 3행1열, 크기:10,8\n",
    "fig,(ax1,ax2,ax3)= plt.subplots(nrows= 3,ncols= 1, figsize = (10,8))\n",
    "#zip 함수를 사용하면 zip함수 안의 리스트들을 하나씩 배출\n",
    "# 1번loop :ax1, 311, \"CNY\"\n",
    "# 2번loop :ax2, 312, \"JPY\"\n",
    "# 3번loop :ax3, 313, \"USD\"\n",
    "for(ax,idx,currency) in zip([ax1,ax2,ax3],[311,312,313],[\"CNY\",\"JPY\",\"USD\"]):\n",
    "    #plot 추가, 311 -> 3행 1열의 1번 그래프\n",
    "    ax.plot(\"APPL_DATE\",\"STD_RATE\",data = df_currency[df_currency[\"CURRENCY\"]==currency])\n",
    "    ax.set_ylabel(currency,rotation = 0, labelpad = 20)\n"
   ]
  },
  {
   "cell_type": "code",
   "execution_count": null,
   "metadata": {},
   "outputs": [],
   "source": [
    "#CNY 데이터 추출 후 APPL_DATE를 INDEX로 설정\n",
    "df_currency_cny= df_currency[df_currency[\"CURRENCY\"]==\"CNY\"].set_index(\"APPL_DATE\")\n",
    "#drop method를 이용하여 통화(currency)와 미달러 환산율(USD_CONV_DATE)변수제외\n",
    "df_currency_cny.drop([\"CURRENCY\",\"USD_CONV_DATE\"],axis=1,inplace = True)\n",
    "#JPY데이터 생성\n",
    "df_currency_jpy = df_currency[df_currency[\"CURRENCY\"] == \"JPY\"].set_index(\"APPL_DATE\")\n",
    "df_currency_jpy.drop([\"CURRENCY\",\"USD_CONV_DATE\"],axis=1,inplace = True)\n",
    "#USD데이터 생성\n",
    "df_currency_usd = df_currency[df_currency[\"CURRENCY\"] == \"USD\"].set_index(\"APPL_DATE\")\n",
    "df_currency_usd.drop([\"CURRENCY\",\"USD_CONV_DATE\"],axis=1,inplace = True)\n",
    "df_currency_cny.head()\n",
    "# 중국위엔화환율데이터"
   ]
  },
  {
   "cell_type": "code",
   "execution_count": null,
   "metadata": {},
   "outputs": [],
   "source": [
    "train_size= 0.9\n",
    "len_idx= len(df_currency_cny.index)\n",
    "mask=(np.arange(len_idx)/len_idx)<train_size\n",
    "\n",
    "\n",
    "df_cny_train= df_currency_cny[mask]\n",
    "df_cny_test= df_currency_cny[~mask]\n",
    "mask"
   ]
  },
  {
   "cell_type": "code",
   "execution_count": null,
   "metadata": {},
   "outputs": [],
   "source": [
    "#STEP3.시계열 분석: 데이터 분할 - 차분을 통하여 정상성 데이터로 변화\n",
    "# 1번차분:z(t)- z(t-1)\n",
    "# shift(n): 앞의 n번 째 행의 데이터를 가져옴\n",
    "df_cny_diff1 = df_currency_cny[\"STD_RATE\"] - df_currency_cny[\"STD_RATE\"].shift(1)\n",
    "df_cny_diff1.plot()\n"
   ]
  },
  {
   "cell_type": "code",
   "execution_count": null,
   "metadata": {},
   "outputs": [],
   "source": [
    "#2번차분 (z(t)-z(t-1))-(z(t-1)-z(t-2)) = z(t)-2*z(t-1) +z(t-2)\n",
    "df_cny_diff2 = df_currency_cny[\"STD_RATE\"]-2*(df_currency_cny[\"STD_RATE\"].shift(1))+\\\n",
    "    (df_currency_cny[\"STD_RATE\"].shift(2))\n",
    "\n",
    "df_cny_diff2.plot()\n"
   ]
  },
  {
   "cell_type": "code",
   "execution_count": null,
   "metadata": {},
   "outputs": [],
   "source": [
    "#STEP 3. 시계열분석 - 자기상관 함수 및 부분 자기상관함수\n",
    "# LAG를 30까지 하여 ACF,PACF산출\n",
    "lag_size = 30\n",
    "fig = plt.figure(figsize = (12,8))\n",
    "# acf 그래프를 그릴 공간 생성\n",
    "ax1= fig.add_subplot(211)\n",
    "# 자기상관 함수 그래프 plot_acf함수 사용 -> 위에 생성한 공간에 그래프 넣기\n",
    "fig = plot_acf(df_currency_cny[\"STD_RATE\"],lags = lag_size, ax = ax1)\n",
    "#pacf 그래프를 그릴 공간 생성\n",
    "ax2 = fig.add_subplot(212)\n",
    "# 부분 자기상관 함수 그래프 plot_pacf 함수사용 -> 위에 생성한 공간에 그래프넣기\n",
    "fig = plot_pacf(df_currency_cny[\"STD_RATE\"],lags = lag_size, ax = ax2)\n",
    "\n"
   ]
  },
  {
   "cell_type": "code",
   "execution_count": null,
   "metadata": {},
   "outputs": [],
   "source": [
    "#AR(1),l(2, 차분),MA(0)인 ARIMA모델\n",
    "#MA(0)인 이유: 평균을 낼 구간이 현재시점에서 과거 한시점밖에 없으므로 MA가 필요없다\n",
    "ts_model_cny = ARIMA(df_currency_cny,order = (1,2,0))\n",
    "#데이터 적합\n",
    "# trend:상수포함 여부 \"nc\"이면 상수 미포함, full_output:모든 출력 결과 표시, disp : 수렴정보 출력\n",
    "ts_result_cny = ts_model_cny.fit(trend= \"c\",full_output=True,disp = 1)\n",
    "print(ts_result_cny.summary())\n",
    "# 절편은 유의하지 않더라도 모델에 포함\n"
   ]
  },
  {
   "cell_type": "code",
   "execution_count": null,
   "metadata": {},
   "outputs": [],
   "source": [
    "from datetime import datetime\n",
    "#STEP 4. 예측 및 결과 해석\n",
    "#예측 시작 날짜 생성: \"날짜\",format\n",
    "start_time = df_cny_test.index.min()\n",
    "end_time = df_cny_test.index.max()\n",
    "fig,ax = plt.subplots(figsize =(12,8))\n",
    "# 예측 전까지 데이터\n",
    "ax = df_cny_train.plot(ax = ax)\n",
    "# 예측 그래프 생성함수, start:예측시작,end:예측종료, plot_insample:가지고 있는 데이터 중 예측 구간과 겹치는 구간표시\n",
    "fig = ts_result_cny.plot_predict(start = start_time, end = end_time, ax = ax,plot_insample=False)\n",
    "\n"
   ]
  },
  {
   "cell_type": "code",
   "execution_count": null,
   "metadata": {},
   "outputs": [],
   "source": []
  },
  {
   "cell_type": "code",
   "execution_count": null,
   "metadata": {},
   "outputs": [],
   "source": []
  }
 ],
 "metadata": {
  "kernelspec": {
   "display_name": "Python 3",
   "language": "python",
   "name": "python3"
  },
  "language_info": {
   "codemirror_mode": {
    "name": "ipython",
    "version": 3
   },
   "file_extension": ".py",
   "mimetype": "text/x-python",
   "name": "python",
   "nbconvert_exporter": "python",
   "pygments_lexer": "ipython3",
   "version": "3.8.3"
  }
 },
 "nbformat": 4,
 "nbformat_minor": 4
}
