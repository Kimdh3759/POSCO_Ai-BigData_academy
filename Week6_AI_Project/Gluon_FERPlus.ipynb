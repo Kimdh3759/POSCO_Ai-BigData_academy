{
 "cells": [
  {
   "cell_type": "code",
   "execution_count": 2,
   "metadata": {},
   "outputs": [],
   "source": [
    "import numpy as np\n",
    "import mxnet as mx\n",
    "from mxnet import nd, autograd, gluon"
   ]
  },
  {
   "cell_type": "markdown",
   "metadata": {},
   "source": [
    "![image.png](../assets/data_prep_wf.png)"
   ]
  },
  {
   "cell_type": "markdown",
   "metadata": {},
   "source": [
    "# Raw Data - FER2013\n",
    "* https://www.kaggle.com/c/challenges-in-representation-learning-facial-expression-recognition-challenge/data\n",
    "* 48 X 48 gray scale images\n",
    "* 28,709 training samples\n",
    "* 3,589 validation data\n",
    "* 3,589 test data\n",
    "* 7 emotion labels (0=Angry, 1=Disgust, 2=Fear, 3=Happy, 4=Sad, 5=Surprise, 6=Neutral)\n",
    "* ~60-65% human accuracy in labelling\n",
    "\n",
    "![image.png](../assets/test_raw_data.png)\n",
    "\n",
    "# Data Preparation is Critical\n",
    "* State of the Art accuracy using a Convolutional Neural Network (CNN) model directly on this raw data is **63%** [1].\n",
    "* State of the Art accuracy using a slightly modified Convolutional Neural Network (CNN) model after processing the data is **83%** [2]."
   ]
  },
  {
   "cell_type": "markdown",
   "metadata": {},
   "source": [
    "# Processed Data - FER+\n",
    "\n",
    "Follow the instructions listed in the README file - https://github.com/TalkAI/facial-emotion-recognition-gluon#before-you-start\n",
    "* FER+ has new corrected labels\n",
    "* FER+ has 8 emotions - (0: 'neutral', 1: 'happiness', 2: 'surprise', 3: 'sadness', 4: 'anger', 5: 'disgust', 6: 'fear',7: 'contempt')\n",
    "* Image augmentations:\n",
    "    * Crop faces in the images – bounding box in the FER+ dataset\n",
    "    * Scale image size from 48 X 48 -> 64 X 64\n",
    "    * Shift image\n",
    "    * Flip image\n",
    "    * Rotate (angle) image\n",
    "    * Normalize the pixels in the image"
   ]
  },
  {
   "cell_type": "markdown",
   "metadata": {},
   "source": [
    "| Emotion  | Train  | Val  |  Test |\n",
    "|---|---|---|---|\n",
    "| neutral  |8733   |  1180 | 1083  |\n",
    "| happiness  | 7284  | 862  | 892  |\n",
    "| surprise  | 3136  | 411  | 394  |\n",
    "| sadness  | 3022  | 348  | 382  |\n",
    "| anger  | 2098  |  289 |  269 |\n",
    "| disgust  | 116  | 25  | 16  |\n",
    "| fear  | 536  | 60  | 86  |\n",
    "| comtempt  | 120  | 16  | 15  |"
   ]
  },
  {
   "cell_type": "code",
   "execution_count": 3,
   "metadata": {},
   "outputs": [],
   "source": [
    "# 8 Emotions we want to recognize\n",
    "emotion_table = {0: 'neutral',\n",
    "                 1: 'happiness',\n",
    "                 2: 'surprise',\n",
    "                 3: 'sadness',\n",
    "                 4: 'anger',\n",
    "                 5: 'disgust',\n",
    "                 6: 'fear',\n",
    "                 7: 'contempt'}"
   ]
  },
  {
   "cell_type": "code",
   "execution_count": 4,
   "metadata": {},
   "outputs": [],
   "source": [
    "processed_train_images = np.load('/home/piai/Desktop/ferplus/fer_train_processed_images.npy')\n",
    "processed_train_labels = np.load('/home/piai/Desktop/ferplus//fer_train_processed_labels.npy')"
   ]
  },
  {
   "cell_type": "code",
   "execution_count": 5,
   "metadata": {},
   "outputs": [
    {
     "name": "stdout",
     "output_type": "stream",
     "text": [
      "(25045, 1, 64, 64) (25045, 8)\n"
     ]
    }
   ],
   "source": [
    "print(processed_train_images.shape, processed_train_labels.shape)"
   ]
  },
  {
   "cell_type": "code",
   "execution_count": 6,
   "metadata": {},
   "outputs": [],
   "source": [
    "from matplotlib import pyplot as plt"
   ]
  },
  {
   "cell_type": "code",
   "execution_count": 7,
   "metadata": {},
   "outputs": [
    {
     "data": {
      "text/plain": [
       "<matplotlib.image.AxesImage at 0x7f617d963850>"
      ]
     },
     "execution_count": 7,
     "metadata": {},
     "output_type": "execute_result"
    },
    {
     "data": {
      "image/png": "[encoded data removed]",
      "text/plain": [
       "<Figure size 432x288 with 1 Axes>"
      ]
     },
     "metadata": {
      "needs_background": "light"
     },
     "output_type": "display_data"
    }
   ],
   "source": [
    "plt.imshow(processed_train_images[987].reshape(64,64), cmap='gray')"
   ]
  },
  {
   "cell_type": "code",
   "execution_count": 8,
   "metadata": {},
   "outputs": [],
   "source": [
    "processed_test_images = np.load('/home/piai/Desktop/ferplus/fer_test_processed_images.npy')\n",
    "processed_test_labels = np.load('/home/piai/Desktop/ferplus/fer_test_processed_labels.npy')\n",
    "processed_val_images = np.load('/home/piai/Desktop/ferplus/fer_val_processed_images.npy')\n",
    "processed_val_labels = np.load('/home/piai/Desktop/ferplus/fer_val_processed_labels.npy')"
   ]
  },
  {
   "cell_type": "code",
   "execution_count": 9,
   "metadata": {},
   "outputs": [
    {
     "name": "stdout",
     "output_type": "stream",
     "text": [
      "(3137, 1, 64, 64) (3137, 8)\n"
     ]
    }
   ],
   "source": [
    "print(processed_test_images.shape, processed_test_labels.shape)"
   ]
  },
  {
   "cell_type": "code",
   "execution_count": 10,
   "metadata": {},
   "outputs": [
    {
     "name": "stdout",
     "output_type": "stream",
     "text": [
      "(3191, 1, 64, 64) (3191, 8)\n"
     ]
    }
   ],
   "source": [
    "print(processed_val_images.shape, processed_val_labels.shape)"
   ]
  },
  {
   "cell_type": "code",
   "execution_count": 11,
   "metadata": {},
   "outputs": [],
   "source": [
    "# Sets context to GPU, if available. Otherwise sets to CPU.\n",
    "# Note that training on one GPU takes approx. 1.1 minute per epoch, and may take longer on CPU\n",
    "\n",
    "ctx = mx.gpu() if mx.context.num_gpus() else mx.cpu()"
   ]
  },
  {
   "cell_type": "markdown",
   "metadata": {},
   "source": [
    "![image.png](../assets/model_training_prep_wf.png)"
   ]
  },
  {
   "cell_type": "markdown",
   "metadata": {},
   "source": [
    "# Step 1 – Construct the Neural Network"
   ]
  },
  {
   "cell_type": "markdown",
   "metadata": {},
   "source": [
    "### 13 layer VGGNet presented in the paper [2]\n",
    "![image.png](../assets/network.png)"
   ]
  },
  {
   "cell_type": "code",
   "execution_count": 12,
   "metadata": {},
   "outputs": [],
   "source": [
    "# We use HybridSequential network type to able to save the trained model as symbols and params.\n",
    "# More Info - https://mxnet.incubator.apache.org/tutorials/gluon/save_load_params.html\n",
    "net = gluon.nn.HybridSequential()\n",
    "\n",
    "# Construct 13 layer VGGNet suggested in the paper\n",
    "with net.name_scope():\n",
    "    net.add(gluon.nn.Conv2D(channels=64, kernel_size=3, padding=(1,1), activation='relu'))\n",
    "    net.add(gluon.nn.Conv2D(channels=64, kernel_size=3, padding=(1,1), activation='relu'))\n",
    "    net.add(gluon.nn.MaxPool2D(pool_size=2, strides=2))\n",
    "    net.add(gluon.nn.Dropout(0.25))\n",
    "    \n",
    "    net.add(gluon.nn.Conv2D(channels=128, kernel_size=3, padding=(1,1), activation='relu'))\n",
    "    net.add(gluon.nn.Conv2D(channels=128, kernel_size=3, padding=(1,1), activation='relu'))\n",
    "    net.add(gluon.nn.MaxPool2D(pool_size=2, strides=2))\n",
    "    net.add(gluon.nn.Dropout(0.25))\n",
    "    \n",
    "    net.add(gluon.nn.Conv2D(channels=256, kernel_size=3, padding=(1,1), activation='relu'))\n",
    "    net.add(gluon.nn.Conv2D(channels=256, kernel_size=3, padding=(1,1), activation='relu'))\n",
    "    net.add(gluon.nn.Conv2D(channels=256, kernel_size=3, padding=(1,1), activation='relu'))\n",
    "    net.add(gluon.nn.MaxPool2D(pool_size=2, strides=2))\n",
    "    net.add(gluon.nn.Dropout(0.25))\n",
    "    \n",
    "    net.add(gluon.nn.Conv2D(channels=256, kernel_size=3, padding=(1,1), activation='relu'))\n",
    "    net.add(gluon.nn.Conv2D(channels=256, kernel_size=3, padding=(1,1), activation='relu'))\n",
    "    net.add(gluon.nn.Conv2D(channels=256, kernel_size=3, padding=(1,1), activation='relu'))\n",
    "    net.add(gluon.nn.MaxPool2D(pool_size=2, strides=2))\n",
    "    net.add(gluon.nn.Dropout(0.25))\n",
    "    \n",
    "    net.add(gluon.nn.Flatten())\n",
    "    net.add(gluon.nn.Dense(1024, activation='relu'))\n",
    "    net.add(gluon.nn.Dropout(0.5))\n",
    "    net.add(gluon.nn.Dense(1024, activation='relu'))\n",
    "    net.add(gluon.nn.Dropout(0.5))\n",
    "    net.add(gluon.nn.Dense(8))"
   ]
  },
  {
   "cell_type": "code",
   "execution_count": 13,
   "metadata": {},
   "outputs": [],
   "source": [
    "# We Hybridize the HybridSequential network to able to save the trained model as symbols and params.\n",
    "# More Info - https://mxnet.incubator.apache.org/tutorials/gluon/save_load_params.html\n",
    "net.hybridize()"
   ]
  },
  {
   "cell_type": "markdown",
   "metadata": {},
   "source": [
    "# Step 2 – Initialize the parameters in Neural Network"
   ]
  },
  {
   "cell_type": "code",
   "execution_count": 14,
   "metadata": {},
   "outputs": [],
   "source": [
    "net.collect_params().initialize(mx.init.Xavier(), ctx=ctx)\n",
    "nd.waitall()"
   ]
  },
  {
   "cell_type": "code",
   "execution_count": 15,
   "metadata": {},
   "outputs": [
    {
     "data": {
      "image/svg+xml": [
       "<?xml version=\"1.0\" encoding=\"UTF-8\" standalone=\"no\"?>\n",
       "<!DOCTYPE svg PUBLIC \"-//W3C//DTD SVG 1.1//EN\"\n",
       " \"http://www.w3.org/Graphics/SVG/1.1/DTD/svg11.dtd\">\n",
       "<!-- Generated by graphviz version 2.42.3 (20191010.1750)\n",
       " -->\n",
       "<!-- Title: plot Pages: 1 -->\n",
       "<svg width=\"102pt\" height=\"3450pt\"\n",
       " viewBox=\"0.00 0.00 102.00 3450.00\" xmlns=\"http://www.w3.org/2000/svg\" xmlns:xlink=\"http://www.w3.org/1999/xlink\">\n",
       "<g id=\"graph0\" class=\"graph\" transform=\"scale(1 1) rotate(0) translate(4 3446)\">\n",
       "<title>plot</title>\n",
       "<polygon fill=\"white\" stroke=\"transparent\" points=\"-4,4 -4,-3446 98,-3446 98,4 -4,4\"/>\n",
       "<!-- data -->\n",
       "<g id=\"node1\" class=\"node\">\n",
       "<title>data</title>\n",
       "<ellipse fill=\"#8dd3c7\" stroke=\"black\" cx=\"47\" cy=\"-29\" rx=\"47\" ry=\"29\"/>\n",
       "<text text-anchor=\"middle\" x=\"47\" y=\"-25.3\" font-family=\"Times,serif\" font-size=\"14.00\">data</text>\n",
       "</g>\n",
       "<!-- hybridsequential0_conv0_fwd -->\n",
       "<g id=\"node2\" class=\"node\">\n",
       "<title>hybridsequential0_conv0_fwd</title>\n",
       "<polygon fill=\"#fb8072\" stroke=\"black\" points=\"94,-152 0,-152 0,-94 94,-94 94,-152\"/>\n",
       "<text text-anchor=\"middle\" x=\"47\" y=\"-126.8\" font-family=\"Times,serif\" font-size=\"14.00\">Convolution</text>\n",
       "<text text-anchor=\"middle\" x=\"47\" y=\"-111.8\" font-family=\"Times,serif\" font-size=\"14.00\">3x3/1x1, 64</text>\n",
       "</g>\n",
       "<!-- hybridsequential0_conv0_fwd&#45;&gt;data -->\n",
       "<g id=\"edge1\" class=\"edge\">\n",
       "<title>hybridsequential0_conv0_fwd&#45;&gt;data</title>\n",
       "<path fill=\"none\" stroke=\"black\" d=\"M47,-83.74C47,-75.2 47,-66.3 47,-58.25\"/>\n",
       "<polygon fill=\"black\" stroke=\"black\" points=\"47,-93.9 42.5,-83.9 47,-88.9 47,-83.9 47,-83.9 47,-83.9 47,-88.9 51.5,-83.9 47,-93.9 47,-93.9\"/>\n",
       "</g>\n",
       "<!-- hybridsequential0_conv0_relu_fwd -->\n",
       "<g id=\"node3\" class=\"node\">\n",
       "<title>hybridsequential0_conv0_relu_fwd</title>\n",
       "<polygon fill=\"#ffffb3\" stroke=\"black\" points=\"94,-246 0,-246 0,-188 94,-188 94,-246\"/>\n",
       "<text text-anchor=\"middle\" x=\"47\" y=\"-220.8\" font-family=\"Times,serif\" font-size=\"14.00\">Activation</text>\n",
       "<text text-anchor=\"middle\" x=\"47\" y=\"-205.8\" font-family=\"Times,serif\" font-size=\"14.00\">relu</text>\n",
       "</g>\n",
       "<!-- hybridsequential0_conv0_relu_fwd&#45;&gt;hybridsequential0_conv0_fwd -->\n",
       "<g id=\"edge2\" class=\"edge\">\n",
       "<title>hybridsequential0_conv0_relu_fwd&#45;&gt;hybridsequential0_conv0_fwd</title>\n",
       "<path fill=\"none\" stroke=\"black\" d=\"M47,-177.74C47,-169.2 47,-160.3 47,-152.25\"/>\n",
       "<polygon fill=\"black\" stroke=\"black\" points=\"47,-187.9 42.5,-177.9 47,-182.9 47,-177.9 47,-177.9 47,-177.9 47,-182.9 51.5,-177.9 47,-187.9 47,-187.9\"/>\n",
       "</g>\n",
       "<!-- hybridsequential0_conv1_fwd -->\n",
       "<g id=\"node4\" class=\"node\">\n",
       "<title>hybridsequential0_conv1_fwd</title>\n",
       "<polygon fill=\"#fb8072\" stroke=\"black\" points=\"94,-340 0,-340 0,-282 94,-282 94,-340\"/>\n",
       "<text text-anchor=\"middle\" x=\"47\" y=\"-314.8\" font-family=\"Times,serif\" font-size=\"14.00\">Convolution</text>\n",
       "<text text-anchor=\"middle\" x=\"47\" y=\"-299.8\" font-family=\"Times,serif\" font-size=\"14.00\">3x3/1x1, 64</text>\n",
       "</g>\n",
       "<!-- hybridsequential0_conv1_fwd&#45;&gt;hybridsequential0_conv0_relu_fwd -->\n",
       "<g id=\"edge3\" class=\"edge\">\n",
       "<title>hybridsequential0_conv1_fwd&#45;&gt;hybridsequential0_conv0_relu_fwd</title>\n",
       "<path fill=\"none\" stroke=\"black\" d=\"M47,-271.74C47,-263.2 47,-254.3 47,-246.25\"/>\n",
       "<polygon fill=\"black\" stroke=\"black\" points=\"47,-281.9 42.5,-271.9 47,-276.9 47,-271.9 47,-271.9 47,-271.9 47,-276.9 51.5,-271.9 47,-281.9 47,-281.9\"/>\n",
       "</g>\n",
       "<!-- hybridsequential0_conv1_relu_fwd -->\n",
       "<g id=\"node5\" class=\"node\">\n",
       "<title>hybridsequential0_conv1_relu_fwd</title>\n",
       "<polygon fill=\"#ffffb3\" stroke=\"black\" points=\"94,-434 0,-434 0,-376 94,-376 94,-434\"/>\n",
       "<text text-anchor=\"middle\" x=\"47\" y=\"-408.8\" font-family=\"Times,serif\" font-size=\"14.00\">Activation</text>\n",
       "<text text-anchor=\"middle\" x=\"47\" y=\"-393.8\" font-family=\"Times,serif\" font-size=\"14.00\">relu</text>\n",
       "</g>\n",
       "<!-- hybridsequential0_conv1_relu_fwd&#45;&gt;hybridsequential0_conv1_fwd -->\n",
       "<g id=\"edge4\" class=\"edge\">\n",
       "<title>hybridsequential0_conv1_relu_fwd&#45;&gt;hybridsequential0_conv1_fwd</title>\n",
       "<path fill=\"none\" stroke=\"black\" d=\"M47,-365.74C47,-357.2 47,-348.3 47,-340.25\"/>\n",
       "<polygon fill=\"black\" stroke=\"black\" points=\"47,-375.9 42.5,-365.9 47,-370.9 47,-365.9 47,-365.9 47,-365.9 47,-370.9 51.5,-365.9 47,-375.9 47,-375.9\"/>\n",
       "</g>\n",
       "<!-- hybridsequential0_pool0_fwd -->\n",
       "<g id=\"node6\" class=\"node\">\n",
       "<title>hybridsequential0_pool0_fwd</title>\n",
       "<polygon fill=\"#80b1d3\" stroke=\"black\" points=\"94,-528 0,-528 0,-470 94,-470 94,-528\"/>\n",
       "<text text-anchor=\"middle\" x=\"47\" y=\"-502.8\" font-family=\"Times,serif\" font-size=\"14.00\">Pooling</text>\n",
       "<text text-anchor=\"middle\" x=\"47\" y=\"-487.8\" font-family=\"Times,serif\" font-size=\"14.00\">max, 2x2/2x2</text>\n",
       "</g>\n",
       "<!-- hybridsequential0_pool0_fwd&#45;&gt;hybridsequential0_conv1_relu_fwd -->\n",
       "<g id=\"edge5\" class=\"edge\">\n",
       "<title>hybridsequential0_pool0_fwd&#45;&gt;hybridsequential0_conv1_relu_fwd</title>\n",
       "<path fill=\"none\" stroke=\"black\" d=\"M47,-459.74C47,-451.2 47,-442.3 47,-434.25\"/>\n",
       "<polygon fill=\"black\" stroke=\"black\" points=\"47,-469.9 42.5,-459.9 47,-464.9 47,-459.9 47,-459.9 47,-459.9 47,-464.9 51.5,-459.9 47,-469.9 47,-469.9\"/>\n",
       "</g>\n",
       "<!-- hybridsequential0_dropout0_fwd -->\n",
       "<g id=\"node7\" class=\"node\">\n",
       "<title>hybridsequential0_dropout0_fwd</title>\n",
       "<polygon fill=\"#fccde5\" stroke=\"black\" points=\"94,-622 0,-622 0,-564 94,-564 94,-622\"/>\n",
       "<text text-anchor=\"middle\" x=\"47\" y=\"-589.3\" font-family=\"Times,serif\" font-size=\"14.00\">hybridsequential0_dropout0_fwd</text>\n",
       "</g>\n",
       "<!-- hybridsequential0_dropout0_fwd&#45;&gt;hybridsequential0_pool0_fwd -->\n",
       "<g id=\"edge6\" class=\"edge\">\n",
       "<title>hybridsequential0_dropout0_fwd&#45;&gt;hybridsequential0_pool0_fwd</title>\n",
       "<path fill=\"none\" stroke=\"black\" d=\"M47,-553.74C47,-545.2 47,-536.3 47,-528.25\"/>\n",
       "<polygon fill=\"black\" stroke=\"black\" points=\"47,-563.9 42.5,-553.9 47,-558.9 47,-553.9 47,-553.9 47,-553.9 47,-558.9 51.5,-553.9 47,-563.9 47,-563.9\"/>\n",
       "</g>\n",
       "<!-- hybridsequential0_conv2_fwd -->\n",
       "<g id=\"node8\" class=\"node\">\n",
       "<title>hybridsequential0_conv2_fwd</title>\n",
       "<polygon fill=\"#fb8072\" stroke=\"black\" points=\"94,-716 0,-716 0,-658 94,-658 94,-716\"/>\n",
       "<text text-anchor=\"middle\" x=\"47\" y=\"-690.8\" font-family=\"Times,serif\" font-size=\"14.00\">Convolution</text>\n",
       "<text text-anchor=\"middle\" x=\"47\" y=\"-675.8\" font-family=\"Times,serif\" font-size=\"14.00\">3x3/1x1, 128</text>\n",
       "</g>\n",
       "<!-- hybridsequential0_conv2_fwd&#45;&gt;hybridsequential0_dropout0_fwd -->\n",
       "<g id=\"edge7\" class=\"edge\">\n",
       "<title>hybridsequential0_conv2_fwd&#45;&gt;hybridsequential0_dropout0_fwd</title>\n",
       "<path fill=\"none\" stroke=\"black\" d=\"M47,-647.74C47,-639.2 47,-630.3 47,-622.25\"/>\n",
       "<polygon fill=\"black\" stroke=\"black\" points=\"47,-657.9 42.5,-647.9 47,-652.9 47,-647.9 47,-647.9 47,-647.9 47,-652.9 51.5,-647.9 47,-657.9 47,-657.9\"/>\n",
       "</g>\n",
       "<!-- hybridsequential0_conv2_relu_fwd -->\n",
       "<g id=\"node9\" class=\"node\">\n",
       "<title>hybridsequential0_conv2_relu_fwd</title>\n",
       "<polygon fill=\"#ffffb3\" stroke=\"black\" points=\"94,-810 0,-810 0,-752 94,-752 94,-810\"/>\n",
       "<text text-anchor=\"middle\" x=\"47\" y=\"-784.8\" font-family=\"Times,serif\" font-size=\"14.00\">Activation</text>\n",
       "<text text-anchor=\"middle\" x=\"47\" y=\"-769.8\" font-family=\"Times,serif\" font-size=\"14.00\">relu</text>\n",
       "</g>\n",
       "<!-- hybridsequential0_conv2_relu_fwd&#45;&gt;hybridsequential0_conv2_fwd -->\n",
       "<g id=\"edge8\" class=\"edge\">\n",
       "<title>hybridsequential0_conv2_relu_fwd&#45;&gt;hybridsequential0_conv2_fwd</title>\n",
       "<path fill=\"none\" stroke=\"black\" d=\"M47,-741.74C47,-733.2 47,-724.3 47,-716.25\"/>\n",
       "<polygon fill=\"black\" stroke=\"black\" points=\"47,-751.9 42.5,-741.9 47,-746.9 47,-741.9 47,-741.9 47,-741.9 47,-746.9 51.5,-741.9 47,-751.9 47,-751.9\"/>\n",
       "</g>\n",
       "<!-- hybridsequential0_conv3_fwd -->\n",
       "<g id=\"node10\" class=\"node\">\n",
       "<title>hybridsequential0_conv3_fwd</title>\n",
       "<polygon fill=\"#fb8072\" stroke=\"black\" points=\"94,-904 0,-904 0,-846 94,-846 94,-904\"/>\n",
       "<text text-anchor=\"middle\" x=\"47\" y=\"-878.8\" font-family=\"Times,serif\" font-size=\"14.00\">Convolution</text>\n",
       "<text text-anchor=\"middle\" x=\"47\" y=\"-863.8\" font-family=\"Times,serif\" font-size=\"14.00\">3x3/1x1, 128</text>\n",
       "</g>\n",
       "<!-- hybridsequential0_conv3_fwd&#45;&gt;hybridsequential0_conv2_relu_fwd -->\n",
       "<g id=\"edge9\" class=\"edge\">\n",
       "<title>hybridsequential0_conv3_fwd&#45;&gt;hybridsequential0_conv2_relu_fwd</title>\n",
       "<path fill=\"none\" stroke=\"black\" d=\"M47,-835.74C47,-827.2 47,-818.3 47,-810.25\"/>\n",
       "<polygon fill=\"black\" stroke=\"black\" points=\"47,-845.9 42.5,-835.9 47,-840.9 47,-835.9 47,-835.9 47,-835.9 47,-840.9 51.5,-835.9 47,-845.9 47,-845.9\"/>\n",
       "</g>\n",
       "<!-- hybridsequential0_conv3_relu_fwd -->\n",
       "<g id=\"node11\" class=\"node\">\n",
       "<title>hybridsequential0_conv3_relu_fwd</title>\n",
       "<polygon fill=\"#ffffb3\" stroke=\"black\" points=\"94,-998 0,-998 0,-940 94,-940 94,-998\"/>\n",
       "<text text-anchor=\"middle\" x=\"47\" y=\"-972.8\" font-family=\"Times,serif\" font-size=\"14.00\">Activation</text>\n",
       "<text text-anchor=\"middle\" x=\"47\" y=\"-957.8\" font-family=\"Times,serif\" font-size=\"14.00\">relu</text>\n",
       "</g>\n",
       "<!-- hybridsequential0_conv3_relu_fwd&#45;&gt;hybridsequential0_conv3_fwd -->\n",
       "<g id=\"edge10\" class=\"edge\">\n",
       "<title>hybridsequential0_conv3_relu_fwd&#45;&gt;hybridsequential0_conv3_fwd</title>\n",
       "<path fill=\"none\" stroke=\"black\" d=\"M47,-929.74C47,-921.2 47,-912.3 47,-904.25\"/>\n",
       "<polygon fill=\"black\" stroke=\"black\" points=\"47,-939.9 42.5,-929.9 47,-934.9 47,-929.9 47,-929.9 47,-929.9 47,-934.9 51.5,-929.9 47,-939.9 47,-939.9\"/>\n",
       "</g>\n",
       "<!-- hybridsequential0_pool1_fwd -->\n",
       "<g id=\"node12\" class=\"node\">\n",
       "<title>hybridsequential0_pool1_fwd</title>\n",
       "<polygon fill=\"#80b1d3\" stroke=\"black\" points=\"94,-1092 0,-1092 0,-1034 94,-1034 94,-1092\"/>\n",
       "<text text-anchor=\"middle\" x=\"47\" y=\"-1066.8\" font-family=\"Times,serif\" font-size=\"14.00\">Pooling</text>\n",
       "<text text-anchor=\"middle\" x=\"47\" y=\"-1051.8\" font-family=\"Times,serif\" font-size=\"14.00\">max, 2x2/2x2</text>\n",
       "</g>\n",
       "<!-- hybridsequential0_pool1_fwd&#45;&gt;hybridsequential0_conv3_relu_fwd -->\n",
       "<g id=\"edge11\" class=\"edge\">\n",
       "<title>hybridsequential0_pool1_fwd&#45;&gt;hybridsequential0_conv3_relu_fwd</title>\n",
       "<path fill=\"none\" stroke=\"black\" d=\"M47,-1023.74C47,-1015.2 47,-1006.3 47,-998.25\"/>\n",
       "<polygon fill=\"black\" stroke=\"black\" points=\"47,-1033.9 42.5,-1023.9 47,-1028.9 47,-1023.9 47,-1023.9 47,-1023.9 47,-1028.9 51.5,-1023.9 47,-1033.9 47,-1033.9\"/>\n",
       "</g>\n",
       "<!-- hybridsequential0_dropout1_fwd -->\n",
       "<g id=\"node13\" class=\"node\">\n",
       "<title>hybridsequential0_dropout1_fwd</title>\n",
       "<polygon fill=\"#fccde5\" stroke=\"black\" points=\"94,-1186 0,-1186 0,-1128 94,-1128 94,-1186\"/>\n",
       "<text text-anchor=\"middle\" x=\"47\" y=\"-1153.3\" font-family=\"Times,serif\" font-size=\"14.00\">hybridsequential0_dropout1_fwd</text>\n",
       "</g>\n",
       "<!-- hybridsequential0_dropout1_fwd&#45;&gt;hybridsequential0_pool1_fwd -->\n",
       "<g id=\"edge12\" class=\"edge\">\n",
       "<title>hybridsequential0_dropout1_fwd&#45;&gt;hybridsequential0_pool1_fwd</title>\n",
       "<path fill=\"none\" stroke=\"black\" d=\"M47,-1117.74C47,-1109.2 47,-1100.3 47,-1092.25\"/>\n",
       "<polygon fill=\"black\" stroke=\"black\" points=\"47,-1127.9 42.5,-1117.9 47,-1122.9 47,-1117.9 47,-1117.9 47,-1117.9 47,-1122.9 51.5,-1117.9 47,-1127.9 47,-1127.9\"/>\n",
       "</g>\n",
       "<!-- hybridsequential0_conv4_fwd -->\n",
       "<g id=\"node14\" class=\"node\">\n",
       "<title>hybridsequential0_conv4_fwd</title>\n",
       "<polygon fill=\"#fb8072\" stroke=\"black\" points=\"94,-1280 0,-1280 0,-1222 94,-1222 94,-1280\"/>\n",
       "<text text-anchor=\"middle\" x=\"47\" y=\"-1254.8\" font-family=\"Times,serif\" font-size=\"14.00\">Convolution</text>\n",
       "<text text-anchor=\"middle\" x=\"47\" y=\"-1239.8\" font-family=\"Times,serif\" font-size=\"14.00\">3x3/1x1, 256</text>\n",
       "</g>\n",
       "<!-- hybridsequential0_conv4_fwd&#45;&gt;hybridsequential0_dropout1_fwd -->\n",
       "<g id=\"edge13\" class=\"edge\">\n",
       "<title>hybridsequential0_conv4_fwd&#45;&gt;hybridsequential0_dropout1_fwd</title>\n",
       "<path fill=\"none\" stroke=\"black\" d=\"M47,-1211.74C47,-1203.2 47,-1194.3 47,-1186.25\"/>\n",
       "<polygon fill=\"black\" stroke=\"black\" points=\"47,-1221.9 42.5,-1211.9 47,-1216.9 47,-1211.9 47,-1211.9 47,-1211.9 47,-1216.9 51.5,-1211.9 47,-1221.9 47,-1221.9\"/>\n",
       "</g>\n",
       "<!-- hybridsequential0_conv4_relu_fwd -->\n",
       "<g id=\"node15\" class=\"node\">\n",
       "<title>hybridsequential0_conv4_relu_fwd</title>\n",
       "<polygon fill=\"#ffffb3\" stroke=\"black\" points=\"94,-1374 0,-1374 0,-1316 94,-1316 94,-1374\"/>\n",
       "<text text-anchor=\"middle\" x=\"47\" y=\"-1348.8\" font-family=\"Times,serif\" font-size=\"14.00\">Activation</text>\n",
       "<text text-anchor=\"middle\" x=\"47\" y=\"-1333.8\" font-family=\"Times,serif\" font-size=\"14.00\">relu</text>\n",
       "</g>\n",
       "<!-- hybridsequential0_conv4_relu_fwd&#45;&gt;hybridsequential0_conv4_fwd -->\n",
       "<g id=\"edge14\" class=\"edge\">\n",
       "<title>hybridsequential0_conv4_relu_fwd&#45;&gt;hybridsequential0_conv4_fwd</title>\n",
       "<path fill=\"none\" stroke=\"black\" d=\"M47,-1305.74C47,-1297.2 47,-1288.3 47,-1280.25\"/>\n",
       "<polygon fill=\"black\" stroke=\"black\" points=\"47,-1315.9 42.5,-1305.9 47,-1310.9 47,-1305.9 47,-1305.9 47,-1305.9 47,-1310.9 51.5,-1305.9 47,-1315.9 47,-1315.9\"/>\n",
       "</g>\n",
       "<!-- hybridsequential0_conv5_fwd -->\n",
       "<g id=\"node16\" class=\"node\">\n",
       "<title>hybridsequential0_conv5_fwd</title>\n",
       "<polygon fill=\"#fb8072\" stroke=\"black\" points=\"94,-1468 0,-1468 0,-1410 94,-1410 94,-1468\"/>\n",
       "<text text-anchor=\"middle\" x=\"47\" y=\"-1442.8\" font-family=\"Times,serif\" font-size=\"14.00\">Convolution</text>\n",
       "<text text-anchor=\"middle\" x=\"47\" y=\"-1427.8\" font-family=\"Times,serif\" font-size=\"14.00\">3x3/1x1, 256</text>\n",
       "</g>\n",
       "<!-- hybridsequential0_conv5_fwd&#45;&gt;hybridsequential0_conv4_relu_fwd -->\n",
       "<g id=\"edge15\" class=\"edge\">\n",
       "<title>hybridsequential0_conv5_fwd&#45;&gt;hybridsequential0_conv4_relu_fwd</title>\n",
       "<path fill=\"none\" stroke=\"black\" d=\"M47,-1399.74C47,-1391.2 47,-1382.3 47,-1374.25\"/>\n",
       "<polygon fill=\"black\" stroke=\"black\" points=\"47,-1409.9 42.5,-1399.9 47,-1404.9 47,-1399.9 47,-1399.9 47,-1399.9 47,-1404.9 51.5,-1399.9 47,-1409.9 47,-1409.9\"/>\n",
       "</g>\n",
       "<!-- hybridsequential0_conv5_relu_fwd -->\n",
       "<g id=\"node17\" class=\"node\">\n",
       "<title>hybridsequential0_conv5_relu_fwd</title>\n",
       "<polygon fill=\"#ffffb3\" stroke=\"black\" points=\"94,-1562 0,-1562 0,-1504 94,-1504 94,-1562\"/>\n",
       "<text text-anchor=\"middle\" x=\"47\" y=\"-1536.8\" font-family=\"Times,serif\" font-size=\"14.00\">Activation</text>\n",
       "<text text-anchor=\"middle\" x=\"47\" y=\"-1521.8\" font-family=\"Times,serif\" font-size=\"14.00\">relu</text>\n",
       "</g>\n",
       "<!-- hybridsequential0_conv5_relu_fwd&#45;&gt;hybridsequential0_conv5_fwd -->\n",
       "<g id=\"edge16\" class=\"edge\">\n",
       "<title>hybridsequential0_conv5_relu_fwd&#45;&gt;hybridsequential0_conv5_fwd</title>\n",
       "<path fill=\"none\" stroke=\"black\" d=\"M47,-1493.74C47,-1485.2 47,-1476.3 47,-1468.25\"/>\n",
       "<polygon fill=\"black\" stroke=\"black\" points=\"47,-1503.9 42.5,-1493.9 47,-1498.9 47,-1493.9 47,-1493.9 47,-1493.9 47,-1498.9 51.5,-1493.9 47,-1503.9 47,-1503.9\"/>\n",
       "</g>\n",
       "<!-- hybridsequential0_conv6_fwd -->\n",
       "<g id=\"node18\" class=\"node\">\n",
       "<title>hybridsequential0_conv6_fwd</title>\n",
       "<polygon fill=\"#fb8072\" stroke=\"black\" points=\"94,-1656 0,-1656 0,-1598 94,-1598 94,-1656\"/>\n",
       "<text text-anchor=\"middle\" x=\"47\" y=\"-1630.8\" font-family=\"Times,serif\" font-size=\"14.00\">Convolution</text>\n",
       "<text text-anchor=\"middle\" x=\"47\" y=\"-1615.8\" font-family=\"Times,serif\" font-size=\"14.00\">3x3/1x1, 256</text>\n",
       "</g>\n",
       "<!-- hybridsequential0_conv6_fwd&#45;&gt;hybridsequential0_conv5_relu_fwd -->\n",
       "<g id=\"edge17\" class=\"edge\">\n",
       "<title>hybridsequential0_conv6_fwd&#45;&gt;hybridsequential0_conv5_relu_fwd</title>\n",
       "<path fill=\"none\" stroke=\"black\" d=\"M47,-1587.74C47,-1579.2 47,-1570.3 47,-1562.25\"/>\n",
       "<polygon fill=\"black\" stroke=\"black\" points=\"47,-1597.9 42.5,-1587.9 47,-1592.9 47,-1587.9 47,-1587.9 47,-1587.9 47,-1592.9 51.5,-1587.9 47,-1597.9 47,-1597.9\"/>\n",
       "</g>\n",
       "<!-- hybridsequential0_conv6_relu_fwd -->\n",
       "<g id=\"node19\" class=\"node\">\n",
       "<title>hybridsequential0_conv6_relu_fwd</title>\n",
       "<polygon fill=\"#ffffb3\" stroke=\"black\" points=\"94,-1750 0,-1750 0,-1692 94,-1692 94,-1750\"/>\n",
       "<text text-anchor=\"middle\" x=\"47\" y=\"-1724.8\" font-family=\"Times,serif\" font-size=\"14.00\">Activation</text>\n",
       "<text text-anchor=\"middle\" x=\"47\" y=\"-1709.8\" font-family=\"Times,serif\" font-size=\"14.00\">relu</text>\n",
       "</g>\n",
       "<!-- hybridsequential0_conv6_relu_fwd&#45;&gt;hybridsequential0_conv6_fwd -->\n",
       "<g id=\"edge18\" class=\"edge\">\n",
       "<title>hybridsequential0_conv6_relu_fwd&#45;&gt;hybridsequential0_conv6_fwd</title>\n",
       "<path fill=\"none\" stroke=\"black\" d=\"M47,-1681.74C47,-1673.2 47,-1664.3 47,-1656.25\"/>\n",
       "<polygon fill=\"black\" stroke=\"black\" points=\"47,-1691.9 42.5,-1681.9 47,-1686.9 47,-1681.9 47,-1681.9 47,-1681.9 47,-1686.9 51.5,-1681.9 47,-1691.9 47,-1691.9\"/>\n",
       "</g>\n",
       "<!-- hybridsequential0_pool2_fwd -->\n",
       "<g id=\"node20\" class=\"node\">\n",
       "<title>hybridsequential0_pool2_fwd</title>\n",
       "<polygon fill=\"#80b1d3\" stroke=\"black\" points=\"94,-1844 0,-1844 0,-1786 94,-1786 94,-1844\"/>\n",
       "<text text-anchor=\"middle\" x=\"47\" y=\"-1818.8\" font-family=\"Times,serif\" font-size=\"14.00\">Pooling</text>\n",
       "<text text-anchor=\"middle\" x=\"47\" y=\"-1803.8\" font-family=\"Times,serif\" font-size=\"14.00\">max, 2x2/2x2</text>\n",
       "</g>\n",
       "<!-- hybridsequential0_pool2_fwd&#45;&gt;hybridsequential0_conv6_relu_fwd -->\n",
       "<g id=\"edge19\" class=\"edge\">\n",
       "<title>hybridsequential0_pool2_fwd&#45;&gt;hybridsequential0_conv6_relu_fwd</title>\n",
       "<path fill=\"none\" stroke=\"black\" d=\"M47,-1775.74C47,-1767.2 47,-1758.3 47,-1750.25\"/>\n",
       "<polygon fill=\"black\" stroke=\"black\" points=\"47,-1785.9 42.5,-1775.9 47,-1780.9 47,-1775.9 47,-1775.9 47,-1775.9 47,-1780.9 51.5,-1775.9 47,-1785.9 47,-1785.9\"/>\n",
       "</g>\n",
       "<!-- hybridsequential0_dropout2_fwd -->\n",
       "<g id=\"node21\" class=\"node\">\n",
       "<title>hybridsequential0_dropout2_fwd</title>\n",
       "<polygon fill=\"#fccde5\" stroke=\"black\" points=\"94,-1938 0,-1938 0,-1880 94,-1880 94,-1938\"/>\n",
       "<text text-anchor=\"middle\" x=\"47\" y=\"-1905.3\" font-family=\"Times,serif\" font-size=\"14.00\">hybridsequential0_dropout2_fwd</text>\n",
       "</g>\n",
       "<!-- hybridsequential0_dropout2_fwd&#45;&gt;hybridsequential0_pool2_fwd -->\n",
       "<g id=\"edge20\" class=\"edge\">\n",
       "<title>hybridsequential0_dropout2_fwd&#45;&gt;hybridsequential0_pool2_fwd</title>\n",
       "<path fill=\"none\" stroke=\"black\" d=\"M47,-1869.74C47,-1861.2 47,-1852.3 47,-1844.25\"/>\n",
       "<polygon fill=\"black\" stroke=\"black\" points=\"47,-1879.9 42.5,-1869.9 47,-1874.9 47,-1869.9 47,-1869.9 47,-1869.9 47,-1874.9 51.5,-1869.9 47,-1879.9 47,-1879.9\"/>\n",
       "</g>\n",
       "<!-- hybridsequential0_conv7_fwd -->\n",
       "<g id=\"node22\" class=\"node\">\n",
       "<title>hybridsequential0_conv7_fwd</title>\n",
       "<polygon fill=\"#fb8072\" stroke=\"black\" points=\"94,-2032 0,-2032 0,-1974 94,-1974 94,-2032\"/>\n",
       "<text text-anchor=\"middle\" x=\"47\" y=\"-2006.8\" font-family=\"Times,serif\" font-size=\"14.00\">Convolution</text>\n",
       "<text text-anchor=\"middle\" x=\"47\" y=\"-1991.8\" font-family=\"Times,serif\" font-size=\"14.00\">3x3/1x1, 256</text>\n",
       "</g>\n",
       "<!-- hybridsequential0_conv7_fwd&#45;&gt;hybridsequential0_dropout2_fwd -->\n",
       "<g id=\"edge21\" class=\"edge\">\n",
       "<title>hybridsequential0_conv7_fwd&#45;&gt;hybridsequential0_dropout2_fwd</title>\n",
       "<path fill=\"none\" stroke=\"black\" d=\"M47,-1963.74C47,-1955.2 47,-1946.3 47,-1938.25\"/>\n",
       "<polygon fill=\"black\" stroke=\"black\" points=\"47,-1973.9 42.5,-1963.9 47,-1968.9 47,-1963.9 47,-1963.9 47,-1963.9 47,-1968.9 51.5,-1963.9 47,-1973.9 47,-1973.9\"/>\n",
       "</g>\n",
       "<!-- hybridsequential0_conv7_relu_fwd -->\n",
       "<g id=\"node23\" class=\"node\">\n",
       "<title>hybridsequential0_conv7_relu_fwd</title>\n",
       "<polygon fill=\"#ffffb3\" stroke=\"black\" points=\"94,-2126 0,-2126 0,-2068 94,-2068 94,-2126\"/>\n",
       "<text text-anchor=\"middle\" x=\"47\" y=\"-2100.8\" font-family=\"Times,serif\" font-size=\"14.00\">Activation</text>\n",
       "<text text-anchor=\"middle\" x=\"47\" y=\"-2085.8\" font-family=\"Times,serif\" font-size=\"14.00\">relu</text>\n",
       "</g>\n",
       "<!-- hybridsequential0_conv7_relu_fwd&#45;&gt;hybridsequential0_conv7_fwd -->\n",
       "<g id=\"edge22\" class=\"edge\">\n",
       "<title>hybridsequential0_conv7_relu_fwd&#45;&gt;hybridsequential0_conv7_fwd</title>\n",
       "<path fill=\"none\" stroke=\"black\" d=\"M47,-2057.74C47,-2049.2 47,-2040.3 47,-2032.25\"/>\n",
       "<polygon fill=\"black\" stroke=\"black\" points=\"47,-2067.9 42.5,-2057.9 47,-2062.9 47,-2057.9 47,-2057.9 47,-2057.9 47,-2062.9 51.5,-2057.9 47,-2067.9 47,-2067.9\"/>\n",
       "</g>\n",
       "<!-- hybridsequential0_conv8_fwd -->\n",
       "<g id=\"node24\" class=\"node\">\n",
       "<title>hybridsequential0_conv8_fwd</title>\n",
       "<polygon fill=\"#fb8072\" stroke=\"black\" points=\"94,-2220 0,-2220 0,-2162 94,-2162 94,-2220\"/>\n",
       "<text text-anchor=\"middle\" x=\"47\" y=\"-2194.8\" font-family=\"Times,serif\" font-size=\"14.00\">Convolution</text>\n",
       "<text text-anchor=\"middle\" x=\"47\" y=\"-2179.8\" font-family=\"Times,serif\" font-size=\"14.00\">3x3/1x1, 256</text>\n",
       "</g>\n",
       "<!-- hybridsequential0_conv8_fwd&#45;&gt;hybridsequential0_conv7_relu_fwd -->\n",
       "<g id=\"edge23\" class=\"edge\">\n",
       "<title>hybridsequential0_conv8_fwd&#45;&gt;hybridsequential0_conv7_relu_fwd</title>\n",
       "<path fill=\"none\" stroke=\"black\" d=\"M47,-2151.74C47,-2143.2 47,-2134.3 47,-2126.25\"/>\n",
       "<polygon fill=\"black\" stroke=\"black\" points=\"47,-2161.9 42.5,-2151.9 47,-2156.9 47,-2151.9 47,-2151.9 47,-2151.9 47,-2156.9 51.5,-2151.9 47,-2161.9 47,-2161.9\"/>\n",
       "</g>\n",
       "<!-- hybridsequential0_conv8_relu_fwd -->\n",
       "<g id=\"node25\" class=\"node\">\n",
       "<title>hybridsequential0_conv8_relu_fwd</title>\n",
       "<polygon fill=\"#ffffb3\" stroke=\"black\" points=\"94,-2314 0,-2314 0,-2256 94,-2256 94,-2314\"/>\n",
       "<text text-anchor=\"middle\" x=\"47\" y=\"-2288.8\" font-family=\"Times,serif\" font-size=\"14.00\">Activation</text>\n",
       "<text text-anchor=\"middle\" x=\"47\" y=\"-2273.8\" font-family=\"Times,serif\" font-size=\"14.00\">relu</text>\n",
       "</g>\n",
       "<!-- hybridsequential0_conv8_relu_fwd&#45;&gt;hybridsequential0_conv8_fwd -->\n",
       "<g id=\"edge24\" class=\"edge\">\n",
       "<title>hybridsequential0_conv8_relu_fwd&#45;&gt;hybridsequential0_conv8_fwd</title>\n",
       "<path fill=\"none\" stroke=\"black\" d=\"M47,-2245.74C47,-2237.2 47,-2228.3 47,-2220.25\"/>\n",
       "<polygon fill=\"black\" stroke=\"black\" points=\"47,-2255.9 42.5,-2245.9 47,-2250.9 47,-2245.9 47,-2245.9 47,-2245.9 47,-2250.9 51.5,-2245.9 47,-2255.9 47,-2255.9\"/>\n",
       "</g>\n",
       "<!-- hybridsequential0_conv9_fwd -->\n",
       "<g id=\"node26\" class=\"node\">\n",
       "<title>hybridsequential0_conv9_fwd</title>\n",
       "<polygon fill=\"#fb8072\" stroke=\"black\" points=\"94,-2408 0,-2408 0,-2350 94,-2350 94,-2408\"/>\n",
       "<text text-anchor=\"middle\" x=\"47\" y=\"-2382.8\" font-family=\"Times,serif\" font-size=\"14.00\">Convolution</text>\n",
       "<text text-anchor=\"middle\" x=\"47\" y=\"-2367.8\" font-family=\"Times,serif\" font-size=\"14.00\">3x3/1x1, 256</text>\n",
       "</g>\n",
       "<!-- hybridsequential0_conv9_fwd&#45;&gt;hybridsequential0_conv8_relu_fwd -->\n",
       "<g id=\"edge25\" class=\"edge\">\n",
       "<title>hybridsequential0_conv9_fwd&#45;&gt;hybridsequential0_conv8_relu_fwd</title>\n",
       "<path fill=\"none\" stroke=\"black\" d=\"M47,-2339.74C47,-2331.2 47,-2322.3 47,-2314.25\"/>\n",
       "<polygon fill=\"black\" stroke=\"black\" points=\"47,-2349.9 42.5,-2339.9 47,-2344.9 47,-2339.9 47,-2339.9 47,-2339.9 47,-2344.9 51.5,-2339.9 47,-2349.9 47,-2349.9\"/>\n",
       "</g>\n",
       "<!-- hybridsequential0_conv9_relu_fwd -->\n",
       "<g id=\"node27\" class=\"node\">\n",
       "<title>hybridsequential0_conv9_relu_fwd</title>\n",
       "<polygon fill=\"#ffffb3\" stroke=\"black\" points=\"94,-2502 0,-2502 0,-2444 94,-2444 94,-2502\"/>\n",
       "<text text-anchor=\"middle\" x=\"47\" y=\"-2476.8\" font-family=\"Times,serif\" font-size=\"14.00\">Activation</text>\n",
       "<text text-anchor=\"middle\" x=\"47\" y=\"-2461.8\" font-family=\"Times,serif\" font-size=\"14.00\">relu</text>\n",
       "</g>\n",
       "<!-- hybridsequential0_conv9_relu_fwd&#45;&gt;hybridsequential0_conv9_fwd -->\n",
       "<g id=\"edge26\" class=\"edge\">\n",
       "<title>hybridsequential0_conv9_relu_fwd&#45;&gt;hybridsequential0_conv9_fwd</title>\n",
       "<path fill=\"none\" stroke=\"black\" d=\"M47,-2433.74C47,-2425.2 47,-2416.3 47,-2408.25\"/>\n",
       "<polygon fill=\"black\" stroke=\"black\" points=\"47,-2443.9 42.5,-2433.9 47,-2438.9 47,-2433.9 47,-2433.9 47,-2433.9 47,-2438.9 51.5,-2433.9 47,-2443.9 47,-2443.9\"/>\n",
       "</g>\n",
       "<!-- hybridsequential0_pool3_fwd -->\n",
       "<g id=\"node28\" class=\"node\">\n",
       "<title>hybridsequential0_pool3_fwd</title>\n",
       "<polygon fill=\"#80b1d3\" stroke=\"black\" points=\"94,-2596 0,-2596 0,-2538 94,-2538 94,-2596\"/>\n",
       "<text text-anchor=\"middle\" x=\"47\" y=\"-2570.8\" font-family=\"Times,serif\" font-size=\"14.00\">Pooling</text>\n",
       "<text text-anchor=\"middle\" x=\"47\" y=\"-2555.8\" font-family=\"Times,serif\" font-size=\"14.00\">max, 2x2/2x2</text>\n",
       "</g>\n",
       "<!-- hybridsequential0_pool3_fwd&#45;&gt;hybridsequential0_conv9_relu_fwd -->\n",
       "<g id=\"edge27\" class=\"edge\">\n",
       "<title>hybridsequential0_pool3_fwd&#45;&gt;hybridsequential0_conv9_relu_fwd</title>\n",
       "<path fill=\"none\" stroke=\"black\" d=\"M47,-2527.74C47,-2519.2 47,-2510.3 47,-2502.25\"/>\n",
       "<polygon fill=\"black\" stroke=\"black\" points=\"47,-2537.9 42.5,-2527.9 47,-2532.9 47,-2527.9 47,-2527.9 47,-2527.9 47,-2532.9 51.5,-2527.9 47,-2537.9 47,-2537.9\"/>\n",
       "</g>\n",
       "<!-- hybridsequential0_dropout3_fwd -->\n",
       "<g id=\"node29\" class=\"node\">\n",
       "<title>hybridsequential0_dropout3_fwd</title>\n",
       "<polygon fill=\"#fccde5\" stroke=\"black\" points=\"94,-2690 0,-2690 0,-2632 94,-2632 94,-2690\"/>\n",
       "<text text-anchor=\"middle\" x=\"47\" y=\"-2657.3\" font-family=\"Times,serif\" font-size=\"14.00\">hybridsequential0_dropout3_fwd</text>\n",
       "</g>\n",
       "<!-- hybridsequential0_dropout3_fwd&#45;&gt;hybridsequential0_pool3_fwd -->\n",
       "<g id=\"edge28\" class=\"edge\">\n",
       "<title>hybridsequential0_dropout3_fwd&#45;&gt;hybridsequential0_pool3_fwd</title>\n",
       "<path fill=\"none\" stroke=\"black\" d=\"M47,-2621.74C47,-2613.2 47,-2604.3 47,-2596.25\"/>\n",
       "<polygon fill=\"black\" stroke=\"black\" points=\"47,-2631.9 42.5,-2621.9 47,-2626.9 47,-2621.9 47,-2621.9 47,-2621.9 47,-2626.9 51.5,-2621.9 47,-2631.9 47,-2631.9\"/>\n",
       "</g>\n",
       "<!-- hybridsequential0_flatten0_flatten0 -->\n",
       "<g id=\"node30\" class=\"node\">\n",
       "<title>hybridsequential0_flatten0_flatten0</title>\n",
       "<polygon fill=\"#fdb462\" stroke=\"black\" points=\"94,-2784 0,-2784 0,-2726 94,-2726 94,-2784\"/>\n",
       "<text text-anchor=\"middle\" x=\"47\" y=\"-2751.3\" font-family=\"Times,serif\" font-size=\"14.00\">hybridsequential0_flatten0_flatten0</text>\n",
       "</g>\n",
       "<!-- hybridsequential0_flatten0_flatten0&#45;&gt;hybridsequential0_dropout3_fwd -->\n",
       "<g id=\"edge29\" class=\"edge\">\n",
       "<title>hybridsequential0_flatten0_flatten0&#45;&gt;hybridsequential0_dropout3_fwd</title>\n",
       "<path fill=\"none\" stroke=\"black\" d=\"M47,-2715.74C47,-2707.2 47,-2698.3 47,-2690.25\"/>\n",
       "<polygon fill=\"black\" stroke=\"black\" points=\"47,-2725.9 42.5,-2715.9 47,-2720.9 47,-2715.9 47,-2715.9 47,-2715.9 47,-2720.9 51.5,-2715.9 47,-2725.9 47,-2725.9\"/>\n",
       "</g>\n",
       "<!-- hybridsequential0_dense0_fwd -->\n",
       "<g id=\"node31\" class=\"node\">\n",
       "<title>hybridsequential0_dense0_fwd</title>\n",
       "<polygon fill=\"#fb8072\" stroke=\"black\" points=\"94,-2878 0,-2878 0,-2820 94,-2820 94,-2878\"/>\n",
       "<text text-anchor=\"middle\" x=\"47\" y=\"-2852.8\" font-family=\"Times,serif\" font-size=\"14.00\">FullyConnected</text>\n",
       "<text text-anchor=\"middle\" x=\"47\" y=\"-2837.8\" font-family=\"Times,serif\" font-size=\"14.00\">1024</text>\n",
       "</g>\n",
       "<!-- hybridsequential0_dense0_fwd&#45;&gt;hybridsequential0_flatten0_flatten0 -->\n",
       "<g id=\"edge30\" class=\"edge\">\n",
       "<title>hybridsequential0_dense0_fwd&#45;&gt;hybridsequential0_flatten0_flatten0</title>\n",
       "<path fill=\"none\" stroke=\"black\" d=\"M47,-2809.74C47,-2801.2 47,-2792.3 47,-2784.25\"/>\n",
       "<polygon fill=\"black\" stroke=\"black\" points=\"47,-2819.9 42.5,-2809.9 47,-2814.9 47,-2809.9 47,-2809.9 47,-2809.9 47,-2814.9 51.5,-2809.9 47,-2819.9 47,-2819.9\"/>\n",
       "</g>\n",
       "<!-- hybridsequential0_dense0_relu_fwd -->\n",
       "<g id=\"node32\" class=\"node\">\n",
       "<title>hybridsequential0_dense0_relu_fwd</title>\n",
       "<polygon fill=\"#ffffb3\" stroke=\"black\" points=\"94,-2972 0,-2972 0,-2914 94,-2914 94,-2972\"/>\n",
       "<text text-anchor=\"middle\" x=\"47\" y=\"-2946.8\" font-family=\"Times,serif\" font-size=\"14.00\">Activation</text>\n",
       "<text text-anchor=\"middle\" x=\"47\" y=\"-2931.8\" font-family=\"Times,serif\" font-size=\"14.00\">relu</text>\n",
       "</g>\n",
       "<!-- hybridsequential0_dense0_relu_fwd&#45;&gt;hybridsequential0_dense0_fwd -->\n",
       "<g id=\"edge31\" class=\"edge\">\n",
       "<title>hybridsequential0_dense0_relu_fwd&#45;&gt;hybridsequential0_dense0_fwd</title>\n",
       "<path fill=\"none\" stroke=\"black\" d=\"M47,-2903.74C47,-2895.2 47,-2886.3 47,-2878.25\"/>\n",
       "<polygon fill=\"black\" stroke=\"black\" points=\"47,-2913.9 42.5,-2903.9 47,-2908.9 47,-2903.9 47,-2903.9 47,-2903.9 47,-2908.9 51.5,-2903.9 47,-2913.9 47,-2913.9\"/>\n",
       "</g>\n",
       "<!-- hybridsequential0_dropout4_fwd -->\n",
       "<g id=\"node33\" class=\"node\">\n",
       "<title>hybridsequential0_dropout4_fwd</title>\n",
       "<polygon fill=\"#fccde5\" stroke=\"black\" points=\"94,-3066 0,-3066 0,-3008 94,-3008 94,-3066\"/>\n",
       "<text text-anchor=\"middle\" x=\"47\" y=\"-3033.3\" font-family=\"Times,serif\" font-size=\"14.00\">hybridsequential0_dropout4_fwd</text>\n",
       "</g>\n",
       "<!-- hybridsequential0_dropout4_fwd&#45;&gt;hybridsequential0_dense0_relu_fwd -->\n",
       "<g id=\"edge32\" class=\"edge\">\n",
       "<title>hybridsequential0_dropout4_fwd&#45;&gt;hybridsequential0_dense0_relu_fwd</title>\n",
       "<path fill=\"none\" stroke=\"black\" d=\"M47,-2997.74C47,-2989.2 47,-2980.3 47,-2972.25\"/>\n",
       "<polygon fill=\"black\" stroke=\"black\" points=\"47,-3007.9 42.5,-2997.9 47,-3002.9 47,-2997.9 47,-2997.9 47,-2997.9 47,-3002.9 51.5,-2997.9 47,-3007.9 47,-3007.9\"/>\n",
       "</g>\n",
       "<!-- hybridsequential0_dense1_fwd -->\n",
       "<g id=\"node34\" class=\"node\">\n",
       "<title>hybridsequential0_dense1_fwd</title>\n",
       "<polygon fill=\"#fb8072\" stroke=\"black\" points=\"94,-3160 0,-3160 0,-3102 94,-3102 94,-3160\"/>\n",
       "<text text-anchor=\"middle\" x=\"47\" y=\"-3134.8\" font-family=\"Times,serif\" font-size=\"14.00\">FullyConnected</text>\n",
       "<text text-anchor=\"middle\" x=\"47\" y=\"-3119.8\" font-family=\"Times,serif\" font-size=\"14.00\">1024</text>\n",
       "</g>\n",
       "<!-- hybridsequential0_dense1_fwd&#45;&gt;hybridsequential0_dropout4_fwd -->\n",
       "<g id=\"edge33\" class=\"edge\">\n",
       "<title>hybridsequential0_dense1_fwd&#45;&gt;hybridsequential0_dropout4_fwd</title>\n",
       "<path fill=\"none\" stroke=\"black\" d=\"M47,-3091.74C47,-3083.2 47,-3074.3 47,-3066.25\"/>\n",
       "<polygon fill=\"black\" stroke=\"black\" points=\"47,-3101.9 42.5,-3091.9 47,-3096.9 47,-3091.9 47,-3091.9 47,-3091.9 47,-3096.9 51.5,-3091.9 47,-3101.9 47,-3101.9\"/>\n",
       "</g>\n",
       "<!-- hybridsequential0_dense1_relu_fwd -->\n",
       "<g id=\"node35\" class=\"node\">\n",
       "<title>hybridsequential0_dense1_relu_fwd</title>\n",
       "<polygon fill=\"#ffffb3\" stroke=\"black\" points=\"94,-3254 0,-3254 0,-3196 94,-3196 94,-3254\"/>\n",
       "<text text-anchor=\"middle\" x=\"47\" y=\"-3228.8\" font-family=\"Times,serif\" font-size=\"14.00\">Activation</text>\n",
       "<text text-anchor=\"middle\" x=\"47\" y=\"-3213.8\" font-family=\"Times,serif\" font-size=\"14.00\">relu</text>\n",
       "</g>\n",
       "<!-- hybridsequential0_dense1_relu_fwd&#45;&gt;hybridsequential0_dense1_fwd -->\n",
       "<g id=\"edge34\" class=\"edge\">\n",
       "<title>hybridsequential0_dense1_relu_fwd&#45;&gt;hybridsequential0_dense1_fwd</title>\n",
       "<path fill=\"none\" stroke=\"black\" d=\"M47,-3185.74C47,-3177.2 47,-3168.3 47,-3160.25\"/>\n",
       "<polygon fill=\"black\" stroke=\"black\" points=\"47,-3195.9 42.5,-3185.9 47,-3190.9 47,-3185.9 47,-3185.9 47,-3185.9 47,-3190.9 51.5,-3185.9 47,-3195.9 47,-3195.9\"/>\n",
       "</g>\n",
       "<!-- hybridsequential0_dropout5_fwd -->\n",
       "<g id=\"node36\" class=\"node\">\n",
       "<title>hybridsequential0_dropout5_fwd</title>\n",
       "<polygon fill=\"#fccde5\" stroke=\"black\" points=\"94,-3348 0,-3348 0,-3290 94,-3290 94,-3348\"/>\n",
       "<text text-anchor=\"middle\" x=\"47\" y=\"-3315.3\" font-family=\"Times,serif\" font-size=\"14.00\">hybridsequential0_dropout5_fwd</text>\n",
       "</g>\n",
       "<!-- hybridsequential0_dropout5_fwd&#45;&gt;hybridsequential0_dense1_relu_fwd -->\n",
       "<g id=\"edge35\" class=\"edge\">\n",
       "<title>hybridsequential0_dropout5_fwd&#45;&gt;hybridsequential0_dense1_relu_fwd</title>\n",
       "<path fill=\"none\" stroke=\"black\" d=\"M47,-3279.74C47,-3271.2 47,-3262.3 47,-3254.25\"/>\n",
       "<polygon fill=\"black\" stroke=\"black\" points=\"47,-3289.9 42.5,-3279.9 47,-3284.9 47,-3279.9 47,-3279.9 47,-3279.9 47,-3284.9 51.5,-3279.9 47,-3289.9 47,-3289.9\"/>\n",
       "</g>\n",
       "<!-- hybridsequential0_dense2_fwd -->\n",
       "<g id=\"node37\" class=\"node\">\n",
       "<title>hybridsequential0_dense2_fwd</title>\n",
       "<polygon fill=\"#fb8072\" stroke=\"black\" points=\"94,-3442 0,-3442 0,-3384 94,-3384 94,-3442\"/>\n",
       "<text text-anchor=\"middle\" x=\"47\" y=\"-3416.8\" font-family=\"Times,serif\" font-size=\"14.00\">FullyConnected</text>\n",
       "<text text-anchor=\"middle\" x=\"47\" y=\"-3401.8\" font-family=\"Times,serif\" font-size=\"14.00\">8</text>\n",
       "</g>\n",
       "<!-- hybridsequential0_dense2_fwd&#45;&gt;hybridsequential0_dropout5_fwd -->\n",
       "<g id=\"edge36\" class=\"edge\">\n",
       "<title>hybridsequential0_dense2_fwd&#45;&gt;hybridsequential0_dropout5_fwd</title>\n",
       "<path fill=\"none\" stroke=\"black\" d=\"M47,-3373.74C47,-3365.2 47,-3356.3 47,-3348.25\"/>\n",
       "<polygon fill=\"black\" stroke=\"black\" points=\"47,-3383.9 42.5,-3373.9 47,-3378.9 47,-3373.9 47,-3373.9 47,-3373.9 47,-3378.9 51.5,-3373.9 47,-3383.9 47,-3383.9\"/>\n",
       "</g>\n",
       "</g>\n",
       "</svg>\n"
      ],
      "text/plain": [
       "<graphviz.dot.Digraph at 0x7f617556b590>"
      ]
     },
     "execution_count": 15,
     "metadata": {},
     "output_type": "execute_result"
    }
   ],
   "source": [
    "# Use MXBOARD here to visualize network\n",
    "x = mx.sym.var('data')\n",
    "sym = net(x)\n",
    "mx.viz.plot_network(sym)\n"
   ]
  },
  {
   "cell_type": "markdown",
   "metadata": {},
   "source": [
    "# Step 3 – Prepare the Trainer with optimizer"
   ]
  },
  {
   "cell_type": "code",
   "execution_count": 16,
   "metadata": {},
   "outputs": [],
   "source": [
    "softmax_cross_entropy = gluon.loss.SoftmaxCrossEntropyLoss()"
   ]
  },
  {
   "cell_type": "code",
   "execution_count": 17,
   "metadata": {},
   "outputs": [],
   "source": [
    "batch_size = 32\n",
    "trainer = gluon.Trainer(net.collect_params(), 'sgd', {'learning_rate': 0.0025, 'momentum': 0.9})"
   ]
  },
  {
   "cell_type": "markdown",
   "metadata": {},
   "source": [
    "# Step 4 – Prepare the model evaluation strategy"
   ]
  },
  {
   "cell_type": "code",
   "execution_count": 18,
   "metadata": {},
   "outputs": [],
   "source": [
    "def evaluate_accuracy(data_iterator, net):\n",
    "    acc = mx.metric.Accuracy()\n",
    "    for i, (data, label) in enumerate(data_iterator):\n",
    "        data = data.as_in_context(ctx)\n",
    "        label = label.as_in_context(ctx)\n",
    "        output = net(data)\n",
    "        predictions = nd.argmax(output, axis=1)\n",
    "        acc.update(preds=predictions, labels=label)\n",
    "    return acc.get()[1]"
   ]
  },
  {
   "cell_type": "markdown",
   "metadata": {},
   "source": [
    "# Step 5 – Prepare data loaders"
   ]
  },
  {
   "cell_type": "code",
   "execution_count": 19,
   "metadata": {},
   "outputs": [],
   "source": [
    "train_labels = np.argmax(processed_train_labels, axis=1)\n",
    "val_labels = np.argmax(processed_val_labels, axis=1)\n",
    "\n",
    "train_data = gluon.data.DataLoader(gluon.data.ArrayDataset(processed_train_images, train_labels), batch_size = batch_size, shuffle=True)\n",
    "val_data = gluon.data.DataLoader(gluon.data.ArrayDataset(processed_val_images, val_labels), batch_size = batch_size)"
   ]
  },
  {
   "cell_type": "markdown",
   "metadata": {},
   "source": [
    "\n",
    "# Step 6 – Train the Neural Network"
   ]
  },
  {
   "cell_type": "code",
   "execution_count": 20,
   "metadata": {},
   "outputs": [
    {
     "name": "stdout",
     "output_type": "stream",
     "text": [
      "Epoch 0. Loss: 1.7591823, Train_acc 0.3486923537632262, Val_acc 0.36979003447195236\n",
      "Epoch 1. Loss: 1.4484231, Train_acc 0.3660211619085646, Val_acc 0.3870260106549671\n",
      "Epoch 2. Loss: 1.5928266, Train_acc 0.4051108005589938, Val_acc 0.41742400501410215\n",
      "Epoch 3. Loss: 1.4090112, Train_acc 0.4395687762028349, Val_acc 0.4587903478533375\n",
      "Epoch 4. Loss: 1.5386918, Train_acc 0.49075663805150727, Val_acc 0.5095581322469446\n",
      "Epoch 5. Loss: 1.3376462, Train_acc 0.5454182471551208, Val_acc 0.5669069257286117\n",
      "Epoch 6. Loss: 1.0821584, Train_acc 0.5769614693551607, Val_acc 0.589157004073958\n",
      "Epoch 7. Loss: 1.2059582, Train_acc 0.6455979237372729, Val_acc 0.6590410529614541\n",
      "Epoch 8. Loss: 0.8161197, Train_acc 0.6727091235775604, Val_acc 0.6960200564086493\n",
      "Epoch 9. Loss: 0.9785734, Train_acc 0.7045717708125374, Val_acc 0.7154497022876841\n",
      "Epoch 10. Loss: 0.85040754, Train_acc 0.7195048911958475, Val_acc 0.72453776245691\n",
      "Epoch 11. Loss: 0.55289996, Train_acc 0.7430225593930925, Val_acc 0.7380131620181761\n",
      "Epoch 12. Loss: 0.86287796, Train_acc 0.7307246955480136, Val_acc 0.7304920087746788\n",
      "Epoch 13. Loss: 0.96416426, Train_acc 0.7835496107007387, Val_acc 0.7621435286743967\n",
      "Epoch 14. Loss: 1.0135628, Train_acc 0.7772010381313635, Val_acc 0.7452209338765278\n",
      "Epoch 15. Loss: 0.6942031, Train_acc 0.8093032541425434, Val_acc 0.7740520213099342\n",
      "Epoch 16. Loss: 0.8327292, Train_acc 0.8245158714314235, Val_acc 0.767471012221874\n",
      "Epoch 17. Loss: 0.2526875, Train_acc 0.8283489718506688, Val_acc 0.7906612347226575\n",
      "Epoch 18. Loss: 0.6043052, Train_acc 0.8294270313435815, Val_acc 0.7527420871200251\n",
      "Epoch 19. Loss: 0.6767344, Train_acc 0.873747254941106, Val_acc 0.7897210905672203\n",
      "Epoch 20. Loss: 0.3315991, Train_acc 0.8814134557795967, Val_acc 0.7837668442494515\n",
      "Epoch 21. Loss: 0.74832153, Train_acc 0.8957476542223997, Val_acc 0.8028831087433407\n",
      "Epoch 22. Loss: 0.46487784, Train_acc 0.9032142144140547, Val_acc 0.7909746161078032\n",
      "Epoch 23. Loss: 0.60325855, Train_acc 0.9143940906368536, Val_acc 0.8085239736759636\n",
      "Epoch 24. Loss: 0.53210527, Train_acc 0.9108804152525454, Val_acc 0.7865872767157631\n"
     ]
    }
   ],
   "source": [
    "epochs = 25\n",
    "\n",
    "train_accuracies = []\n",
    "losses = []\n",
    "val_accuracies = []\n",
    "\n",
    "for e in range(epochs):\n",
    "    batch = 0\n",
    "    for i, (data, label) in enumerate(train_data):\n",
    "        data = data.as_in_context(ctx)\n",
    "        label = label.as_in_context(ctx)\n",
    "        with autograd.record():\n",
    "            output = net(data)\n",
    "            loss = softmax_cross_entropy(output, label)\n",
    "            \n",
    "        loss.backward()\n",
    "        trainer.step(data.shape[0])\n",
    "        curr_loss = nd.mean(loss).asscalar()\n",
    "        batch +=1        \n",
    "\n",
    "    val_accuracy = evaluate_accuracy(val_data, net)\n",
    "    train_accuracy = evaluate_accuracy(train_data, net)\n",
    "    \n",
    "    losses.append(curr_loss)\n",
    "    train_accuracies.append(train_accuracy)\n",
    "    val_accuracies.append(val_accuracy)\n",
    "    \n",
    "    print(\"Epoch %s. Loss: %s, Train_acc %s, Val_acc %s\" % (e, curr_loss, train_accuracy, val_accuracy))"
   ]
  },
  {
   "cell_type": "markdown",
   "metadata": {},
   "source": [
    "# Step 7 - Evaluate on Test Data"
   ]
  },
  {
   "cell_type": "code",
   "execution_count": 21,
   "metadata": {},
   "outputs": [
    {
     "name": "stdout",
     "output_type": "stream",
     "text": [
      "Test Accuracy -  0.7825948358304112\n"
     ]
    }
   ],
   "source": [
    "# Test accuracy\n",
    "\n",
    "acc = mx.metric.Accuracy()\n",
    "test_labels = np.argmax(processed_test_labels, axis=1)\n",
    "data_iterator = gluon.data.DataLoader(gluon.data.ArrayDataset(processed_test_images, test_labels), batch_size = 32)\n",
    "for i, (data, label) in enumerate(data_iterator):\n",
    "    data = data.as_in_context(ctx)\n",
    "    label = label.as_in_context(ctx)\n",
    "    output = net(data)\n",
    "    predictions = nd.argmax(output, axis=1)\n",
    "    acc.update(preds=predictions, labels=label)\n",
    "print(\"Test Accuracy - \", acc.get()[1])"
   ]
  },
  {
   "cell_type": "code",
   "execution_count": 22,
   "metadata": {},
   "outputs": [
    {
     "data": {
      "text/plain": [
       "<matplotlib.legend.Legend at 0x7f6174072a50>"
      ]
     },
     "execution_count": 22,
     "metadata": {},
     "output_type": "execute_result"
    },
    {
     "data": {
      "image/png": "[encoded data removed]",
      "text/plain": [
       "<Figure size 864x432 with 2 Axes>"
      ]
     },
     "metadata": {
      "needs_background": "light"
     },
     "output_type": "display_data"
    }
   ],
   "source": [
    "# for plotting purposes\n",
    "%matplotlib inline\n",
    "import matplotlib\n",
    "import matplotlib.pyplot as plt\n",
    "\n",
    "epochs = range(len(train_accuracies))\n",
    "\n",
    "f = plt.figure(figsize=(12,6))\n",
    "fg1 = f.add_subplot(121)\n",
    "fg2 = f.add_subplot(122)\n",
    "\n",
    "fg1.set_xlabel('epoch',fontsize=14)  \n",
    "fg1.set_title('Loss over Training')\n",
    "fg1.grid(True, which=\"both\")\n",
    "fg1.plot(epochs, losses)\n",
    "\n",
    "fg2.set_title('Comparing accuracy')\n",
    "fg2.set_xlabel('epoch', fontsize=14)\n",
    "fg2.grid(True, which=\"both\")\n",
    "\n",
    "p1, = fg2.plot(epochs, train_accuracies)\n",
    "p2, = fg2.plot(epochs, val_accuracies)\n",
    "fg2.legend([p1, p2], ['training accuracy', 'validation accuracy'],fontsize=14)"
   ]
  },
  {
   "cell_type": "code",
   "execution_count": 23,
   "metadata": {},
   "outputs": [
    {
     "data": {
      "text/plain": [
       "<matplotlib.image.AxesImage at 0x7f617406c2d0>"
      ]
     },
     "execution_count": 23,
     "metadata": {},
     "output_type": "execute_result"
    },
    {
     "data": {
      "image/png": "[encoded data removed]",
      "text/plain": [
       "<Figure size 432x288 with 1 Axes>"
      ]
     },
     "metadata": {
      "needs_background": "light"
     },
     "output_type": "display_data"
    }
   ],
   "source": [
    "# Example Inference\n",
    "idx = 98\n",
    "plt.imshow(processed_test_images[idx].reshape(64,64), cmap='gray')"
   ]
  },
  {
   "cell_type": "code",
   "execution_count": 24,
   "metadata": {},
   "outputs": [
    {
     "name": "stdout",
     "output_type": "stream",
     "text": [
      "Actual Emotion -  sadness\n"
     ]
    }
   ],
   "source": [
    "print(\"Actual Emotion - \", emotion_table[test_labels[idx]])"
   ]
  },
  {
   "cell_type": "code",
   "execution_count": 25,
   "metadata": {},
   "outputs": [],
   "source": [
    "# Perform Inference\n",
    "output = net(mx.nd.array(processed_test_images[idx].reshape(1,1,64,64)).as_in_context(ctx))"
   ]
  },
  {
   "cell_type": "code",
   "execution_count": 26,
   "metadata": {},
   "outputs": [
    {
     "name": "stdout",
     "output_type": "stream",
     "text": [
      "Predicted Emotion -  neutral\n"
     ]
    }
   ],
   "source": [
    "print(\"Predicted Emotion - \", emotion_table[nd.argmax(output, axis=1).asnumpy()[0]])"
   ]
  },
  {
   "cell_type": "markdown",
   "metadata": {},
   "source": [
    "![image.png](../assets/inference_wf.png)"
   ]
  },
  {
   "cell_type": "markdown",
   "metadata": {},
   "source": [
    "# Step 8 - Export the model for Production"
   ]
  },
  {
   "cell_type": "code",
   "execution_count": 28,
   "metadata": {},
   "outputs": [],
   "source": [
    "# Export the model for production deployment.\n",
    "# There will be 2 files exported: \n",
    "# 1) gluon_ferplus-symbol.json => Contains the network definition\n",
    "# 2) gluon_ferplus-0000.params => Contains the weights in the network\n",
    "net.export('fer_first')"
   ]
  },
  {
   "cell_type": "markdown",
   "metadata": {},
   "source": [
    "# Step 9 - Install pre-requisites for model serving\n",
    "\n",
    "We will need the PyPi packages listed below to test model server locally, and to perform image pre-processing prior to the model inference."
   ]
  },
  {
   "cell_type": "code",
   "execution_count": null,
   "metadata": {},
   "outputs": [],
   "source": [
    "!pip install mxnet-model-server\n",
    "!pip install model-archiver\n",
    "!pip install scikit-image\n",
    "!pip install opencv-python"
   ]
  },
  {
   "cell_type": "markdown",
   "metadata": {},
   "source": [
    "# Step 10 - Export a model archive\n",
    "\n",
    "We will now prepare the model archive, which encapsulates all of the resources required by MMS for serving the model. To learn more about the model archive, visit [MMS Export docs](https://github.com/awslabs/mxnet-model-server/blob/master/docs/export.md)."
   ]
  },
  {
   "cell_type": "code",
   "execution_count": null,
   "metadata": {},
   "outputs": [],
   "source": [
    "# As a first step, we will download the pre-trained model. \n",
    "# You can skip this step if you have just trained your model, but then you will need to copy the model files into ferplus directory\n",
    "!mkdir fer\n",
    "%cd fer\n",
    "!curl -O https://s3.amazonaws.com/mxnet-demo-models/models/fer/fer-0000.params\n",
    "!curl -O https://s3.amazonaws.com/mxnet-demo-models/models/fer/fer-symbol.json"
   ]
  },
  {
   "cell_type": "code",
   "execution_count": 2,
   "metadata": {},
   "outputs": [],
   "source": [
    "# Now let's pull in and review the other resources needed for the model archive\n",
    "%cp ../../model_archive_resources/* ."
   ]
  },
  {
   "cell_type": "code",
   "execution_count": null,
   "metadata": {},
   "outputs": [],
   "source": [
    "# We define the model's input and output type and shape via signature.json\n",
    "!cat signature.json"
   ]
  },
  {
   "cell_type": "code",
   "execution_count": null,
   "metadata": {},
   "outputs": [],
   "source": [
    "# We define the model's class label names via synset.txt\n",
    "!cat synset.txt"
   ]
  },
  {
   "cell_type": "code",
   "execution_count": null,
   "metadata": {},
   "outputs": [],
   "source": [
    "# And lastly, we define custom code for request handling via python code other auxiliary files\n",
    "!cat fer_service.py"
   ]
  },
  {
   "cell_type": "code",
   "execution_count": null,
   "metadata": {},
   "outputs": [],
   "source": [
    "# Let's package everything up into a Model Archive bundle\n",
    "% cd ..\n",
    "!model-archiver --model-name fer --model-path ./fer --handler fer_service:handle\n",
    "!ls -l fer.mar"
   ]
  },
  {
   "cell_type": "markdown",
   "metadata": {},
   "source": [
    "# Step 11 - Serving the model archive with MXNet Model Server\n",
    "\n",
    "Now that we have the model archive ready, we can start the server and ask it to setup HTTP endpoints to serve the model, emit real-time operational metrics and more.\n",
    "To learn more about serving, check out the [MMS Serving docs](https://github.com/awslabs/mxnet-model-server/blob/master/docs/server.md).\n",
    "\n",
    "To start the server and load the FER model on startup, go to the console and run:  \n",
    "`\n",
    "$ mxnet-model-server --models fer=fer.mar --model-store .\n",
    "`"
   ]
  },
  {
   "cell_type": "code",
   "execution_count": null,
   "metadata": {},
   "outputs": [],
   "source": [
    "# Check out the health endpoint to make sure model server is running\n",
    "!curl http://127.0.0.1:8080/ping"
   ]
  },
  {
   "cell_type": "code",
   "execution_count": null,
   "metadata": {},
   "outputs": [],
   "source": [
    "# Call MMS management API to see list of loaded models\n",
    "!curl http://localhost:8081/models"
   ]
  },
  {
   "cell_type": "code",
   "execution_count": null,
   "metadata": {},
   "outputs": [],
   "source": [
    "# Query the loaded FER model\n",
    "!curl http://localhost:8081/models/fer"
   ]
  },
  {
   "cell_type": "markdown",
   "metadata": {},
   "source": [
    "Now let's make a prediction request with a test image:\n",
    "![Neutral](../assets/neutral-sad.png)"
   ]
  },
  {
   "cell_type": "code",
   "execution_count": null,
   "metadata": {},
   "outputs": [],
   "source": [
    "!curl -X POST http://127.0.0.1:8080/fer/predict -T \"../assets/neutral-sad.png\""
   ]
  },
  {
   "cell_type": "markdown",
   "metadata": {},
   "source": [
    "Lastly, to stop the server we will go to the console and run:  \n",
    "`\n",
    "$ mxnet-model-server --stop\n",
    "`"
   ]
  },
  {
   "cell_type": "markdown",
   "metadata": {},
   "source": [
    "# References\n",
    "1. I. J. Goodfellow, D. Erhan, P. L. Carrier, A. Courville,\n",
    "M. Mirza, B. Hamner, W. Cukierski, Y. Tang,\n",
    "D. Thaler, D.-H. Lee, et al. Challenges in\n",
    "representation learning: A report on three machine\n",
    "learning contests. In Neural information processing,\n",
    "pages 117–124. Springer, 2013\n",
    "\n",
    "2. Training Deep Networks for Facial Expression Recognition with Crowd-Sourced Label Distribution Emad Barsoum et. al. https://arxiv.org/abs/1608.01041\n"
   ]
  }
 ],
 "metadata": {
  "kernelspec": {
   "display_name": "Python 3",
   "language": "python",
   "name": "python3"
  },
  "language_info": {
   "codemirror_mode": {
    "name": "ipython",
    "version": 3
   },
   "file_extension": ".py",
   "mimetype": "text/x-python",
   "name": "python",
   "nbconvert_exporter": "python",
   "pygments_lexer": "ipython3",
   "version": "3.8.3"
  }
 },
 "nbformat": 4,
 "nbformat_minor": 4
}
