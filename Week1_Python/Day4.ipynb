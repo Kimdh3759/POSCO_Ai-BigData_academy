{
 "cells": [
  {
   "cell_type": "code",
   "execution_count": 1,
   "metadata": {},
   "outputs": [],
   "source": [
    "# 인공어: 특정한 목적을 갖고 만든 언어 "
   ]
  },
  {
   "cell_type": "code",
   "execution_count": 2,
   "metadata": {},
   "outputs": [
    {
     "name": "stdout",
     "output_type": "stream",
     "text": [
      "6\n",
      "13\n"
     ]
    }
   ],
   "source": [
    "a= [5,5,6,7,8,3]\n",
    "b= 'Life is short'\n",
    "a_len=0\n",
    "b_len=0\n",
    "\n",
    "for x in a:\n",
    "    a_len+=1\n",
    "print(a_len)\n",
    "\n",
    "for x in b:\n",
    "    b_len +=1\n",
    "print(b_len)"
   ]
  },
  {
   "cell_type": "code",
   "execution_count": 11,
   "metadata": {},
   "outputs": [
    {
     "data": {
      "text/plain": [
       "6"
      ]
     },
     "execution_count": 11,
     "metadata": {},
     "output_type": "execute_result"
    }
   ],
   "source": [
    "a= [5,5,6,7,8,3]\n",
    "b= 'Life is short'\n",
    "\n",
    "def my_len(self) :\n",
    "    n=0\n",
    "    for x in a:\n",
    "       n+=1\n",
    "    return n\n",
    "\n",
    "my_len(b)"
   ]
  },
  {
   "cell_type": "code",
   "execution_count": 13,
   "metadata": {},
   "outputs": [
    {
     "name": "stdout",
     "output_type": "stream",
     "text": [
      "3\n",
      "-1\n",
      "2\n",
      "0.5\n"
     ]
    }
   ],
   "source": [
    "a=1\n",
    "b=2\n",
    "\n",
    "def add(a,b):\n",
    "    c=a+b\n",
    "    return c\n",
    "def sub(a,b):\n",
    "    c=a-b\n",
    "    return c\n",
    "def mul(a,b):\n",
    "    c=a*b\n",
    "    return c\n",
    "def div(a,b):\n",
    "    c=a/b\n",
    "    return c\n",
    "\n",
    "print(add(1,2))\n",
    "print(sub(1,2))\n",
    "print(mul(1,2))\n",
    "print(div(1,2))"
   ]
  },
  {
   "cell_type": "code",
   "execution_count": 17,
   "metadata": {},
   "outputs": [],
   "source": [
    "def add_free(*a):\n",
    "    n=0\n",
    "    for x in range(len(a)):\n",
    "        n+= a[x]\n",
    "    return n"
   ]
  },
  {
   "cell_type": "code",
   "execution_count": 19,
   "metadata": {},
   "outputs": [
    {
     "data": {
      "text/plain": [
       "47"
      ]
     },
     "execution_count": 19,
     "metadata": {},
     "output_type": "execute_result"
    }
   ],
   "source": [
    "add_free(1,2,4,5,35)"
   ]
  },
  {
   "cell_type": "code",
   "execution_count": 25,
   "metadata": {},
   "outputs": [
    {
     "name": "stdout",
     "output_type": "stream",
     "text": [
      "30\n"
     ]
    }
   ],
   "source": [
    "def addX(_x):\n",
    "    global x\n",
    "    x =x + _x\n",
    "\n",
    "x=10\n",
    "y=20\n",
    "addX(y)\n",
    "print(x)"
   ]
  },
  {
   "cell_type": "code",
   "execution_count": 27,
   "metadata": {},
   "outputs": [
    {
     "data": {
      "text/plain": [
       "2"
      ]
     },
     "execution_count": 27,
     "metadata": {},
     "output_type": "execute_result"
    }
   ],
   "source": [
    "def sum_s(a,b=1):\n",
    "    c= a+b\n",
    "    return c\n",
    "sum_s(1)"
   ]
  },
  {
   "cell_type": "code",
   "execution_count": 28,
   "metadata": {},
   "outputs": [
    {
     "data": {
      "text/plain": [
       "30"
      ]
     },
     "execution_count": 28,
     "metadata": {},
     "output_type": "execute_result"
    }
   ],
   "source": [
    "def calc(x, y=0, z=0):\n",
    "    return x+y+z\n",
    "calc(y=20, x=10)"
   ]
  },
  {
   "cell_type": "code",
   "execution_count": 29,
   "metadata": {},
   "outputs": [
    {
     "name": "stdout",
     "output_type": "stream",
     "text": [
      "7\n",
      "12\n"
     ]
    }
   ],
   "source": [
    "def add_and_mul(a,b):\n",
    "    return (a+b, a*b)\n",
    "\n",
    "add_res, mul_res = add_and_mul(3,4)\n",
    "print(add_res)\n",
    "print(mul_res)"
   ]
  },
  {
   "cell_type": "code",
   "execution_count": 30,
   "metadata": {},
   "outputs": [
    {
     "name": "stdout",
     "output_type": "stream",
     "text": [
      "1\n"
     ]
    }
   ],
   "source": [
    "def test(a):\n",
    "    a+= 1 \n",
    "t= 1\n",
    "test(t)\n",
    "print(t)"
   ]
  },
  {
   "cell_type": "markdown",
   "metadata": {},
   "source": [
    "## 실습문제 5"
   ]
  },
  {
   "cell_type": "code",
   "execution_count": 31,
   "metadata": {},
   "outputs": [
    {
     "name": "stdout",
     "output_type": "stream",
     "text": [
      "9\n",
      "1\n",
      "[3, 5, 2]\n"
     ]
    }
   ],
   "source": [
    "def get_min_max(l):\n",
    "    list_max=max(l)\n",
    "    l.remove(list_max)\n",
    "    list_min=min(l)\n",
    "    l.remove(list_min)\n",
    "    return(list_max,list_min)\n",
    "\n",
    "l=[3,5,9,1,2]\n",
    "min_val, max_val = get_min_max(l)\n",
    "print(min_val)\n",
    "print(max_val)\n",
    "print(l)"
   ]
  },
  {
   "cell_type": "code",
   "execution_count": 32,
   "metadata": {},
   "outputs": [],
   "source": [
    "import random"
   ]
  },
  {
   "cell_type": "code",
   "execution_count": 40,
   "metadata": {},
   "outputs": [
    {
     "data": {
      "text/plain": [
       "'s'"
      ]
     },
     "execution_count": 40,
     "metadata": {},
     "output_type": "execute_result"
    }
   ],
   "source": [
    "random.choice('asdfasdf')"
   ]
  },
  {
   "cell_type": "markdown",
   "metadata": {},
   "source": [
    "## 실습문제 6"
   ]
  },
  {
   "cell_type": "code",
   "execution_count": 41,
   "metadata": {
    "collapsed": true
   },
   "outputs": [
    {
     "ename": "KeyboardInterrupt",
     "evalue": "Interrupted by user",
     "output_type": "error",
     "traceback": [
      "\u001b[0;31m---------------------------------------------------------------------------\u001b[0m",
      "\u001b[0;31mKeyboardInterrupt\u001b[0m                         Traceback (most recent call last)",
      "\u001b[0;32m<ipython-input-41-caa3d2f7f342>\u001b[0m in \u001b[0;36m<module>\u001b[0;34m\u001b[0m\n\u001b[1;32m      1\u001b[0m \u001b[0;32mwhile\u001b[0m \u001b[0;32mTrue\u001b[0m\u001b[0;34m:\u001b[0m\u001b[0;34m\u001b[0m\u001b[0;34m\u001b[0m\u001b[0m\n\u001b[0;32m----> 2\u001b[0;31m     \u001b[0mnumb\u001b[0m\u001b[0;34m=\u001b[0m \u001b[0minput\u001b[0m\u001b[0;34m(\u001b[0m\u001b[0;34m)\u001b[0m\u001b[0;34m\u001b[0m\u001b[0;34m\u001b[0m\u001b[0m\n\u001b[0m",
      "\u001b[0;32m~/anaconda3/lib/python3.8/site-packages/ipykernel/kernelbase.py\u001b[0m in \u001b[0;36mraw_input\u001b[0;34m(self, prompt)\u001b[0m\n\u001b[1;32m    858\u001b[0m                 \u001b[0;34m\"raw_input was called, but this frontend does not support input requests.\"\u001b[0m\u001b[0;34m\u001b[0m\u001b[0;34m\u001b[0m\u001b[0m\n\u001b[1;32m    859\u001b[0m             )\n\u001b[0;32m--> 860\u001b[0;31m         return self._input_request(str(prompt),\n\u001b[0m\u001b[1;32m    861\u001b[0m             \u001b[0mself\u001b[0m\u001b[0;34m.\u001b[0m\u001b[0m_parent_ident\u001b[0m\u001b[0;34m,\u001b[0m\u001b[0;34m\u001b[0m\u001b[0;34m\u001b[0m\u001b[0m\n\u001b[1;32m    862\u001b[0m             \u001b[0mself\u001b[0m\u001b[0;34m.\u001b[0m\u001b[0m_parent_header\u001b[0m\u001b[0;34m,\u001b[0m\u001b[0;34m\u001b[0m\u001b[0;34m\u001b[0m\u001b[0m\n",
      "\u001b[0;32m~/anaconda3/lib/python3.8/site-packages/ipykernel/kernelbase.py\u001b[0m in \u001b[0;36m_input_request\u001b[0;34m(self, prompt, ident, parent, password)\u001b[0m\n\u001b[1;32m    902\u001b[0m             \u001b[0;32mexcept\u001b[0m \u001b[0mKeyboardInterrupt\u001b[0m\u001b[0;34m:\u001b[0m\u001b[0;34m\u001b[0m\u001b[0;34m\u001b[0m\u001b[0m\n\u001b[1;32m    903\u001b[0m                 \u001b[0;31m# re-raise KeyboardInterrupt, to truncate traceback\u001b[0m\u001b[0;34m\u001b[0m\u001b[0;34m\u001b[0m\u001b[0;34m\u001b[0m\u001b[0m\n\u001b[0;32m--> 904\u001b[0;31m                 \u001b[0;32mraise\u001b[0m \u001b[0mKeyboardInterrupt\u001b[0m\u001b[0;34m(\u001b[0m\u001b[0;34m\"Interrupted by user\"\u001b[0m\u001b[0;34m)\u001b[0m \u001b[0;32mfrom\u001b[0m \u001b[0;32mNone\u001b[0m\u001b[0;34m\u001b[0m\u001b[0;34m\u001b[0m\u001b[0m\n\u001b[0m\u001b[1;32m    905\u001b[0m             \u001b[0;32mexcept\u001b[0m \u001b[0mException\u001b[0m \u001b[0;32mas\u001b[0m \u001b[0me\u001b[0m\u001b[0;34m:\u001b[0m\u001b[0;34m\u001b[0m\u001b[0;34m\u001b[0m\u001b[0m\n\u001b[1;32m    906\u001b[0m                 \u001b[0mself\u001b[0m\u001b[0;34m.\u001b[0m\u001b[0mlog\u001b[0m\u001b[0;34m.\u001b[0m\u001b[0mwarning\u001b[0m\u001b[0;34m(\u001b[0m\u001b[0;34m\"Invalid Message:\"\u001b[0m\u001b[0;34m,\u001b[0m \u001b[0mexc_info\u001b[0m\u001b[0;34m=\u001b[0m\u001b[0;32mTrue\u001b[0m\u001b[0;34m)\u001b[0m\u001b[0;34m\u001b[0m\u001b[0;34m\u001b[0m\u001b[0m\n",
      "\u001b[0;31mKeyboardInterrupt\u001b[0m: Interrupted by user"
     ]
    }
   ],
   "source": [
    "while True:\n",
    "    num_list\n",
    "    numb= input(\"숫자 6개를 임의로 입력해주세요(1~45)\")\n",
    "    \n",
    "    "
   ]
  },
  {
   "cell_type": "markdown",
   "metadata": {},
   "source": [
    "## 실습문제8"
   ]
  },
  {
   "cell_type": "code",
   "execution_count": 63,
   "metadata": {},
   "outputs": [
    {
     "name": "stdout",
     "output_type": "stream",
     "text": [
      "{'r': 1, 'e': 2, 'd': 1, ' ': 1, 'a': 1, 'p': 2, 'l': 1}\n",
      "\n",
      "e\n"
     ]
    }
   ],
   "source": [
    "def letter_dict(str):\n",
    "    for a in str:\n",
    "        if box.get(a)==None:\n",
    "            box[a]=1\n",
    "        else:\n",
    "            box[a]+=1\n",
    "    return box\n",
    "\n",
    "def max_letter(dict):\n",
    "    max_val=max(dict.values())\n",
    "    for a,b in dict.items():\n",
    "        if b==max_val:\n",
    "            print(a)\n",
    "            break\n",
    "    return \n",
    "\n",
    "box=dict()        \n",
    "a= letter_dict('red apple')\n",
    "print(a)\n",
    "print('')\n",
    "max_letter(a)"
   ]
  },
  {
   "cell_type": "code",
   "execution_count": 68,
   "metadata": {},
   "outputs": [
    {
     "name": "stdout",
     "output_type": "stream",
     "text": [
      "{'r': 1, 'e': 2, 'd': 1, ' ': 1, 'a': 1, 'p': 2, 'l': 1}\n",
      "\n",
      "[('e', 2), ('p', 2), ('r', 1), ('d', 1), (' ', 1), ('a', 1), ('l', 1)]\n"
     ]
    },
    {
     "data": {
      "text/plain": [
       "'e'"
      ]
     },
     "execution_count": 68,
     "metadata": {},
     "output_type": "execute_result"
    }
   ],
   "source": [
    "def letter_dict(str):\n",
    "    for a in str:\n",
    "        if box.get(a)==None:\n",
    "            box[a]=1\n",
    "        else:\n",
    "            box[a]+=1\n",
    "    return box\n",
    "\n",
    "def max_letter(dict):\n",
    "    max_dict = sorted(dict.items(),key=lambda x:x[1], reverse=True)\n",
    "    print(max_dict)\n",
    "    return max_dict[0][0]\n",
    "\n",
    "box=dict()        \n",
    "a= letter_dict('red apple')\n",
    "print(a)\n",
    "print('')\n",
    "max_letter(a)\n",
    "\n"
   ]
  },
  {
   "cell_type": "markdown",
   "metadata": {},
   "source": [
    "### 과제 제출 1,2,3,4 만."
   ]
  },
  {
   "cell_type": "code",
   "execution_count": 1,
   "metadata": {},
   "outputs": [
    {
     "data": {
      "text/plain": [
       "3"
      ]
     },
     "execution_count": 1,
     "metadata": {},
     "output_type": "execute_result"
    }
   ],
   "source": [
    "import module_test\n",
    "module_test.add(1,2)"
   ]
  },
  {
   "cell_type": "code",
   "execution_count": 75,
   "metadata": {},
   "outputs": [
    {
     "ename": "AttributeError",
     "evalue": "module 'module_test' has no attribute 'add'",
     "output_type": "error",
     "traceback": [
      "\u001b[0;31m---------------------------------------------------------------------------\u001b[0m",
      "\u001b[0;31mAttributeError\u001b[0m                            Traceback (most recent call last)",
      "\u001b[0;32m<ipython-input-75-0aeea4076d7a>\u001b[0m in \u001b[0;36m<module>\u001b[0;34m\u001b[0m\n\u001b[0;32m----> 1\u001b[0;31m \u001b[0mmodule_test\u001b[0m\u001b[0;34m.\u001b[0m\u001b[0madd\u001b[0m\u001b[0;34m(\u001b[0m\u001b[0;36m1\u001b[0m\u001b[0;34m,\u001b[0m\u001b[0;36m2\u001b[0m\u001b[0;34m)\u001b[0m\u001b[0;34m\u001b[0m\u001b[0;34m\u001b[0m\u001b[0m\n\u001b[0m",
      "\u001b[0;31mAttributeError\u001b[0m: module 'module_test' has no attribute 'add'"
     ]
    }
   ],
   "source": []
  },
  {
   "cell_type": "markdown",
   "metadata": {},
   "source": [
    "## 과제1"
   ]
  },
  {
   "cell_type": "code",
   "execution_count": 42,
   "metadata": {},
   "outputs": [
    {
     "name": "stdout",
     "output_type": "stream",
     "text": [
      "13는 소수입니다.\n",
      "15는 소수가 아닙니다.\n"
     ]
    }
   ],
   "source": [
    "def check_prime(num):\n",
    "    cnt=0\n",
    "    for a in range(1,num+1):\n",
    "        if int(num) % a ==0:  \n",
    "            cnt+=1\n",
    "    if cnt==2: \n",
    "        return True\n",
    "    else:\n",
    "        return False\n",
    "    \n",
    "def main():\n",
    "    a = 13\n",
    "    b = 15\n",
    "    if check_prime(a):\n",
    "        print(str(a)+'는 소수입니다.')\n",
    "    else:\n",
    "        print(str(a)+'는 소수가 아닙니다.')\n",
    "    if check_prime(b):\n",
    "        print(str(b)+'는 소수입니다.')\n",
    "    else:\n",
    "        print(str(b)+'는 소수가 아닙니다.')\n",
    "        \n",
    "if __name__ == '__main__':\n",
    "    main()"
   ]
  },
  {
   "cell_type": "markdown",
   "metadata": {},
   "source": [
    "## 과제2"
   ]
  },
  {
   "cell_type": "code",
   "execution_count": 48,
   "metadata": {},
   "outputs": [
    {
     "name": "stdout",
     "output_type": "stream",
     "text": [
      "1,234\n",
      "123,456,789\n",
      "12\n"
     ]
    }
   ],
   "source": [
    "def add_comma(val):\n",
    "    val=str(val)\n",
    "    box=[]\n",
    "    cnt=0 \n",
    "    for a in val[::-1]:\n",
    "        box.append(a)\n",
    "        cnt+=1\n",
    "        if cnt%3==0:\n",
    "            if cnt==len(val):\n",
    "                pass\n",
    "            else:\n",
    "                box.append(',')\n",
    "    result=''.join(box[::-1])\n",
    "    return result\n",
    "        \n",
    "def main():\n",
    "    comma_added_1234 = add_comma(1234)\n",
    "    comma_added_12345678 = add_comma(12345678)\n",
    "    comma_added_12 = add_comma(12)\n",
    "    print(comma_added_1234)\n",
    "    print(comma_added_12345678)\n",
    "    print(comma_added_12)\n",
    "    \n",
    "if __name__ == '__main__':\n",
    "    main()"
   ]
  },
  {
   "cell_type": "code",
   "execution_count": 124,
   "metadata": {},
   "outputs": [
    {
     "name": "stdout",
     "output_type": "stream",
     "text": [
      "['There', 'was', 'a', 'farmer', 'who', 'had', 'a', 'dog', '.']\n",
      "['There was', 'was a', 'a farmer', 'farmer who', 'who had', 'had a', 'a dog', 'dog .']\n",
      "['There was a', 'was a farmer', 'a farmer who', 'farmer who had', 'who had a', 'had a dog', 'a dog .']\n"
     ]
    }
   ],
   "source": [
    "def tokenize(trg, N=1):\n",
    "    \n",
    "    sum_list=[]\n",
    "    trg_list=[]\n",
    "    cnt=0\n",
    "    left, right= 0,N\n",
    "    sum_char=''\n",
    "    \n",
    "    for word in trg.split():\n",
    "        trg_list.append(word)\n",
    "        \n",
    "    for x in range(len(trg_list)):\n",
    "        sum_char=''\n",
    "        for words in trg_list[left:right]:\n",
    "            sum_char+=words\n",
    "            sum_char+=' '\n",
    "            cnt+=1\n",
    "            if cnt==N and sum_char.count(' ')==N:\n",
    "                sum_list.append(sum_char.rstrip())\n",
    "                cnt=0\n",
    "        left += 1\n",
    "        right+= 1\n",
    "        \n",
    "    return sum_list\n",
    "   \n",
    "\n",
    "def main():\n",
    "    a=\"There was a farmer who had a dog .\"\n",
    "    print(tokenize(a))\n",
    "    print(tokenize(a,2))\n",
    "    print(tokenize(a,3))\n",
    "\n",
    "if __name__ == '__main__':\n",
    "    main()"
   ]
  },
  {
   "cell_type": "code",
   "execution_count": 83,
   "metadata": {},
   "outputs": [
    {
     "ename": "SyntaxError",
     "evalue": "invalid syntax (<ipython-input-83-8554cc33d07b>, line 2)",
     "output_type": "error",
     "traceback": [
      "\u001b[1;36m  File \u001b[1;32m\"<ipython-input-83-8554cc33d07b>\"\u001b[1;36m, line \u001b[1;32m2\u001b[0m\n\u001b[1;33m    b=a++\u001b[0m\n\u001b[1;37m         ^\u001b[0m\n\u001b[1;31mSyntaxError\u001b[0m\u001b[1;31m:\u001b[0m invalid syntax\n"
     ]
    }
   ],
   "source": []
  },
  {
   "cell_type": "code",
   "execution_count": 119,
   "metadata": {
    "scrolled": false
   },
   "outputs": [
    {
     "data": {
      "text/plain": [
       "8"
      ]
     },
     "execution_count": 119,
     "metadata": {},
     "output_type": "execute_result"
    }
   ],
   "source": [
    "a=\"There was a farmer who had a dog .\"\n",
    "a.count(' ')"
   ]
  },
  {
   "cell_type": "code",
   "execution_count": null,
   "metadata": {},
   "outputs": [],
   "source": [
    "\n",
    "            if null_cnt == N:\n",
    "                str_list.append(word_sum[1:])\n",
    "                null_cnt =0\n",
    "                word_sum=' '\n",
    "                \n",
    "            if check_cnt!= null_cnt:\n",
    "                word_sum += word\n",
    "                word_sum += ' '\n",
    "                check_cnt+=1\n",
    "            else :\n",
    "                word_sum += word\n",
    "                \n",
    "                \n",
    "                \n",
    " for word in trg:\n",
    "        \n",
    "        if word==' ':\n",
    "            null_cnt += 1\n",
    "            word_sum += ' '\n",
    "            \n",
    "        else:\n",
    "            \n",
    "            if null_cnt == N:\n",
    "                str_list.append(word_sum[1:].rstrip())\n",
    "                null_cnt =0\n",
    "                word_sum=' '\n",
    "            \n",
    "            word_sum += word\n",
    "                \n",
    "    \n",
    "    return str_list\n",
    "\n",
    " for x,y in enumerate(trg):\n",
    "        if y==\" \":\n",
    "            cnt +=1\n",
    "        if y==\" \" and cnt==N:\n",
    "            sum_list.append(trg[num:x+1])\n",
    "            num=x+1\n",
    "            cnt=0\n",
    "        else:\n",
    "            sum_char+= y"
   ]
  },
  {
   "cell_type": "code",
   "execution_count": null,
   "metadata": {},
   "outputs": [],
   "source": [
    "def mean_and_var(*val):\n",
    "    \n",
    "    \n",
    "def main():\n",
    "    v1=(0, 1)\n",
    "    v2=(0.5, 0.5)\n",
    "    v3=(1, 0)\n",
    "    m, var = mean_and_var(v1, v2, v3)\n",
    "    print('평균: ', m)\n",
    "    print('분산: ', var)\n",
    "\n",
    "if __name__ == '__main__':\n",
    "    main()\n"
   ]
  }
 ],
 "metadata": {
  "kernelspec": {
   "display_name": "Python 3",
   "language": "python",
   "name": "python3"
  },
  "language_info": {
   "codemirror_mode": {
    "name": "ipython",
    "version": 3
   },
   "file_extension": ".py",
   "mimetype": "text/x-python",
   "name": "python",
   "nbconvert_exporter": "python",
   "pygments_lexer": "ipython3",
   "version": "3.8.3"
  }
 },
 "nbformat": 4,
 "nbformat_minor": 4
}
