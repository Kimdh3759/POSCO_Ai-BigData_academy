{
 "cells": [
  {
   "cell_type": "markdown",
   "metadata": {},
   "source": [
    "## word_segmentation.py"
   ]
  },
  {
   "cell_type": "code",
   "execution_count": 1,
   "metadata": {},
   "outputs": [
    {
     "name": "stdout",
     "output_type": "stream",
     "text": [
      "(['this', 'is', 'not', 'my', 'beautiful', 'house'], 37.45704694264781, 18)\n"
     ]
    }
   ],
   "source": [
    "import util\n",
    "import wordsegUtil\n",
    "\n",
    "# 유니그램코스트에 단어를 하나를 넣게 되면 -log를 반환해주는 함수 (제공)\n",
    "\n",
    "\n",
    "class SegmentationProblem(util.SearchProblem):\n",
    "    def __init__(self, query, unigramCost):\n",
    "        self.query = query\n",
    "        self.unigramCost = unigramCost\n",
    "\n",
    "    def start_state(self):\n",
    "        return 0  # num of characters used to construct words\n",
    "        # 예를들어 iloveyou 로 시작했으면 하나도 띄어쓰기를 안하니까 0\n",
    "        # \n",
    "    def is_end(self, state):\n",
    "        return state == len(self.query)\n",
    "        # 쿼리가 인풋임 iloveyou\n",
    "    def succ_and_cost(self, state):\n",
    "        for step in range(1, len(self.query) - state + 1):\n",
    "            next_state = state + step\n",
    "            word = self.query[state: next_state]\n",
    "            cost = self.unigramCost(word)\n",
    "            yield word, next_state, cost  # action, next_state, cost\n",
    "            #다음 스테이트는 무었인지\n",
    "            # state에 0을 넣게 되면 i il ilo 등 각\n",
    "            #각에 액션에 대한 코스트(-logp(il)) 반환해줌\n",
    "            # yield  \n",
    "\n",
    "if __name__ == '__main__':\n",
    "    unigramCost, bigramCost = wordsegUtil.makeLanguageModels('leo-will.txt')\n",
    "    problem = SegmentationProblem('thisisnotmybeautifulhouse', unigramCost)\n",
    "\n",
    "    # import dynamic_programming_search\n",
    "    # dps = dynamic_programming_search.DynamicProgrammingSearch(verbose=1)\n",
    "    # # dps = dynamic_programming_search.DynamicProgrammingSearch(memory_use=False, verbose=1)\n",
    "    # print(dps.solve(problem))\n",
    "\n",
    "    import uniform_cost_search\n",
    "    ucs = uniform_cost_search.UniformCostSearch(verbose=0)\n",
    "    print(ucs.solve(problem))\n",
    "\n",
    "\n",
    "# === Other Examples ===\n",
    "#\n",
    "# QUERIES_SEG = [\n",
    "#     'thestaffofficerandprinceandrewmountedtheirhorsesandrodeon',\n",
    "#     'hellothere',\n",
    "#     'officerandshort',\n",
    "#     'erprince',\n",
    "#     'howdythere',\n",
    "#     'whatsup',\n",
    "#     'duduandtheprince',\n",
    "#     'duduandtheking',\n",
    "#     'withoutthecourtjester',\n",
    "#     'lightbulbneedschange',\n",
    "#     'imagineallthepeople',\n",
    "#     'thisisnotmybeautifulhouse',\n",
    "# ]\n"
   ]
  },
  {
   "cell_type": "markdown",
   "metadata": {},
   "source": [
    "##  yield 사용 예제"
   ]
  },
  {
   "cell_type": "code",
   "execution_count": 1,
   "metadata": {},
   "outputs": [
    {
     "name": "stdout",
     "output_type": "stream",
     "text": [
      "(0, 0, 0)\n",
      "(1, 1, 1)\n",
      "(2, 2, 2)\n",
      "(3, 3, 3)\n",
      "(4, 4, 4)\n",
      "(5, 5, 5)\n",
      "(6, 6, 6)\n",
      "(7, 7, 7)\n",
      "(8, 8, 8)\n",
      "(9, 9, 9)\n",
      "\n",
      "(0, 0, 0)\n",
      "(1, 1, 1)\n",
      "(2, 2, 2)\n",
      "(3, 3, 3)\n",
      "(4, 4, 4)\n",
      "(5, 5, 5)\n",
      "(6, 6, 6)\n",
      "(7, 7, 7)\n",
      "(8, 8, 8)\n",
      "(9, 9, 9)\n"
     ]
    }
   ],
   "source": [
    "def succ_and_cost():\n",
    "    results=[]\n",
    "    for i in range(10):\n",
    "        results.append((i,i,i))\n",
    "    return results\n",
    "\n",
    "def succ_and_cost_yield():\n",
    "    for i in range(10):\n",
    "        yield(i,i,i)\n",
    "\n",
    "for t in succ_and_cost_yield():\n",
    "    print(t)\n",
    "print( \"\")    \n",
    "for t in succ_and_cost():\n",
    "    print(t)"
   ]
  },
  {
   "cell_type": "markdown",
   "metadata": {},
   "source": [
    "## vowel_insertion.py"
   ]
  },
  {
   "cell_type": "code",
   "execution_count": 2,
   "metadata": {},
   "outputs": [
    {
     "name": "stdout",
     "output_type": "stream",
     "text": [
      "(['thats', 'me', 'in', 'the', 'corner'], 46.78710900438204, 40)\n"
     ]
    }
   ],
   "source": [
    "import util\n",
    "import wordsegUtil\n",
    "\n",
    "\n",
    "class VowelInsertionProblem(util.SearchProblem):\n",
    "    def __init__(self, queryWords, bigramCost, possibleFills):\n",
    "        # querywords에 모음이 없는 [kll,m]를 넣어줌 kill me 의 예시\n",
    "        # possiblefill 불가능한 단어들을 제거해주는 역할? \n",
    "        #(0,-begin-) 0은 모음을 삽입한 갯수 \n",
    "        self.queryWords = queryWords\n",
    "        self.bigramCost = bigramCost\n",
    "        self.possibleFills = possibleFills\n",
    "\n",
    "    def start_state(self):\n",
    "        return 0, wordsegUtil.SENTENCE_BEGIN  # word position & previous reconstructed word\n",
    "\n",
    "    def is_end(self, state):\n",
    "        return state[0] == len(self.queryWords)\n",
    "        # state (모음을 넣은 갯수, 방금 생성한 단어?)\n",
    "    def succ_and_cost(self, state):\n",
    "        pos, prev_word = state\n",
    "        vowel_removed_word = self.queryWords[pos]\n",
    "        fills = self.possibleFills(vowel_removed_word) | {vowel_removed_word}\n",
    "        for fill in fills:\n",
    "            next_state = pos + 1, fill\n",
    "            cost = self.bigramCost(prev_word, fill)\n",
    "            yield fill, next_state, cost  # return action, state, cost\n",
    "            # fills = ex) [kll,kill,kall]\n",
    "            # bigramcost로 이전단어와 생성한 단어의 비용 구함.\n",
    "\n",
    "if __name__ == '__main__':    \n",
    "    unigramCost, bigramCost = wordsegUtil.makeLanguageModels('leo-will.txt')\n",
    "    possibleFills = wordsegUtil.makeInverseRemovalDictionary('leo-will.txt', 'aeiou')\n",
    "    problem = VowelInsertionProblem('thts m n th crnr'.split(), bigramCost, possibleFills)\n",
    "    # problem = VowelInsertionProblem([wordsegUtil.removeAll(word, 'aeiou') for word in 'whats up'.split()], bigramCost, possibleFills)\n",
    "\n",
    "    # import dynamic_programming_search\n",
    "    # dps = dynamic_programming_search.DynamicProgrammingSearch(verbose=1)\n",
    "    # # dps = dynamic_programming_search.DynamicProgrammingSearch(memory_use=False, verbose=1)\n",
    "    # print(dps.solve(problem))\n",
    "\n",
    "    import uniform_cost_search\n",
    "    ucs = uniform_cost_search.UniformCostSearch(verbose=0)\n",
    "    print(ucs.solve(problem))\n",
    "\n",
    "\n",
    "# === Other Examples ===\n",
    "# \n",
    "# QUERIES_INS = [\n",
    "#     'strng',\n",
    "#     'pls',\n",
    "#     'hll thr',\n",
    "#     'whats up',\n",
    "#     'dudu and the prince',\n",
    "#     'frog and the king',\n",
    "#     'ran with the queen and swam with jack',\n",
    "#     'light bulbs need change',\n",
    "#     'ffcr nd prnc ndrw',\n",
    "#     'ffcr nd shrt prnc',\n",
    "#     'ntrntnl',\n",
    "#     'smthng',\n",
    "#     'btfl',\n",
    "# ]\n"
   ]
  },
  {
   "cell_type": "markdown",
   "metadata": {},
   "source": [
    "앞에 두가지 테스크를 살펴보았다.\n",
    "JOINT TASK는 \n",
    "\n",
    "띄어쓰기가 없고 모음이 없는 문자열에 띄어쓰기와 모음을 삽입해 2-gram 언어 모델의 \n",
    "Smooth cost는 고려 필요 x  \n",
    "\n",
    "테스트 케이스 \"mgnlthppl => \" imagine all the people\" 으로 만들어야함\n",
    "\n",
    "\n",
    "1. search 문제 정의하고\n",
    "2.  코드를 기준으로 구현 \n",
    "\n",
    "스켈레톤 코드 succ_and_func 잘 구현해야함.\n",
    "\n",
    "Hint \n",
    "1. 1째 element로 방금 만든 숫자 2ele : 인풋 그자체\n",
    "mgnllthppl 처음에 단어중에 알파벳을 몇개를 이용할지 결정하는 것이 먼저임.\n",
    "이 각각에 대해 모음을 삽입하는 경우가 있을 수 있음.\n",
    "('me', gnllthppl)\n",
    "action : magnolia ( from mgnl) => state (magnolia, lthppl)\n",
    "이전에 만든 코스트와 방금 만든 코스트에 대한 p(magnolia|sㅁㄴㅇㄹ)\n",
    "\n",
    "조건 : \n",
    "무조건 모음이 포함되어 있어야 함. \n",
    "생성되는 단어는 반드시 하나 이상의 자음을 포함해야 하며, 모음만을 포함해서는 안됨"
   ]
  }
 ],
 "metadata": {
  "celltoolbar": "Slideshow",
  "kernelspec": {
   "display_name": "Python 3",
   "language": "python",
   "name": "python3"
  },
  "language_info": {
   "codemirror_mode": {
    "name": "ipython",
    "version": 3
   },
   "file_extension": ".py",
   "mimetype": "text/x-python",
   "name": "python",
   "nbconvert_exporter": "python",
   "pygments_lexer": "ipython3",
   "version": "3.8.3"
  }
 },
 "nbformat": 4,
 "nbformat_minor": 4
}
