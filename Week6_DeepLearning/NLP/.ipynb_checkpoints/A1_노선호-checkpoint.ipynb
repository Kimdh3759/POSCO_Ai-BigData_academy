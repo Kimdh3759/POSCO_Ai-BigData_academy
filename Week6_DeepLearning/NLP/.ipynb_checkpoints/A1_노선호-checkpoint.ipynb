{
 "cells": [
  {
   "cell_type": "code",
   "execution_count": 1,
   "metadata": {},
   "outputs": [],
   "source": [
    "import torch.nn as nn\n",
    "import torch\n",
    "import torch.nn.utils.rnn as rnn\n",
    "import statistics\n",
    "import nltk # 없으시면 설치하세요: pip install nltk\n",
    "import random\n",
    "import collections\n",
    "import time\n",
    "import numpy as np # optinal"
   ]
  },
  {
   "cell_type": "code",
   "execution_count": 2,
   "metadata": {},
   "outputs": [],
   "source": [
    "# 특정 GPU를 사용할 경우\n",
    "# GPU_NUM=1 # 1번 gpu를 사용할 경우.\n",
    "# device = torch.device(f'cuda:{GPU_NUM}' if torch.cuda.is_available() else 'cpu')\n",
    "# torch.cuda.set_device(device) # change allocation of current GPU\n",
    "# print ('Current cuda device ', torch.cuda.current_device()) # check\n",
    "\n",
    "device = torch.device('cuda' if torch.cuda.is_available() else 'cpu')"
   ]
  },
  {
   "cell_type": "code",
   "execution_count": 3,
   "metadata": {},
   "outputs": [],
   "source": [
    "## Dictionary class 선언\n",
    "class Dictionary(object):\n",
    "    def __init__(self, dataset, size):\n",
    "        ## init vocab ##\n",
    "        self.word2idx = {'<pad>':0, '<sos>': 1, '<eos>': 2, '<unk>': 3} # 사전 \n",
    "        self.idx2word = ['<pad>', '<sos>', '<eos>', '<unk>'] # inverted diction\n",
    "\n",
    "        self.build_dict(dataset, size)\n",
    "\n",
    "    def __call__(self, word):\n",
    "        return self.word2idx.get(word, self.word2idx['<unk>']) # if word does not exist in vocab then return unk idx\n",
    "\n",
    "    def add_word(self, word):\n",
    "        if word not in self.word2idx:\n",
    "            self.idx2word.append(word)\n",
    "            self.word2idx[word] = len(self.idx2word) - 1\n",
    "        return self.word2idx[word]\n",
    "\n",
    "    def build_dict(self, dataset, dict_size):\n",
    "        \"\"\"Tokenize a text file.\"\"\"\n",
    "        total_words = (word for sent in dataset for word in sent) # store all words into tuple\n",
    "        word_freq = collections.Counter(total_words) # count the number of each word: ex) ('The': 10000, 'a': 5555, ...)\n",
    "        vocab = sorted(word_freq.keys(), key=lambda word: (-word_freq[word], word)) # sort by frequency\n",
    "        vocab = vocab[:dict_size]\n",
    "        for word in vocab:\n",
    "            self.add_word(word)\n",
    "\n",
    "    def __len__(self):\n",
    "        return len(self.idx2word)\n"
   ]
  },
  {
   "cell_type": "code",
   "execution_count": 4,
   "metadata": {},
   "outputs": [],
   "source": [
    "## Brown dataset Preprocessing (NLTK)\n",
    "def brown_dataset(min=5, max=30):\n",
    "    nltk.download('brown')\n",
    "\n",
    "    # get sentences with the length between min and max\n",
    "    # convert all words into lower-case\n",
    "    all_seq = [[token.lower() for token in seq] for seq in nltk.corpus.brown.sents() \n",
    "               if min <= len(seq) <= max]\n",
    "\n",
    "    random.shuffle(all_seq) # shuffle\n",
    "    return all_seq"
   ]
  },
  {
   "cell_type": "code",
   "execution_count": 5,
   "metadata": {},
   "outputs": [
    {
     "name": "stderr",
     "output_type": "stream",
     "text": [
      "[nltk_data] Downloading package brown to /home/piai/nltk_data...\n",
      "[nltk_data]   Package brown is already up-to-date!\n"
     ]
    },
    {
     "name": "stdout",
     "output_type": "stream",
     "text": [
      "43450\n",
      "['du', 'pont', ',', 'christiana', ',', 'and', 'delaware', 'were', 'to', 'be', 'enjoined', 'from', 'acquiring', 'stock', 'in', 'or', 'exercising', 'control', 'over', 'general', 'motors', ';', ';']\n",
      "['troubled', ',', 'he', 'continued', 'along', 'the', 'corridor', ',', 'poking', 'his', 'head', 'into', 'the', 'next', 'office', 'for', 'a', 'careful', 'look', 'around', '.']\n",
      "['another', 'remained', 'when', 'an', 'american', 'army', 'car', 'was', 'recovered', 'but', 'with', 'a', 'broken', 'glass', '.']\n"
     ]
    }
   ],
   "source": [
    "## Download Brown dataset\n",
    "dataset = brown_dataset()\n",
    "print(len(dataset))\n",
    "## print some part\n",
    "print(dataset[0])\n",
    "print(dataset[1])\n",
    "print(dataset[2])"
   ]
  },
  {
   "cell_type": "code",
   "execution_count": 6,
   "metadata": {},
   "outputs": [],
   "source": [
    "## Data handler class 선언\n",
    "class Corpus(object):\n",
    "    def __init__(self, dataset, device, dict_size=20000, train_ratio=0.97):\n",
    "        train_size = int(len(dataset) * train_ratio)\n",
    "        self.device = device\n",
    "        self.dictionary = Dictionary(dataset, dict_size)\n",
    "        self.train = dataset[:train_size] # [0 ~ train_size]\n",
    "        self.valid = dataset[train_size:] # [train_size: len(dataset)]\n",
    "\n",
    "    def indexing(self, dat):\n",
    "        # dat = list(list)\n",
    "        src_idxes = [] # 모델 입력\n",
    "        tgt_idxes = [] # 모델 정답\n",
    "        for sent in dat:\n",
    "            src_idx = [self.dictionary('<sos>')] + [self.dictionary(word) for word in sent]\n",
    "            tgt_idx = [self.dictionary(word) for word in sent] + [self.dictionary('<eos>')]\n",
    "            src_idxes.append(torch.tensor(src_idx).type(torch.int64))\n",
    "            tgt_idxes.append(torch.tensor(tgt_idx).type(torch.int64))\n",
    "\n",
    "        src_idxes = rnn.pad_sequence(src_idxes, batch_first=True).to(self.device) # shape = [B, L]\n",
    "        tgt_idxes = rnn.pad_sequence(tgt_idxes, batch_first=True).to(self.device).view(-1) # flatten shape = [B * L]\n",
    "\n",
    "        return src_idxes, tgt_idxes\n",
    "\n",
    "    def batch_iter(self, batch_size, isTrain=True):\n",
    "        dat = self.train if isTrain else self.valid\n",
    "        if isTrain:\n",
    "            random.shuffle(dat)\n",
    "\n",
    "        for i in range(len(dat) // batch_size):\n",
    "            batch = dat[i * batch_size: (i+1) * batch_size]\n",
    "            src, tgt = self.indexing(batch)\n",
    "            yield {'src': src, 'tgt': tgt}"
   ]
  },
  {
   "cell_type": "code",
   "execution_count": 7,
   "metadata": {},
   "outputs": [],
   "source": [
    "corpus = Corpus(dataset, device)"
   ]
  },
  {
   "cell_type": "code",
   "execution_count": 8,
   "metadata": {},
   "outputs": [
    {
     "name": "stdout",
     "output_type": "stream",
     "text": [
      "word:  <pad>      | index:     0 \n",
      "word:  <sos>      | index:     1 \n",
      "word:  <eos>      | index:     2 \n",
      "word:  <unk>      | index:     3 \n",
      "word:  the        | index:     4 \n",
      "word:  .          | index:     5 \n",
      "word:  ,          | index:     6 \n",
      "word:  of         | index:     7 \n",
      "word:  and        | index:     8 \n",
      "word:  to         | index:     9 \n",
      "word:  a          | index:    10 \n",
      "word:  in         | index:    11 \n",
      "word:  was        | index:    12 \n",
      "word:  he         | index:    13 \n",
      "word:  is         | index:    14 \n",
      "word:  ''         | index:    15 \n",
      "word:  ``         | index:    16 \n",
      "word:  it         | index:    17 \n",
      "word:  that       | index:    18 \n",
      "word:  for        | index:    19 \n",
      "word:  ;          | index:    20 \n"
     ]
    }
   ],
   "source": [
    "# Dictionary 확인\n",
    "\n",
    "for i, (key, val) in enumerate(corpus.dictionary.word2idx.items()):\n",
    "    print('word:  {:10s} | index: {:5d} '.format(key, val))\n",
    "    if i == 20:\n",
    "        break\n"
   ]
  },
  {
   "cell_type": "code",
   "execution_count": 9,
   "metadata": {},
   "outputs": [
    {
     "name": "stdout",
     "output_type": "stream",
     "text": [
      "[['troubled', ',', 'he', 'continued', 'along', 'the', 'corridor', ',', 'poking', 'his', 'head', 'into', 'the', 'next', 'office', 'for', 'a', 'careful', 'look', 'around', '.']]\n",
      "tensor([[    1,  3860,     6,    13,   801,   269,     4,  3926,     6, 19310,\n",
      "            21,   200,    69,     4,   218,   406,    19,    10,  1465,   216,\n",
      "           155,     5]], device='cuda:0')\n",
      "tensor([ 3860,     6,    13,   801,   269,     4,  3926,     6, 19310,    21,\n",
      "          200,    69,     4,   218,   406,    19,    10,  1465,   216,   155,\n",
      "            5,     2], device='cuda:0')\n",
      "------------------------------------------------------------------------------------------\n",
      "[['du', 'pont', ',', 'christiana', ',', 'and', 'delaware', 'were', 'to', 'be', 'enjoined', 'from', 'acquiring', 'stock', 'in', 'or', 'exercising', 'control', 'over', 'general', 'motors', ';', ';'], ['troubled', ',', 'he', 'continued', 'along', 'the', 'corridor', ',', 'poking', 'his', 'head', 'into', 'the', 'next', 'office', 'for', 'a', 'careful', 'look', 'around', '.']]\n",
      "tensor([[    1,  2251,  3814,     6, 12778,     6,     8,  4609,    40,     9,\n",
      "            26, 13214,    36, 10371,   810,    11,    39, 10928,   462,    92,\n",
      "           231,  3290,    20,    20],\n",
      "        [    1,  3860,     6,    13,   801,   269,     4,  3926,     6, 19310,\n",
      "            21,   200,    69,     4,   218,   406,    19,    10,  1465,   216,\n",
      "           155,     5,     0,     0]], device='cuda:0')\n",
      "tensor([ 2251,  3814,     6, 12778,     6,     8,  4609,    40,     9,    26,\n",
      "        13214,    36, 10371,   810,    11,    39, 10928,   462,    92,   231,\n",
      "         3290,    20,    20,     2,  3860,     6,    13,   801,   269,     4,\n",
      "         3926,     6, 19310,    21,   200,    69,     4,   218,   406,    19,\n",
      "           10,  1465,   216,   155,     5,     2,     0,     0],\n",
      "       device='cuda:0')\n"
     ]
    }
   ],
   "source": [
    "## indexing 함수 결과 확인\n",
    "\n",
    "# case : 단일 문장 입력 시. \n",
    "sent = [dataset[1]]\n",
    "idx_src, idx_tgt = corpus.indexing(sent)\n",
    "\n",
    "print(sent)\n",
    "print(idx_src) # <SOS> index로 시작\n",
    "print(idx_tgt) # <EOS> index로 종료\n",
    "\n",
    "print('-' * 90)\n",
    "## case : 복수 문장 입력 시 (batching)\n",
    "batch = [dataset[0], dataset[1]]\n",
    "idx_src, idx_tgt = corpus.indexing(batch)\n",
    "\n",
    "print(batch)\n",
    "print(idx_src) # 가장 길이가 긴 문장 (dataset[0]) 보다 짧은 문장 (dataset[1]) 의 경우 남는 길이만큼 padding=0 삽입 확인.\n",
    "print(idx_tgt)"
   ]
  },
  {
   "cell_type": "code",
   "execution_count": 10,
   "metadata": {},
   "outputs": [],
   "source": [
    "## RNN Language model 선언\n",
    "\n",
    "# Define network\n",
    "class RNNModel(nn.Module):\n",
    "    def __init__(self, ntoken, hidden_size, nlayers, dropout=0.1):\n",
    "        super(RNNModel, self).__init__()\n",
    "        self.drop = nn.Dropout(dropout)\n",
    "        self.embeddings = nn.Embedding(ntoken, hidden_size, padding_idx=0)\n",
    "        self.rnn = nn.LSTM(hidden_size, hidden_size, nlayers, dropout=dropout, batch_first=True) # [B, L, Hidden_DIM]\n",
    "        self.output_layer = nn.Linear(hidden_size, ntoken)\n",
    "        self.sm = nn.LogSoftmax(dim=-1)\n",
    "\n",
    "        self.ntoken = ntoken\n",
    "        self.hidden_size = hidden_size\n",
    "        self.nlayers = nlayers\n",
    "\n",
    "        self.init_weights()\n",
    "\n",
    "    def init_weights(self):\n",
    "        initrange = 0.1\n",
    "        self.embeddings.weight.data.uniform_(-initrange, initrange)\n",
    "        self.output_layer.weight.data.uniform_(-initrange, initrange)\n",
    "        self.output_layer.bias.data.zero_()\n",
    "\n",
    "    def forward(self, input, hidden):\n",
    "        emb = self.embeddings(input) # emb = (batch, length, dim)\n",
    "        output, hidden = self.rnn(emb, hidden) # output = (batch. length. dim)\n",
    "        output = self.drop(output)\n",
    "        output = self.output_layer(output) # output = (batch, length, vocab_size)\n",
    "        output = output.view(-1, self.ntoken) # output = (batch * length, vocab_size)\n",
    "\n",
    "        return self.sm(output), hidden\n",
    "\n",
    "    def init_hidden(self, bsz):\n",
    "        weight = next(self.parameters()) # to set init tensor with the same torch.dtype and torch.device\n",
    "        return (weight.new_zeros(self.nlayers, bsz, self.hidden_size),\n",
    "                weight.new_zeros(self.nlayers, bsz, self.hidden_size))\n"
   ]
  },
  {
   "cell_type": "code",
   "execution_count": 11,
   "metadata": {},
   "outputs": [
    {
     "name": "stderr",
     "output_type": "stream",
     "text": [
      "/home/piai/anaconda3/lib/python3.8/site-packages/torch/nn/modules/rnn.py:47: UserWarning: dropout option adds dropout after all but last recurrent layer, so non-zero dropout expects num_layers greater than 1, but got dropout=0.2 and num_layers=1\n",
      "  warnings.warn(\"dropout option adds dropout after all but last \"\n"
     ]
    }
   ],
   "source": [
    "# Hyperparameters\n",
    "batch_size = 60\n",
    "hidden_size = 256\n",
    "dropout = 0.2\n",
    "max_epoch = 30\n",
    "\n",
    "# build model\n",
    "ntokens = len(corpus.dictionary)\n",
    "model = RNNModel(ntokens, hidden_size, 1, dropout).to(device)\n",
    "isTrain=True # Flag variable\n",
    "\n",
    "# set loss func and optimizer\n",
    "optimizer = torch.optim.Adam(model.parameters(), lr=0.005)\n",
    "criterion = nn.NLLLoss(ignore_index=0, reduction='mean')"
   ]
  },
  {
   "cell_type": "code",
   "execution_count": 12,
   "metadata": {},
   "outputs": [],
   "source": [
    "##### Training / Evaluation Parts #######"
   ]
  },
  {
   "cell_type": "code",
   "execution_count": 13,
   "metadata": {},
   "outputs": [],
   "source": [
    "# accuracy\n",
    "def cal_acc(scores, target):\n",
    "    pred = scores.max(-1)[1]\n",
    "    non_pad = target.ne(0)\n",
    "    num_correct = pred.eq(target).masked_select(non_pad).sum().item() \n",
    "    num_non_pad = non_pad.sum().item()\n",
    "    return 100 * (num_correct / num_non_pad)"
   ]
  },
  {
   "cell_type": "code",
   "execution_count": 14,
   "metadata": {},
   "outputs": [],
   "source": [
    "# train func.\n",
    "def train():\n",
    "    model.train() # Turn on training mode which enables dropout.\n",
    "    mean_loss = []\n",
    "    mean_acc = []\n",
    "    start_time = time.time()\n",
    "\n",
    "    for batch in corpus.batch_iter(batch_size):\n",
    "        hidden = model.init_hidden(batch_size) # zero vectors for init hidden\n",
    "        target = batch['tgt'] # flattened target \n",
    "        optimizer.zero_grad()\n",
    "        output, hidden = model(batch['src'], hidden) # output = flatten output = [Batch_size * Length, vocab_size]\n",
    "\n",
    "        # output shape = (batch * length, vocab_size)\n",
    "        # target shape = (batch * length)   --> (batch * length, vocab_size) 로 one-hot distribtuion으로 내부적으로 변환되어 비교 수행\n",
    "        loss = criterion(output, target) # compare between vocab_prob and answer_prob(one-hot converted)\n",
    "        loss.backward()\n",
    "        optimizer.step()\n",
    "\n",
    "        mean_loss.append(loss.item())\n",
    "        mean_acc.append(cal_acc(output, target))\n",
    "\n",
    "    total_time = time.time() - start_time\n",
    "    mean_acc = statistics.mean(mean_acc)\n",
    "    mean_loss = statistics.mean(mean_loss)\n",
    "\n",
    "    return mean_loss, total_time, mean_acc"
   ]
  },
  {
   "cell_type": "code",
   "execution_count": 15,
   "metadata": {},
   "outputs": [],
   "source": [
    "# evaluation func.\n",
    "def evaluate():\n",
    "    model.eval() # Turn off dropout\n",
    "    mean_loss = []\n",
    "    mean_acc = []\n",
    "\n",
    "    for batch in corpus.batch_iter(batch_size, isTrain=False):\n",
    "        with torch.no_grad():\n",
    "            hidden = model.init_hidden(batch_size)\n",
    "            target = batch['tgt']\n",
    "            output, hidden = model(batch['src'], hidden)\n",
    "            loss = criterion(output, target)\n",
    "            mean_loss.append(loss.item())\n",
    "            mean_acc.append(cal_acc(output, target))\n",
    "\n",
    "    mean_acc = statistics.mean(mean_acc)\n",
    "    mean_loss = statistics.mean(mean_loss)\n",
    "\n",
    "    return mean_loss, mean_acc"
   ]
  },
  {
   "cell_type": "code",
   "execution_count": 16,
   "metadata": {},
   "outputs": [
    {
     "name": "stdout",
     "output_type": "stream",
     "text": [
      "epoch    2 | times 18.493 |  loss: 5.689 | accuracy: 20.39\n",
      "epoch    3 | times 18.316 |  loss: 5.065 | accuracy: 23.96\n",
      "epoch    4 | times 18.352 |  loss: 4.714 | accuracy: 25.57\n",
      "epoch    5 | times 18.390 |  loss: 4.399 | accuracy: 27.11\n",
      "epoch    6 | times 14.636 |  loss: 4.114 | accuracy: 28.84\n",
      "epoch    7 | times 13.448 |  loss: 3.863 | accuracy: 30.78\n",
      "epoch    8 | times 15.717 |  loss: 3.655 | accuracy: 32.69\n",
      "epoch    9 | times 18.421 |  loss: 3.485 | accuracy: 34.47\n",
      "epoch   10 | times 18.484 |  loss: 3.345 | accuracy: 36.04\n",
      "epoch   11 | times 18.027 |  loss: 3.228 | accuracy: 37.43\n",
      "============================================================\n",
      "Evaluation | loss: 5.934 | accuracy: 23.76\n",
      "============================================================\n",
      "epoch   12 | times 18.449 |  loss: 3.135 | accuracy: 38.61\n",
      "epoch   13 | times 18.464 |  loss: 3.057 | accuracy: 39.55\n",
      "epoch   14 | times 18.445 |  loss: 2.993 | accuracy: 40.35\n",
      "epoch   15 | times 18.466 |  loss: 2.940 | accuracy: 41.00\n",
      "epoch   16 | times 18.438 |  loss: 2.895 | accuracy: 41.61\n",
      "epoch   17 | times 18.411 |  loss: 2.853 | accuracy: 42.11\n",
      "epoch   18 | times 18.458 |  loss: 2.822 | accuracy: 42.52\n",
      "epoch   19 | times 18.432 |  loss: 2.798 | accuracy: 42.77\n",
      "epoch   20 | times 15.866 |  loss: 2.773 | accuracy: 43.12\n",
      "epoch   21 | times 18.140 |  loss: 2.753 | accuracy: 43.36\n",
      "============================================================\n",
      "Evaluation | loss: 6.780 | accuracy: 22.85\n",
      "============================================================\n",
      "epoch   22 | times 18.476 |  loss: 2.744 | accuracy: 43.38\n",
      "epoch   23 | times 16.835 |  loss: 2.727 | accuracy: 43.67\n",
      "epoch   24 | times 13.620 |  loss: 2.714 | accuracy: 43.78\n",
      "epoch   25 | times 13.673 |  loss: 2.704 | accuracy: 43.93\n",
      "epoch   26 | times 13.917 |  loss: 2.695 | accuracy: 44.01\n",
      "epoch   27 | times 18.489 |  loss: 2.691 | accuracy: 44.03\n",
      "epoch   28 | times 18.503 |  loss: 2.688 | accuracy: 44.01\n",
      "epoch   29 | times 18.519 |  loss: 2.681 | accuracy: 44.06\n",
      "epoch   30 | times 18.512 |  loss: 2.678 | accuracy: 44.14\n",
      "epoch   31 | times 18.472 |  loss: 2.677 | accuracy: 44.05\n",
      "============================================================\n",
      "Evaluation | loss: 7.225 | accuracy: 22.31\n",
      "============================================================\n",
      "save model at: ./model.pt\n"
     ]
    },
    {
     "name": "stderr",
     "output_type": "stream",
     "text": [
      "/home/piai/anaconda3/lib/python3.8/site-packages/torch/serialization.py:359: UserWarning: Couldn't retrieve source code for container of type RNNModel. It won't be checked for correctness upon loading.\n",
      "  warnings.warn(\"Couldn't retrieve source code for container of \"\n"
     ]
    }
   ],
   "source": [
    "if isTrain: # set False if you don't need to train model\n",
    "    start_time = time.time()\n",
    "\n",
    "    for epoch in range(1, max_epoch+1):\n",
    "        loss, epoch_time, accuracy = train()\n",
    "        print('epoch {:4d} | times {:3.3f} |  loss: {:3.3f} | accuracy: {:3.2f}'.format(epoch+1, epoch_time, loss, accuracy))\n",
    "\n",
    "        if epoch % 10 == 0:\n",
    "            loss, accuracy = evaluate()\n",
    "            print('=' * 60)\n",
    "            print('Evaluation | loss: {:3.3f} | accuracy: {:3.2f}'.format(loss, accuracy))\n",
    "            print('=' * 60)\n",
    "\n",
    "    with open('model.pt', 'wb') as f:\n",
    "        print('save model at: ./model.pt')\n",
    "        torch.save(model, f)"
   ]
  },
  {
   "cell_type": "code",
   "execution_count": 22,
   "metadata": {},
   "outputs": [],
   "source": [
    "def pred_sent_prob(sent):\n",
    "    import numpy as np # optinal\n",
    "    model.eval()\n",
    "    sent_prob =0\n",
    "    with torch.no_grad():\n",
    "        # 1. 모델 입력 및 정답 문장에 대한 단어 indexing\n",
    "        idx_src, idx_tgt = corpus.indexing(sent)\n",
    "        # 2. initial hidden 생성\n",
    "        hidden = model.init_hidden(len(sent))\n",
    "        # 3. LM의 결과(확률분포) 생성\n",
    "        output, hidden = model(idx_src, hidden)\n",
    "        # 4. 모델 확률분포로부터 정답 단어의 각 index에 대한 Log 확률 값 추출.\n",
    "        for i in range(len(output)) :\n",
    "        # 5. log 확률의 합.\n",
    "            sent_prob += output[i][idx_tgt[i]]\n",
    "        # 6. 결과 return\n",
    "        return sent_prob"
   ]
  },
  {
   "cell_type": "code",
   "execution_count": 23,
   "metadata": {},
   "outputs": [
    {
     "name": "stdout",
     "output_type": "stream",
     "text": [
      "load model from: ./model.pt\n",
      "log prob of [the dog bark .]: -46.727\n",
      "log prob of [the cat bark .]: -48.395\n",
      "log prob of [boy am a i .]: -40.870\n",
      "log prob of [i am a boy .]: -19.022\n"
     ]
    }
   ],
   "source": [
    "# load saved model\n",
    "with open('./model.pt', 'rb') as f:\n",
    "    print('load model from: ./model.pt')\n",
    "    model = torch.load(f).to(device)\n",
    "\n",
    "    print('log prob of [the dog bark .]: {:3.3f}'.format(pred_sent_prob([['the', 'dog', 'bark', '.']])))\n",
    "    print('log prob of [the cat bark .]: {:3.3f}'.format(pred_sent_prob([['the', 'cat', 'bark', '.']])))\n",
    "\n",
    "    print('log prob of [boy am a i .]: {:3.3f}'.format(pred_sent_prob([['boy', 'am', 'a', 'i', '.']])))\n",
    "    print('log prob of [i am a boy .]: {:3.3f}'.format(pred_sent_prob([['i', 'am', 'a', 'boy', '.']])))\n"
   ]
  },
  {
   "cell_type": "code",
   "execution_count": 28,
   "metadata": {},
   "outputs": [],
   "source": [
    "def pred_next_word(partial_sent, topN=3):\n",
    "    import numpy as np # optinal\n",
    "    model.eval()\n",
    "    with torch.no_grad():\n",
    "        # 1. 모델 입력 및 정답 문장에 대한 단어 indexing\n",
    "        idx_src, idx_tgt = corpus.indexing(partial_sent)\n",
    "        # 2. initial hidden 생성\n",
    "        hidden = model.init_hidden(len(partial_sent))\n",
    "        # 3. LM의 결과(확률분포) 생성\n",
    "        output, hidden = model(idx_src, hidden)\n",
    "        # 4. topN에 해당하는 다음단어의 word index 추출: HINT) torch.topk() 활용\n",
    "        values, idx_word = output.topk(topN)\n",
    "        # 5. word index --> word 로 변환\n",
    "        word_list = []\n",
    "        for i in range(topN) :\n",
    "            idx_category= idx_word[0][i].item()\n",
    "            word_list.append(corpus.dictionary.idx2word[idx_category])\n",
    "        # 6. topN word list 반환\n",
    "        return word_list"
   ]
  },
  {
   "cell_type": "code",
   "execution_count": 29,
   "metadata": {},
   "outputs": [
    {
     "name": "stdout",
     "output_type": "stream",
     "text": [
      "Top 3 next words for a partial sentence [the next word] is: \n",
      "===> ['the', '``', 'he']\n"
     ]
    }
   ],
   "source": [
    "partial_sent = [['the', 'next', 'word']]\n",
    "N=3\n",
    "candidates = pred_next_word(partial_sent, topN=N)\n",
    "\n",
    "# print \n",
    "partial_sent = ' '.join(partial_sent[0])\n",
    "print('Top {0} next words for a partial sentence [{1}] is: '.format(N, partial_sent))\n",
    "print('===>', candidates)"
   ]
  },
  {
   "cell_type": "code",
   "execution_count": null,
   "metadata": {},
   "outputs": [],
   "source": []
  }
 ],
 "metadata": {
  "kernelspec": {
   "display_name": "Python 3",
   "language": "python",
   "name": "python3"
  },
  "language_info": {
   "codemirror_mode": {
    "name": "ipython",
    "version": 3
   },
   "file_extension": ".py",
   "mimetype": "text/x-python",
   "name": "python",
   "nbconvert_exporter": "python",
   "pygments_lexer": "ipython3",
   "version": "3.8.3"
  },
  "pycharm": {
   "stem_cell": {
    "cell_type": "raw",
    "metadata": {
     "collapsed": false
    },
    "source": []
   }
  }
 },
 "nbformat": 4,
 "nbformat_minor": 4
}
