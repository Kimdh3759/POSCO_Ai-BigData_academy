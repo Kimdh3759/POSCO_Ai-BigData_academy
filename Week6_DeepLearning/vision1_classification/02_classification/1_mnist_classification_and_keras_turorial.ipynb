{
 "cells": [
  {
   "cell_type": "markdown",
   "metadata": {},
   "source": [
    "# 1.1 Keras tutorial\n",
    "이번 실습에서는 keras를 이용하여 간단한 모델을 생성하고, 학습하여 성능을 평가한다."
   ]
  },
  {
   "cell_type": "code",
   "execution_count": 1,
   "metadata": {},
   "outputs": [],
   "source": [
    "%matplotlib inline\n",
    "import keras\n",
    "import numpy as np\n",
    "import matplotlib.pyplot as plt"
   ]
  },
  {
   "cell_type": "markdown",
   "metadata": {},
   "source": [
    "## (1)데이터셋 준비\n",
    "Input(x)와 Output(y) 간의 관계(y=x*3)를 학습하기 위한 데이터셋 준비"
   ]
  },
  {
   "cell_type": "code",
   "execution_count": 2,
   "metadata": {},
   "outputs": [],
   "source": [
    "x = np.arange(20) # 0, 1, 2, 3...., 19\n",
    "y = x * 3\n",
    "\n",
    "\n",
    "x_test =np.arange(50,70)\n",
    "y_test = x_test*3\n",
    "n_in =1\n",
    "n_out =1"
   ]
  },
  {
   "cell_type": "code",
   "execution_count": 3,
   "metadata": {},
   "outputs": [
    {
     "data": {
      "text/plain": [
       "[<matplotlib.lines.Line2D at 0x7f47d3386310>]"
      ]
     },
     "execution_count": 3,
     "metadata": {},
     "output_type": "execute_result"
    },
    {
     "data": {
      "image/png": "[encoded data removed]",
      "text/plain": [
       "<Figure size 432x288 with 1 Axes>"
      ]
     },
     "metadata": {
      "needs_background": "light"
     },
     "output_type": "display_data"
    }
   ],
   "source": [
    "plt.plot(x,y)"
   ]
  },
  {
   "cell_type": "markdown",
   "metadata": {},
   "source": [
    "## (2) Keras 모델링\n",
    "keras.layers : 모델을 구성하기 위한 layer들이 구현되어 있는 모듈\n",
    "\n",
    "keras.models : layer들을 묶어 모델을 정의하고 학습, 평가, 예측 등의 기능을 구현한 모듈"
   ]
  },
  {
   "cell_type": "code",
   "execution_count": 4,
   "metadata": {},
   "outputs": [],
   "source": [
    "from keras import models, layers"
   ]
  },
  {
   "cell_type": "markdown",
   "metadata": {},
   "source": [
    "Keras에서는 크게 Functional, Sequential 방식으로 모델을 구현\n",
    "\n",
    "Function 방식은 모델을 수식처럼 구현\n",
    "\n",
    "Sequential 방식은 모델에 필요한 layer들을 순차적으로 더해가는 방식으로 구현"
   ]
  },
  {
   "cell_type": "markdown",
   "metadata": {},
   "source": [
    "<사용되는 Layer>\n",
    "\n",
    "Input : 모델에 입력되는 데이터의 batch size를 제외한 shape을 결정\n",
    "\n",
    "Dense : Fully Connected Layer\n",
    "\n",
    "https://keras.io/layers/core/#dense"
   ]
  },
  {
   "cell_type": "markdown",
   "metadata": {},
   "source": [
    "### Sequential Modeling"
   ]
  },
  {
   "cell_type": "code",
   "execution_count": 5,
   "metadata": {},
   "outputs": [],
   "source": [
    "def modeling_sequential(n_in, n_out):\n",
    "    model = models.Sequential()\n",
    "    model.add(layers.Dense(units =n_out, input_shape=(n_in,)))\n",
    "    return model"
   ]
  },
  {
   "cell_type": "code",
   "execution_count": 6,
   "metadata": {},
   "outputs": [],
   "source": [
    "class modeling_sequential_class(models.Sequential):\n",
    "    def __init__(self, n_in, n_out):\n",
    "        \n",
    "        #멤버 변수로 모델에 사용할 변수 선언\n",
    "        self.n_in = n_in\n",
    "        self.n_out = n_out\n",
    "        \n",
    "        #상속받은 Sequential 클래스 초기화 후 레이어 추가\n",
    "        super().__init__()\n",
    "        self.add(layers.Dense(units =n_out, input_shape=(n_in,)))"
   ]
  },
  {
   "cell_type": "markdown",
   "metadata": {},
   "source": [
    "### Functional Modeling"
   ]
  },
  {
   "cell_type": "code",
   "execution_count": 7,
   "metadata": {},
   "outputs": [],
   "source": [
    "def modeling_functional(n_in, n_out):\n",
    "    x = layers.Input(shape=(n_in,))\n",
    "    y = layers.Dense(n_out)(x)\n",
    "    model = models.Model(inputs = x, outputs = y)\n",
    "    return model"
   ]
  },
  {
   "cell_type": "code",
   "execution_count": 8,
   "metadata": {},
   "outputs": [],
   "source": [
    "class modeling_functional_class(models.Model):\n",
    "    def __init__(self, n_in, n_out):\n",
    "        \n",
    "        #멤버 변수로 모델에 사용할 변수 및 레이어 선언\n",
    "        self.n_in = n_in\n",
    "        self.n_out = n_out\n",
    "        input = layers.Input(shape=(n_in,))\n",
    "        output = layers.Dense(n_out)\n",
    "        \n",
    "        # layer 연결\n",
    "        x = input\n",
    "        y = output(x)\n",
    "\n",
    "        #상속받은 Model 클래스 초기화\n",
    "        super().__init__(x, y)"
   ]
  },
  {
   "cell_type": "markdown",
   "metadata": {},
   "source": [
    "### 모델 확인하기\n",
    "생성된 모델은 내부함수인 summary()나, vis_utils의 model_to_dot()으로 모델 내부의 layers 구조 및 파라미터 수 등을 확인할 수 있음"
   ]
  },
  {
   "cell_type": "code",
   "execution_count": 9,
   "metadata": {},
   "outputs": [
    {
     "name": "stdout",
     "output_type": "stream",
     "text": [
      "Model: \"sequential\"\n",
      "_________________________________________________________________\n",
      "Layer (type)                 Output Shape              Param #   \n",
      "=================================================================\n",
      "dense (Dense)                (None, 1)                 2         \n",
      "=================================================================\n",
      "Total params: 2\n",
      "Trainable params: 2\n",
      "Non-trainable params: 0\n",
      "_________________________________________________________________\n"
     ]
    }
   ],
   "source": [
    "model =  modeling_sequential(n_in, n_out)\n",
    "model.summary()"
   ]
  },
  {
   "cell_type": "code",
   "execution_count": 10,
   "metadata": {},
   "outputs": [
    {
     "name": "stdout",
     "output_type": "stream",
     "text": [
      "Model: \"modeling_sequential_class\"\n",
      "_________________________________________________________________\n",
      "Layer (type)                 Output Shape              Param #   \n",
      "=================================================================\n",
      "dense_1 (Dense)              (None, 1)                 2         \n",
      "=================================================================\n",
      "Total params: 2\n",
      "Trainable params: 2\n",
      "Non-trainable params: 0\n",
      "_________________________________________________________________\n"
     ]
    }
   ],
   "source": [
    "model =  modeling_sequential_class(n_in, n_out)\n",
    "model.summary()"
   ]
  },
  {
   "cell_type": "code",
   "execution_count": 11,
   "metadata": {},
   "outputs": [
    {
     "name": "stdout",
     "output_type": "stream",
     "text": [
      "Model: \"model\"\n",
      "_________________________________________________________________\n",
      "Layer (type)                 Output Shape              Param #   \n",
      "=================================================================\n",
      "input_1 (InputLayer)         [(None, 1)]               0         \n",
      "_________________________________________________________________\n",
      "dense_2 (Dense)              (None, 1)                 2         \n",
      "=================================================================\n",
      "Total params: 2\n",
      "Trainable params: 2\n",
      "Non-trainable params: 0\n",
      "_________________________________________________________________\n"
     ]
    }
   ],
   "source": [
    "model =  modeling_functional(n_in, n_out)\n",
    "model.summary()"
   ]
  },
  {
   "cell_type": "code",
   "execution_count": 12,
   "metadata": {},
   "outputs": [
    {
     "name": "stdout",
     "output_type": "stream",
     "text": [
      "Model: \"modeling_functional_class\"\n",
      "_________________________________________________________________\n",
      "Layer (type)                 Output Shape              Param #   \n",
      "=================================================================\n",
      "input_2 (InputLayer)         [(None, 1)]               0         \n",
      "_________________________________________________________________\n",
      "dense_3 (Dense)              (None, 1)                 2         \n",
      "=================================================================\n",
      "Total params: 2\n",
      "Trainable params: 2\n",
      "Non-trainable params: 0\n",
      "_________________________________________________________________\n"
     ]
    }
   ],
   "source": [
    "model = modeling_functional_class(n_in, n_out)\n",
    "model.summary()"
   ]
  },
  {
   "cell_type": "code",
   "execution_count": 13,
   "metadata": {},
   "outputs": [
    {
     "data": {
      "image/svg+xml": [
       "<svg height=\"184pt\" viewBox=\"0.00 0.00 243.00 138.00\" width=\"324pt\" xmlns=\"http://www.w3.org/2000/svg\" xmlns:xlink=\"http://www.w3.org/1999/xlink\">\n",
       "<g class=\"graph\" id=\"graph0\" transform=\"scale(0.75 0.75) rotate(0) translate(4 134)\">\n",
       "<title>G</title>\n",
       "<polygon fill=\"white\" points=\"-4,4 -4,-134 239,-134 239,4 -4,4\" stroke=\"transparent\"/>\n",
       "<!-- 140074662400080 -->\n",
       "<g class=\"node\" id=\"node1\">\n",
       "<title>140074662400080</title>\n",
       "<polygon fill=\"none\" points=\"0,-83.5 0,-129.5 235,-129.5 235,-83.5 0,-83.5\" stroke=\"black\"/>\n",
       "<text font-family=\"Times,serif\" font-size=\"14.00\" text-anchor=\"middle\" x=\"62.5\" y=\"-102.8\">input_2: InputLayer</text>\n",
       "<polyline fill=\"none\" points=\"125,-83.5 125,-129.5 \" stroke=\"black\"/>\n",
       "<text font-family=\"Times,serif\" font-size=\"14.00\" text-anchor=\"middle\" x=\"152.5\" y=\"-114.3\">input:</text>\n",
       "<polyline fill=\"none\" points=\"125,-106.5 180,-106.5 \" stroke=\"black\"/>\n",
       "<text font-family=\"Times,serif\" font-size=\"14.00\" text-anchor=\"middle\" x=\"152.5\" y=\"-91.3\">output:</text>\n",
       "<polyline fill=\"none\" points=\"180,-83.5 180,-129.5 \" stroke=\"black\"/>\n",
       "<text font-family=\"Times,serif\" font-size=\"14.00\" text-anchor=\"middle\" x=\"207.5\" y=\"-114.3\">[(?, 1)]</text>\n",
       "<polyline fill=\"none\" points=\"180,-106.5 235,-106.5 \" stroke=\"black\"/>\n",
       "<text font-family=\"Times,serif\" font-size=\"14.00\" text-anchor=\"middle\" x=\"207.5\" y=\"-91.3\">[(?, 1)]</text>\n",
       "</g>\n",
       "<!-- 140074662279120 -->\n",
       "<g class=\"node\" id=\"node2\">\n",
       "<title>140074662279120</title>\n",
       "<polygon fill=\"none\" points=\"16,-0.5 16,-46.5 219,-46.5 219,-0.5 16,-0.5\" stroke=\"black\"/>\n",
       "<text font-family=\"Times,serif\" font-size=\"14.00\" text-anchor=\"middle\" x=\"67\" y=\"-19.8\">dense_3: Dense</text>\n",
       "<polyline fill=\"none\" points=\"118,-0.5 118,-46.5 \" stroke=\"black\"/>\n",
       "<text font-family=\"Times,serif\" font-size=\"14.00\" text-anchor=\"middle\" x=\"145.5\" y=\"-31.3\">input:</text>\n",
       "<polyline fill=\"none\" points=\"118,-23.5 173,-23.5 \" stroke=\"black\"/>\n",
       "<text font-family=\"Times,serif\" font-size=\"14.00\" text-anchor=\"middle\" x=\"145.5\" y=\"-8.3\">output:</text>\n",
       "<polyline fill=\"none\" points=\"173,-0.5 173,-46.5 \" stroke=\"black\"/>\n",
       "<text font-family=\"Times,serif\" font-size=\"14.00\" text-anchor=\"middle\" x=\"196\" y=\"-31.3\">(?, 1)</text>\n",
       "<polyline fill=\"none\" points=\"173,-23.5 219,-23.5 \" stroke=\"black\"/>\n",
       "<text font-family=\"Times,serif\" font-size=\"14.00\" text-anchor=\"middle\" x=\"196\" y=\"-8.3\">(?, 1)</text>\n",
       "</g>\n",
       "<!-- 140074662400080&#45;&gt;140074662279120 -->\n",
       "<g class=\"edge\" id=\"edge1\">\n",
       "<title>140074662400080-&gt;140074662279120</title>\n",
       "<path d=\"M117.5,-83.37C117.5,-75.15 117.5,-65.66 117.5,-56.73\" fill=\"none\" stroke=\"black\"/>\n",
       "<polygon fill=\"black\" points=\"121,-56.61 117.5,-46.61 114,-56.61 121,-56.61\" stroke=\"black\"/>\n",
       "</g>\n",
       "</g>\n",
       "</svg>"
      ],
      "text/plain": [
       "<IPython.core.display.SVG object>"
      ]
     },
     "execution_count": 13,
     "metadata": {},
     "output_type": "execute_result"
    }
   ],
   "source": [
    "from IPython.display import SVG\n",
    "from keras.utils.vis_utils import model_to_dot\n",
    "%matplotlib inline\n",
    "\n",
    "SVG(model_to_dot(model, show_shapes=True).create(prog='dot', format='svg'))"
   ]
  },
  {
   "cell_type": "markdown",
   "metadata": {},
   "source": [
    "## (3) 모델의 학습과정 설정\n",
    "생성한 모델 객체의 compile 함수를 사용하여 학습과정 설정\n",
    "\n",
    "모델의 학습시킬 때 사용할 loss function, optimizer, metric 등을 설정\n",
    "\n",
    "https://keras.io/models/model/"
   ]
  },
  {
   "cell_type": "code",
   "execution_count": 14,
   "metadata": {},
   "outputs": [],
   "source": [
    "model.compile(loss='mse', optimizer='sgd')"
   ]
  },
  {
   "cell_type": "markdown",
   "metadata": {},
   "source": [
    "## (4) 모델 학습시키기\n",
    "모델 객체의 fit 함수를 사용하여 모델을 학습\n",
    "\n",
    "fit 함수는 학습과정이 담겨있는 history 객체를 반환"
   ]
  },
  {
   "cell_type": "code",
   "execution_count": 15,
   "metadata": {
    "scrolled": true
   },
   "outputs": [
    {
     "name": "stdout",
     "output_type": "stream",
     "text": [
      "Epoch 1/100\n",
      "4/4 [==============================] - 0s 39ms/step - loss: 216.6039 - val_loss: 1.2320\n",
      "Epoch 2/100\n",
      "4/4 [==============================] - 0s 11ms/step - loss: 0.2978 - val_loss: 0.1515\n",
      "Epoch 3/100\n",
      "4/4 [==============================] - 0s 7ms/step - loss: 0.0116 - val_loss: 0.0277\n",
      "Epoch 4/100\n",
      "4/4 [==============================] - 0s 15ms/step - loss: 0.0134 - val_loss: 0.0058\n",
      "Epoch 5/100\n",
      "4/4 [==============================] - 0s 11ms/step - loss: 0.0110 - val_loss: 0.0316\n",
      "Epoch 6/100\n",
      "4/4 [==============================] - 0s 11ms/step - loss: 0.0100 - val_loss: 0.0378\n",
      "Epoch 7/100\n",
      "4/4 [==============================] - 0s 12ms/step - loss: 0.0109 - val_loss: 0.0486\n",
      "Epoch 8/100\n",
      "4/4 [==============================] - 0s 12ms/step - loss: 0.0135 - val_loss: 0.0295\n",
      "Epoch 9/100\n",
      "4/4 [==============================] - 0s 8ms/step - loss: 0.0084 - val_loss: 0.0861\n",
      "Epoch 10/100\n",
      "4/4 [==============================] - 0s 13ms/step - loss: 0.0180 - val_loss: 0.0415\n",
      "Epoch 11/100\n",
      "4/4 [==============================] - 0s 12ms/step - loss: 0.0183 - val_loss: 0.0765\n",
      "Epoch 12/100\n",
      "4/4 [==============================] - 0s 11ms/step - loss: 0.0172 - val_loss: 0.0347\n",
      "Epoch 13/100\n",
      "4/4 [==============================] - 0s 9ms/step - loss: 0.0161 - val_loss: 0.0023\n",
      "Epoch 14/100\n",
      "4/4 [==============================] - 0s 12ms/step - loss: 0.0077 - val_loss: 0.0501\n",
      "Epoch 15/100\n",
      "4/4 [==============================] - 0s 10ms/step - loss: 0.0079 - val_loss: 0.0519\n",
      "Epoch 16/100\n",
      "4/4 [==============================] - 0s 12ms/step - loss: 0.0071 - val_loss: 0.0626\n",
      "Epoch 17/100\n",
      "4/4 [==============================] - 0s 9ms/step - loss: 0.0076 - val_loss: 0.0017\n",
      "Epoch 18/100\n",
      "4/4 [==============================] - 0s 11ms/step - loss: 0.0087 - val_loss: 0.0134\n",
      "Epoch 19/100\n",
      "4/4 [==============================] - 0s 12ms/step - loss: 0.0076 - val_loss: 0.0015\n",
      "Epoch 20/100\n",
      "4/4 [==============================] - 0s 14ms/step - loss: 0.0070 - val_loss: 0.0445\n",
      "Epoch 21/100\n",
      "4/4 [==============================] - 0s 10ms/step - loss: 0.0093 - val_loss: 0.0114\n",
      "Epoch 22/100\n",
      "4/4 [==============================] - 0s 11ms/step - loss: 0.0068 - val_loss: 0.0018\n",
      "Epoch 23/100\n",
      "4/4 [==============================] - 0s 13ms/step - loss: 0.0098 - val_loss: 0.3582\n",
      "Epoch 24/100\n",
      "4/4 [==============================] - 0s 10ms/step - loss: 0.0643 - val_loss: 0.0137\n",
      "Epoch 25/100\n",
      "4/4 [==============================] - 0s 9ms/step - loss: 0.0041 - val_loss: 0.0359\n",
      "Epoch 26/100\n",
      "4/4 [==============================] - 0s 11ms/step - loss: 0.0047 - val_loss: 0.0175\n",
      "Epoch 27/100\n",
      "4/4 [==============================] - 0s 12ms/step - loss: 0.0036 - val_loss: 0.0050\n",
      "Epoch 28/100\n",
      "4/4 [==============================] - 0s 10ms/step - loss: 0.0035 - val_loss: 5.0723e-05\n",
      "Epoch 29/100\n",
      "4/4 [==============================] - 0s 12ms/step - loss: 0.0036 - val_loss: 0.0345\n",
      "Epoch 30/100\n",
      "4/4 [==============================] - 0s 12ms/step - loss: 0.0044 - val_loss: 0.0237\n",
      "Epoch 31/100\n",
      "4/4 [==============================] - 0s 9ms/step - loss: 0.0038 - val_loss: 8.8401e-04\n",
      "Epoch 32/100\n",
      "4/4 [==============================] - 0s 13ms/step - loss: 0.0032 - val_loss: 0.0218\n",
      "Epoch 33/100\n",
      "4/4 [==============================] - 0s 12ms/step - loss: 0.0037 - val_loss: 0.0024\n",
      "Epoch 34/100\n",
      "4/4 [==============================] - 0s 11ms/step - loss: 0.0036 - val_loss: 0.0318\n",
      "Epoch 35/100\n",
      "4/4 [==============================] - 0s 13ms/step - loss: 0.0031 - val_loss: 0.0037\n",
      "Epoch 36/100\n",
      "4/4 [==============================] - 0s 8ms/step - loss: 0.0025 - val_loss: 0.0162\n",
      "Epoch 37/100\n",
      "4/4 [==============================] - 0s 9ms/step - loss: 0.0034 - val_loss: 0.0029\n",
      "Epoch 38/100\n",
      "4/4 [==============================] - 0s 12ms/step - loss: 0.0039 - val_loss: 0.1011\n",
      "Epoch 39/100\n",
      "4/4 [==============================] - 0s 16ms/step - loss: 0.0345 - val_loss: 0.0178\n",
      "Epoch 40/100\n",
      "4/4 [==============================] - 0s 12ms/step - loss: 0.0026 - val_loss: 0.0129\n",
      "Epoch 41/100\n",
      "4/4 [==============================] - 0s 15ms/step - loss: 0.0041 - val_loss: 0.0335\n",
      "Epoch 42/100\n",
      "4/4 [==============================] - 0s 12ms/step - loss: 0.0039 - val_loss: 8.6708e-04\n",
      "Epoch 43/100\n",
      "4/4 [==============================] - 0s 10ms/step - loss: 0.0021 - val_loss: 0.0055\n",
      "Epoch 44/100\n",
      "4/4 [==============================] - 0s 8ms/step - loss: 0.0023 - val_loss: 0.0219\n",
      "Epoch 45/100\n",
      "4/4 [==============================] - 0s 13ms/step - loss: 0.0022 - val_loss: 0.0139\n",
      "Epoch 46/100\n",
      "4/4 [==============================] - 0s 10ms/step - loss: 0.0026 - val_loss: 0.0014\n",
      "Epoch 47/100\n",
      "4/4 [==============================] - 0s 12ms/step - loss: 0.0017 - val_loss: 0.0132\n",
      "Epoch 48/100\n",
      "4/4 [==============================] - 0s 10ms/step - loss: 0.0032 - val_loss: 0.0383\n",
      "Epoch 49/100\n",
      "4/4 [==============================] - 0s 15ms/step - loss: 0.0214 - val_loss: 0.0010\n",
      "Epoch 50/100\n",
      "4/4 [==============================] - 0s 8ms/step - loss: 0.0015 - val_loss: 0.0065\n",
      "Epoch 51/100\n",
      "4/4 [==============================] - 0s 10ms/step - loss: 0.0015 - val_loss: 0.0167\n",
      "Epoch 52/100\n",
      "4/4 [==============================] - 0s 14ms/step - loss: 0.0022 - val_loss: 0.0083\n",
      "Epoch 53/100\n",
      "4/4 [==============================] - 0s 12ms/step - loss: 0.0013 - val_loss: 0.0088\n",
      "Epoch 54/100\n",
      "4/4 [==============================] - 0s 11ms/step - loss: 0.0016 - val_loss: 0.0270\n",
      "Epoch 55/100\n",
      "4/4 [==============================] - 0s 14ms/step - loss: 0.0056 - val_loss: 6.4823e-04\n",
      "Epoch 56/100\n",
      "4/4 [==============================] - 0s 7ms/step - loss: 9.9042e-04 - val_loss: 0.0116\n",
      "Epoch 57/100\n",
      "4/4 [==============================] - 0s 10ms/step - loss: 0.0035 - val_loss: 0.0027\n",
      "Epoch 58/100\n",
      "4/4 [==============================] - 0s 13ms/step - loss: 0.0015 - val_loss: 0.0121\n",
      "Epoch 59/100\n",
      "4/4 [==============================] - 0s 12ms/step - loss: 0.0012 - val_loss: 0.0115\n",
      "Epoch 60/100\n",
      "4/4 [==============================] - 0s 13ms/step - loss: 0.0060 - val_loss: 0.0094\n",
      "Epoch 61/100\n",
      "4/4 [==============================] - 0s 11ms/step - loss: 0.0013 - val_loss: 0.0155\n",
      "Epoch 62/100\n",
      "4/4 [==============================] - 0s 14ms/step - loss: 0.0051 - val_loss: 0.0055\n",
      "Epoch 63/100\n",
      "4/4 [==============================] - 0s 12ms/step - loss: 0.0023 - val_loss: 0.0083\n",
      "Epoch 64/100\n",
      "4/4 [==============================] - 0s 13ms/step - loss: 8.6151e-04 - val_loss: 6.5969e-05\n",
      "Epoch 65/100\n",
      "4/4 [==============================] - 0s 12ms/step - loss: 8.8219e-04 - val_loss: 0.0119\n",
      "Epoch 66/100\n",
      "4/4 [==============================] - 0s 8ms/step - loss: 0.0035 - val_loss: 0.0053\n",
      "Epoch 67/100\n",
      "4/4 [==============================] - 0s 12ms/step - loss: 6.4150e-04 - val_loss: 3.9386e-04\n",
      "Epoch 68/100\n",
      "4/4 [==============================] - 0s 7ms/step - loss: 0.0013 - val_loss: 0.0094\n",
      "Epoch 69/100\n",
      "4/4 [==============================] - 0s 14ms/step - loss: 7.8766e-04 - val_loss: 0.0106\n",
      "Epoch 70/100\n",
      "4/4 [==============================] - 0s 13ms/step - loss: 0.0025 - val_loss: 0.0045\n",
      "Epoch 71/100\n",
      "4/4 [==============================] - 0s 9ms/step - loss: 8.6686e-04 - val_loss: 0.0037\n",
      "Epoch 72/100\n",
      "4/4 [==============================] - 0s 11ms/step - loss: 0.0014 - val_loss: 9.4932e-04\n",
      "Epoch 73/100\n",
      "4/4 [==============================] - 0s 12ms/step - loss: 8.1914e-04 - val_loss: 6.6527e-04\n",
      "Epoch 74/100\n",
      "4/4 [==============================] - 0s 12ms/step - loss: 4.8270e-04 - val_loss: 0.0024\n",
      "Epoch 75/100\n",
      "4/4 [==============================] - 0s 12ms/step - loss: 6.0754e-04 - val_loss: 0.0015\n",
      "Epoch 76/100\n",
      "4/4 [==============================] - 0s 12ms/step - loss: 0.0012 - val_loss: 0.0039\n",
      "Epoch 77/100\n",
      "4/4 [==============================] - 0s 10ms/step - loss: 0.0010 - val_loss: 0.0026\n",
      "Epoch 78/100\n",
      "4/4 [==============================] - 0s 14ms/step - loss: 8.6775e-04 - val_loss: 0.0140\n",
      "Epoch 79/100\n",
      "4/4 [==============================] - 0s 10ms/step - loss: 0.0030 - val_loss: 0.0155\n",
      "Epoch 80/100\n",
      "4/4 [==============================] - 0s 9ms/step - loss: 0.0079 - val_loss: 0.0029\n",
      "Epoch 81/100\n",
      "4/4 [==============================] - 0s 14ms/step - loss: 6.4958e-04 - val_loss: 0.0030\n",
      "Epoch 82/100\n",
      "4/4 [==============================] - 0s 13ms/step - loss: 8.2661e-04 - val_loss: 0.0075\n",
      "Epoch 83/100\n",
      "4/4 [==============================] - 0s 11ms/step - loss: 0.0024 - val_loss: 0.0025\n",
      "Epoch 84/100\n",
      "4/4 [==============================] - 0s 11ms/step - loss: 3.3515e-04 - val_loss: 0.0023\n",
      "Epoch 85/100\n",
      "4/4 [==============================] - 0s 14ms/step - loss: 5.2620e-04 - val_loss: 0.0033\n",
      "Epoch 86/100\n",
      "4/4 [==============================] - 0s 13ms/step - loss: 0.0010 - val_loss: 0.0027\n",
      "Epoch 87/100\n",
      "4/4 [==============================] - 0s 11ms/step - loss: 5.9255e-04 - val_loss: 0.0025\n",
      "Epoch 88/100\n",
      "4/4 [==============================] - 0s 14ms/step - loss: 5.8800e-04 - val_loss: 0.0016\n",
      "Epoch 89/100\n",
      "4/4 [==============================] - 0s 14ms/step - loss: 2.8126e-04 - val_loss: 0.0014\n",
      "Epoch 90/100\n",
      "4/4 [==============================] - 0s 12ms/step - loss: 3.1326e-04 - val_loss: 0.0020\n",
      "Epoch 91/100\n",
      "4/4 [==============================] - 0s 8ms/step - loss: 4.0810e-04 - val_loss: 0.0017\n",
      "Epoch 92/100\n",
      "4/4 [==============================] - 0s 9ms/step - loss: 3.9801e-04 - val_loss: 3.5929e-04\n",
      "Epoch 93/100\n",
      "4/4 [==============================] - 0s 12ms/step - loss: 2.4010e-04 - val_loss: 2.4499e-04\n",
      "Epoch 94/100\n",
      "4/4 [==============================] - 0s 9ms/step - loss: 2.2613e-04 - val_loss: 5.7223e-04\n",
      "Epoch 95/100\n",
      "4/4 [==============================] - 0s 9ms/step - loss: 5.9078e-04 - val_loss: 0.0018\n",
      "Epoch 96/100\n",
      "4/4 [==============================] - 0s 13ms/step - loss: 2.8161e-04 - val_loss: 6.7042e-04\n",
      "Epoch 97/100\n",
      "4/4 [==============================] - 0s 10ms/step - loss: 2.2599e-04 - val_loss: 0.0026\n",
      "Epoch 98/100\n",
      "4/4 [==============================] - 0s 16ms/step - loss: 1.7690e-04 - val_loss: 2.2515e-06\n",
      "Epoch 99/100\n",
      "4/4 [==============================] - 0s 13ms/step - loss: 2.5591e-04 - val_loss: 0.0019\n",
      "Epoch 100/100\n",
      "4/4 [==============================] - 0s 13ms/step - loss: 3.7016e-04 - val_loss: 0.0012\n"
     ]
    }
   ],
   "source": [
    "history = model.fit(x, y, batch_size=5, epochs=100, validation_split=0.2)"
   ]
  },
  {
   "cell_type": "markdown",
   "metadata": {},
   "source": [
    "## (5) 모델 평가하기\n",
    "모델 객체의 evaluate 함수로 test 데이터에 대한 모델의 성능을 평가"
   ]
  },
  {
   "cell_type": "code",
   "execution_count": 16,
   "metadata": {},
   "outputs": [
    {
     "name": "stdout",
     "output_type": "stream",
     "text": [
      "1/1 [==============================] - 0s 1ms/step - loss: 0.0301\n",
      "loss : 0.0301\n"
     ]
    }
   ],
   "source": [
    "loss= model.evaluate(x_test, y_test, batch_size=20)\n",
    "print('loss : %.4f'%(loss))"
   ]
  },
  {
   "cell_type": "markdown",
   "metadata": {},
   "source": [
    "## (6) 모델 사용하기\n",
    "모델 객체의 predict 함수로 input 데이터에 대한 모델의 예측결과를 반환"
   ]
  },
  {
   "cell_type": "code",
   "execution_count": 17,
   "metadata": {},
   "outputs": [
    {
     "name": "stdout",
     "output_type": "stream",
     "text": [
      "true y : 300.00, prediction y : 299.70\n",
      "true y : 303.00, prediction y : 302.69\n",
      "true y : 306.00, prediction y : 305.69\n",
      "true y : 309.00, prediction y : 308.69\n",
      "true y : 312.00, prediction y : 311.68\n",
      "true y : 315.00, prediction y : 314.68\n",
      "true y : 318.00, prediction y : 317.68\n",
      "true y : 321.00, prediction y : 320.67\n",
      "true y : 324.00, prediction y : 323.67\n",
      "true y : 327.00, prediction y : 326.67\n",
      "true y : 330.00, prediction y : 329.66\n",
      "true y : 333.00, prediction y : 332.66\n",
      "true y : 336.00, prediction y : 335.66\n",
      "true y : 339.00, prediction y : 338.65\n",
      "true y : 342.00, prediction y : 341.65\n",
      "true y : 345.00, prediction y : 344.65\n",
      "true y : 348.00, prediction y : 347.64\n",
      "true y : 351.00, prediction y : 350.64\n",
      "true y : 354.00, prediction y : 353.64\n",
      "true y : 357.00, prediction y : 356.63\n"
     ]
    }
   ],
   "source": [
    "new_x = np.arange(100,120)\n",
    "true_y = new_x*3\n",
    "\n",
    "pred_y = model.predict(new_x, batch_size=20)\n",
    "pred_y = np.reshape(pred_y,(-1,))\n",
    "for y in zip(true_y, pred_y):\n",
    "    print(\"true y : %.2f, prediction y : %.2f\"%(y[0], y[1]))"
   ]
  },
  {
   "cell_type": "markdown",
   "metadata": {},
   "source": [
    "# Boston 주택 가격 예측\n",
    "    :Number of Instances: 506 \n",
    "\n",
    "    :Number of Attributes: 13 numeric/categorical predictive. Median Value (attribute 14) is usually the target.\n",
    "\n",
    "    :Attribute Information (in order):\n",
    "        - CRIM     per capita crime rate by town\n",
    "        - ZN       proportion of residential land zoned for lots over 25,000 sq.ft.\n",
    "        - INDUS    proportion of non-retail business acres per town\n",
    "        - CHAS     Charles River dummy variable (= 1 if tract bounds river; 0 otherwise)\n",
    "        - NOX      nitric oxides concentration (parts per 10 million)\n",
    "        - RM       average number of rooms per dwelling\n",
    "        - AGE      proportion of owner-occupied units built prior to 1940\n",
    "        - DIS      weighted distances to five Boston employment centres\n",
    "        - RAD      index of accessibility to radial highways\n",
    "        - TAX      full-value property-tax rate per $10,000  \n",
    "        - PTRATIO  pupil-teacher ratio by town\n",
    "        - B        1000(Bk - 0.63)^2 where Bk is the proportion of blacks by town\n",
    "        - LSTAT    % lower status of the population\n",
    "        - MEDV     Median value of owner-occupied homes in 1000's\n"
   ]
  },
  {
   "cell_type": "code",
   "execution_count": 18,
   "metadata": {},
   "outputs": [],
   "source": [
    "import pandas as pd"
   ]
  },
  {
   "cell_type": "code",
   "execution_count": 19,
   "metadata": {},
   "outputs": [],
   "source": [
    "boston_data = pd.read_csv('boston_house_prices.csv', header=0)"
   ]
  },
  {
   "cell_type": "code",
   "execution_count": 21,
   "metadata": {},
   "outputs": [
    {
     "data": {
      "text/plain": [
       "((400, 14), (30, 14), (76, 14))"
      ]
     },
     "execution_count": 21,
     "metadata": {},
     "output_type": "execute_result"
    }
   ],
   "source": [
    "train_data = boston_data.iloc[:400]\n",
    "val_data = boston_data.iloc[400:430]\n",
    "test_data = boston_data.iloc[430:]\n",
    "\n",
    "train_data.shape, val_data.shape, test_data.shape"
   ]
  },
  {
   "cell_type": "code",
   "execution_count": 23,
   "metadata": {},
   "outputs": [],
   "source": [
    "x_col = [\"CRIM\", \"ZN\",\"INDUS\",\"CHAS\", \"NOX\", \"RM\", \"AGE\", \"DIS\", \"RAD\", \"TAX\", \"PTRATIO\", \"B\", \"LSTAT\"]\n",
    "y_col = [\"MEDV\"]"
   ]
  },
  {
   "cell_type": "code",
   "execution_count": 24,
   "metadata": {},
   "outputs": [],
   "source": [
    "train_x = train_data[x_col]\n",
    "train_y = train_data[y_col]\n",
    "val_x = val_data[x_col]\n",
    "val_y = val_data[y_col]\n",
    "test_x = test_data[x_col]\n",
    "test_y = test_data[y_col]"
   ]
  },
  {
   "cell_type": "code",
   "execution_count": 22,
   "metadata": {},
   "outputs": [],
   "source": [
    "from sklearn.preprocessing import MinMaxScaler"
   ]
  },
  {
   "cell_type": "code",
   "execution_count": 26,
   "metadata": {},
   "outputs": [
    {
     "data": {
      "text/plain": [
       "MinMaxScaler()"
      ]
     },
     "execution_count": 26,
     "metadata": {},
     "output_type": "execute_result"
    }
   ],
   "source": [
    "scaler = MinMaxScaler(feature_range=(0,1))\n",
    "scaler.fit(train_x)"
   ]
  },
  {
   "cell_type": "code",
   "execution_count": 29,
   "metadata": {},
   "outputs": [],
   "source": [
    "train_x = scaler.transform(train_x)\n",
    "val_x = scaler.transform(val_x)\n",
    "test_x = scaler.transform(test_x)"
   ]
  },
  {
   "cell_type": "code",
   "execution_count": 67,
   "metadata": {},
   "outputs": [],
   "source": [
    "boston_model = models.Sequential()\n",
    "boston_model.add(layers.Input(len(x_col)))\n",
    "# boston_model.add(layers.Dense(8))\n",
    "# boston_model.add(layers.ReLU())\n",
    "boston_model.add(layers.Dense(1))"
   ]
  },
  {
   "cell_type": "code",
   "execution_count": 68,
   "metadata": {},
   "outputs": [
    {
     "name": "stdout",
     "output_type": "stream",
     "text": [
      "Model: \"sequential_9\"\n",
      "_________________________________________________________________\n",
      "Layer (type)                 Output Shape              Param #   \n",
      "=================================================================\n",
      "dense_17 (Dense)             (None, 1)                 14        \n",
      "=================================================================\n",
      "Total params: 14\n",
      "Trainable params: 14\n",
      "Non-trainable params: 0\n",
      "_________________________________________________________________\n"
     ]
    }
   ],
   "source": [
    "boston_model.summary()"
   ]
  },
  {
   "cell_type": "code",
   "execution_count": 69,
   "metadata": {},
   "outputs": [],
   "source": [
    "boston_model.compile(loss='mse')"
   ]
  },
  {
   "cell_type": "code",
   "execution_count": 70,
   "metadata": {
    "collapsed": true,
    "jupyter": {
     "outputs_hidden": true
    }
   },
   "outputs": [
    {
     "name": "stdout",
     "output_type": "stream",
     "text": [
      "Epoch 1/200\n",
      "13/13 [==============================] - 0s 6ms/step - loss: 699.2185 - val_loss: 183.9801\n",
      "Epoch 2/200\n",
      "13/13 [==============================] - 0s 3ms/step - loss: 694.8187 - val_loss: 181.3434\n",
      "Epoch 3/200\n",
      "13/13 [==============================] - 0s 3ms/step - loss: 691.1230 - val_loss: 179.0282\n",
      "Epoch 4/200\n",
      "13/13 [==============================] - 0s 3ms/step - loss: 687.6036 - val_loss: 176.7076\n",
      "Epoch 5/200\n",
      "13/13 [==============================] - 0s 3ms/step - loss: 684.1142 - val_loss: 174.4023\n",
      "Epoch 6/200\n",
      "13/13 [==============================] - 0s 3ms/step - loss: 680.6337 - val_loss: 172.0752\n",
      "Epoch 7/200\n",
      "13/13 [==============================] - 0s 3ms/step - loss: 677.1373 - val_loss: 169.7721\n",
      "Epoch 8/200\n",
      "13/13 [==============================] - 0s 3ms/step - loss: 673.6523 - val_loss: 167.5298\n",
      "Epoch 9/200\n",
      "13/13 [==============================] - 0s 3ms/step - loss: 670.1976 - val_loss: 165.3198\n",
      "Epoch 10/200\n",
      "13/13 [==============================] - 0s 3ms/step - loss: 666.7757 - val_loss: 163.1102\n",
      "Epoch 11/200\n",
      "13/13 [==============================] - 0s 3ms/step - loss: 663.3473 - val_loss: 160.9169\n",
      "Epoch 12/200\n",
      "13/13 [==============================] - 0s 3ms/step - loss: 659.9211 - val_loss: 158.7320\n",
      "Epoch 13/200\n",
      "13/13 [==============================] - 0s 3ms/step - loss: 656.4991 - val_loss: 156.5339\n",
      "Epoch 14/200\n",
      "13/13 [==============================] - 0s 3ms/step - loss: 653.1119 - val_loss: 154.4117\n",
      "Epoch 15/200\n",
      "13/13 [==============================] - 0s 3ms/step - loss: 649.7444 - val_loss: 152.3114\n",
      "Epoch 16/200\n",
      "13/13 [==============================] - 0s 3ms/step - loss: 646.3682 - val_loss: 150.1577\n",
      "Epoch 17/200\n",
      "13/13 [==============================] - 0s 3ms/step - loss: 642.9854 - val_loss: 148.1086\n",
      "Epoch 18/200\n",
      "13/13 [==============================] - 0s 3ms/step - loss: 639.6530 - val_loss: 146.0564\n",
      "Epoch 19/200\n",
      "13/13 [==============================] - 0s 3ms/step - loss: 636.3224 - val_loss: 143.9731\n",
      "Epoch 20/200\n",
      "13/13 [==============================] - 0s 3ms/step - loss: 632.9639 - val_loss: 141.9563\n",
      "Epoch 21/200\n",
      "13/13 [==============================] - 0s 3ms/step - loss: 629.6505 - val_loss: 139.9517\n",
      "Epoch 22/200\n",
      "13/13 [==============================] - 0s 3ms/step - loss: 626.3414 - val_loss: 137.9567\n",
      "Epoch 23/200\n",
      "13/13 [==============================] - 0s 3ms/step - loss: 623.0427 - val_loss: 135.9892\n",
      "Epoch 24/200\n",
      "13/13 [==============================] - 0s 3ms/step - loss: 619.7491 - val_loss: 134.0430\n",
      "Epoch 25/200\n",
      "13/13 [==============================] - 0s 3ms/step - loss: 616.5078 - val_loss: 132.1189\n",
      "Epoch 26/200\n",
      "13/13 [==============================] - 0s 3ms/step - loss: 613.2608 - val_loss: 130.1755\n",
      "Epoch 27/200\n",
      "13/13 [==============================] - 0s 3ms/step - loss: 609.9995 - val_loss: 128.2956\n",
      "Epoch 28/200\n",
      "13/13 [==============================] - 0s 4ms/step - loss: 606.7482 - val_loss: 126.4182\n",
      "Epoch 29/200\n",
      "13/13 [==============================] - 0s 3ms/step - loss: 603.5152 - val_loss: 124.5514\n",
      "Epoch 30/200\n",
      "13/13 [==============================] - 0s 3ms/step - loss: 600.2885 - val_loss: 122.7024\n",
      "Epoch 31/200\n",
      "13/13 [==============================] - 0s 3ms/step - loss: 597.0640 - val_loss: 120.8897\n",
      "Epoch 32/200\n",
      "13/13 [==============================] - 0s 3ms/step - loss: 593.8738 - val_loss: 119.0810\n",
      "Epoch 33/200\n",
      "13/13 [==============================] - 0s 3ms/step - loss: 590.6796 - val_loss: 117.2943\n",
      "Epoch 34/200\n",
      "13/13 [==============================] - 0s 3ms/step - loss: 587.4998 - val_loss: 115.5331\n",
      "Epoch 35/200\n",
      "13/13 [==============================] - 0s 3ms/step - loss: 584.3448 - val_loss: 113.8066\n",
      "Epoch 36/200\n",
      "13/13 [==============================] - 0s 3ms/step - loss: 581.1865 - val_loss: 112.0648\n",
      "Epoch 37/200\n",
      "13/13 [==============================] - 0s 3ms/step - loss: 578.0400 - val_loss: 110.3634\n",
      "Epoch 38/200\n",
      "13/13 [==============================] - 0s 3ms/step - loss: 574.9182 - val_loss: 108.6675\n",
      "Epoch 39/200\n",
      "13/13 [==============================] - 0s 3ms/step - loss: 571.7841 - val_loss: 106.9828\n",
      "Epoch 40/200\n",
      "13/13 [==============================] - 0s 3ms/step - loss: 568.6644 - val_loss: 105.3655\n",
      "Epoch 41/200\n",
      "13/13 [==============================] - 0s 3ms/step - loss: 565.5928 - val_loss: 103.7518\n",
      "Epoch 42/200\n",
      "13/13 [==============================] - 0s 3ms/step - loss: 562.4989 - val_loss: 102.1256\n",
      "Epoch 43/200\n",
      "13/13 [==============================] - 0s 3ms/step - loss: 559.4346 - val_loss: 100.5671\n",
      "Epoch 44/200\n",
      "13/13 [==============================] - 0s 3ms/step - loss: 556.3826 - val_loss: 98.9841\n",
      "Epoch 45/200\n",
      "13/13 [==============================] - 0s 3ms/step - loss: 553.3193 - val_loss: 97.3977\n",
      "Epoch 46/200\n",
      "13/13 [==============================] - 0s 3ms/step - loss: 550.2676 - val_loss: 95.8929\n",
      "Epoch 47/200\n",
      "13/13 [==============================] - 0s 3ms/step - loss: 547.2547 - val_loss: 94.4016\n",
      "Epoch 48/200\n",
      "13/13 [==============================] - 0s 3ms/step - loss: 544.2535 - val_loss: 92.8967\n",
      "Epoch 49/200\n",
      "13/13 [==============================] - 0s 3ms/step - loss: 541.2512 - val_loss: 91.4325\n",
      "Epoch 50/200\n",
      "13/13 [==============================] - 0s 3ms/step - loss: 538.2583 - val_loss: 89.9679\n",
      "Epoch 51/200\n",
      "13/13 [==============================] - 0s 3ms/step - loss: 535.2495 - val_loss: 88.5091\n",
      "Epoch 52/200\n",
      "13/13 [==============================] - 0s 3ms/step - loss: 532.2648 - val_loss: 87.1010\n",
      "Epoch 53/200\n",
      "13/13 [==============================] - 0s 3ms/step - loss: 529.3177 - val_loss: 85.6948\n",
      "Epoch 54/200\n",
      "13/13 [==============================] - 0s 3ms/step - loss: 526.3740 - val_loss: 84.3258\n",
      "Epoch 55/200\n",
      "13/13 [==============================] - 0s 3ms/step - loss: 523.4517 - val_loss: 82.9464\n",
      "Epoch 56/200\n",
      "13/13 [==============================] - 0s 3ms/step - loss: 520.5312 - val_loss: 81.6362\n",
      "Epoch 57/200\n",
      "13/13 [==============================] - 0s 3ms/step - loss: 517.6332 - val_loss: 80.3113\n",
      "Epoch 58/200\n",
      "13/13 [==============================] - 0s 3ms/step - loss: 514.7152 - val_loss: 78.9670\n",
      "Epoch 59/200\n",
      "13/13 [==============================] - 0s 3ms/step - loss: 511.7936 - val_loss: 77.7292\n",
      "Epoch 60/200\n",
      "13/13 [==============================] - 0s 3ms/step - loss: 508.9456 - val_loss: 76.4749\n",
      "Epoch 61/200\n",
      "13/13 [==============================] - 0s 3ms/step - loss: 506.0896 - val_loss: 75.2346\n",
      "Epoch 62/200\n",
      "13/13 [==============================] - 0s 3ms/step - loss: 503.2180 - val_loss: 73.9918\n",
      "Epoch 63/200\n",
      "13/13 [==============================] - 0s 3ms/step - loss: 500.3777 - val_loss: 72.7965\n",
      "Epoch 64/200\n",
      "13/13 [==============================] - 0s 3ms/step - loss: 497.5458 - val_loss: 71.6173\n",
      "Epoch 65/200\n",
      "13/13 [==============================] - 0s 3ms/step - loss: 494.7304 - val_loss: 70.4605\n",
      "Epoch 66/200\n",
      "13/13 [==============================] - 0s 3ms/step - loss: 491.9019 - val_loss: 69.2967\n",
      "Epoch 67/200\n",
      "13/13 [==============================] - 0s 3ms/step - loss: 489.1134 - val_loss: 68.1702\n",
      "Epoch 68/200\n",
      "13/13 [==============================] - 0s 3ms/step - loss: 486.3237 - val_loss: 67.0545\n",
      "Epoch 69/200\n",
      "13/13 [==============================] - 0s 3ms/step - loss: 483.5484 - val_loss: 65.9578\n",
      "Epoch 70/200\n",
      "13/13 [==============================] - 0s 3ms/step - loss: 480.7863 - val_loss: 64.8733\n",
      "Epoch 71/200\n",
      "13/13 [==============================] - 0s 3ms/step - loss: 478.0304 - val_loss: 63.8320\n",
      "Epoch 72/200\n",
      "13/13 [==============================] - 0s 3ms/step - loss: 475.3019 - val_loss: 62.8074\n",
      "Epoch 73/200\n",
      "13/13 [==============================] - 0s 3ms/step - loss: 472.5480 - val_loss: 61.7639\n",
      "Epoch 74/200\n",
      "13/13 [==============================] - 0s 3ms/step - loss: 469.8105 - val_loss: 60.7636\n",
      "Epoch 75/200\n",
      "13/13 [==============================] - 0s 3ms/step - loss: 467.0996 - val_loss: 59.8122\n",
      "Epoch 76/200\n",
      "13/13 [==============================] - 0s 3ms/step - loss: 464.3895 - val_loss: 58.8368\n",
      "Epoch 77/200\n",
      "13/13 [==============================] - 0s 3ms/step - loss: 461.6861 - val_loss: 57.9140\n",
      "Epoch 78/200\n",
      "13/13 [==============================] - 0s 3ms/step - loss: 459.0427 - val_loss: 57.0154\n",
      "Epoch 79/200\n",
      "13/13 [==============================] - 0s 3ms/step - loss: 456.3700 - val_loss: 56.1031\n",
      "Epoch 80/200\n",
      "13/13 [==============================] - 0s 3ms/step - loss: 453.7027 - val_loss: 55.2241\n",
      "Epoch 81/200\n",
      "13/13 [==============================] - 0s 3ms/step - loss: 451.0659 - val_loss: 54.3472\n",
      "Epoch 82/200\n",
      "13/13 [==============================] - 0s 3ms/step - loss: 448.4142 - val_loss: 53.5026\n",
      "Epoch 83/200\n",
      "13/13 [==============================] - 0s 3ms/step - loss: 445.7934 - val_loss: 52.6779\n",
      "Epoch 84/200\n",
      "13/13 [==============================] - 0s 3ms/step - loss: 443.1727 - val_loss: 51.8537\n",
      "Epoch 85/200\n",
      "13/13 [==============================] - 0s 3ms/step - loss: 440.5579 - val_loss: 51.0855\n",
      "Epoch 86/200\n",
      "13/13 [==============================] - 0s 3ms/step - loss: 437.9986 - val_loss: 50.3303\n",
      "Epoch 87/200\n",
      "13/13 [==============================] - 0s 3ms/step - loss: 435.4524 - val_loss: 49.5702\n",
      "Epoch 88/200\n",
      "13/13 [==============================] - 0s 3ms/step - loss: 432.8563 - val_loss: 48.8386\n",
      "Epoch 89/200\n",
      "13/13 [==============================] - 0s 3ms/step - loss: 430.2829 - val_loss: 48.1205\n",
      "Epoch 90/200\n",
      "13/13 [==============================] - 0s 3ms/step - loss: 427.7092 - val_loss: 47.4162\n",
      "Epoch 91/200\n",
      "13/13 [==============================] - 0s 3ms/step - loss: 425.1685 - val_loss: 46.7431\n",
      "Epoch 92/200\n",
      "13/13 [==============================] - 0s 3ms/step - loss: 422.6718 - val_loss: 46.0967\n",
      "Epoch 93/200\n",
      "13/13 [==============================] - 0s 3ms/step - loss: 420.1712 - val_loss: 45.4672\n",
      "Epoch 94/200\n",
      "13/13 [==============================] - 0s 3ms/step - loss: 417.6644 - val_loss: 44.8477\n",
      "Epoch 95/200\n",
      "13/13 [==============================] - 0s 3ms/step - loss: 415.1512 - val_loss: 44.2485\n",
      "Epoch 96/200\n",
      "13/13 [==============================] - 0s 3ms/step - loss: 412.6823 - val_loss: 43.6664\n",
      "Epoch 97/200\n",
      "13/13 [==============================] - 0s 3ms/step - loss: 410.2206 - val_loss: 43.1249\n",
      "Epoch 98/200\n",
      "13/13 [==============================] - 0s 3ms/step - loss: 407.8164 - val_loss: 42.5879\n",
      "Epoch 99/200\n",
      "13/13 [==============================] - 0s 3ms/step - loss: 405.3678 - val_loss: 42.0527\n",
      "Epoch 100/200\n",
      "13/13 [==============================] - 0s 3ms/step - loss: 402.9059 - val_loss: 41.5555\n",
      "Epoch 101/200\n",
      "13/13 [==============================] - 0s 3ms/step - loss: 400.5169 - val_loss: 41.0754\n",
      "Epoch 102/200\n",
      "13/13 [==============================] - 0s 3ms/step - loss: 398.1166 - val_loss: 40.6124\n",
      "Epoch 103/200\n",
      "13/13 [==============================] - 0s 3ms/step - loss: 395.7129 - val_loss: 40.1619\n",
      "Epoch 104/200\n",
      "13/13 [==============================] - 0s 3ms/step - loss: 393.3186 - val_loss: 39.7306\n",
      "Epoch 105/200\n",
      "13/13 [==============================] - 0s 3ms/step - loss: 390.9169 - val_loss: 39.3145\n",
      "Epoch 106/200\n",
      "13/13 [==============================] - 0s 3ms/step - loss: 388.5543 - val_loss: 38.9376\n",
      "Epoch 107/200\n",
      "13/13 [==============================] - 0s 3ms/step - loss: 386.2162 - val_loss: 38.5677\n",
      "Epoch 108/200\n",
      "13/13 [==============================] - 0s 3ms/step - loss: 383.8806 - val_loss: 38.2188\n",
      "Epoch 109/200\n",
      "13/13 [==============================] - 0s 3ms/step - loss: 381.5569 - val_loss: 37.8795\n",
      "Epoch 110/200\n",
      "13/13 [==============================] - 0s 3ms/step - loss: 379.2321 - val_loss: 37.5698\n",
      "Epoch 111/200\n",
      "13/13 [==============================] - 0s 3ms/step - loss: 376.9266 - val_loss: 37.2639\n",
      "Epoch 112/200\n",
      "13/13 [==============================] - 0s 3ms/step - loss: 374.6041 - val_loss: 36.9870\n",
      "Epoch 113/200\n",
      "13/13 [==============================] - 0s 3ms/step - loss: 372.3221 - val_loss: 36.7325\n",
      "Epoch 114/200\n",
      "13/13 [==============================] - 0s 3ms/step - loss: 370.0685 - val_loss: 36.4970\n",
      "Epoch 115/200\n",
      "13/13 [==============================] - 0s 3ms/step - loss: 367.8252 - val_loss: 36.2737\n",
      "Epoch 116/200\n",
      "13/13 [==============================] - 0s 3ms/step - loss: 365.5605 - val_loss: 36.0710\n",
      "Epoch 117/200\n",
      "13/13 [==============================] - 0s 3ms/step - loss: 363.2957 - val_loss: 35.8813\n",
      "Epoch 118/200\n",
      "13/13 [==============================] - 0s 3ms/step - loss: 361.0584 - val_loss: 35.7205\n",
      "Epoch 119/200\n",
      "13/13 [==============================] - 0s 3ms/step - loss: 358.8533 - val_loss: 35.5703\n",
      "Epoch 120/200\n",
      "13/13 [==============================] - 0s 3ms/step - loss: 356.6302 - val_loss: 35.4438\n",
      "Epoch 121/200\n",
      "13/13 [==============================] - 0s 3ms/step - loss: 354.4453 - val_loss: 35.3341\n",
      "Epoch 122/200\n",
      "13/13 [==============================] - 0s 3ms/step - loss: 352.2629 - val_loss: 35.2435\n",
      "Epoch 123/200\n",
      "13/13 [==============================] - 0s 3ms/step - loss: 350.0934 - val_loss: 35.1689\n",
      "Epoch 124/200\n",
      "13/13 [==============================] - 0s 3ms/step - loss: 347.9237 - val_loss: 35.1161\n",
      "Epoch 125/200\n",
      "13/13 [==============================] - 0s 3ms/step - loss: 345.7786 - val_loss: 35.0796\n",
      "Epoch 126/200\n",
      "13/13 [==============================] - 0s 3ms/step - loss: 343.6239 - val_loss: 35.0623\n",
      "Epoch 127/200\n",
      "13/13 [==============================] - 0s 3ms/step - loss: 341.5338 - val_loss: 35.0629\n",
      "Epoch 128/200\n",
      "13/13 [==============================] - 0s 3ms/step - loss: 339.4228 - val_loss: 35.0810\n",
      "Epoch 129/200\n",
      "13/13 [==============================] - 0s 3ms/step - loss: 337.3273 - val_loss: 35.1168\n",
      "Epoch 130/200\n",
      "13/13 [==============================] - 0s 3ms/step - loss: 335.2393 - val_loss: 35.1708\n",
      "Epoch 131/200\n",
      "13/13 [==============================] - 0s 4ms/step - loss: 333.1604 - val_loss: 35.2425\n",
      "Epoch 132/200\n",
      "13/13 [==============================] - 0s 3ms/step - loss: 331.0963 - val_loss: 35.3311\n",
      "Epoch 133/200\n",
      "13/13 [==============================] - 0s 3ms/step - loss: 329.0543 - val_loss: 35.4394\n",
      "Epoch 134/200\n",
      "13/13 [==============================] - 0s 3ms/step - loss: 326.9898 - val_loss: 35.5678\n",
      "Epoch 135/200\n",
      "13/13 [==============================] - 0s 3ms/step - loss: 324.9571 - val_loss: 35.7119\n",
      "Epoch 136/200\n",
      "13/13 [==============================] - 0s 3ms/step - loss: 322.9202 - val_loss: 35.8753\n",
      "Epoch 137/200\n",
      "13/13 [==============================] - 0s 3ms/step - loss: 320.9093 - val_loss: 36.0573\n",
      "Epoch 138/200\n",
      "13/13 [==============================] - 0s 3ms/step - loss: 318.9149 - val_loss: 36.2571\n",
      "Epoch 139/200\n",
      "13/13 [==============================] - 0s 3ms/step - loss: 316.9183 - val_loss: 36.4706\n",
      "Epoch 140/200\n",
      "13/13 [==============================] - 0s 3ms/step - loss: 314.9117 - val_loss: 36.7109\n",
      "Epoch 141/200\n",
      "13/13 [==============================] - 0s 26ms/step - loss: 312.9335 - val_loss: 36.9603\n",
      "Epoch 142/200\n",
      "13/13 [==============================] - 0s 3ms/step - loss: 310.9660 - val_loss: 37.2292\n",
      "Epoch 143/200\n",
      "13/13 [==============================] - 0s 3ms/step - loss: 309.0188 - val_loss: 37.5214\n",
      "Epoch 144/200\n",
      "13/13 [==============================] - 0s 3ms/step - loss: 307.0939 - val_loss: 37.8148\n",
      "Epoch 145/200\n",
      "13/13 [==============================] - 0s 3ms/step - loss: 305.1949 - val_loss: 38.1355\n",
      "Epoch 146/200\n",
      "13/13 [==============================] - 0s 3ms/step - loss: 303.2815 - val_loss: 38.4771\n",
      "Epoch 147/200\n",
      "13/13 [==============================] - 0s 3ms/step - loss: 301.3538 - val_loss: 38.8429\n",
      "Epoch 148/200\n",
      "13/13 [==============================] - 0s 3ms/step - loss: 299.4475 - val_loss: 39.2241\n",
      "Epoch 149/200\n",
      "13/13 [==============================] - 0s 3ms/step - loss: 297.5519 - val_loss: 39.6177\n",
      "Epoch 150/200\n",
      "13/13 [==============================] - 0s 3ms/step - loss: 295.6786 - val_loss: 40.0292\n",
      "Epoch 151/200\n",
      "13/13 [==============================] - 0s 3ms/step - loss: 293.8283 - val_loss: 40.4500\n",
      "Epoch 152/200\n",
      "13/13 [==============================] - 0s 3ms/step - loss: 291.9772 - val_loss: 40.8943\n",
      "Epoch 153/200\n",
      "13/13 [==============================] - 0s 3ms/step - loss: 290.1416 - val_loss: 41.3679\n",
      "Epoch 154/200\n",
      "13/13 [==============================] - 0s 3ms/step - loss: 288.3044 - val_loss: 41.8324\n",
      "Epoch 155/200\n",
      "13/13 [==============================] - 0s 3ms/step - loss: 286.4926 - val_loss: 42.3353\n",
      "Epoch 156/200\n",
      "13/13 [==============================] - 0s 3ms/step - loss: 284.6818 - val_loss: 42.8370\n",
      "Epoch 157/200\n",
      "13/13 [==============================] - 0s 3ms/step - loss: 282.8998 - val_loss: 43.3631\n",
      "Epoch 158/200\n",
      "13/13 [==============================] - 0s 3ms/step - loss: 281.1096 - val_loss: 43.9164\n",
      "Epoch 159/200\n",
      "13/13 [==============================] - 0s 3ms/step - loss: 279.3300 - val_loss: 44.4870\n",
      "Epoch 160/200\n",
      "13/13 [==============================] - 0s 4ms/step - loss: 277.5687 - val_loss: 45.0596\n",
      "Epoch 161/200\n",
      "13/13 [==============================] - 0s 3ms/step - loss: 275.8062 - val_loss: 45.6515\n",
      "Epoch 162/200\n",
      "13/13 [==============================] - 0s 3ms/step - loss: 274.0877 - val_loss: 46.2659\n",
      "Epoch 163/200\n",
      "13/13 [==============================] - 0s 3ms/step - loss: 272.3536 - val_loss: 46.8923\n",
      "Epoch 164/200\n",
      "13/13 [==============================] - 0s 3ms/step - loss: 270.6527 - val_loss: 47.5421\n",
      "Epoch 165/200\n",
      "13/13 [==============================] - 0s 3ms/step - loss: 268.9441 - val_loss: 48.2074\n",
      "Epoch 166/200\n",
      "13/13 [==============================] - 0s 3ms/step - loss: 267.2590 - val_loss: 48.8635\n",
      "Epoch 167/200\n",
      "13/13 [==============================] - 0s 3ms/step - loss: 265.6010 - val_loss: 49.5498\n",
      "Epoch 168/200\n",
      "13/13 [==============================] - 0s 3ms/step - loss: 263.9383 - val_loss: 50.2570\n",
      "Epoch 169/200\n",
      "13/13 [==============================] - 0s 4ms/step - loss: 262.2755 - val_loss: 50.9987\n",
      "Epoch 170/200\n",
      "13/13 [==============================] - 0s 3ms/step - loss: 260.6298 - val_loss: 51.7222\n",
      "Epoch 171/200\n",
      "13/13 [==============================] - 0s 3ms/step - loss: 259.0049 - val_loss: 52.4552\n",
      "Epoch 172/200\n",
      "13/13 [==============================] - 0s 3ms/step - loss: 257.3885 - val_loss: 53.2831\n",
      "Epoch 173/200\n",
      "13/13 [==============================] - 0s 3ms/step - loss: 255.7348 - val_loss: 54.0443\n",
      "Epoch 174/200\n",
      "13/13 [==============================] - 0s 3ms/step - loss: 254.1488 - val_loss: 54.8645\n",
      "Epoch 175/200\n",
      "13/13 [==============================] - 0s 3ms/step - loss: 252.5462 - val_loss: 55.6769\n",
      "Epoch 176/200\n",
      "13/13 [==============================] - 0s 3ms/step - loss: 250.9970 - val_loss: 56.4939\n",
      "Epoch 177/200\n",
      "13/13 [==============================] - 0s 3ms/step - loss: 249.4324 - val_loss: 57.3497\n",
      "Epoch 178/200\n",
      "13/13 [==============================] - 0s 3ms/step - loss: 247.8663 - val_loss: 58.2114\n",
      "Epoch 179/200\n",
      "13/13 [==============================] - 0s 3ms/step - loss: 246.3238 - val_loss: 59.0908\n",
      "Epoch 180/200\n",
      "13/13 [==============================] - 0s 3ms/step - loss: 244.8101 - val_loss: 59.9508\n",
      "Epoch 181/200\n",
      "13/13 [==============================] - 0s 3ms/step - loss: 243.3267 - val_loss: 60.8281\n",
      "Epoch 182/200\n",
      "13/13 [==============================] - 0s 3ms/step - loss: 241.8330 - val_loss: 61.7591\n",
      "Epoch 183/200\n",
      "13/13 [==============================] - 0s 3ms/step - loss: 240.3293 - val_loss: 62.6977\n",
      "Epoch 184/200\n",
      "13/13 [==============================] - 0s 3ms/step - loss: 238.8512 - val_loss: 63.6462\n",
      "Epoch 185/200\n",
      "13/13 [==============================] - 0s 3ms/step - loss: 237.3679 - val_loss: 64.6242\n",
      "Epoch 186/200\n",
      "13/13 [==============================] - 0s 3ms/step - loss: 235.8954 - val_loss: 65.6157\n",
      "Epoch 187/200\n",
      "13/13 [==============================] - 0s 3ms/step - loss: 234.4581 - val_loss: 66.5723\n",
      "Epoch 188/200\n",
      "13/13 [==============================] - 0s 3ms/step - loss: 233.0312 - val_loss: 67.6291\n",
      "Epoch 189/200\n",
      "13/13 [==============================] - 0s 3ms/step - loss: 231.5853 - val_loss: 68.6341\n",
      "Epoch 190/200\n",
      "13/13 [==============================] - 0s 3ms/step - loss: 230.1764 - val_loss: 69.6828\n",
      "Epoch 191/200\n",
      "13/13 [==============================] - 0s 3ms/step - loss: 228.7688 - val_loss: 70.7528\n",
      "Epoch 192/200\n",
      "13/13 [==============================] - 0s 3ms/step - loss: 227.3749 - val_loss: 71.8017\n",
      "Epoch 193/200\n",
      "13/13 [==============================] - 0s 3ms/step - loss: 226.0013 - val_loss: 72.8900\n",
      "Epoch 194/200\n",
      "13/13 [==============================] - 0s 3ms/step - loss: 224.6213 - val_loss: 74.0102\n",
      "Epoch 195/200\n",
      "13/13 [==============================] - 0s 3ms/step - loss: 223.2269 - val_loss: 75.1410\n",
      "Epoch 196/200\n",
      "13/13 [==============================] - 0s 3ms/step - loss: 221.8618 - val_loss: 76.2744\n",
      "Epoch 197/200\n",
      "13/13 [==============================] - 0s 3ms/step - loss: 220.5200 - val_loss: 77.4121\n",
      "Epoch 198/200\n",
      "13/13 [==============================] - 0s 3ms/step - loss: 219.1989 - val_loss: 78.5052\n",
      "Epoch 199/200\n",
      "13/13 [==============================] - 0s 3ms/step - loss: 217.9124 - val_loss: 79.7286\n",
      "Epoch 200/200\n",
      "13/13 [==============================] - 0s 3ms/step - loss: 216.5972 - val_loss: 80.8953\n"
     ]
    }
   ],
   "source": [
    "history = boston_model.fit(train_x, train_y, epochs=200, validation_data=(val_x,val_y))"
   ]
  },
  {
   "cell_type": "code",
   "execution_count": 73,
   "metadata": {},
   "outputs": [
    {
     "data": {
      "text/plain": [
       "<matplotlib.legend.Legend at 0x7f6662ef90d0>"
      ]
     },
     "execution_count": 73,
     "metadata": {},
     "output_type": "execute_result"
    },
    {
     "data": {
      "image/png": "[encoded data removed]",
      "text/plain": [
       "<Figure size 432x288 with 1 Axes>"
      ]
     },
     "metadata": {
      "needs_background": "light"
     },
     "output_type": "display_data"
    }
   ],
   "source": [
    "plt.plot(history.history['loss'], label='train')\n",
    "plt.plot(history.history['val_loss'], label='val')\n",
    "plt.legend()"
   ]
  },
  {
   "cell_type": "code",
   "execution_count": 74,
   "metadata": {},
   "outputs": [
    {
     "name": "stdout",
     "output_type": "stream",
     "text": [
      "3/3 [==============================] - 0s 1ms/step - loss: 34.4510\n"
     ]
    },
    {
     "data": {
      "text/plain": [
       "34.45102310180664"
      ]
     },
     "execution_count": 74,
     "metadata": {},
     "output_type": "execute_result"
    }
   ],
   "source": [
    "boston_model.evaluate(test_x,test_y)"
   ]
  },
  {
   "cell_type": "markdown",
   "metadata": {},
   "source": [
    "# 1.2 MNIST Classification with Linear Classifier\n",
    "이번 실습에서는 keras로 linear 모델을 생성하고, MNIST dataset을 학습하여 성능을 평가한다."
   ]
  },
  {
   "cell_type": "code",
   "execution_count": 75,
   "metadata": {},
   "outputs": [],
   "source": [
    "from keras.utils import np_utils\n",
    "from keras import datasets\n",
    "from keras.models import Sequential, Model\n",
    "from keras.layers import Input, Dense, Activation\n",
    "\n",
    "import numpy as np\n",
    "import matplotlib.pyplot as plt"
   ]
  },
  {
   "cell_type": "markdown",
   "metadata": {},
   "source": [
    "## (1) 데이터셋 다운로드\n",
    "### Download the CIFAR-10 dataset\n",
    "MNIST dataset은 28x28 사이즈의 이미지들로 0~9까지의 숫자 10개의 손글씨 이미지로 이루어져있다.\n",
    "\n",
    "60,000장이 training에 사용되고 10,000장이 test에 사용된다."
   ]
  },
  {
   "cell_type": "code",
   "execution_count": 76,
   "metadata": {},
   "outputs": [
    {
     "name": "stdout",
     "output_type": "stream",
     "text": [
      "(60000, 28, 28) (60000,)\n"
     ]
    }
   ],
   "source": [
    "(X_train, Y_train),(X_test, Y_test) = datasets.mnist.load_data()\n",
    "print(X_train.shape, Y_train.shape)"
   ]
  },
  {
   "cell_type": "code",
   "execution_count": 77,
   "metadata": {},
   "outputs": [
    {
     "name": "stdout",
     "output_type": "stream",
     "text": [
      "label :  5\n"
     ]
    },
    {
     "data": {
      "text/plain": [
       "<matplotlib.image.AxesImage at 0x7f664ce60690>"
      ]
     },
     "execution_count": 77,
     "metadata": {},
     "output_type": "execute_result"
    },
    {
     "data": {
      "image/png": "[encoded data removed]",
      "text/plain": [
       "<Figure size 432x288 with 1 Axes>"
      ]
     },
     "metadata": {
      "needs_background": "light"
     },
     "output_type": "display_data"
    }
   ],
   "source": [
    "print('label : ',Y_train[0])\n",
    "plt.imshow(X_train[0], cmap='gray')"
   ]
  },
  {
   "cell_type": "markdown",
   "metadata": {},
   "source": [
    "input(X)를 flatten, normalize\n",
    "\n",
    "output(Y)를 onehot encoding"
   ]
  },
  {
   "cell_type": "code",
   "execution_count": 78,
   "metadata": {},
   "outputs": [
    {
     "name": "stdout",
     "output_type": "stream",
     "text": [
      "(60000, 784) (60000, 10)\n"
     ]
    }
   ],
   "source": [
    "X_train_flat = X_train.reshape(60000, 28*28).astype('float32')/255.0\n",
    "X_test_flat = X_test.reshape(10000, 28*28).astype('float32')/255.0\n",
    "Y_train_onehot = np_utils.to_categorical(Y_train)\n",
    "Y_test_onehot = np_utils.to_categorical(Y_test)\n",
    "\n",
    "print(X_train_flat.shape, Y_train_onehot.shape)"
   ]
  },
  {
   "cell_type": "markdown",
   "metadata": {},
   "source": [
    "## (2) Keras 모델링"
   ]
  },
  {
   "cell_type": "markdown",
   "metadata": {},
   "source": [
    "<사용되는 Layer>\n",
    "\n",
    "Input : 모델에 입력되는 데이터의 batch size를 제외한 shape을 결정\n",
    "\n",
    "https://keras.io/layers/core/#input\n",
    "\n",
    "Dense : Fully Connected Layer\n",
    "\n",
    "https://keras.io/layers/core/#dense\n",
    "\n",
    "Activation : Activation Function을 정의, 문자열로 입력\n",
    "\n",
    "https://keras.io/layers/core/#activation"
   ]
  },
  {
   "cell_type": "code",
   "execution_count": 79,
   "metadata": {},
   "outputs": [],
   "source": [
    "n_in = 28*28   #784\n",
    "n_out = np.shape(Y_test_onehot)[1] # 10"
   ]
  },
  {
   "cell_type": "markdown",
   "metadata": {},
   "source": [
    "### Functional Modeling"
   ]
  },
  {
   "cell_type": "code",
   "execution_count": 80,
   "metadata": {},
   "outputs": [],
   "source": [
    "def linear_model_func(n_in, n_out):\n",
    "    x = Input(shape=(n_in,))\n",
    "    h = Dense(n_out)(x)\n",
    "    y = Activation('softmax')(h)\n",
    "    model = Model(inputs = x, outputs = y)\n",
    "    return model"
   ]
  },
  {
   "cell_type": "markdown",
   "metadata": {},
   "source": [
    "### Sequential Modeling"
   ]
  },
  {
   "cell_type": "code",
   "execution_count": 81,
   "metadata": {},
   "outputs": [],
   "source": [
    "def linear_model_seq(n_in, n_out):\n",
    "    model = Sequential()\n",
    "    model.add(Dense(units =n_out, input_shape=(n_in,), activation='softmax'))\n",
    "    return model"
   ]
  },
  {
   "cell_type": "code",
   "execution_count": 82,
   "metadata": {},
   "outputs": [
    {
     "name": "stdout",
     "output_type": "stream",
     "text": [
      "Model: \"model_1\"\n",
      "_________________________________________________________________\n",
      "Layer (type)                 Output Shape              Param #   \n",
      "=================================================================\n",
      "input_12 (InputLayer)        [(None, 784)]             0         \n",
      "_________________________________________________________________\n",
      "dense_18 (Dense)             (None, 10)                7850      \n",
      "_________________________________________________________________\n",
      "activation (Activation)      (None, 10)                0         \n",
      "=================================================================\n",
      "Total params: 7,850\n",
      "Trainable params: 7,850\n",
      "Non-trainable params: 0\n",
      "_________________________________________________________________\n"
     ]
    }
   ],
   "source": [
    "model = linear_model_func(n_in, n_out)\n",
    "model.summary()"
   ]
  },
  {
   "cell_type": "code",
   "execution_count": 83,
   "metadata": {},
   "outputs": [
    {
     "data": {
      "image/svg+xml": [
       "<svg height=\"295pt\" viewBox=\"0.00 0.00 263.00 221.00\" width=\"351pt\" xmlns=\"http://www.w3.org/2000/svg\" xmlns:xlink=\"http://www.w3.org/1999/xlink\">\n",
       "<g class=\"graph\" id=\"graph0\" transform=\"scale(0.75 0.75) rotate(0) translate(4 217)\">\n",
       "<title>G</title>\n",
       "<polygon fill=\"white\" points=\"-4,4 -4,-217 259,-217 259,4 -4,4\" stroke=\"transparent\"/>\n",
       "<!-- 140077724651792 -->\n",
       "<g class=\"node\" id=\"node1\">\n",
       "<title>140077724651792</title>\n",
       "<polygon fill=\"none\" points=\"0,-166.5 0,-212.5 255,-212.5 255,-166.5 0,-166.5\" stroke=\"black\"/>\n",
       "<text font-family=\"Times,serif\" font-size=\"14.00\" text-anchor=\"middle\" x=\"66\" y=\"-185.8\">input_12: InputLayer</text>\n",
       "<polyline fill=\"none\" points=\"132,-166.5 132,-212.5 \" stroke=\"black\"/>\n",
       "<text font-family=\"Times,serif\" font-size=\"14.00\" text-anchor=\"middle\" x=\"159.5\" y=\"-197.3\">input:</text>\n",
       "<polyline fill=\"none\" points=\"132,-189.5 187,-189.5 \" stroke=\"black\"/>\n",
       "<text font-family=\"Times,serif\" font-size=\"14.00\" text-anchor=\"middle\" x=\"159.5\" y=\"-174.3\">output:</text>\n",
       "<polyline fill=\"none\" points=\"187,-166.5 187,-212.5 \" stroke=\"black\"/>\n",
       "<text font-family=\"Times,serif\" font-size=\"14.00\" text-anchor=\"middle\" x=\"221\" y=\"-197.3\">[(?, 784)]</text>\n",
       "<polyline fill=\"none\" points=\"187,-189.5 255,-189.5 \" stroke=\"black\"/>\n",
       "<text font-family=\"Times,serif\" font-size=\"14.00\" text-anchor=\"middle\" x=\"221\" y=\"-174.3\">[(?, 784)]</text>\n",
       "</g>\n",
       "<!-- 140077718777360 -->\n",
       "<g class=\"node\" id=\"node2\">\n",
       "<title>140077718777360</title>\n",
       "<polygon fill=\"none\" points=\"16,-83.5 16,-129.5 239,-129.5 239,-83.5 16,-83.5\" stroke=\"black\"/>\n",
       "<text font-family=\"Times,serif\" font-size=\"14.00\" text-anchor=\"middle\" x=\"70.5\" y=\"-102.8\">dense_18: Dense</text>\n",
       "<polyline fill=\"none\" points=\"125,-83.5 125,-129.5 \" stroke=\"black\"/>\n",
       "<text font-family=\"Times,serif\" font-size=\"14.00\" text-anchor=\"middle\" x=\"152.5\" y=\"-114.3\">input:</text>\n",
       "<polyline fill=\"none\" points=\"125,-106.5 180,-106.5 \" stroke=\"black\"/>\n",
       "<text font-family=\"Times,serif\" font-size=\"14.00\" text-anchor=\"middle\" x=\"152.5\" y=\"-91.3\">output:</text>\n",
       "<polyline fill=\"none\" points=\"180,-83.5 180,-129.5 \" stroke=\"black\"/>\n",
       "<text font-family=\"Times,serif\" font-size=\"14.00\" text-anchor=\"middle\" x=\"209.5\" y=\"-114.3\">(?, 784)</text>\n",
       "<polyline fill=\"none\" points=\"180,-106.5 239,-106.5 \" stroke=\"black\"/>\n",
       "<text font-family=\"Times,serif\" font-size=\"14.00\" text-anchor=\"middle\" x=\"209.5\" y=\"-91.3\">(?, 10)</text>\n",
       "</g>\n",
       "<!-- 140077724651792&#45;&gt;140077718777360 -->\n",
       "<g class=\"edge\" id=\"edge1\">\n",
       "<title>140077724651792-&gt;140077718777360</title>\n",
       "<path d=\"M127.5,-166.37C127.5,-158.15 127.5,-148.66 127.5,-139.73\" fill=\"none\" stroke=\"black\"/>\n",
       "<polygon fill=\"black\" points=\"131,-139.61 127.5,-129.61 124,-139.61 131,-139.61\" stroke=\"black\"/>\n",
       "</g>\n",
       "<!-- 140077717884688 -->\n",
       "<g class=\"node\" id=\"node3\">\n",
       "<title>140077717884688</title>\n",
       "<polygon fill=\"none\" points=\"6.5,-0.5 6.5,-46.5 248.5,-46.5 248.5,-0.5 6.5,-0.5\" stroke=\"black\"/>\n",
       "<text font-family=\"Times,serif\" font-size=\"14.00\" text-anchor=\"middle\" x=\"73.5\" y=\"-19.8\">activation: Activation</text>\n",
       "<polyline fill=\"none\" points=\"140.5,-0.5 140.5,-46.5 \" stroke=\"black\"/>\n",
       "<text font-family=\"Times,serif\" font-size=\"14.00\" text-anchor=\"middle\" x=\"168\" y=\"-31.3\">input:</text>\n",
       "<polyline fill=\"none\" points=\"140.5,-23.5 195.5,-23.5 \" stroke=\"black\"/>\n",
       "<text font-family=\"Times,serif\" font-size=\"14.00\" text-anchor=\"middle\" x=\"168\" y=\"-8.3\">output:</text>\n",
       "<polyline fill=\"none\" points=\"195.5,-0.5 195.5,-46.5 \" stroke=\"black\"/>\n",
       "<text font-family=\"Times,serif\" font-size=\"14.00\" text-anchor=\"middle\" x=\"222\" y=\"-31.3\">(?, 10)</text>\n",
       "<polyline fill=\"none\" points=\"195.5,-23.5 248.5,-23.5 \" stroke=\"black\"/>\n",
       "<text font-family=\"Times,serif\" font-size=\"14.00\" text-anchor=\"middle\" x=\"222\" y=\"-8.3\">(?, 10)</text>\n",
       "</g>\n",
       "<!-- 140077718777360&#45;&gt;140077717884688 -->\n",
       "<g class=\"edge\" id=\"edge2\">\n",
       "<title>140077718777360-&gt;140077717884688</title>\n",
       "<path d=\"M127.5,-83.37C127.5,-75.15 127.5,-65.66 127.5,-56.73\" fill=\"none\" stroke=\"black\"/>\n",
       "<polygon fill=\"black\" points=\"131,-56.61 127.5,-46.61 124,-56.61 131,-56.61\" stroke=\"black\"/>\n",
       "</g>\n",
       "</g>\n",
       "</svg>"
      ],
      "text/plain": [
       "<IPython.core.display.SVG object>"
      ]
     },
     "execution_count": 83,
     "metadata": {},
     "output_type": "execute_result"
    }
   ],
   "source": [
    "SVG(model_to_dot(model, show_shapes=True).create(prog='dot', format='svg'))"
   ]
  },
  {
   "cell_type": "markdown",
   "metadata": {},
   "source": [
    "## (3) 모델의 학습과정 설정\n",
    "accuracy를 측정할 수 있는 문제라면 metric에 accuracy를 설정\n",
    "\n",
    "https://keras.io/models/model/"
   ]
  },
  {
   "cell_type": "code",
   "execution_count": 84,
   "metadata": {},
   "outputs": [],
   "source": [
    "model.compile(loss='categorical_crossentropy', \n",
    "              optimizer='sgd',\n",
    "              metrics=['accuracy'])"
   ]
  },
  {
   "cell_type": "markdown",
   "metadata": {},
   "source": [
    "## (4) 모델 학습시키기"
   ]
  },
  {
   "cell_type": "code",
   "execution_count": 85,
   "metadata": {
    "scrolled": true
   },
   "outputs": [
    {
     "name": "stdout",
     "output_type": "stream",
     "text": [
      "Epoch 1/20\n",
      "375/375 [==============================] - 3s 7ms/step - loss: 1.3602 - accuracy: 0.6730 - val_loss: 0.8866 - val_accuracy: 0.8246\n",
      "Epoch 2/20\n",
      "375/375 [==============================] - 3s 7ms/step - loss: 0.7879 - accuracy: 0.8271 - val_loss: 0.6530 - val_accuracy: 0.8593\n",
      "Epoch 3/20\n",
      "375/375 [==============================] - 2s 7ms/step - loss: 0.6397 - accuracy: 0.8501 - val_loss: 0.5586 - val_accuracy: 0.8701\n",
      "Epoch 4/20\n",
      "375/375 [==============================] - 3s 7ms/step - loss: 0.5680 - accuracy: 0.8611 - val_loss: 0.5065 - val_accuracy: 0.8778\n",
      "Epoch 5/20\n",
      "375/375 [==============================] - 3s 7ms/step - loss: 0.5245 - accuracy: 0.8692 - val_loss: 0.4726 - val_accuracy: 0.8831\n",
      "Epoch 6/20\n",
      "375/375 [==============================] - 3s 7ms/step - loss: 0.4946 - accuracy: 0.8744 - val_loss: 0.4490 - val_accuracy: 0.8859\n",
      "Epoch 7/20\n",
      "375/375 [==============================] - 3s 7ms/step - loss: 0.4725 - accuracy: 0.8783 - val_loss: 0.4312 - val_accuracy: 0.8896\n",
      "Epoch 8/20\n",
      "375/375 [==============================] - 3s 7ms/step - loss: 0.4554 - accuracy: 0.8812 - val_loss: 0.4169 - val_accuracy: 0.8925\n",
      "Epoch 9/20\n",
      "375/375 [==============================] - 3s 7ms/step - loss: 0.4416 - accuracy: 0.8841 - val_loss: 0.4058 - val_accuracy: 0.8938\n",
      "Epoch 10/20\n",
      "375/375 [==============================] - 3s 7ms/step - loss: 0.4301 - accuracy: 0.8863 - val_loss: 0.3965 - val_accuracy: 0.8949\n",
      "Epoch 11/20\n",
      "375/375 [==============================] - 3s 7ms/step - loss: 0.4205 - accuracy: 0.8879 - val_loss: 0.3882 - val_accuracy: 0.8974\n",
      "Epoch 12/20\n",
      "375/375 [==============================] - 3s 7ms/step - loss: 0.4123 - accuracy: 0.8897 - val_loss: 0.3814 - val_accuracy: 0.8988\n",
      "Epoch 13/20\n",
      "375/375 [==============================] - 3s 7ms/step - loss: 0.4050 - accuracy: 0.8910 - val_loss: 0.3755 - val_accuracy: 0.8988\n",
      "Epoch 14/20\n",
      "375/375 [==============================] - 3s 7ms/step - loss: 0.3986 - accuracy: 0.8922 - val_loss: 0.3702 - val_accuracy: 0.9003\n",
      "Epoch 15/20\n",
      "375/375 [==============================] - 3s 7ms/step - loss: 0.3929 - accuracy: 0.8930 - val_loss: 0.3654 - val_accuracy: 0.9015\n",
      "Epoch 16/20\n",
      "375/375 [==============================] - 3s 7ms/step - loss: 0.3877 - accuracy: 0.8941 - val_loss: 0.3611 - val_accuracy: 0.9034\n",
      "Epoch 17/20\n",
      "375/375 [==============================] - 3s 7ms/step - loss: 0.3831 - accuracy: 0.8952 - val_loss: 0.3572 - val_accuracy: 0.9039\n",
      "Epoch 18/20\n",
      "375/375 [==============================] - 3s 7ms/step - loss: 0.3789 - accuracy: 0.8961 - val_loss: 0.3537 - val_accuracy: 0.9049\n",
      "Epoch 19/20\n",
      "375/375 [==============================] - 3s 7ms/step - loss: 0.3749 - accuracy: 0.8971 - val_loss: 0.3506 - val_accuracy: 0.9056\n",
      "Epoch 20/20\n",
      "375/375 [==============================] - 2s 7ms/step - loss: 0.3714 - accuracy: 0.8979 - val_loss: 0.3477 - val_accuracy: 0.9054\n"
     ]
    }
   ],
   "source": [
    "history = model.fit(X_train_flat, Y_train_onehot, batch_size=128, epochs=20, validation_split=0.2)"
   ]
  },
  {
   "cell_type": "markdown",
   "metadata": {},
   "source": [
    "## (5) 모델 평가하기"
   ]
  },
  {
   "cell_type": "code",
   "execution_count": 86,
   "metadata": {},
   "outputs": [
    {
     "name": "stdout",
     "output_type": "stream",
     "text": [
      "79/79 [==============================] - 0s 6ms/step - loss: 0.3479 - accuracy: 0.9052\n",
      "loss : 0.3479, accruracy : 0.9052\n"
     ]
    }
   ],
   "source": [
    "loss_and_accuracy = model.evaluate(X_test_flat, Y_test_onehot, batch_size=128)\n",
    "print('loss : %.4f, accruracy : %.4f'%(loss_and_accuracy[0],loss_and_accuracy[1]))"
   ]
  },
  {
   "cell_type": "markdown",
   "metadata": {},
   "source": [
    "## (6) 모델 사용하기"
   ]
  },
  {
   "cell_type": "code",
   "execution_count": 87,
   "metadata": {},
   "outputs": [
    {
     "name": "stdout",
     "output_type": "stream",
     "text": [
      "predict label :  6\n"
     ]
    },
    {
     "data": {
      "text/plain": [
       "<matplotlib.image.AxesImage at 0x7f6669b40590>"
      ]
     },
     "execution_count": 87,
     "metadata": {},
     "output_type": "execute_result"
    },
    {
     "data": {
      "image/png": "[encoded data removed]",
      "text/plain": [
       "<Figure size 432x288 with 1 Axes>"
      ]
     },
     "metadata": {
      "needs_background": "light"
     },
     "output_type": "display_data"
    }
   ],
   "source": [
    "test_data = X_test[-1].reshape(1,28*28)\n",
    "pred_y = model.predict(test_data)\n",
    "pred_y = pred_y.argmax()\n",
    "\n",
    "print('predict label : ',Y_test[-1])\n",
    "plt.imshow(X_test[-1], cmap='gray')"
   ]
  },
  {
   "cell_type": "markdown",
   "metadata": {},
   "source": [
    "# 1.3 MNIST Classification with DNN (to do)\n",
    "이번 실습에서는 keras로 DNN 모델을 생성하고, MNIST dataset을 학습하여 성능을 평가한다."
   ]
  },
  {
   "cell_type": "markdown",
   "metadata": {},
   "source": [
    "## (2) Keras 모델링"
   ]
  },
  {
   "attachments": {
    "image.png": {
     "image/png": "[encoded data removed]"
    }
   },
   "cell_type": "markdown",
   "metadata": {},
   "source": [
    "<사용되는 Layer>\n",
    "\n",
    "Input : 모델에 입력되는 데이터의 batch size를 제외한 shape을 결정\n",
    "\n",
    "Dense : Fully Connected Layer\n",
    "\n",
    "Activation : Activation Function을 정의, 문자열로 입력\n",
    "![image.png](attachment:image.png)\n",
    "\n",
    "<맨 마지막 activation은 softmax로 하고 이외의 activation은 relu를 사용>\n",
    "\n",
    "https://keras.io/layers/core/#activation"
   ]
  },
  {
   "cell_type": "code",
   "execution_count": 35,
   "metadata": {},
   "outputs": [],
   "source": [
    "def DNN_func(n_in, n_out):\n",
    "\n",
    "\n",
    "def DNN_seq(n_in, n_out):\n"
   ]
  },
  {
   "cell_type": "code",
   "execution_count": 36,
   "metadata": {},
   "outputs": [],
   "source": [
    "n_in = \n",
    "n_out =\n",
    "model = DNN_seq(n_in, n_out)"
   ]
  },
  {
   "cell_type": "markdown",
   "metadata": {},
   "source": [
    "## (3) 모델의 학습과정 설정\n",
    "<optimizer를 adam으로 설정>"
   ]
  },
  {
   "cell_type": "code",
   "execution_count": 37,
   "metadata": {},
   "outputs": [],
   "source": []
  },
  {
   "cell_type": "markdown",
   "metadata": {},
   "source": [
    "## (4) 모델 학습시키기\n",
    "<batch size를 256, epoch을 30, train 데이터 중 30%를 validation 데이터로 사용, verbose 모드는 2>"
   ]
  },
  {
   "cell_type": "code",
   "execution_count": null,
   "metadata": {},
   "outputs": [],
   "source": []
  },
  {
   "cell_type": "markdown",
   "metadata": {},
   "source": [
    "## (5) 모델 평가하기"
   ]
  },
  {
   "cell_type": "code",
   "execution_count": null,
   "metadata": {},
   "outputs": [],
   "source": []
  },
  {
   "cell_type": "markdown",
   "metadata": {},
   "source": [
    "## (6) 모델 사용하기"
   ]
  },
  {
   "cell_type": "code",
   "execution_count": null,
   "metadata": {},
   "outputs": [],
   "source": []
  }
 ],
 "metadata": {
  "kernelspec": {
   "display_name": "Python 3",
   "language": "python",
   "name": "python3"
  },
  "language_info": {
   "codemirror_mode": {
    "name": "ipython",
    "version": 3
   },
   "file_extension": ".py",
   "mimetype": "text/x-python",
   "name": "python",
   "nbconvert_exporter": "python",
   "pygments_lexer": "ipython3",
   "version": "3.7.6"
  }
 },
 "nbformat": 4,
 "nbformat_minor": 4
}
